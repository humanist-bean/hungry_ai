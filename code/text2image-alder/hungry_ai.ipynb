{
 "cells": [
  {
   "cell_type": "markdown",
   "metadata": {},
   "source": [
    "# Hungry AI Project - UO CS 472 ML\n",
    "#### This project explores how well a text-to-image GAN can produce or \"imagine\" images for text phrases its never been trained for. To do this, we use a pretrained \"Spacially Semantic Aware GAN\" or SSAGAN, and... (finish later)"
   ]
  },
  {
   "cell_type": "markdown",
   "metadata": {},
   "source": [
    "## 0. Setup Basic stuff like Imports, Device, etc"
   ]
  },
  {
   "cell_type": "code",
   "execution_count": 2,
   "metadata": {},
   "outputs": [],
   "source": [
    "#Imports copied from text2image-alder \"main.py\"\n",
    "from __future__ import print_function\n",
    "import multiprocessing\n",
    "\n",
    "import os\n",
    "import io\n",
    "import sys\n",
    "import time\n",
    "import errno\n",
    "import random\n",
    "import pprint\n",
    "import datetime\n",
    "import dateutil.tz\n",
    "import argparse\n",
    "\n",
    "import torch\n",
    "import torchvision\n",
    "import torch.nn as nn\n",
    "import torch.optim as optim\n",
    "from torch.autograd import Variable\n",
    "import torch.backends.cudnn as cudnn\n",
    "import torchvision.transforms as transforms\n",
    "import torchvision.utils as vutils\n",
    "from tensorboardX import SummaryWriter\n",
    "import numpy as np\n",
    "from PIL import Image\n",
    "from tqdm import tqdm\n",
    "import matplotlib.pyplot as plt\n",
    "\n",
    "from miscc.utils import mkdir_p\n",
    "from miscc.utils import imagenet_deprocess_batch\n",
    "from miscc.config import cfg, cfg_from_file\n",
    "from miscc.losses import DAMSM_loss\n",
    "from sync_batchnorm import DataParallelWithCallback\n",
    "#from datasets_everycap import TextDataset\n",
    "from datasets import TextDataset\n",
    "from datasets import prepare_data\n",
    "from DAMSM import RNN_ENCODER, CNN_ENCODER\n",
    "from model import NetG, NetD"
   ]
  },
  {
   "cell_type": "code",
   "execution_count": 3,
   "metadata": {},
   "outputs": [
    {
     "name": "stdout",
     "output_type": "stream",
     "text": [
      "cuda\n"
     ]
    }
   ],
   "source": [
    "device = torch.device(\"cuda\" if torch.cuda.is_available() else \"cpu\")\n",
    "print(device)"
   ]
  },
  {
   "cell_type": "markdown",
   "metadata": {},
   "source": [
    "## 1. Generate Images from GAN"
   ]
  },
  {
   "cell_type": "code",
   "execution_count": 3,
   "metadata": {},
   "outputs": [
    {
     "name": "stdout",
     "output_type": "stream",
     "text": [
      "Load filenames from: C:/Users/Alder/Desktop/HungryAI/cs472_proj/scraped_data//train/filenames.pickle (2100)\n",
      "Load filenames from: C:/Users/Alder/Desktop/HungryAI/cs472_proj/scraped_data//test/filenames.pickle (2100)\n",
      "Load from:  C:/Users/Alder/Desktop/HungryAI/cs472_proj/scraped_data/captions.pickle\n"
     ]
    }
   ],
   "source": [
    "import main\n",
    "import datasets\n",
    "from miscc.config import cfg, cfg_from_file\n",
    "# Prepare dataset to get wordtoix\n",
    "\n",
    "cfg_file_path = \"cfg/food.yml\"\n",
    "cfg_from_file(cfg_file_path)\n",
    "imsize = cfg.TREE.BASE_SIZE\n",
    "batch_size = cfg.TRAIN.BATCH_SIZE\n",
    "image_transform = transforms.Compose([\n",
    "    transforms.Resize(int(imsize * 76 / 64)),\n",
    "    transforms.RandomCrop(imsize),\n",
    "    transforms.RandomHorizontalFlip()])\n",
    "\n",
    "# Use my own values instead of the ones in cfg\n",
    "#data_dir = \"C:/Users/Alder/Desktop/school/cs472/cs472_hw1/CUB_200_2011/\"\n",
    "data_dir = \"C:/Users/Alder/Desktop/HungryAI/cs472_proj/scraped_data/\"\n",
    "dataset = TextDataset(data_dir, 'train',\n",
    "                              base_size=cfg.TREE.BASE_SIZE,\n",
    "                              transform=image_transform)\n",
    "\n",
    "wordtoix = dataset.wordtoix \n",
    "\n",
    "\n"
   ]
  },
  {
   "cell_type": "markdown",
   "metadata": {},
   "source": [
    "### A. Generate Images from Model with CUB Dataset\n",
    "I need to figure out how to generate images using the CUB dataset to see how this code works."
   ]
  },
  {
   "cell_type": "code",
   "execution_count": 4,
   "metadata": {},
   "outputs": [
    {
     "name": "stderr",
     "output_type": "stream",
     "text": [
      "c:\\Users\\Alder\\.conda\\envs\\PyTorchEnv\\lib\\site-packages\\torch\\nn\\modules\\rnn.py:67: UserWarning: dropout option adds dropout after all but last recurrent layer, so non-zero dropout expects num_layers greater than 1, but got dropout=0.5 and num_layers=1\n",
      "  warnings.warn(\"dropout option adds dropout after all but last \"\n"
     ]
    },
    {
     "data": {
      "text/plain": [
       "RNN_ENCODER(\n",
       "  (encoder): Embedding(883, 300)\n",
       "  (drop): Dropout(p=0.5, inplace=False)\n",
       "  (rnn): LSTM(300, 128, batch_first=True, dropout=0.5, bidirectional=True)\n",
       ")"
      ]
     },
     "execution_count": 4,
     "metadata": {},
     "output_type": "execute_result"
    }
   ],
   "source": [
    "# Load pretrained: SSAGAN model, encoder, \n",
    "from model import NetG, NetD\n",
    "\n",
    "# Need to load GAN as NetG model in \"models.py\"\n",
    "# ssagan_path = \"C:/Users/Alder/Desktop/HungryAI/SSAGAN_models/finetune/cub/netG_550.pth\"\n",
    "ssagan_path = \"tmp/food_sloss01/64/models/netG_300.pth\" # ALSO UPDATE IN .yml 'NetG'!\n",
    "netG = NetG(cfg.TRAIN.NF, 100).to(device)\n",
    "netG = DataParallelWithCallback(netG)\n",
    "netG.load_state_dict(torch.load(ssagan_path))\n",
    "netG.eval()\n",
    "\n",
    "\n",
    "# Need to load text_encoder in a similar manner\n",
    "text_encoder = RNN_ENCODER(dataset.n_words, nhidden=cfg.TEXT.EMBEDDING_DIM) # was dataset.nwords before 58\n",
    "state_dict = torch.load(cfg.TEXT.DAMSM_NAME, map_location=lambda storage, loc: storage)\n",
    "text_encoder.load_state_dict(state_dict)\n",
    "text_encoder.cuda()\n",
    "text_encoder.eval()\n"
   ]
  },
  {
   "cell_type": "code",
   "execution_count": 5,
   "metadata": {},
   "outputs": [
    {
     "name": "stdout",
     "output_type": "stream",
     "text": [
      "Saving generated image to: tmp/food_sloss01/64/models/netG_300/valid/img_0.png\n",
      "Saving generated fusion mask to: tmp/food_sloss01/64/models/netG_300/valid/fm_0.png\n",
      "Saving generated image to: tmp/food_sloss01/64/models/netG_300/valid/img_0.png\n",
      "Saving generated fusion mask to: tmp/food_sloss01/64/models/netG_300/valid/fm_0.png\n",
      "Saving generated image to: tmp/food_sloss01/64/models/netG_300/valid/img_0.png\n",
      "Saving generated fusion mask to: tmp/food_sloss01/64/models/netG_300/valid/fm_0.png\n",
      "Saving generated image to: tmp/food_sloss01/64/models/netG_300/valid/img_0.png\n",
      "Saving generated fusion mask to: tmp/food_sloss01/64/models/netG_300/valid/fm_0.png\n",
      "Saving generated image to: tmp/food_sloss01/64/models/netG_300/valid/img_0.png\n",
      "Saving generated fusion mask to: tmp/food_sloss01/64/models/netG_300/valid/fm_0.png\n",
      "Saving generated image to: tmp/food_sloss01/64/models/netG_300/valid/img_0.png\n",
      "Saving generated fusion mask to: tmp/food_sloss01/64/models/netG_300/valid/fm_0.png\n",
      "Saving generated image to: tmp/food_sloss01/64/models/netG_300/valid/img_0.png\n",
      "Saving generated fusion mask to: tmp/food_sloss01/64/models/netG_300/valid/fm_0.png\n",
      "Saving generated image to: tmp/food_sloss01/64/models/netG_300/valid/img_0.png\n",
      "Saving generated fusion mask to: tmp/food_sloss01/64/models/netG_300/valid/fm_0.png\n",
      "Saving generated image to: tmp/food_sloss01/64/models/netG_300/valid/img_0.png\n",
      "Saving generated fusion mask to: tmp/food_sloss01/64/models/netG_300/valid/fm_0.png\n",
      "Saving generated image to: tmp/food_sloss01/64/models/netG_300/valid/img_0.png\n",
      "Saving generated fusion mask to: tmp/food_sloss01/64/models/netG_300/valid/fm_0.png\n",
      "Saving generated image to: tmp/food_sloss01/64/models/netG_300/valid/img_1.png\n",
      "Saving generated fusion mask to: tmp/food_sloss01/64/models/netG_300/valid/fm_1.png\n",
      "Saving generated image to: tmp/food_sloss01/64/models/netG_300/valid/img_1.png\n",
      "Saving generated fusion mask to: tmp/food_sloss01/64/models/netG_300/valid/fm_1.png\n",
      "Saving generated image to: tmp/food_sloss01/64/models/netG_300/valid/img_1.png\n",
      "Saving generated fusion mask to: tmp/food_sloss01/64/models/netG_300/valid/fm_1.png\n",
      "Saving generated image to: tmp/food_sloss01/64/models/netG_300/valid/img_1.png\n",
      "Saving generated fusion mask to: tmp/food_sloss01/64/models/netG_300/valid/fm_1.png\n",
      "Saving generated image to: tmp/food_sloss01/64/models/netG_300/valid/img_1.png\n",
      "Saving generated fusion mask to: tmp/food_sloss01/64/models/netG_300/valid/fm_1.png\n",
      "Saving generated image to: tmp/food_sloss01/64/models/netG_300/valid/img_1.png\n",
      "Saving generated fusion mask to: tmp/food_sloss01/64/models/netG_300/valid/fm_1.png\n",
      "Saving generated image to: tmp/food_sloss01/64/models/netG_300/valid/img_1.png\n",
      "Saving generated fusion mask to: tmp/food_sloss01/64/models/netG_300/valid/fm_1.png\n",
      "Saving generated image to: tmp/food_sloss01/64/models/netG_300/valid/img_1.png\n",
      "Saving generated fusion mask to: tmp/food_sloss01/64/models/netG_300/valid/fm_1.png\n",
      "Saving generated image to: tmp/food_sloss01/64/models/netG_300/valid/img_1.png\n",
      "Saving generated fusion mask to: tmp/food_sloss01/64/models/netG_300/valid/fm_1.png\n",
      "Saving generated image to: tmp/food_sloss01/64/models/netG_300/valid/img_1.png\n",
      "Saving generated fusion mask to: tmp/food_sloss01/64/models/netG_300/valid/fm_1.png\n",
      "Saving generated image to: tmp/food_sloss01/64/models/netG_300/valid/img_2.png\n",
      "Saving generated fusion mask to: tmp/food_sloss01/64/models/netG_300/valid/fm_2.png\n",
      "Saving generated image to: tmp/food_sloss01/64/models/netG_300/valid/img_2.png\n",
      "Saving generated fusion mask to: tmp/food_sloss01/64/models/netG_300/valid/fm_2.png\n",
      "Saving generated image to: tmp/food_sloss01/64/models/netG_300/valid/img_2.png\n",
      "Saving generated fusion mask to: tmp/food_sloss01/64/models/netG_300/valid/fm_2.png\n",
      "Saving generated image to: tmp/food_sloss01/64/models/netG_300/valid/img_2.png\n",
      "Saving generated fusion mask to: tmp/food_sloss01/64/models/netG_300/valid/fm_2.png\n",
      "Saving generated image to: tmp/food_sloss01/64/models/netG_300/valid/img_2.png\n",
      "Saving generated fusion mask to: tmp/food_sloss01/64/models/netG_300/valid/fm_2.png\n",
      "Saving generated image to: tmp/food_sloss01/64/models/netG_300/valid/img_2.png\n",
      "Saving generated fusion mask to: tmp/food_sloss01/64/models/netG_300/valid/fm_2.png\n",
      "Saving generated image to: tmp/food_sloss01/64/models/netG_300/valid/img_2.png\n",
      "Saving generated fusion mask to: tmp/food_sloss01/64/models/netG_300/valid/fm_2.png\n",
      "Saving generated image to: tmp/food_sloss01/64/models/netG_300/valid/img_2.png\n",
      "Saving generated fusion mask to: tmp/food_sloss01/64/models/netG_300/valid/fm_2.png\n",
      "Saving generated image to: tmp/food_sloss01/64/models/netG_300/valid/img_2.png\n",
      "Saving generated fusion mask to: tmp/food_sloss01/64/models/netG_300/valid/fm_2.png\n",
      "Saving generated image to: tmp/food_sloss01/64/models/netG_300/valid/img_2.png\n",
      "Saving generated fusion mask to: tmp/food_sloss01/64/models/netG_300/valid/fm_2.png\n",
      "Saving generated image to: tmp/food_sloss01/64/models/netG_300/valid/img_3.png\n",
      "Saving generated fusion mask to: tmp/food_sloss01/64/models/netG_300/valid/fm_3.png\n",
      "Saving generated image to: tmp/food_sloss01/64/models/netG_300/valid/img_3.png\n",
      "Saving generated fusion mask to: tmp/food_sloss01/64/models/netG_300/valid/fm_3.png\n",
      "Saving generated image to: tmp/food_sloss01/64/models/netG_300/valid/img_3.png\n",
      "Saving generated fusion mask to: tmp/food_sloss01/64/models/netG_300/valid/fm_3.png\n",
      "Saving generated image to: tmp/food_sloss01/64/models/netG_300/valid/img_3.png\n",
      "Saving generated fusion mask to: tmp/food_sloss01/64/models/netG_300/valid/fm_3.png\n",
      "Saving generated image to: tmp/food_sloss01/64/models/netG_300/valid/img_3.png\n",
      "Saving generated fusion mask to: tmp/food_sloss01/64/models/netG_300/valid/fm_3.png\n",
      "Saving generated image to: tmp/food_sloss01/64/models/netG_300/valid/img_3.png\n",
      "Saving generated fusion mask to: tmp/food_sloss01/64/models/netG_300/valid/fm_3.png\n",
      "Saving generated image to: tmp/food_sloss01/64/models/netG_300/valid/img_3.png\n",
      "Saving generated fusion mask to: tmp/food_sloss01/64/models/netG_300/valid/fm_3.png\n",
      "Saving generated image to: tmp/food_sloss01/64/models/netG_300/valid/img_3.png\n",
      "Saving generated fusion mask to: tmp/food_sloss01/64/models/netG_300/valid/fm_3.png\n",
      "Saving generated image to: tmp/food_sloss01/64/models/netG_300/valid/img_3.png\n",
      "Saving generated fusion mask to: tmp/food_sloss01/64/models/netG_300/valid/fm_3.png\n",
      "Saving generated image to: tmp/food_sloss01/64/models/netG_300/valid/img_3.png\n",
      "Saving generated fusion mask to: tmp/food_sloss01/64/models/netG_300/valid/fm_3.png\n",
      "Saving generated image to: tmp/food_sloss01/64/models/netG_300/valid/img_4.png\n",
      "Saving generated fusion mask to: tmp/food_sloss01/64/models/netG_300/valid/fm_4.png\n",
      "Saving generated image to: tmp/food_sloss01/64/models/netG_300/valid/img_4.png\n",
      "Saving generated fusion mask to: tmp/food_sloss01/64/models/netG_300/valid/fm_4.png\n",
      "Saving generated image to: tmp/food_sloss01/64/models/netG_300/valid/img_4.png\n",
      "Saving generated fusion mask to: tmp/food_sloss01/64/models/netG_300/valid/fm_4.png\n",
      "Saving generated image to: tmp/food_sloss01/64/models/netG_300/valid/img_4.png\n",
      "Saving generated fusion mask to: tmp/food_sloss01/64/models/netG_300/valid/fm_4.png\n",
      "Saving generated image to: tmp/food_sloss01/64/models/netG_300/valid/img_4.png\n",
      "Saving generated fusion mask to: tmp/food_sloss01/64/models/netG_300/valid/fm_4.png\n",
      "Saving generated image to: tmp/food_sloss01/64/models/netG_300/valid/img_4.png\n",
      "Saving generated fusion mask to: tmp/food_sloss01/64/models/netG_300/valid/fm_4.png\n",
      "Saving generated image to: tmp/food_sloss01/64/models/netG_300/valid/img_4.png\n",
      "Saving generated fusion mask to: tmp/food_sloss01/64/models/netG_300/valid/fm_4.png\n",
      "Saving generated image to: tmp/food_sloss01/64/models/netG_300/valid/img_4.png\n",
      "Saving generated fusion mask to: tmp/food_sloss01/64/models/netG_300/valid/fm_4.png\n",
      "Saving generated image to: tmp/food_sloss01/64/models/netG_300/valid/img_4.png\n",
      "Saving generated fusion mask to: tmp/food_sloss01/64/models/netG_300/valid/fm_4.png\n",
      "Saving generated image to: tmp/food_sloss01/64/models/netG_300/valid/img_4.png\n",
      "Saving generated fusion mask to: tmp/food_sloss01/64/models/netG_300/valid/fm_4.png\n",
      "Saving generated image to: tmp/food_sloss01/64/models/netG_300/valid/img_5.png\n",
      "Saving generated fusion mask to: tmp/food_sloss01/64/models/netG_300/valid/fm_5.png\n",
      "Saving generated image to: tmp/food_sloss01/64/models/netG_300/valid/img_5.png\n",
      "Saving generated fusion mask to: tmp/food_sloss01/64/models/netG_300/valid/fm_5.png\n",
      "Saving generated image to: tmp/food_sloss01/64/models/netG_300/valid/img_5.png\n",
      "Saving generated fusion mask to: tmp/food_sloss01/64/models/netG_300/valid/fm_5.png\n",
      "Saving generated image to: tmp/food_sloss01/64/models/netG_300/valid/img_5.png\n",
      "Saving generated fusion mask to: tmp/food_sloss01/64/models/netG_300/valid/fm_5.png\n",
      "Saving generated image to: tmp/food_sloss01/64/models/netG_300/valid/img_5.png\n",
      "Saving generated fusion mask to: tmp/food_sloss01/64/models/netG_300/valid/fm_5.png\n",
      "Saving generated image to: tmp/food_sloss01/64/models/netG_300/valid/img_5.png\n",
      "Saving generated fusion mask to: tmp/food_sloss01/64/models/netG_300/valid/fm_5.png\n",
      "Saving generated image to: tmp/food_sloss01/64/models/netG_300/valid/img_5.png\n",
      "Saving generated fusion mask to: tmp/food_sloss01/64/models/netG_300/valid/fm_5.png\n",
      "Saving generated image to: tmp/food_sloss01/64/models/netG_300/valid/img_5.png\n",
      "Saving generated fusion mask to: tmp/food_sloss01/64/models/netG_300/valid/fm_5.png\n",
      "Saving generated image to: tmp/food_sloss01/64/models/netG_300/valid/img_5.png\n",
      "Saving generated fusion mask to: tmp/food_sloss01/64/models/netG_300/valid/fm_5.png\n",
      "Saving generated image to: tmp/food_sloss01/64/models/netG_300/valid/img_5.png\n",
      "Saving generated fusion mask to: tmp/food_sloss01/64/models/netG_300/valid/fm_5.png\n",
      "Saving generated image to: tmp/food_sloss01/64/models/netG_300/valid/img_6.png\n",
      "Saving generated fusion mask to: tmp/food_sloss01/64/models/netG_300/valid/fm_6.png\n",
      "Saving generated image to: tmp/food_sloss01/64/models/netG_300/valid/img_6.png\n",
      "Saving generated fusion mask to: tmp/food_sloss01/64/models/netG_300/valid/fm_6.png\n",
      "Saving generated image to: tmp/food_sloss01/64/models/netG_300/valid/img_6.png\n",
      "Saving generated fusion mask to: tmp/food_sloss01/64/models/netG_300/valid/fm_6.png\n",
      "Saving generated image to: tmp/food_sloss01/64/models/netG_300/valid/img_6.png\n",
      "Saving generated fusion mask to: tmp/food_sloss01/64/models/netG_300/valid/fm_6.png\n",
      "Saving generated image to: tmp/food_sloss01/64/models/netG_300/valid/img_6.png\n",
      "Saving generated fusion mask to: tmp/food_sloss01/64/models/netG_300/valid/fm_6.png\n",
      "Saving generated image to: tmp/food_sloss01/64/models/netG_300/valid/img_6.png\n",
      "Saving generated fusion mask to: tmp/food_sloss01/64/models/netG_300/valid/fm_6.png\n",
      "Saving generated image to: tmp/food_sloss01/64/models/netG_300/valid/img_6.png\n",
      "Saving generated fusion mask to: tmp/food_sloss01/64/models/netG_300/valid/fm_6.png\n",
      "Saving generated image to: tmp/food_sloss01/64/models/netG_300/valid/img_6.png\n",
      "Saving generated fusion mask to: tmp/food_sloss01/64/models/netG_300/valid/fm_6.png\n",
      "Saving generated image to: tmp/food_sloss01/64/models/netG_300/valid/img_6.png\n",
      "Saving generated fusion mask to: tmp/food_sloss01/64/models/netG_300/valid/fm_6.png\n",
      "Saving generated image to: tmp/food_sloss01/64/models/netG_300/valid/img_6.png\n",
      "Saving generated fusion mask to: tmp/food_sloss01/64/models/netG_300/valid/fm_6.png\n",
      "Saving generated image to: tmp/food_sloss01/64/models/netG_300/valid/img_7.png\n",
      "Saving generated fusion mask to: tmp/food_sloss01/64/models/netG_300/valid/fm_7.png\n",
      "Saving generated image to: tmp/food_sloss01/64/models/netG_300/valid/img_7.png\n",
      "Saving generated fusion mask to: tmp/food_sloss01/64/models/netG_300/valid/fm_7.png\n",
      "Saving generated image to: tmp/food_sloss01/64/models/netG_300/valid/img_7.png\n",
      "Saving generated fusion mask to: tmp/food_sloss01/64/models/netG_300/valid/fm_7.png\n",
      "Saving generated image to: tmp/food_sloss01/64/models/netG_300/valid/img_7.png\n",
      "Saving generated fusion mask to: tmp/food_sloss01/64/models/netG_300/valid/fm_7.png\n",
      "Saving generated image to: tmp/food_sloss01/64/models/netG_300/valid/img_7.png\n",
      "Saving generated fusion mask to: tmp/food_sloss01/64/models/netG_300/valid/fm_7.png\n",
      "Saving generated image to: tmp/food_sloss01/64/models/netG_300/valid/img_7.png\n",
      "Saving generated fusion mask to: tmp/food_sloss01/64/models/netG_300/valid/fm_7.png\n",
      "Saving generated image to: tmp/food_sloss01/64/models/netG_300/valid/img_7.png\n",
      "Saving generated fusion mask to: tmp/food_sloss01/64/models/netG_300/valid/fm_7.png\n",
      "Saving generated image to: tmp/food_sloss01/64/models/netG_300/valid/img_7.png\n",
      "Saving generated fusion mask to: tmp/food_sloss01/64/models/netG_300/valid/fm_7.png\n",
      "Saving generated image to: tmp/food_sloss01/64/models/netG_300/valid/img_7.png\n",
      "Saving generated fusion mask to: tmp/food_sloss01/64/models/netG_300/valid/fm_7.png\n",
      "Saving generated image to: tmp/food_sloss01/64/models/netG_300/valid/img_7.png\n",
      "Saving generated fusion mask to: tmp/food_sloss01/64/models/netG_300/valid/fm_7.png\n",
      "Saving generated image to: tmp/food_sloss01/64/models/netG_300/valid/img_8.png\n",
      "Saving generated fusion mask to: tmp/food_sloss01/64/models/netG_300/valid/fm_8.png\n",
      "Saving generated image to: tmp/food_sloss01/64/models/netG_300/valid/img_8.png\n",
      "Saving generated fusion mask to: tmp/food_sloss01/64/models/netG_300/valid/fm_8.png\n",
      "Saving generated image to: tmp/food_sloss01/64/models/netG_300/valid/img_8.png\n",
      "Saving generated fusion mask to: tmp/food_sloss01/64/models/netG_300/valid/fm_8.png\n",
      "Saving generated image to: tmp/food_sloss01/64/models/netG_300/valid/img_8.png\n",
      "Saving generated fusion mask to: tmp/food_sloss01/64/models/netG_300/valid/fm_8.png\n",
      "Saving generated image to: tmp/food_sloss01/64/models/netG_300/valid/img_8.png\n",
      "Saving generated fusion mask to: tmp/food_sloss01/64/models/netG_300/valid/fm_8.png\n",
      "Saving generated image to: tmp/food_sloss01/64/models/netG_300/valid/img_8.png\n",
      "Saving generated fusion mask to: tmp/food_sloss01/64/models/netG_300/valid/fm_8.png\n",
      "Saving generated image to: tmp/food_sloss01/64/models/netG_300/valid/img_8.png\n",
      "Saving generated fusion mask to: tmp/food_sloss01/64/models/netG_300/valid/fm_8.png\n",
      "Saving generated image to: tmp/food_sloss01/64/models/netG_300/valid/img_8.png\n",
      "Saving generated fusion mask to: tmp/food_sloss01/64/models/netG_300/valid/fm_8.png\n",
      "Saving generated image to: tmp/food_sloss01/64/models/netG_300/valid/img_8.png\n",
      "Saving generated fusion mask to: tmp/food_sloss01/64/models/netG_300/valid/fm_8.png\n",
      "Saving generated image to: tmp/food_sloss01/64/models/netG_300/valid/img_8.png\n",
      "Saving generated fusion mask to: tmp/food_sloss01/64/models/netG_300/valid/fm_8.png\n",
      "Saving generated image to: tmp/food_sloss01/64/models/netG_300/valid/img_9.png\n",
      "Saving generated fusion mask to: tmp/food_sloss01/64/models/netG_300/valid/fm_9.png\n",
      "Saving generated image to: tmp/food_sloss01/64/models/netG_300/valid/img_9.png\n",
      "Saving generated fusion mask to: tmp/food_sloss01/64/models/netG_300/valid/fm_9.png\n",
      "Saving generated image to: tmp/food_sloss01/64/models/netG_300/valid/img_9.png\n",
      "Saving generated fusion mask to: tmp/food_sloss01/64/models/netG_300/valid/fm_9.png\n",
      "Saving generated image to: tmp/food_sloss01/64/models/netG_300/valid/img_9.png\n",
      "Saving generated fusion mask to: tmp/food_sloss01/64/models/netG_300/valid/fm_9.png\n",
      "Saving generated image to: tmp/food_sloss01/64/models/netG_300/valid/img_9.png\n",
      "Saving generated fusion mask to: tmp/food_sloss01/64/models/netG_300/valid/fm_9.png\n",
      "Saving generated image to: tmp/food_sloss01/64/models/netG_300/valid/img_9.png\n",
      "Saving generated fusion mask to: tmp/food_sloss01/64/models/netG_300/valid/fm_9.png\n",
      "Saving generated image to: tmp/food_sloss01/64/models/netG_300/valid/img_9.png\n",
      "Saving generated fusion mask to: tmp/food_sloss01/64/models/netG_300/valid/fm_9.png\n",
      "Saving generated image to: tmp/food_sloss01/64/models/netG_300/valid/img_9.png\n",
      "Saving generated fusion mask to: tmp/food_sloss01/64/models/netG_300/valid/fm_9.png\n",
      "Saving generated image to: tmp/food_sloss01/64/models/netG_300/valid/img_9.png\n",
      "Saving generated fusion mask to: tmp/food_sloss01/64/models/netG_300/valid/fm_9.png\n",
      "Saving generated image to: tmp/food_sloss01/64/models/netG_300/valid/img_9.png\n",
      "Saving generated fusion mask to: tmp/food_sloss01/64/models/netG_300/valid/fm_9.png\n",
      "Saving generated image to: tmp/food_sloss01/64/models/netG_300/valid/img_10.png\n",
      "Saving generated fusion mask to: tmp/food_sloss01/64/models/netG_300/valid/fm_10.png\n",
      "Saving generated image to: tmp/food_sloss01/64/models/netG_300/valid/img_10.png\n",
      "Saving generated fusion mask to: tmp/food_sloss01/64/models/netG_300/valid/fm_10.png\n",
      "Saving generated image to: tmp/food_sloss01/64/models/netG_300/valid/img_10.png\n",
      "Saving generated fusion mask to: tmp/food_sloss01/64/models/netG_300/valid/fm_10.png\n",
      "Saving generated image to: tmp/food_sloss01/64/models/netG_300/valid/img_10.png\n",
      "Saving generated fusion mask to: tmp/food_sloss01/64/models/netG_300/valid/fm_10.png\n",
      "Saving generated image to: tmp/food_sloss01/64/models/netG_300/valid/img_10.png\n",
      "Saving generated fusion mask to: tmp/food_sloss01/64/models/netG_300/valid/fm_10.png\n",
      "Saving generated image to: tmp/food_sloss01/64/models/netG_300/valid/img_10.png\n",
      "Saving generated fusion mask to: tmp/food_sloss01/64/models/netG_300/valid/fm_10.png\n",
      "Saving generated image to: tmp/food_sloss01/64/models/netG_300/valid/img_10.png\n",
      "Saving generated fusion mask to: tmp/food_sloss01/64/models/netG_300/valid/fm_10.png\n",
      "Saving generated image to: tmp/food_sloss01/64/models/netG_300/valid/img_10.png\n",
      "Saving generated fusion mask to: tmp/food_sloss01/64/models/netG_300/valid/fm_10.png\n",
      "Saving generated image to: tmp/food_sloss01/64/models/netG_300/valid/img_10.png\n",
      "Saving generated fusion mask to: tmp/food_sloss01/64/models/netG_300/valid/fm_10.png\n",
      "Saving generated image to: tmp/food_sloss01/64/models/netG_300/valid/img_10.png\n",
      "Saving generated fusion mask to: tmp/food_sloss01/64/models/netG_300/valid/fm_10.png\n",
      "Saving generated image to: tmp/food_sloss01/64/models/netG_300/valid/img_11.png\n",
      "Saving generated fusion mask to: tmp/food_sloss01/64/models/netG_300/valid/fm_11.png\n",
      "Saving generated image to: tmp/food_sloss01/64/models/netG_300/valid/img_11.png\n",
      "Saving generated fusion mask to: tmp/food_sloss01/64/models/netG_300/valid/fm_11.png\n",
      "Saving generated image to: tmp/food_sloss01/64/models/netG_300/valid/img_11.png\n",
      "Saving generated fusion mask to: tmp/food_sloss01/64/models/netG_300/valid/fm_11.png\n",
      "Saving generated image to: tmp/food_sloss01/64/models/netG_300/valid/img_11.png\n",
      "Saving generated fusion mask to: tmp/food_sloss01/64/models/netG_300/valid/fm_11.png\n",
      "Saving generated image to: tmp/food_sloss01/64/models/netG_300/valid/img_11.png\n",
      "Saving generated fusion mask to: tmp/food_sloss01/64/models/netG_300/valid/fm_11.png\n",
      "Saving generated image to: tmp/food_sloss01/64/models/netG_300/valid/img_11.png\n",
      "Saving generated fusion mask to: tmp/food_sloss01/64/models/netG_300/valid/fm_11.png\n",
      "Saving generated image to: tmp/food_sloss01/64/models/netG_300/valid/img_11.png\n",
      "Saving generated fusion mask to: tmp/food_sloss01/64/models/netG_300/valid/fm_11.png\n",
      "Saving generated image to: tmp/food_sloss01/64/models/netG_300/valid/img_11.png\n",
      "Saving generated fusion mask to: tmp/food_sloss01/64/models/netG_300/valid/fm_11.png\n",
      "Saving generated image to: tmp/food_sloss01/64/models/netG_300/valid/img_11.png\n",
      "Saving generated fusion mask to: tmp/food_sloss01/64/models/netG_300/valid/fm_11.png\n",
      "Saving generated image to: tmp/food_sloss01/64/models/netG_300/valid/img_11.png\n",
      "Saving generated fusion mask to: tmp/food_sloss01/64/models/netG_300/valid/fm_11.png\n",
      "Saving generated image to: tmp/food_sloss01/64/models/netG_300/valid/img_12.png\n",
      "Saving generated fusion mask to: tmp/food_sloss01/64/models/netG_300/valid/fm_12.png\n",
      "Saving generated image to: tmp/food_sloss01/64/models/netG_300/valid/img_12.png\n",
      "Saving generated fusion mask to: tmp/food_sloss01/64/models/netG_300/valid/fm_12.png\n",
      "Saving generated image to: tmp/food_sloss01/64/models/netG_300/valid/img_12.png\n",
      "Saving generated fusion mask to: tmp/food_sloss01/64/models/netG_300/valid/fm_12.png\n",
      "Saving generated image to: tmp/food_sloss01/64/models/netG_300/valid/img_12.png\n",
      "Saving generated fusion mask to: tmp/food_sloss01/64/models/netG_300/valid/fm_12.png\n",
      "Saving generated image to: tmp/food_sloss01/64/models/netG_300/valid/img_12.png\n",
      "Saving generated fusion mask to: tmp/food_sloss01/64/models/netG_300/valid/fm_12.png\n",
      "Saving generated image to: tmp/food_sloss01/64/models/netG_300/valid/img_12.png\n",
      "Saving generated fusion mask to: tmp/food_sloss01/64/models/netG_300/valid/fm_12.png\n",
      "Saving generated image to: tmp/food_sloss01/64/models/netG_300/valid/img_12.png\n",
      "Saving generated fusion mask to: tmp/food_sloss01/64/models/netG_300/valid/fm_12.png\n",
      "Saving generated image to: tmp/food_sloss01/64/models/netG_300/valid/img_12.png\n",
      "Saving generated fusion mask to: tmp/food_sloss01/64/models/netG_300/valid/fm_12.png\n",
      "Saving generated image to: tmp/food_sloss01/64/models/netG_300/valid/img_12.png\n",
      "Saving generated fusion mask to: tmp/food_sloss01/64/models/netG_300/valid/fm_12.png\n",
      "Saving generated image to: tmp/food_sloss01/64/models/netG_300/valid/img_12.png\n",
      "Saving generated fusion mask to: tmp/food_sloss01/64/models/netG_300/valid/fm_12.png\n",
      "Saving generated image to: tmp/food_sloss01/64/models/netG_300/valid/img_13.png\n",
      "Saving generated fusion mask to: tmp/food_sloss01/64/models/netG_300/valid/fm_13.png\n",
      "Saving generated image to: tmp/food_sloss01/64/models/netG_300/valid/img_13.png\n",
      "Saving generated fusion mask to: tmp/food_sloss01/64/models/netG_300/valid/fm_13.png\n",
      "Saving generated image to: tmp/food_sloss01/64/models/netG_300/valid/img_13.png\n",
      "Saving generated fusion mask to: tmp/food_sloss01/64/models/netG_300/valid/fm_13.png\n",
      "Saving generated image to: tmp/food_sloss01/64/models/netG_300/valid/img_13.png\n",
      "Saving generated fusion mask to: tmp/food_sloss01/64/models/netG_300/valid/fm_13.png\n",
      "Saving generated image to: tmp/food_sloss01/64/models/netG_300/valid/img_13.png\n",
      "Saving generated fusion mask to: tmp/food_sloss01/64/models/netG_300/valid/fm_13.png\n",
      "Saving generated image to: tmp/food_sloss01/64/models/netG_300/valid/img_13.png\n",
      "Saving generated fusion mask to: tmp/food_sloss01/64/models/netG_300/valid/fm_13.png\n",
      "Saving generated image to: tmp/food_sloss01/64/models/netG_300/valid/img_13.png\n",
      "Saving generated fusion mask to: tmp/food_sloss01/64/models/netG_300/valid/fm_13.png\n",
      "Saving generated image to: tmp/food_sloss01/64/models/netG_300/valid/img_13.png\n",
      "Saving generated fusion mask to: tmp/food_sloss01/64/models/netG_300/valid/fm_13.png\n",
      "Saving generated image to: tmp/food_sloss01/64/models/netG_300/valid/img_13.png\n",
      "Saving generated fusion mask to: tmp/food_sloss01/64/models/netG_300/valid/fm_13.png\n",
      "Saving generated image to: tmp/food_sloss01/64/models/netG_300/valid/img_13.png\n",
      "Saving generated fusion mask to: tmp/food_sloss01/64/models/netG_300/valid/fm_13.png\n",
      "Saving generated image to: tmp/food_sloss01/64/models/netG_300/valid/img_14.png\n",
      "Saving generated fusion mask to: tmp/food_sloss01/64/models/netG_300/valid/fm_14.png\n",
      "Saving generated image to: tmp/food_sloss01/64/models/netG_300/valid/img_14.png\n",
      "Saving generated fusion mask to: tmp/food_sloss01/64/models/netG_300/valid/fm_14.png\n",
      "Saving generated image to: tmp/food_sloss01/64/models/netG_300/valid/img_14.png\n",
      "Saving generated fusion mask to: tmp/food_sloss01/64/models/netG_300/valid/fm_14.png\n",
      "Saving generated image to: tmp/food_sloss01/64/models/netG_300/valid/img_14.png\n",
      "Saving generated fusion mask to: tmp/food_sloss01/64/models/netG_300/valid/fm_14.png\n",
      "Saving generated image to: tmp/food_sloss01/64/models/netG_300/valid/img_14.png\n",
      "Saving generated fusion mask to: tmp/food_sloss01/64/models/netG_300/valid/fm_14.png\n",
      "Saving generated image to: tmp/food_sloss01/64/models/netG_300/valid/img_14.png\n",
      "Saving generated fusion mask to: tmp/food_sloss01/64/models/netG_300/valid/fm_14.png\n",
      "Saving generated image to: tmp/food_sloss01/64/models/netG_300/valid/img_14.png\n",
      "Saving generated fusion mask to: tmp/food_sloss01/64/models/netG_300/valid/fm_14.png\n",
      "Saving generated image to: tmp/food_sloss01/64/models/netG_300/valid/img_14.png\n",
      "Saving generated fusion mask to: tmp/food_sloss01/64/models/netG_300/valid/fm_14.png\n",
      "Saving generated image to: tmp/food_sloss01/64/models/netG_300/valid/img_14.png\n",
      "Saving generated fusion mask to: tmp/food_sloss01/64/models/netG_300/valid/fm_14.png\n",
      "Saving generated image to: tmp/food_sloss01/64/models/netG_300/valid/img_14.png\n",
      "Saving generated fusion mask to: tmp/food_sloss01/64/models/netG_300/valid/fm_14.png\n",
      "Saving generated image to: tmp/food_sloss01/64/models/netG_300/valid/img_15.png\n",
      "Saving generated fusion mask to: tmp/food_sloss01/64/models/netG_300/valid/fm_15.png\n",
      "Saving generated image to: tmp/food_sloss01/64/models/netG_300/valid/img_15.png\n",
      "Saving generated fusion mask to: tmp/food_sloss01/64/models/netG_300/valid/fm_15.png\n",
      "Saving generated image to: tmp/food_sloss01/64/models/netG_300/valid/img_15.png\n",
      "Saving generated fusion mask to: tmp/food_sloss01/64/models/netG_300/valid/fm_15.png\n",
      "Saving generated image to: tmp/food_sloss01/64/models/netG_300/valid/img_15.png\n",
      "Saving generated fusion mask to: tmp/food_sloss01/64/models/netG_300/valid/fm_15.png\n",
      "Saving generated image to: tmp/food_sloss01/64/models/netG_300/valid/img_15.png\n",
      "Saving generated fusion mask to: tmp/food_sloss01/64/models/netG_300/valid/fm_15.png\n",
      "Saving generated image to: tmp/food_sloss01/64/models/netG_300/valid/img_15.png\n",
      "Saving generated fusion mask to: tmp/food_sloss01/64/models/netG_300/valid/fm_15.png\n",
      "Saving generated image to: tmp/food_sloss01/64/models/netG_300/valid/img_15.png\n",
      "Saving generated fusion mask to: tmp/food_sloss01/64/models/netG_300/valid/fm_15.png\n",
      "Saving generated image to: tmp/food_sloss01/64/models/netG_300/valid/img_15.png\n",
      "Saving generated fusion mask to: tmp/food_sloss01/64/models/netG_300/valid/fm_15.png\n",
      "Saving generated image to: tmp/food_sloss01/64/models/netG_300/valid/img_15.png\n",
      "Saving generated fusion mask to: tmp/food_sloss01/64/models/netG_300/valid/fm_15.png\n",
      "Saving generated image to: tmp/food_sloss01/64/models/netG_300/valid/img_15.png\n",
      "Saving generated fusion mask to: tmp/food_sloss01/64/models/netG_300/valid/fm_15.png\n",
      "Saving generated image to: tmp/food_sloss01/64/models/netG_300/valid/img_16.png\n",
      "Saving generated fusion mask to: tmp/food_sloss01/64/models/netG_300/valid/fm_16.png\n",
      "Saving generated image to: tmp/food_sloss01/64/models/netG_300/valid/img_16.png\n",
      "Saving generated fusion mask to: tmp/food_sloss01/64/models/netG_300/valid/fm_16.png\n",
      "Saving generated image to: tmp/food_sloss01/64/models/netG_300/valid/img_16.png\n",
      "Saving generated fusion mask to: tmp/food_sloss01/64/models/netG_300/valid/fm_16.png\n",
      "Saving generated image to: tmp/food_sloss01/64/models/netG_300/valid/img_16.png\n",
      "Saving generated fusion mask to: tmp/food_sloss01/64/models/netG_300/valid/fm_16.png\n",
      "Saving generated image to: tmp/food_sloss01/64/models/netG_300/valid/img_16.png\n",
      "Saving generated fusion mask to: tmp/food_sloss01/64/models/netG_300/valid/fm_16.png\n",
      "Saving generated image to: tmp/food_sloss01/64/models/netG_300/valid/img_16.png\n",
      "Saving generated fusion mask to: tmp/food_sloss01/64/models/netG_300/valid/fm_16.png\n",
      "Saving generated image to: tmp/food_sloss01/64/models/netG_300/valid/img_16.png\n",
      "Saving generated fusion mask to: tmp/food_sloss01/64/models/netG_300/valid/fm_16.png\n",
      "Saving generated image to: tmp/food_sloss01/64/models/netG_300/valid/img_16.png\n",
      "Saving generated fusion mask to: tmp/food_sloss01/64/models/netG_300/valid/fm_16.png\n",
      "Saving generated image to: tmp/food_sloss01/64/models/netG_300/valid/img_16.png\n",
      "Saving generated fusion mask to: tmp/food_sloss01/64/models/netG_300/valid/fm_16.png\n",
      "Saving generated image to: tmp/food_sloss01/64/models/netG_300/valid/img_16.png\n",
      "Saving generated fusion mask to: tmp/food_sloss01/64/models/netG_300/valid/fm_16.png\n",
      "Saving generated image to: tmp/food_sloss01/64/models/netG_300/valid/img_17.png\n",
      "Saving generated fusion mask to: tmp/food_sloss01/64/models/netG_300/valid/fm_17.png\n",
      "Saving generated image to: tmp/food_sloss01/64/models/netG_300/valid/img_17.png\n",
      "Saving generated fusion mask to: tmp/food_sloss01/64/models/netG_300/valid/fm_17.png\n",
      "Saving generated image to: tmp/food_sloss01/64/models/netG_300/valid/img_17.png\n",
      "Saving generated fusion mask to: tmp/food_sloss01/64/models/netG_300/valid/fm_17.png\n",
      "Saving generated image to: tmp/food_sloss01/64/models/netG_300/valid/img_17.png\n",
      "Saving generated fusion mask to: tmp/food_sloss01/64/models/netG_300/valid/fm_17.png\n",
      "Saving generated image to: tmp/food_sloss01/64/models/netG_300/valid/img_17.png\n",
      "Saving generated fusion mask to: tmp/food_sloss01/64/models/netG_300/valid/fm_17.png\n",
      "Saving generated image to: tmp/food_sloss01/64/models/netG_300/valid/img_17.png\n",
      "Saving generated fusion mask to: tmp/food_sloss01/64/models/netG_300/valid/fm_17.png\n",
      "Saving generated image to: tmp/food_sloss01/64/models/netG_300/valid/img_17.png\n",
      "Saving generated fusion mask to: tmp/food_sloss01/64/models/netG_300/valid/fm_17.png\n",
      "Saving generated image to: tmp/food_sloss01/64/models/netG_300/valid/img_17.png\n",
      "Saving generated fusion mask to: tmp/food_sloss01/64/models/netG_300/valid/fm_17.png\n",
      "Saving generated image to: tmp/food_sloss01/64/models/netG_300/valid/img_17.png\n",
      "Saving generated fusion mask to: tmp/food_sloss01/64/models/netG_300/valid/fm_17.png\n",
      "Saving generated image to: tmp/food_sloss01/64/models/netG_300/valid/img_17.png\n",
      "Saving generated fusion mask to: tmp/food_sloss01/64/models/netG_300/valid/fm_17.png\n",
      "Saving generated image to: tmp/food_sloss01/64/models/netG_300/valid/img_18.png\n",
      "Saving generated fusion mask to: tmp/food_sloss01/64/models/netG_300/valid/fm_18.png\n",
      "Saving generated image to: tmp/food_sloss01/64/models/netG_300/valid/img_18.png\n",
      "Saving generated fusion mask to: tmp/food_sloss01/64/models/netG_300/valid/fm_18.png\n",
      "Saving generated image to: tmp/food_sloss01/64/models/netG_300/valid/img_18.png\n",
      "Saving generated fusion mask to: tmp/food_sloss01/64/models/netG_300/valid/fm_18.png\n",
      "Saving generated image to: tmp/food_sloss01/64/models/netG_300/valid/img_18.png\n",
      "Saving generated fusion mask to: tmp/food_sloss01/64/models/netG_300/valid/fm_18.png\n",
      "Saving generated image to: tmp/food_sloss01/64/models/netG_300/valid/img_18.png\n",
      "Saving generated fusion mask to: tmp/food_sloss01/64/models/netG_300/valid/fm_18.png\n",
      "Saving generated image to: tmp/food_sloss01/64/models/netG_300/valid/img_18.png\n",
      "Saving generated fusion mask to: tmp/food_sloss01/64/models/netG_300/valid/fm_18.png\n",
      "Saving generated image to: tmp/food_sloss01/64/models/netG_300/valid/img_18.png\n",
      "Saving generated fusion mask to: tmp/food_sloss01/64/models/netG_300/valid/fm_18.png\n",
      "Saving generated image to: tmp/food_sloss01/64/models/netG_300/valid/img_18.png\n",
      "Saving generated fusion mask to: tmp/food_sloss01/64/models/netG_300/valid/fm_18.png\n",
      "Saving generated image to: tmp/food_sloss01/64/models/netG_300/valid/img_18.png\n",
      "Saving generated fusion mask to: tmp/food_sloss01/64/models/netG_300/valid/fm_18.png\n",
      "Saving generated image to: tmp/food_sloss01/64/models/netG_300/valid/img_18.png\n",
      "Saving generated fusion mask to: tmp/food_sloss01/64/models/netG_300/valid/fm_18.png\n",
      "Saving generated image to: tmp/food_sloss01/64/models/netG_300/valid/img_19.png\n",
      "Saving generated fusion mask to: tmp/food_sloss01/64/models/netG_300/valid/fm_19.png\n",
      "Saving generated image to: tmp/food_sloss01/64/models/netG_300/valid/img_19.png\n",
      "Saving generated fusion mask to: tmp/food_sloss01/64/models/netG_300/valid/fm_19.png\n",
      "Saving generated image to: tmp/food_sloss01/64/models/netG_300/valid/img_19.png\n",
      "Saving generated fusion mask to: tmp/food_sloss01/64/models/netG_300/valid/fm_19.png\n",
      "Saving generated image to: tmp/food_sloss01/64/models/netG_300/valid/img_19.png\n",
      "Saving generated fusion mask to: tmp/food_sloss01/64/models/netG_300/valid/fm_19.png\n",
      "Saving generated image to: tmp/food_sloss01/64/models/netG_300/valid/img_19.png\n",
      "Saving generated fusion mask to: tmp/food_sloss01/64/models/netG_300/valid/fm_19.png\n",
      "Saving generated image to: tmp/food_sloss01/64/models/netG_300/valid/img_19.png\n",
      "Saving generated fusion mask to: tmp/food_sloss01/64/models/netG_300/valid/fm_19.png\n",
      "Saving generated image to: tmp/food_sloss01/64/models/netG_300/valid/img_19.png\n",
      "Saving generated fusion mask to: tmp/food_sloss01/64/models/netG_300/valid/fm_19.png\n",
      "Saving generated image to: tmp/food_sloss01/64/models/netG_300/valid/img_19.png\n",
      "Saving generated fusion mask to: tmp/food_sloss01/64/models/netG_300/valid/fm_19.png\n",
      "Saving generated image to: tmp/food_sloss01/64/models/netG_300/valid/img_19.png\n",
      "Saving generated fusion mask to: tmp/food_sloss01/64/models/netG_300/valid/fm_19.png\n",
      "Saving generated image to: tmp/food_sloss01/64/models/netG_300/valid/img_19.png\n",
      "Saving generated fusion mask to: tmp/food_sloss01/64/models/netG_300/valid/fm_19.png\n",
      "Saving generated image to: tmp/food_sloss01/64/models/netG_300/valid/img_20.png\n",
      "Saving generated fusion mask to: tmp/food_sloss01/64/models/netG_300/valid/fm_20.png\n",
      "Saving generated image to: tmp/food_sloss01/64/models/netG_300/valid/img_20.png\n",
      "Saving generated fusion mask to: tmp/food_sloss01/64/models/netG_300/valid/fm_20.png\n",
      "Saving generated image to: tmp/food_sloss01/64/models/netG_300/valid/img_20.png\n",
      "Saving generated fusion mask to: tmp/food_sloss01/64/models/netG_300/valid/fm_20.png\n",
      "Saving generated image to: tmp/food_sloss01/64/models/netG_300/valid/img_20.png\n",
      "Saving generated fusion mask to: tmp/food_sloss01/64/models/netG_300/valid/fm_20.png\n",
      "Saving generated image to: tmp/food_sloss01/64/models/netG_300/valid/img_20.png\n",
      "Saving generated fusion mask to: tmp/food_sloss01/64/models/netG_300/valid/fm_20.png\n",
      "Saving generated image to: tmp/food_sloss01/64/models/netG_300/valid/img_20.png\n",
      "Saving generated fusion mask to: tmp/food_sloss01/64/models/netG_300/valid/fm_20.png\n",
      "Saving generated image to: tmp/food_sloss01/64/models/netG_300/valid/img_20.png\n",
      "Saving generated fusion mask to: tmp/food_sloss01/64/models/netG_300/valid/fm_20.png\n",
      "Saving generated image to: tmp/food_sloss01/64/models/netG_300/valid/img_20.png\n",
      "Saving generated fusion mask to: tmp/food_sloss01/64/models/netG_300/valid/fm_20.png\n",
      "Saving generated image to: tmp/food_sloss01/64/models/netG_300/valid/img_20.png\n",
      "Saving generated fusion mask to: tmp/food_sloss01/64/models/netG_300/valid/fm_20.png\n",
      "Saving generated image to: tmp/food_sloss01/64/models/netG_300/valid/img_20.png\n",
      "Saving generated fusion mask to: tmp/food_sloss01/64/models/netG_300/valid/fm_20.png\n",
      "Saving generated image to: tmp/food_sloss01/64/models/netG_300/valid/img_21.png\n",
      "Saving generated fusion mask to: tmp/food_sloss01/64/models/netG_300/valid/fm_21.png\n",
      "Saving generated image to: tmp/food_sloss01/64/models/netG_300/valid/img_21.png\n",
      "Saving generated fusion mask to: tmp/food_sloss01/64/models/netG_300/valid/fm_21.png\n",
      "Saving generated image to: tmp/food_sloss01/64/models/netG_300/valid/img_21.png\n",
      "Saving generated fusion mask to: tmp/food_sloss01/64/models/netG_300/valid/fm_21.png\n",
      "Saving generated image to: tmp/food_sloss01/64/models/netG_300/valid/img_21.png\n",
      "Saving generated fusion mask to: tmp/food_sloss01/64/models/netG_300/valid/fm_21.png\n",
      "Saving generated image to: tmp/food_sloss01/64/models/netG_300/valid/img_21.png\n",
      "Saving generated fusion mask to: tmp/food_sloss01/64/models/netG_300/valid/fm_21.png\n",
      "Saving generated image to: tmp/food_sloss01/64/models/netG_300/valid/img_21.png\n",
      "Saving generated fusion mask to: tmp/food_sloss01/64/models/netG_300/valid/fm_21.png\n",
      "Saving generated image to: tmp/food_sloss01/64/models/netG_300/valid/img_21.png\n",
      "Saving generated fusion mask to: tmp/food_sloss01/64/models/netG_300/valid/fm_21.png\n",
      "Saving generated image to: tmp/food_sloss01/64/models/netG_300/valid/img_21.png\n",
      "Saving generated fusion mask to: tmp/food_sloss01/64/models/netG_300/valid/fm_21.png\n",
      "Saving generated image to: tmp/food_sloss01/64/models/netG_300/valid/img_21.png\n",
      "Saving generated fusion mask to: tmp/food_sloss01/64/models/netG_300/valid/fm_21.png\n",
      "Saving generated image to: tmp/food_sloss01/64/models/netG_300/valid/img_21.png\n",
      "Saving generated fusion mask to: tmp/food_sloss01/64/models/netG_300/valid/fm_21.png\n",
      "Saving generated image to: tmp/food_sloss01/64/models/netG_300/valid/img_22.png\n",
      "Saving generated fusion mask to: tmp/food_sloss01/64/models/netG_300/valid/fm_22.png\n",
      "Saving generated image to: tmp/food_sloss01/64/models/netG_300/valid/img_22.png\n",
      "Saving generated fusion mask to: tmp/food_sloss01/64/models/netG_300/valid/fm_22.png\n",
      "Saving generated image to: tmp/food_sloss01/64/models/netG_300/valid/img_22.png\n",
      "Saving generated fusion mask to: tmp/food_sloss01/64/models/netG_300/valid/fm_22.png\n",
      "Saving generated image to: tmp/food_sloss01/64/models/netG_300/valid/img_22.png\n",
      "Saving generated fusion mask to: tmp/food_sloss01/64/models/netG_300/valid/fm_22.png\n",
      "Saving generated image to: tmp/food_sloss01/64/models/netG_300/valid/img_22.png\n",
      "Saving generated fusion mask to: tmp/food_sloss01/64/models/netG_300/valid/fm_22.png\n",
      "Saving generated image to: tmp/food_sloss01/64/models/netG_300/valid/img_22.png\n",
      "Saving generated fusion mask to: tmp/food_sloss01/64/models/netG_300/valid/fm_22.png\n",
      "Saving generated image to: tmp/food_sloss01/64/models/netG_300/valid/img_22.png\n",
      "Saving generated fusion mask to: tmp/food_sloss01/64/models/netG_300/valid/fm_22.png\n",
      "Saving generated image to: tmp/food_sloss01/64/models/netG_300/valid/img_22.png\n",
      "Saving generated fusion mask to: tmp/food_sloss01/64/models/netG_300/valid/fm_22.png\n",
      "Saving generated image to: tmp/food_sloss01/64/models/netG_300/valid/img_22.png\n",
      "Saving generated fusion mask to: tmp/food_sloss01/64/models/netG_300/valid/fm_22.png\n",
      "Saving generated image to: tmp/food_sloss01/64/models/netG_300/valid/img_22.png\n",
      "Saving generated fusion mask to: tmp/food_sloss01/64/models/netG_300/valid/fm_22.png\n",
      "Saving generated image to: tmp/food_sloss01/64/models/netG_300/valid/img_23.png\n",
      "Saving generated fusion mask to: tmp/food_sloss01/64/models/netG_300/valid/fm_23.png\n",
      "Saving generated image to: tmp/food_sloss01/64/models/netG_300/valid/img_23.png\n",
      "Saving generated fusion mask to: tmp/food_sloss01/64/models/netG_300/valid/fm_23.png\n",
      "Saving generated image to: tmp/food_sloss01/64/models/netG_300/valid/img_23.png\n",
      "Saving generated fusion mask to: tmp/food_sloss01/64/models/netG_300/valid/fm_23.png\n",
      "Saving generated image to: tmp/food_sloss01/64/models/netG_300/valid/img_23.png\n",
      "Saving generated fusion mask to: tmp/food_sloss01/64/models/netG_300/valid/fm_23.png\n",
      "Saving generated image to: tmp/food_sloss01/64/models/netG_300/valid/img_23.png\n",
      "Saving generated fusion mask to: tmp/food_sloss01/64/models/netG_300/valid/fm_23.png\n",
      "Saving generated image to: tmp/food_sloss01/64/models/netG_300/valid/img_23.png\n",
      "Saving generated fusion mask to: tmp/food_sloss01/64/models/netG_300/valid/fm_23.png\n",
      "Saving generated image to: tmp/food_sloss01/64/models/netG_300/valid/img_23.png\n",
      "Saving generated fusion mask to: tmp/food_sloss01/64/models/netG_300/valid/fm_23.png\n",
      "Saving generated image to: tmp/food_sloss01/64/models/netG_300/valid/img_23.png\n",
      "Saving generated fusion mask to: tmp/food_sloss01/64/models/netG_300/valid/fm_23.png\n",
      "Saving generated image to: tmp/food_sloss01/64/models/netG_300/valid/img_23.png\n",
      "Saving generated fusion mask to: tmp/food_sloss01/64/models/netG_300/valid/fm_23.png\n",
      "Saving generated image to: tmp/food_sloss01/64/models/netG_300/valid/img_23.png\n",
      "Saving generated fusion mask to: tmp/food_sloss01/64/models/netG_300/valid/fm_23.png\n",
      "Saving generated image to: tmp/food_sloss01/64/models/netG_300/valid/img_24.png\n",
      "Saving generated fusion mask to: tmp/food_sloss01/64/models/netG_300/valid/fm_24.png\n",
      "Saving generated image to: tmp/food_sloss01/64/models/netG_300/valid/img_24.png\n",
      "Saving generated fusion mask to: tmp/food_sloss01/64/models/netG_300/valid/fm_24.png\n",
      "Saving generated image to: tmp/food_sloss01/64/models/netG_300/valid/img_24.png\n",
      "Saving generated fusion mask to: tmp/food_sloss01/64/models/netG_300/valid/fm_24.png\n",
      "Saving generated image to: tmp/food_sloss01/64/models/netG_300/valid/img_24.png\n",
      "Saving generated fusion mask to: tmp/food_sloss01/64/models/netG_300/valid/fm_24.png\n",
      "Saving generated image to: tmp/food_sloss01/64/models/netG_300/valid/img_24.png\n",
      "Saving generated fusion mask to: tmp/food_sloss01/64/models/netG_300/valid/fm_24.png\n",
      "Saving generated image to: tmp/food_sloss01/64/models/netG_300/valid/img_24.png\n",
      "Saving generated fusion mask to: tmp/food_sloss01/64/models/netG_300/valid/fm_24.png\n",
      "Saving generated image to: tmp/food_sloss01/64/models/netG_300/valid/img_24.png\n",
      "Saving generated fusion mask to: tmp/food_sloss01/64/models/netG_300/valid/fm_24.png\n",
      "Saving generated image to: tmp/food_sloss01/64/models/netG_300/valid/img_24.png\n",
      "Saving generated fusion mask to: tmp/food_sloss01/64/models/netG_300/valid/fm_24.png\n",
      "Saving generated image to: tmp/food_sloss01/64/models/netG_300/valid/img_24.png\n",
      "Saving generated fusion mask to: tmp/food_sloss01/64/models/netG_300/valid/fm_24.png\n",
      "Saving generated image to: tmp/food_sloss01/64/models/netG_300/valid/img_24.png\n",
      "Saving generated fusion mask to: tmp/food_sloss01/64/models/netG_300/valid/fm_24.png\n",
      "Saving generated image to: tmp/food_sloss01/64/models/netG_300/valid/img_25.png\n",
      "Saving generated fusion mask to: tmp/food_sloss01/64/models/netG_300/valid/fm_25.png\n",
      "Saving generated image to: tmp/food_sloss01/64/models/netG_300/valid/img_25.png\n",
      "Saving generated fusion mask to: tmp/food_sloss01/64/models/netG_300/valid/fm_25.png\n",
      "Saving generated image to: tmp/food_sloss01/64/models/netG_300/valid/img_25.png\n",
      "Saving generated fusion mask to: tmp/food_sloss01/64/models/netG_300/valid/fm_25.png\n",
      "Saving generated image to: tmp/food_sloss01/64/models/netG_300/valid/img_25.png\n",
      "Saving generated fusion mask to: tmp/food_sloss01/64/models/netG_300/valid/fm_25.png\n",
      "Saving generated image to: tmp/food_sloss01/64/models/netG_300/valid/img_25.png\n",
      "Saving generated fusion mask to: tmp/food_sloss01/64/models/netG_300/valid/fm_25.png\n",
      "Saving generated image to: tmp/food_sloss01/64/models/netG_300/valid/img_25.png\n",
      "Saving generated fusion mask to: tmp/food_sloss01/64/models/netG_300/valid/fm_25.png\n",
      "Saving generated image to: tmp/food_sloss01/64/models/netG_300/valid/img_25.png\n",
      "Saving generated fusion mask to: tmp/food_sloss01/64/models/netG_300/valid/fm_25.png\n",
      "Saving generated image to: tmp/food_sloss01/64/models/netG_300/valid/img_25.png\n",
      "Saving generated fusion mask to: tmp/food_sloss01/64/models/netG_300/valid/fm_25.png\n",
      "Saving generated image to: tmp/food_sloss01/64/models/netG_300/valid/img_25.png\n",
      "Saving generated fusion mask to: tmp/food_sloss01/64/models/netG_300/valid/fm_25.png\n",
      "Saving generated image to: tmp/food_sloss01/64/models/netG_300/valid/img_25.png\n",
      "Saving generated fusion mask to: tmp/food_sloss01/64/models/netG_300/valid/fm_25.png\n",
      "Saving generated image to: tmp/food_sloss01/64/models/netG_300/valid/img_26.png\n",
      "Saving generated fusion mask to: tmp/food_sloss01/64/models/netG_300/valid/fm_26.png\n",
      "Saving generated image to: tmp/food_sloss01/64/models/netG_300/valid/img_26.png\n",
      "Saving generated fusion mask to: tmp/food_sloss01/64/models/netG_300/valid/fm_26.png\n",
      "Saving generated image to: tmp/food_sloss01/64/models/netG_300/valid/img_26.png\n",
      "Saving generated fusion mask to: tmp/food_sloss01/64/models/netG_300/valid/fm_26.png\n",
      "Saving generated image to: tmp/food_sloss01/64/models/netG_300/valid/img_26.png\n",
      "Saving generated fusion mask to: tmp/food_sloss01/64/models/netG_300/valid/fm_26.png\n",
      "Saving generated image to: tmp/food_sloss01/64/models/netG_300/valid/img_26.png\n",
      "Saving generated fusion mask to: tmp/food_sloss01/64/models/netG_300/valid/fm_26.png\n",
      "Saving generated image to: tmp/food_sloss01/64/models/netG_300/valid/img_26.png\n",
      "Saving generated fusion mask to: tmp/food_sloss01/64/models/netG_300/valid/fm_26.png\n",
      "Saving generated image to: tmp/food_sloss01/64/models/netG_300/valid/img_26.png\n",
      "Saving generated fusion mask to: tmp/food_sloss01/64/models/netG_300/valid/fm_26.png\n",
      "Saving generated image to: tmp/food_sloss01/64/models/netG_300/valid/img_26.png\n",
      "Saving generated fusion mask to: tmp/food_sloss01/64/models/netG_300/valid/fm_26.png\n",
      "Saving generated image to: tmp/food_sloss01/64/models/netG_300/valid/img_26.png\n",
      "Saving generated fusion mask to: tmp/food_sloss01/64/models/netG_300/valid/fm_26.png\n",
      "Saving generated image to: tmp/food_sloss01/64/models/netG_300/valid/img_26.png\n",
      "Saving generated fusion mask to: tmp/food_sloss01/64/models/netG_300/valid/fm_26.png\n",
      "Saving generated image to: tmp/food_sloss01/64/models/netG_300/valid/img_27.png\n",
      "Saving generated fusion mask to: tmp/food_sloss01/64/models/netG_300/valid/fm_27.png\n",
      "Saving generated image to: tmp/food_sloss01/64/models/netG_300/valid/img_27.png\n",
      "Saving generated fusion mask to: tmp/food_sloss01/64/models/netG_300/valid/fm_27.png\n",
      "Saving generated image to: tmp/food_sloss01/64/models/netG_300/valid/img_27.png\n",
      "Saving generated fusion mask to: tmp/food_sloss01/64/models/netG_300/valid/fm_27.png\n",
      "Saving generated image to: tmp/food_sloss01/64/models/netG_300/valid/img_27.png\n",
      "Saving generated fusion mask to: tmp/food_sloss01/64/models/netG_300/valid/fm_27.png\n",
      "Saving generated image to: tmp/food_sloss01/64/models/netG_300/valid/img_27.png\n",
      "Saving generated fusion mask to: tmp/food_sloss01/64/models/netG_300/valid/fm_27.png\n",
      "Saving generated image to: tmp/food_sloss01/64/models/netG_300/valid/img_27.png\n",
      "Saving generated fusion mask to: tmp/food_sloss01/64/models/netG_300/valid/fm_27.png\n",
      "Saving generated image to: tmp/food_sloss01/64/models/netG_300/valid/img_27.png\n",
      "Saving generated fusion mask to: tmp/food_sloss01/64/models/netG_300/valid/fm_27.png\n",
      "Saving generated image to: tmp/food_sloss01/64/models/netG_300/valid/img_27.png\n",
      "Saving generated fusion mask to: tmp/food_sloss01/64/models/netG_300/valid/fm_27.png\n",
      "Saving generated image to: tmp/food_sloss01/64/models/netG_300/valid/img_27.png\n",
      "Saving generated fusion mask to: tmp/food_sloss01/64/models/netG_300/valid/fm_27.png\n",
      "Saving generated image to: tmp/food_sloss01/64/models/netG_300/valid/img_27.png\n",
      "Saving generated fusion mask to: tmp/food_sloss01/64/models/netG_300/valid/fm_27.png\n",
      "Saving generated image to: tmp/food_sloss01/64/models/netG_300/valid/img_28.png\n",
      "Saving generated fusion mask to: tmp/food_sloss01/64/models/netG_300/valid/fm_28.png\n",
      "Saving generated image to: tmp/food_sloss01/64/models/netG_300/valid/img_28.png\n",
      "Saving generated fusion mask to: tmp/food_sloss01/64/models/netG_300/valid/fm_28.png\n",
      "Saving generated image to: tmp/food_sloss01/64/models/netG_300/valid/img_28.png\n",
      "Saving generated fusion mask to: tmp/food_sloss01/64/models/netG_300/valid/fm_28.png\n",
      "Saving generated image to: tmp/food_sloss01/64/models/netG_300/valid/img_28.png\n",
      "Saving generated fusion mask to: tmp/food_sloss01/64/models/netG_300/valid/fm_28.png\n",
      "Saving generated image to: tmp/food_sloss01/64/models/netG_300/valid/img_28.png\n",
      "Saving generated fusion mask to: tmp/food_sloss01/64/models/netG_300/valid/fm_28.png\n",
      "Saving generated image to: tmp/food_sloss01/64/models/netG_300/valid/img_28.png\n",
      "Saving generated fusion mask to: tmp/food_sloss01/64/models/netG_300/valid/fm_28.png\n",
      "Saving generated image to: tmp/food_sloss01/64/models/netG_300/valid/img_28.png\n",
      "Saving generated fusion mask to: tmp/food_sloss01/64/models/netG_300/valid/fm_28.png\n",
      "Saving generated image to: tmp/food_sloss01/64/models/netG_300/valid/img_28.png\n",
      "Saving generated fusion mask to: tmp/food_sloss01/64/models/netG_300/valid/fm_28.png\n",
      "Saving generated image to: tmp/food_sloss01/64/models/netG_300/valid/img_28.png\n",
      "Saving generated fusion mask to: tmp/food_sloss01/64/models/netG_300/valid/fm_28.png\n",
      "Saving generated image to: tmp/food_sloss01/64/models/netG_300/valid/img_28.png\n",
      "Saving generated fusion mask to: tmp/food_sloss01/64/models/netG_300/valid/fm_28.png\n",
      "Saving generated image to: tmp/food_sloss01/64/models/netG_300/valid/img_29.png\n",
      "Saving generated fusion mask to: tmp/food_sloss01/64/models/netG_300/valid/fm_29.png\n",
      "Saving generated image to: tmp/food_sloss01/64/models/netG_300/valid/img_29.png\n",
      "Saving generated fusion mask to: tmp/food_sloss01/64/models/netG_300/valid/fm_29.png\n",
      "Saving generated image to: tmp/food_sloss01/64/models/netG_300/valid/img_29.png\n",
      "Saving generated fusion mask to: tmp/food_sloss01/64/models/netG_300/valid/fm_29.png\n",
      "Saving generated image to: tmp/food_sloss01/64/models/netG_300/valid/img_29.png\n",
      "Saving generated fusion mask to: tmp/food_sloss01/64/models/netG_300/valid/fm_29.png\n",
      "Saving generated image to: tmp/food_sloss01/64/models/netG_300/valid/img_29.png\n",
      "Saving generated fusion mask to: tmp/food_sloss01/64/models/netG_300/valid/fm_29.png\n",
      "Saving generated image to: tmp/food_sloss01/64/models/netG_300/valid/img_29.png\n",
      "Saving generated fusion mask to: tmp/food_sloss01/64/models/netG_300/valid/fm_29.png\n",
      "Saving generated image to: tmp/food_sloss01/64/models/netG_300/valid/img_29.png\n",
      "Saving generated fusion mask to: tmp/food_sloss01/64/models/netG_300/valid/fm_29.png\n",
      "Saving generated image to: tmp/food_sloss01/64/models/netG_300/valid/img_29.png\n",
      "Saving generated fusion mask to: tmp/food_sloss01/64/models/netG_300/valid/fm_29.png\n",
      "Saving generated image to: tmp/food_sloss01/64/models/netG_300/valid/img_29.png\n",
      "Saving generated fusion mask to: tmp/food_sloss01/64/models/netG_300/valid/fm_29.png\n",
      "Saving generated image to: tmp/food_sloss01/64/models/netG_300/valid/img_29.png\n",
      "Saving generated fusion mask to: tmp/food_sloss01/64/models/netG_300/valid/fm_29.png\n",
      "Saving generated image to: tmp/food_sloss01/64/models/netG_300/valid/img_30.png\n",
      "Saving generated fusion mask to: tmp/food_sloss01/64/models/netG_300/valid/fm_30.png\n",
      "Saving generated image to: tmp/food_sloss01/64/models/netG_300/valid/img_30.png\n",
      "Saving generated fusion mask to: tmp/food_sloss01/64/models/netG_300/valid/fm_30.png\n",
      "Saving generated image to: tmp/food_sloss01/64/models/netG_300/valid/img_30.png\n",
      "Saving generated fusion mask to: tmp/food_sloss01/64/models/netG_300/valid/fm_30.png\n",
      "Saving generated image to: tmp/food_sloss01/64/models/netG_300/valid/img_30.png\n",
      "Saving generated fusion mask to: tmp/food_sloss01/64/models/netG_300/valid/fm_30.png\n",
      "Saving generated image to: tmp/food_sloss01/64/models/netG_300/valid/img_30.png\n",
      "Saving generated fusion mask to: tmp/food_sloss01/64/models/netG_300/valid/fm_30.png\n",
      "Saving generated image to: tmp/food_sloss01/64/models/netG_300/valid/img_30.png\n",
      "Saving generated fusion mask to: tmp/food_sloss01/64/models/netG_300/valid/fm_30.png\n",
      "Saving generated image to: tmp/food_sloss01/64/models/netG_300/valid/img_30.png\n",
      "Saving generated fusion mask to: tmp/food_sloss01/64/models/netG_300/valid/fm_30.png\n",
      "Saving generated image to: tmp/food_sloss01/64/models/netG_300/valid/img_30.png\n",
      "Saving generated fusion mask to: tmp/food_sloss01/64/models/netG_300/valid/fm_30.png\n",
      "Saving generated image to: tmp/food_sloss01/64/models/netG_300/valid/img_30.png\n",
      "Saving generated fusion mask to: tmp/food_sloss01/64/models/netG_300/valid/fm_30.png\n",
      "Saving generated image to: tmp/food_sloss01/64/models/netG_300/valid/img_30.png\n",
      "Saving generated fusion mask to: tmp/food_sloss01/64/models/netG_300/valid/fm_30.png\n",
      "Saving generated image to: tmp/food_sloss01/64/models/netG_300/valid/img_31.png\n",
      "Saving generated fusion mask to: tmp/food_sloss01/64/models/netG_300/valid/fm_31.png\n",
      "Saving generated image to: tmp/food_sloss01/64/models/netG_300/valid/img_31.png\n",
      "Saving generated fusion mask to: tmp/food_sloss01/64/models/netG_300/valid/fm_31.png\n",
      "Saving generated image to: tmp/food_sloss01/64/models/netG_300/valid/img_31.png\n",
      "Saving generated fusion mask to: tmp/food_sloss01/64/models/netG_300/valid/fm_31.png\n",
      "Saving generated image to: tmp/food_sloss01/64/models/netG_300/valid/img_31.png\n",
      "Saving generated fusion mask to: tmp/food_sloss01/64/models/netG_300/valid/fm_31.png\n",
      "Saving generated image to: tmp/food_sloss01/64/models/netG_300/valid/img_31.png\n",
      "Saving generated fusion mask to: tmp/food_sloss01/64/models/netG_300/valid/fm_31.png\n",
      "Saving generated image to: tmp/food_sloss01/64/models/netG_300/valid/img_31.png\n",
      "Saving generated fusion mask to: tmp/food_sloss01/64/models/netG_300/valid/fm_31.png\n",
      "Saving generated image to: tmp/food_sloss01/64/models/netG_300/valid/img_31.png\n",
      "Saving generated fusion mask to: tmp/food_sloss01/64/models/netG_300/valid/fm_31.png\n",
      "Saving generated image to: tmp/food_sloss01/64/models/netG_300/valid/img_31.png\n",
      "Saving generated fusion mask to: tmp/food_sloss01/64/models/netG_300/valid/fm_31.png\n",
      "Saving generated image to: tmp/food_sloss01/64/models/netG_300/valid/img_31.png\n",
      "Saving generated fusion mask to: tmp/food_sloss01/64/models/netG_300/valid/fm_31.png\n",
      "Saving generated image to: tmp/food_sloss01/64/models/netG_300/valid/img_31.png\n",
      "Saving generated fusion mask to: tmp/food_sloss01/64/models/netG_300/valid/fm_31.png\n",
      "Saving generated image to: tmp/food_sloss01/64/models/netG_300/valid/img_32.png\n",
      "Saving generated fusion mask to: tmp/food_sloss01/64/models/netG_300/valid/fm_32.png\n",
      "Saving generated image to: tmp/food_sloss01/64/models/netG_300/valid/img_32.png\n",
      "Saving generated fusion mask to: tmp/food_sloss01/64/models/netG_300/valid/fm_32.png\n",
      "Saving generated image to: tmp/food_sloss01/64/models/netG_300/valid/img_32.png\n",
      "Saving generated fusion mask to: tmp/food_sloss01/64/models/netG_300/valid/fm_32.png\n",
      "Saving generated image to: tmp/food_sloss01/64/models/netG_300/valid/img_32.png\n",
      "Saving generated fusion mask to: tmp/food_sloss01/64/models/netG_300/valid/fm_32.png\n",
      "Saving generated image to: tmp/food_sloss01/64/models/netG_300/valid/img_32.png\n",
      "Saving generated fusion mask to: tmp/food_sloss01/64/models/netG_300/valid/fm_32.png\n",
      "Saving generated image to: tmp/food_sloss01/64/models/netG_300/valid/img_32.png\n",
      "Saving generated fusion mask to: tmp/food_sloss01/64/models/netG_300/valid/fm_32.png\n",
      "Saving generated image to: tmp/food_sloss01/64/models/netG_300/valid/img_32.png\n",
      "Saving generated fusion mask to: tmp/food_sloss01/64/models/netG_300/valid/fm_32.png\n",
      "Saving generated image to: tmp/food_sloss01/64/models/netG_300/valid/img_32.png\n",
      "Saving generated fusion mask to: tmp/food_sloss01/64/models/netG_300/valid/fm_32.png\n",
      "Saving generated image to: tmp/food_sloss01/64/models/netG_300/valid/img_32.png\n",
      "Saving generated fusion mask to: tmp/food_sloss01/64/models/netG_300/valid/fm_32.png\n",
      "Saving generated image to: tmp/food_sloss01/64/models/netG_300/valid/img_32.png\n",
      "Saving generated fusion mask to: tmp/food_sloss01/64/models/netG_300/valid/fm_32.png\n",
      "Saving generated image to: tmp/food_sloss01/64/models/netG_300/valid/img_33.png\n",
      "Saving generated fusion mask to: tmp/food_sloss01/64/models/netG_300/valid/fm_33.png\n",
      "Saving generated image to: tmp/food_sloss01/64/models/netG_300/valid/img_33.png\n",
      "Saving generated fusion mask to: tmp/food_sloss01/64/models/netG_300/valid/fm_33.png\n",
      "Saving generated image to: tmp/food_sloss01/64/models/netG_300/valid/img_33.png\n",
      "Saving generated fusion mask to: tmp/food_sloss01/64/models/netG_300/valid/fm_33.png\n",
      "Saving generated image to: tmp/food_sloss01/64/models/netG_300/valid/img_33.png\n",
      "Saving generated fusion mask to: tmp/food_sloss01/64/models/netG_300/valid/fm_33.png\n",
      "Saving generated image to: tmp/food_sloss01/64/models/netG_300/valid/img_33.png\n",
      "Saving generated fusion mask to: tmp/food_sloss01/64/models/netG_300/valid/fm_33.png\n",
      "Saving generated image to: tmp/food_sloss01/64/models/netG_300/valid/img_33.png\n",
      "Saving generated fusion mask to: tmp/food_sloss01/64/models/netG_300/valid/fm_33.png\n",
      "Saving generated image to: tmp/food_sloss01/64/models/netG_300/valid/img_33.png\n",
      "Saving generated fusion mask to: tmp/food_sloss01/64/models/netG_300/valid/fm_33.png\n",
      "Saving generated image to: tmp/food_sloss01/64/models/netG_300/valid/img_33.png\n",
      "Saving generated fusion mask to: tmp/food_sloss01/64/models/netG_300/valid/fm_33.png\n",
      "Saving generated image to: tmp/food_sloss01/64/models/netG_300/valid/img_33.png\n",
      "Saving generated fusion mask to: tmp/food_sloss01/64/models/netG_300/valid/fm_33.png\n",
      "Saving generated image to: tmp/food_sloss01/64/models/netG_300/valid/img_33.png\n",
      "Saving generated fusion mask to: tmp/food_sloss01/64/models/netG_300/valid/fm_33.png\n",
      "Saving generated image to: tmp/food_sloss01/64/models/netG_300/valid/img_34.png\n",
      "Saving generated fusion mask to: tmp/food_sloss01/64/models/netG_300/valid/fm_34.png\n",
      "Saving generated image to: tmp/food_sloss01/64/models/netG_300/valid/img_34.png\n",
      "Saving generated fusion mask to: tmp/food_sloss01/64/models/netG_300/valid/fm_34.png\n",
      "Saving generated image to: tmp/food_sloss01/64/models/netG_300/valid/img_34.png\n",
      "Saving generated fusion mask to: tmp/food_sloss01/64/models/netG_300/valid/fm_34.png\n",
      "Saving generated image to: tmp/food_sloss01/64/models/netG_300/valid/img_34.png\n",
      "Saving generated fusion mask to: tmp/food_sloss01/64/models/netG_300/valid/fm_34.png\n",
      "Saving generated image to: tmp/food_sloss01/64/models/netG_300/valid/img_34.png\n",
      "Saving generated fusion mask to: tmp/food_sloss01/64/models/netG_300/valid/fm_34.png\n",
      "Saving generated image to: tmp/food_sloss01/64/models/netG_300/valid/img_34.png\n",
      "Saving generated fusion mask to: tmp/food_sloss01/64/models/netG_300/valid/fm_34.png\n",
      "Saving generated image to: tmp/food_sloss01/64/models/netG_300/valid/img_34.png\n",
      "Saving generated fusion mask to: tmp/food_sloss01/64/models/netG_300/valid/fm_34.png\n",
      "Saving generated image to: tmp/food_sloss01/64/models/netG_300/valid/img_34.png\n",
      "Saving generated fusion mask to: tmp/food_sloss01/64/models/netG_300/valid/fm_34.png\n",
      "Saving generated image to: tmp/food_sloss01/64/models/netG_300/valid/img_34.png\n",
      "Saving generated fusion mask to: tmp/food_sloss01/64/models/netG_300/valid/fm_34.png\n",
      "Saving generated image to: tmp/food_sloss01/64/models/netG_300/valid/img_34.png\n",
      "Saving generated fusion mask to: tmp/food_sloss01/64/models/netG_300/valid/fm_34.png\n",
      "Saving generated image to: tmp/food_sloss01/64/models/netG_300/valid/img_35.png\n",
      "Saving generated fusion mask to: tmp/food_sloss01/64/models/netG_300/valid/fm_35.png\n",
      "Saving generated image to: tmp/food_sloss01/64/models/netG_300/valid/img_35.png\n",
      "Saving generated fusion mask to: tmp/food_sloss01/64/models/netG_300/valid/fm_35.png\n",
      "Saving generated image to: tmp/food_sloss01/64/models/netG_300/valid/img_35.png\n",
      "Saving generated fusion mask to: tmp/food_sloss01/64/models/netG_300/valid/fm_35.png\n",
      "Saving generated image to: tmp/food_sloss01/64/models/netG_300/valid/img_35.png\n",
      "Saving generated fusion mask to: tmp/food_sloss01/64/models/netG_300/valid/fm_35.png\n",
      "Saving generated image to: tmp/food_sloss01/64/models/netG_300/valid/img_35.png\n",
      "Saving generated fusion mask to: tmp/food_sloss01/64/models/netG_300/valid/fm_35.png\n",
      "Saving generated image to: tmp/food_sloss01/64/models/netG_300/valid/img_35.png\n",
      "Saving generated fusion mask to: tmp/food_sloss01/64/models/netG_300/valid/fm_35.png\n",
      "Saving generated image to: tmp/food_sloss01/64/models/netG_300/valid/img_35.png\n",
      "Saving generated fusion mask to: tmp/food_sloss01/64/models/netG_300/valid/fm_35.png\n",
      "Saving generated image to: tmp/food_sloss01/64/models/netG_300/valid/img_35.png\n",
      "Saving generated fusion mask to: tmp/food_sloss01/64/models/netG_300/valid/fm_35.png\n",
      "Saving generated image to: tmp/food_sloss01/64/models/netG_300/valid/img_35.png\n",
      "Saving generated fusion mask to: tmp/food_sloss01/64/models/netG_300/valid/fm_35.png\n",
      "Saving generated image to: tmp/food_sloss01/64/models/netG_300/valid/img_35.png\n",
      "Saving generated fusion mask to: tmp/food_sloss01/64/models/netG_300/valid/fm_35.png\n",
      "Saving generated image to: tmp/food_sloss01/64/models/netG_300/valid/img_36.png\n",
      "Saving generated fusion mask to: tmp/food_sloss01/64/models/netG_300/valid/fm_36.png\n",
      "Saving generated image to: tmp/food_sloss01/64/models/netG_300/valid/img_36.png\n",
      "Saving generated fusion mask to: tmp/food_sloss01/64/models/netG_300/valid/fm_36.png\n",
      "Saving generated image to: tmp/food_sloss01/64/models/netG_300/valid/img_36.png\n",
      "Saving generated fusion mask to: tmp/food_sloss01/64/models/netG_300/valid/fm_36.png\n",
      "Saving generated image to: tmp/food_sloss01/64/models/netG_300/valid/img_36.png\n",
      "Saving generated fusion mask to: tmp/food_sloss01/64/models/netG_300/valid/fm_36.png\n",
      "Saving generated image to: tmp/food_sloss01/64/models/netG_300/valid/img_36.png\n",
      "Saving generated fusion mask to: tmp/food_sloss01/64/models/netG_300/valid/fm_36.png\n",
      "Saving generated image to: tmp/food_sloss01/64/models/netG_300/valid/img_36.png\n",
      "Saving generated fusion mask to: tmp/food_sloss01/64/models/netG_300/valid/fm_36.png\n",
      "Saving generated image to: tmp/food_sloss01/64/models/netG_300/valid/img_36.png\n",
      "Saving generated fusion mask to: tmp/food_sloss01/64/models/netG_300/valid/fm_36.png\n",
      "Saving generated image to: tmp/food_sloss01/64/models/netG_300/valid/img_36.png\n",
      "Saving generated fusion mask to: tmp/food_sloss01/64/models/netG_300/valid/fm_36.png\n",
      "Saving generated image to: tmp/food_sloss01/64/models/netG_300/valid/img_36.png\n",
      "Saving generated fusion mask to: tmp/food_sloss01/64/models/netG_300/valid/fm_36.png\n",
      "Saving generated image to: tmp/food_sloss01/64/models/netG_300/valid/img_36.png\n",
      "Saving generated fusion mask to: tmp/food_sloss01/64/models/netG_300/valid/fm_36.png\n",
      "Saving generated image to: tmp/food_sloss01/64/models/netG_300/valid/img_37.png\n",
      "Saving generated fusion mask to: tmp/food_sloss01/64/models/netG_300/valid/fm_37.png\n",
      "Saving generated image to: tmp/food_sloss01/64/models/netG_300/valid/img_37.png\n",
      "Saving generated fusion mask to: tmp/food_sloss01/64/models/netG_300/valid/fm_37.png\n",
      "Saving generated image to: tmp/food_sloss01/64/models/netG_300/valid/img_37.png\n",
      "Saving generated fusion mask to: tmp/food_sloss01/64/models/netG_300/valid/fm_37.png\n",
      "Saving generated image to: tmp/food_sloss01/64/models/netG_300/valid/img_37.png\n",
      "Saving generated fusion mask to: tmp/food_sloss01/64/models/netG_300/valid/fm_37.png\n",
      "Saving generated image to: tmp/food_sloss01/64/models/netG_300/valid/img_37.png\n",
      "Saving generated fusion mask to: tmp/food_sloss01/64/models/netG_300/valid/fm_37.png\n",
      "Saving generated image to: tmp/food_sloss01/64/models/netG_300/valid/img_37.png\n",
      "Saving generated fusion mask to: tmp/food_sloss01/64/models/netG_300/valid/fm_37.png\n",
      "Saving generated image to: tmp/food_sloss01/64/models/netG_300/valid/img_37.png\n",
      "Saving generated fusion mask to: tmp/food_sloss01/64/models/netG_300/valid/fm_37.png\n",
      "Saving generated image to: tmp/food_sloss01/64/models/netG_300/valid/img_37.png\n",
      "Saving generated fusion mask to: tmp/food_sloss01/64/models/netG_300/valid/fm_37.png\n",
      "Saving generated image to: tmp/food_sloss01/64/models/netG_300/valid/img_37.png\n",
      "Saving generated fusion mask to: tmp/food_sloss01/64/models/netG_300/valid/fm_37.png\n",
      "Saving generated image to: tmp/food_sloss01/64/models/netG_300/valid/img_37.png\n",
      "Saving generated fusion mask to: tmp/food_sloss01/64/models/netG_300/valid/fm_37.png\n",
      "Saving generated image to: tmp/food_sloss01/64/models/netG_300/valid/img_38.png\n",
      "Saving generated fusion mask to: tmp/food_sloss01/64/models/netG_300/valid/fm_38.png\n",
      "Saving generated image to: tmp/food_sloss01/64/models/netG_300/valid/img_38.png\n",
      "Saving generated fusion mask to: tmp/food_sloss01/64/models/netG_300/valid/fm_38.png\n",
      "Saving generated image to: tmp/food_sloss01/64/models/netG_300/valid/img_38.png\n",
      "Saving generated fusion mask to: tmp/food_sloss01/64/models/netG_300/valid/fm_38.png\n",
      "Saving generated image to: tmp/food_sloss01/64/models/netG_300/valid/img_38.png\n",
      "Saving generated fusion mask to: tmp/food_sloss01/64/models/netG_300/valid/fm_38.png\n",
      "Saving generated image to: tmp/food_sloss01/64/models/netG_300/valid/img_38.png\n",
      "Saving generated fusion mask to: tmp/food_sloss01/64/models/netG_300/valid/fm_38.png\n",
      "Saving generated image to: tmp/food_sloss01/64/models/netG_300/valid/img_38.png\n",
      "Saving generated fusion mask to: tmp/food_sloss01/64/models/netG_300/valid/fm_38.png\n",
      "Saving generated image to: tmp/food_sloss01/64/models/netG_300/valid/img_38.png\n",
      "Saving generated fusion mask to: tmp/food_sloss01/64/models/netG_300/valid/fm_38.png\n",
      "Saving generated image to: tmp/food_sloss01/64/models/netG_300/valid/img_38.png\n",
      "Saving generated fusion mask to: tmp/food_sloss01/64/models/netG_300/valid/fm_38.png\n",
      "Saving generated image to: tmp/food_sloss01/64/models/netG_300/valid/img_38.png\n",
      "Saving generated fusion mask to: tmp/food_sloss01/64/models/netG_300/valid/fm_38.png\n",
      "Saving generated image to: tmp/food_sloss01/64/models/netG_300/valid/img_38.png\n",
      "Saving generated fusion mask to: tmp/food_sloss01/64/models/netG_300/valid/fm_38.png\n",
      "Saving generated image to: tmp/food_sloss01/64/models/netG_300/valid/img_39.png\n",
      "Saving generated fusion mask to: tmp/food_sloss01/64/models/netG_300/valid/fm_39.png\n",
      "Saving generated image to: tmp/food_sloss01/64/models/netG_300/valid/img_39.png\n",
      "Saving generated fusion mask to: tmp/food_sloss01/64/models/netG_300/valid/fm_39.png\n",
      "Saving generated image to: tmp/food_sloss01/64/models/netG_300/valid/img_39.png\n",
      "Saving generated fusion mask to: tmp/food_sloss01/64/models/netG_300/valid/fm_39.png\n",
      "Saving generated image to: tmp/food_sloss01/64/models/netG_300/valid/img_39.png\n",
      "Saving generated fusion mask to: tmp/food_sloss01/64/models/netG_300/valid/fm_39.png\n",
      "Saving generated image to: tmp/food_sloss01/64/models/netG_300/valid/img_39.png\n",
      "Saving generated fusion mask to: tmp/food_sloss01/64/models/netG_300/valid/fm_39.png\n",
      "Saving generated image to: tmp/food_sloss01/64/models/netG_300/valid/img_39.png\n",
      "Saving generated fusion mask to: tmp/food_sloss01/64/models/netG_300/valid/fm_39.png\n",
      "Saving generated image to: tmp/food_sloss01/64/models/netG_300/valid/img_39.png\n",
      "Saving generated fusion mask to: tmp/food_sloss01/64/models/netG_300/valid/fm_39.png\n",
      "Saving generated image to: tmp/food_sloss01/64/models/netG_300/valid/img_39.png\n",
      "Saving generated fusion mask to: tmp/food_sloss01/64/models/netG_300/valid/fm_39.png\n",
      "Saving generated image to: tmp/food_sloss01/64/models/netG_300/valid/img_39.png\n",
      "Saving generated fusion mask to: tmp/food_sloss01/64/models/netG_300/valid/fm_39.png\n",
      "Saving generated image to: tmp/food_sloss01/64/models/netG_300/valid/img_39.png\n",
      "Saving generated fusion mask to: tmp/food_sloss01/64/models/netG_300/valid/fm_39.png\n",
      "Saving generated image to: tmp/food_sloss01/64/models/netG_300/valid/img_40.png\n",
      "Saving generated fusion mask to: tmp/food_sloss01/64/models/netG_300/valid/fm_40.png\n",
      "Saving generated image to: tmp/food_sloss01/64/models/netG_300/valid/img_40.png\n",
      "Saving generated fusion mask to: tmp/food_sloss01/64/models/netG_300/valid/fm_40.png\n",
      "Saving generated image to: tmp/food_sloss01/64/models/netG_300/valid/img_40.png\n",
      "Saving generated fusion mask to: tmp/food_sloss01/64/models/netG_300/valid/fm_40.png\n",
      "Saving generated image to: tmp/food_sloss01/64/models/netG_300/valid/img_40.png\n",
      "Saving generated fusion mask to: tmp/food_sloss01/64/models/netG_300/valid/fm_40.png\n",
      "Saving generated image to: tmp/food_sloss01/64/models/netG_300/valid/img_40.png\n",
      "Saving generated fusion mask to: tmp/food_sloss01/64/models/netG_300/valid/fm_40.png\n",
      "Saving generated image to: tmp/food_sloss01/64/models/netG_300/valid/img_40.png\n",
      "Saving generated fusion mask to: tmp/food_sloss01/64/models/netG_300/valid/fm_40.png\n",
      "Saving generated image to: tmp/food_sloss01/64/models/netG_300/valid/img_40.png\n",
      "Saving generated fusion mask to: tmp/food_sloss01/64/models/netG_300/valid/fm_40.png\n",
      "Saving generated image to: tmp/food_sloss01/64/models/netG_300/valid/img_40.png\n",
      "Saving generated fusion mask to: tmp/food_sloss01/64/models/netG_300/valid/fm_40.png\n",
      "Saving generated image to: tmp/food_sloss01/64/models/netG_300/valid/img_40.png\n",
      "Saving generated fusion mask to: tmp/food_sloss01/64/models/netG_300/valid/fm_40.png\n",
      "Saving generated image to: tmp/food_sloss01/64/models/netG_300/valid/img_40.png\n",
      "Saving generated fusion mask to: tmp/food_sloss01/64/models/netG_300/valid/fm_40.png\n",
      "Saving generated image to: tmp/food_sloss01/64/models/netG_300/valid/img_41.png\n",
      "Saving generated fusion mask to: tmp/food_sloss01/64/models/netG_300/valid/fm_41.png\n",
      "Saving generated image to: tmp/food_sloss01/64/models/netG_300/valid/img_41.png\n",
      "Saving generated fusion mask to: tmp/food_sloss01/64/models/netG_300/valid/fm_41.png\n",
      "Saving generated image to: tmp/food_sloss01/64/models/netG_300/valid/img_41.png\n",
      "Saving generated fusion mask to: tmp/food_sloss01/64/models/netG_300/valid/fm_41.png\n",
      "Saving generated image to: tmp/food_sloss01/64/models/netG_300/valid/img_41.png\n",
      "Saving generated fusion mask to: tmp/food_sloss01/64/models/netG_300/valid/fm_41.png\n",
      "Saving generated image to: tmp/food_sloss01/64/models/netG_300/valid/img_41.png\n",
      "Saving generated fusion mask to: tmp/food_sloss01/64/models/netG_300/valid/fm_41.png\n",
      "Saving generated image to: tmp/food_sloss01/64/models/netG_300/valid/img_41.png\n",
      "Saving generated fusion mask to: tmp/food_sloss01/64/models/netG_300/valid/fm_41.png\n",
      "Saving generated image to: tmp/food_sloss01/64/models/netG_300/valid/img_41.png\n",
      "Saving generated fusion mask to: tmp/food_sloss01/64/models/netG_300/valid/fm_41.png\n",
      "Saving generated image to: tmp/food_sloss01/64/models/netG_300/valid/img_41.png\n",
      "Saving generated fusion mask to: tmp/food_sloss01/64/models/netG_300/valid/fm_41.png\n",
      "Saving generated image to: tmp/food_sloss01/64/models/netG_300/valid/img_41.png\n",
      "Saving generated fusion mask to: tmp/food_sloss01/64/models/netG_300/valid/fm_41.png\n",
      "Saving generated image to: tmp/food_sloss01/64/models/netG_300/valid/img_41.png\n",
      "Saving generated fusion mask to: tmp/food_sloss01/64/models/netG_300/valid/fm_41.png\n",
      "Saving generated image to: tmp/food_sloss01/64/models/netG_300/valid/img_42.png\n",
      "Saving generated fusion mask to: tmp/food_sloss01/64/models/netG_300/valid/fm_42.png\n",
      "Saving generated image to: tmp/food_sloss01/64/models/netG_300/valid/img_42.png\n",
      "Saving generated fusion mask to: tmp/food_sloss01/64/models/netG_300/valid/fm_42.png\n",
      "Saving generated image to: tmp/food_sloss01/64/models/netG_300/valid/img_42.png\n",
      "Saving generated fusion mask to: tmp/food_sloss01/64/models/netG_300/valid/fm_42.png\n",
      "Saving generated image to: tmp/food_sloss01/64/models/netG_300/valid/img_42.png\n",
      "Saving generated fusion mask to: tmp/food_sloss01/64/models/netG_300/valid/fm_42.png\n",
      "Saving generated image to: tmp/food_sloss01/64/models/netG_300/valid/img_42.png\n",
      "Saving generated fusion mask to: tmp/food_sloss01/64/models/netG_300/valid/fm_42.png\n",
      "Saving generated image to: tmp/food_sloss01/64/models/netG_300/valid/img_42.png\n",
      "Saving generated fusion mask to: tmp/food_sloss01/64/models/netG_300/valid/fm_42.png\n",
      "Saving generated image to: tmp/food_sloss01/64/models/netG_300/valid/img_42.png\n",
      "Saving generated fusion mask to: tmp/food_sloss01/64/models/netG_300/valid/fm_42.png\n",
      "Saving generated image to: tmp/food_sloss01/64/models/netG_300/valid/img_42.png\n",
      "Saving generated fusion mask to: tmp/food_sloss01/64/models/netG_300/valid/fm_42.png\n",
      "Saving generated image to: tmp/food_sloss01/64/models/netG_300/valid/img_42.png\n",
      "Saving generated fusion mask to: tmp/food_sloss01/64/models/netG_300/valid/fm_42.png\n",
      "Saving generated image to: tmp/food_sloss01/64/models/netG_300/valid/img_42.png\n",
      "Saving generated fusion mask to: tmp/food_sloss01/64/models/netG_300/valid/fm_42.png\n",
      "Saving generated image to: tmp/food_sloss01/64/models/netG_300/valid/img_43.png\n",
      "Saving generated fusion mask to: tmp/food_sloss01/64/models/netG_300/valid/fm_43.png\n",
      "Saving generated image to: tmp/food_sloss01/64/models/netG_300/valid/img_43.png\n",
      "Saving generated fusion mask to: tmp/food_sloss01/64/models/netG_300/valid/fm_43.png\n",
      "Saving generated image to: tmp/food_sloss01/64/models/netG_300/valid/img_43.png\n",
      "Saving generated fusion mask to: tmp/food_sloss01/64/models/netG_300/valid/fm_43.png\n",
      "Saving generated image to: tmp/food_sloss01/64/models/netG_300/valid/img_43.png\n",
      "Saving generated fusion mask to: tmp/food_sloss01/64/models/netG_300/valid/fm_43.png\n",
      "Saving generated image to: tmp/food_sloss01/64/models/netG_300/valid/img_43.png\n",
      "Saving generated fusion mask to: tmp/food_sloss01/64/models/netG_300/valid/fm_43.png\n",
      "Saving generated image to: tmp/food_sloss01/64/models/netG_300/valid/img_43.png\n",
      "Saving generated fusion mask to: tmp/food_sloss01/64/models/netG_300/valid/fm_43.png\n",
      "Saving generated image to: tmp/food_sloss01/64/models/netG_300/valid/img_43.png\n",
      "Saving generated fusion mask to: tmp/food_sloss01/64/models/netG_300/valid/fm_43.png\n",
      "Saving generated image to: tmp/food_sloss01/64/models/netG_300/valid/img_43.png\n",
      "Saving generated fusion mask to: tmp/food_sloss01/64/models/netG_300/valid/fm_43.png\n",
      "Saving generated image to: tmp/food_sloss01/64/models/netG_300/valid/img_43.png\n",
      "Saving generated fusion mask to: tmp/food_sloss01/64/models/netG_300/valid/fm_43.png\n",
      "Saving generated image to: tmp/food_sloss01/64/models/netG_300/valid/img_43.png\n",
      "Saving generated fusion mask to: tmp/food_sloss01/64/models/netG_300/valid/fm_43.png\n",
      "Saving generated image to: tmp/food_sloss01/64/models/netG_300/valid/img_44.png\n",
      "Saving generated fusion mask to: tmp/food_sloss01/64/models/netG_300/valid/fm_44.png\n",
      "Saving generated image to: tmp/food_sloss01/64/models/netG_300/valid/img_44.png\n",
      "Saving generated fusion mask to: tmp/food_sloss01/64/models/netG_300/valid/fm_44.png\n",
      "Saving generated image to: tmp/food_sloss01/64/models/netG_300/valid/img_44.png\n",
      "Saving generated fusion mask to: tmp/food_sloss01/64/models/netG_300/valid/fm_44.png\n",
      "Saving generated image to: tmp/food_sloss01/64/models/netG_300/valid/img_44.png\n",
      "Saving generated fusion mask to: tmp/food_sloss01/64/models/netG_300/valid/fm_44.png\n",
      "Saving generated image to: tmp/food_sloss01/64/models/netG_300/valid/img_44.png\n",
      "Saving generated fusion mask to: tmp/food_sloss01/64/models/netG_300/valid/fm_44.png\n",
      "Saving generated image to: tmp/food_sloss01/64/models/netG_300/valid/img_44.png\n",
      "Saving generated fusion mask to: tmp/food_sloss01/64/models/netG_300/valid/fm_44.png\n",
      "Saving generated image to: tmp/food_sloss01/64/models/netG_300/valid/img_44.png\n",
      "Saving generated fusion mask to: tmp/food_sloss01/64/models/netG_300/valid/fm_44.png\n",
      "Saving generated image to: tmp/food_sloss01/64/models/netG_300/valid/img_44.png\n",
      "Saving generated fusion mask to: tmp/food_sloss01/64/models/netG_300/valid/fm_44.png\n",
      "Saving generated image to: tmp/food_sloss01/64/models/netG_300/valid/img_44.png\n",
      "Saving generated fusion mask to: tmp/food_sloss01/64/models/netG_300/valid/fm_44.png\n",
      "Saving generated image to: tmp/food_sloss01/64/models/netG_300/valid/img_44.png\n",
      "Saving generated fusion mask to: tmp/food_sloss01/64/models/netG_300/valid/fm_44.png\n",
      "Saving generated image to: tmp/food_sloss01/64/models/netG_300/valid/img_45.png\n",
      "Saving generated fusion mask to: tmp/food_sloss01/64/models/netG_300/valid/fm_45.png\n",
      "Saving generated image to: tmp/food_sloss01/64/models/netG_300/valid/img_45.png\n",
      "Saving generated fusion mask to: tmp/food_sloss01/64/models/netG_300/valid/fm_45.png\n",
      "Saving generated image to: tmp/food_sloss01/64/models/netG_300/valid/img_45.png\n",
      "Saving generated fusion mask to: tmp/food_sloss01/64/models/netG_300/valid/fm_45.png\n",
      "Saving generated image to: tmp/food_sloss01/64/models/netG_300/valid/img_45.png\n",
      "Saving generated fusion mask to: tmp/food_sloss01/64/models/netG_300/valid/fm_45.png\n",
      "Saving generated image to: tmp/food_sloss01/64/models/netG_300/valid/img_45.png\n",
      "Saving generated fusion mask to: tmp/food_sloss01/64/models/netG_300/valid/fm_45.png\n",
      "Saving generated image to: tmp/food_sloss01/64/models/netG_300/valid/img_45.png\n",
      "Saving generated fusion mask to: tmp/food_sloss01/64/models/netG_300/valid/fm_45.png\n",
      "Saving generated image to: tmp/food_sloss01/64/models/netG_300/valid/img_45.png\n",
      "Saving generated fusion mask to: tmp/food_sloss01/64/models/netG_300/valid/fm_45.png\n",
      "Saving generated image to: tmp/food_sloss01/64/models/netG_300/valid/img_45.png\n",
      "Saving generated fusion mask to: tmp/food_sloss01/64/models/netG_300/valid/fm_45.png\n",
      "Saving generated image to: tmp/food_sloss01/64/models/netG_300/valid/img_45.png\n",
      "Saving generated fusion mask to: tmp/food_sloss01/64/models/netG_300/valid/fm_45.png\n",
      "Saving generated image to: tmp/food_sloss01/64/models/netG_300/valid/img_45.png\n",
      "Saving generated fusion mask to: tmp/food_sloss01/64/models/netG_300/valid/fm_45.png\n",
      "Saving generated image to: tmp/food_sloss01/64/models/netG_300/valid/img_46.png\n",
      "Saving generated fusion mask to: tmp/food_sloss01/64/models/netG_300/valid/fm_46.png\n",
      "Saving generated image to: tmp/food_sloss01/64/models/netG_300/valid/img_46.png\n",
      "Saving generated fusion mask to: tmp/food_sloss01/64/models/netG_300/valid/fm_46.png\n",
      "Saving generated image to: tmp/food_sloss01/64/models/netG_300/valid/img_46.png\n",
      "Saving generated fusion mask to: tmp/food_sloss01/64/models/netG_300/valid/fm_46.png\n",
      "Saving generated image to: tmp/food_sloss01/64/models/netG_300/valid/img_46.png\n",
      "Saving generated fusion mask to: tmp/food_sloss01/64/models/netG_300/valid/fm_46.png\n",
      "Saving generated image to: tmp/food_sloss01/64/models/netG_300/valid/img_46.png\n",
      "Saving generated fusion mask to: tmp/food_sloss01/64/models/netG_300/valid/fm_46.png\n",
      "Saving generated image to: tmp/food_sloss01/64/models/netG_300/valid/img_46.png\n",
      "Saving generated fusion mask to: tmp/food_sloss01/64/models/netG_300/valid/fm_46.png\n",
      "Saving generated image to: tmp/food_sloss01/64/models/netG_300/valid/img_46.png\n",
      "Saving generated fusion mask to: tmp/food_sloss01/64/models/netG_300/valid/fm_46.png\n",
      "Saving generated image to: tmp/food_sloss01/64/models/netG_300/valid/img_46.png\n",
      "Saving generated fusion mask to: tmp/food_sloss01/64/models/netG_300/valid/fm_46.png\n",
      "Saving generated image to: tmp/food_sloss01/64/models/netG_300/valid/img_46.png\n",
      "Saving generated fusion mask to: tmp/food_sloss01/64/models/netG_300/valid/fm_46.png\n",
      "Saving generated image to: tmp/food_sloss01/64/models/netG_300/valid/img_46.png\n",
      "Saving generated fusion mask to: tmp/food_sloss01/64/models/netG_300/valid/fm_46.png\n",
      "Saving generated image to: tmp/food_sloss01/64/models/netG_300/valid/img_47.png\n",
      "Saving generated fusion mask to: tmp/food_sloss01/64/models/netG_300/valid/fm_47.png\n",
      "Saving generated image to: tmp/food_sloss01/64/models/netG_300/valid/img_47.png\n",
      "Saving generated fusion mask to: tmp/food_sloss01/64/models/netG_300/valid/fm_47.png\n",
      "Saving generated image to: tmp/food_sloss01/64/models/netG_300/valid/img_47.png\n",
      "Saving generated fusion mask to: tmp/food_sloss01/64/models/netG_300/valid/fm_47.png\n",
      "Saving generated image to: tmp/food_sloss01/64/models/netG_300/valid/img_47.png\n",
      "Saving generated fusion mask to: tmp/food_sloss01/64/models/netG_300/valid/fm_47.png\n",
      "Saving generated image to: tmp/food_sloss01/64/models/netG_300/valid/img_47.png\n",
      "Saving generated fusion mask to: tmp/food_sloss01/64/models/netG_300/valid/fm_47.png\n",
      "Saving generated image to: tmp/food_sloss01/64/models/netG_300/valid/img_47.png\n",
      "Saving generated fusion mask to: tmp/food_sloss01/64/models/netG_300/valid/fm_47.png\n",
      "Saving generated image to: tmp/food_sloss01/64/models/netG_300/valid/img_47.png\n",
      "Saving generated fusion mask to: tmp/food_sloss01/64/models/netG_300/valid/fm_47.png\n",
      "Saving generated image to: tmp/food_sloss01/64/models/netG_300/valid/img_47.png\n",
      "Saving generated fusion mask to: tmp/food_sloss01/64/models/netG_300/valid/fm_47.png\n",
      "Saving generated image to: tmp/food_sloss01/64/models/netG_300/valid/img_47.png\n",
      "Saving generated fusion mask to: tmp/food_sloss01/64/models/netG_300/valid/fm_47.png\n",
      "Saving generated image to: tmp/food_sloss01/64/models/netG_300/valid/img_47.png\n",
      "Saving generated fusion mask to: tmp/food_sloss01/64/models/netG_300/valid/fm_47.png\n",
      "Saving generated image to: tmp/food_sloss01/64/models/netG_300/valid/img_48.png\n",
      "Saving generated fusion mask to: tmp/food_sloss01/64/models/netG_300/valid/fm_48.png\n",
      "Saving generated image to: tmp/food_sloss01/64/models/netG_300/valid/img_48.png\n",
      "Saving generated fusion mask to: tmp/food_sloss01/64/models/netG_300/valid/fm_48.png\n",
      "Saving generated image to: tmp/food_sloss01/64/models/netG_300/valid/img_48.png\n",
      "Saving generated fusion mask to: tmp/food_sloss01/64/models/netG_300/valid/fm_48.png\n",
      "Saving generated image to: tmp/food_sloss01/64/models/netG_300/valid/img_48.png\n",
      "Saving generated fusion mask to: tmp/food_sloss01/64/models/netG_300/valid/fm_48.png\n",
      "Saving generated image to: tmp/food_sloss01/64/models/netG_300/valid/img_48.png\n",
      "Saving generated fusion mask to: tmp/food_sloss01/64/models/netG_300/valid/fm_48.png\n",
      "Saving generated image to: tmp/food_sloss01/64/models/netG_300/valid/img_48.png\n",
      "Saving generated fusion mask to: tmp/food_sloss01/64/models/netG_300/valid/fm_48.png\n",
      "Saving generated image to: tmp/food_sloss01/64/models/netG_300/valid/img_48.png\n",
      "Saving generated fusion mask to: tmp/food_sloss01/64/models/netG_300/valid/fm_48.png\n",
      "Saving generated image to: tmp/food_sloss01/64/models/netG_300/valid/img_48.png\n",
      "Saving generated fusion mask to: tmp/food_sloss01/64/models/netG_300/valid/fm_48.png\n",
      "Saving generated image to: tmp/food_sloss01/64/models/netG_300/valid/img_48.png\n",
      "Saving generated fusion mask to: tmp/food_sloss01/64/models/netG_300/valid/fm_48.png\n",
      "Saving generated image to: tmp/food_sloss01/64/models/netG_300/valid/img_48.png\n",
      "Saving generated fusion mask to: tmp/food_sloss01/64/models/netG_300/valid/fm_48.png\n",
      "Saving generated image to: tmp/food_sloss01/64/models/netG_300/valid/img_49.png\n",
      "Saving generated fusion mask to: tmp/food_sloss01/64/models/netG_300/valid/fm_49.png\n",
      "Saving generated image to: tmp/food_sloss01/64/models/netG_300/valid/img_49.png\n",
      "Saving generated fusion mask to: tmp/food_sloss01/64/models/netG_300/valid/fm_49.png\n",
      "Saving generated image to: tmp/food_sloss01/64/models/netG_300/valid/img_49.png\n",
      "Saving generated fusion mask to: tmp/food_sloss01/64/models/netG_300/valid/fm_49.png\n",
      "Saving generated image to: tmp/food_sloss01/64/models/netG_300/valid/img_49.png\n",
      "Saving generated fusion mask to: tmp/food_sloss01/64/models/netG_300/valid/fm_49.png\n",
      "Saving generated image to: tmp/food_sloss01/64/models/netG_300/valid/img_49.png\n",
      "Saving generated fusion mask to: tmp/food_sloss01/64/models/netG_300/valid/fm_49.png\n",
      "Saving generated image to: tmp/food_sloss01/64/models/netG_300/valid/img_49.png\n",
      "Saving generated fusion mask to: tmp/food_sloss01/64/models/netG_300/valid/fm_49.png\n",
      "Saving generated image to: tmp/food_sloss01/64/models/netG_300/valid/img_49.png\n",
      "Saving generated fusion mask to: tmp/food_sloss01/64/models/netG_300/valid/fm_49.png\n",
      "Saving generated image to: tmp/food_sloss01/64/models/netG_300/valid/img_49.png\n",
      "Saving generated fusion mask to: tmp/food_sloss01/64/models/netG_300/valid/fm_49.png\n",
      "Saving generated image to: tmp/food_sloss01/64/models/netG_300/valid/img_49.png\n",
      "Saving generated fusion mask to: tmp/food_sloss01/64/models/netG_300/valid/fm_49.png\n",
      "Saving generated image to: tmp/food_sloss01/64/models/netG_300/valid/img_49.png\n",
      "Saving generated fusion mask to: tmp/food_sloss01/64/models/netG_300/valid/fm_49.png\n"
     ]
    }
   ],
   "source": [
    "main.gen_sample(text_encoder, netG, device, wordtoix)"
   ]
  },
  {
   "cell_type": "markdown",
   "metadata": {},
   "source": [
    "#### Analysis of Generated Images from CUB dataset\n",
    "I generated some images from the fully pretrained model as well a model I ran for only 6 epochs.\n",
    "The images from the fully pretrained model looked great, and the one I ran for only 6 epochs looked like a bird image but swirled. "
   ]
  },
  {
   "cell_type": "markdown",
   "metadata": {},
   "source": [
    "### B. Generate Images from Own Dataset \n",
    "To do this, I will need to make my own foods dataset's structure match that of the CUB dataset. I will also need to make my own \"Preprocessed metadata\" since that is used by the SSAGAN. "
   ]
  },
  {
   "cell_type": "markdown",
   "metadata": {},
   "source": [
    "#### i. Investigate the contents of the metadata from the SSAGAN google drive that I put in the CUB dataset."
   ]
  },
  {
   "cell_type": "code",
   "execution_count": 6,
   "metadata": {},
   "outputs": [
    {
     "name": "stdout",
     "output_type": "stream",
     "text": [
      "Notice how the train and test class info is never the same at the same position,      this is how the sets are split.\n",
      "[2, 2, 2, 2, 2, 2, 2, 2, 2, 2]\n",
      "[1, 1, 1, 1, 1, 1, 1, 1, 1, 1]\n",
      "['002.Laysan_Albatross/Laysan_Albatross_0002_1027', '002.Laysan_Albatross/Laysan_Albatross_0003_1033', '002.Laysan_Albatross/Laysan_Albatross_0082_524', '002.Laysan_Albatross/Laysan_Albatross_0044_784', '002.Laysan_Albatross/Laysan_Albatross_0070_788', '002.Laysan_Albatross/Laysan_Albatross_0050_870', '002.Laysan_Albatross/Laysan_Albatross_0071_792', '002.Laysan_Albatross/Laysan_Albatross_0053_543', '002.Laysan_Albatross/Laysan_Albatross_0081_800', '002.Laysan_Albatross/Laysan_Albatross_0001_545']\n",
      "['001.Black_footed_Albatross/Black_Footed_Albatross_0046_18', '001.Black_footed_Albatross/Black_Footed_Albatross_0009_34', '001.Black_footed_Albatross/Black_Footed_Albatross_0002_55', '001.Black_footed_Albatross/Black_Footed_Albatross_0074_59', '001.Black_footed_Albatross/Black_Footed_Albatross_0014_89', '001.Black_footed_Albatross/Black_Footed_Albatross_0085_92', '001.Black_footed_Albatross/Black_Footed_Albatross_0031_100', '001.Black_footed_Albatross/Black_Footed_Albatross_0051_796103', '001.Black_footed_Albatross/Black_Footed_Albatross_0010_796097', '001.Black_footed_Albatross/Black_Footed_Albatross_0025_796057']\n",
      "I should be able to copy this format for my own foods dataset.\n"
     ]
    }
   ],
   "source": [
    "import pickle\n",
    "import os\n",
    "import pprint\n",
    "import numpy as np\n",
    "\n",
    "cub_path = \"C:/Users/Alder/Desktop/school/cs472/cs472_hw1/CUB_200_2011/\"\n",
    "\n",
    "\n",
    "train_class_info_path = os.path.join(cub_path, \"train/class_info.pickle\")\n",
    "test_class_info_path = os.path.join(cub_path, \"test/class_info.pickle\")\n",
    "train_class_info = pickle.load(\n",
    "   open(train_class_info_path, \"rb\"), encoding='latin1')\n",
    "test_class_info = pickle.load(\n",
    "   open(test_class_info_path, \"rb\"), encoding='latin1')\n",
    "\n",
    "train_filenames_path = os.path.join(cub_path, \"train/filenames.pickle\")\n",
    "test_filenames_path = os.path.join(cub_path, \"test/filenames.pickle\")\n",
    "train_filenames = pickle.load(\n",
    "   open(train_filenames_path, \"rb\"), encoding='latin1')\n",
    "test_filenames = pickle.load(\n",
    "   open(test_filenames_path, \"rb\"), encoding='latin1')\n",
    "\n",
    "#captions = pickle.load( # captions is too large too load and print\n",
    " #  open(\"./birds/captions.pickle\", \"rb\"), encoding='latin1')\n",
    "\n",
    "\n",
    "print(\"Notice how the train and test class info is never the same at the same position,\\\n",
    "      this is how the sets are split.\")\n",
    "      \n",
    "print(train_class_info[0:10])\n",
    "print(test_class_info[0:10])\n",
    "\n",
    "print(train_filenames[0:10])\n",
    "print(test_filenames[0:10])\n",
    "\n",
    "print(\"I should be able to copy this format for my own foods dataset.\")\n"
   ]
  },
  {
   "cell_type": "markdown",
   "metadata": {},
   "source": [
    "#### SSAGAN CUB metadata analysis\n",
    "Given index \"i\" looks like the \"class_info.pickle\" files contains a list of ints whose \"i\"th positions are the class ints for the \"i\"th filenames listed in \"filenames.pickle\". Notice both of these pickle files contained pickled python lists, so my goal is to create pickled python lists of my file names and their repective class ints. \n",
    "\n",
    "**ALSO**: I inspected the code in \"datasets.py\" and \"main.py\", and it looks like the \"captions.pickle\" file is created from the class_info and filenames pickle files, as well as the 10 captions per image found in \"/text/\". So I will also need to make a folder of folders of image captions for each of my images."
   ]
  },
  {
   "cell_type": "markdown",
   "metadata": {},
   "source": [
    "#### ii. Create Metadata for own dataset"
   ]
  },
  {
   "cell_type": "markdown",
   "metadata": {},
   "source": [
    "First, make the test/ and train/ filenames and class_info pickle files."
   ]
  },
  {
   "cell_type": "code",
   "execution_count": 7,
   "metadata": {},
   "outputs": [],
   "source": [
    "import os\n",
    "# Copied and pasted this from:\n",
    "# https://stackoverflow.com/questions/19932130/iterate-through-folders-then-subfolders-and-print-filenames-with-path-to-text-f\n",
    "def list_files(dir):\n",
    "    filenames = []\n",
    "    class_info = []\n",
    "    class_index = -1 # was -1, but maybe I'm off by one?\n",
    "    for root, dirs, files in os.walk(dir):\n",
    "        class_index += 1\n",
    "        for name in files:\n",
    "            if \".jpg\" in name:\n",
    "            #r.append(os.path.join(root, name))\n",
    "                filenames.append(root + \"/\" + name)\n",
    "                class_info.append(class_index)\n",
    "    return filenames, class_info"
   ]
  },
  {
   "cell_type": "code",
   "execution_count": 8,
   "metadata": {},
   "outputs": [
    {
     "name": "stdout",
     "output_type": "stream",
     "text": [
      "['C:/Users/Alder/Desktop/HungryAI/cs472_proj/scraped_data/gpt_single_foods/001.Beans/Beans 0.jpg', 'C:/Users/Alder/Desktop/HungryAI/cs472_proj/scraped_data/gpt_single_foods/001.Beans/Beans 1.jpg', 'C:/Users/Alder/Desktop/HungryAI/cs472_proj/scraped_data/gpt_single_foods/001.Beans/Beans 10.jpg', 'C:/Users/Alder/Desktop/HungryAI/cs472_proj/scraped_data/gpt_single_foods/001.Beans/Beans 11.jpg', 'C:/Users/Alder/Desktop/HungryAI/cs472_proj/scraped_data/gpt_single_foods/001.Beans/Beans 12.jpg']\n",
      "[1, 1, 1, 1, 1]\n",
      "C:/Users/Alder/Desktop/HungryAI/cs472_proj/scraped_data/gpt_single_foods/003.Chicken/Chicken 0.jpg\n",
      "3\n",
      "C:/Users/Alder/Desktop/HungryAI/cs472_proj/scraped_data/gpt_single_foods/021.Waffles/Waffles 99.jpg\n",
      "21\n"
     ]
    }
   ],
   "source": [
    "path_to_food_data = \"C:/Users/Alder/Desktop/HungryAI/cs472_proj/scraped_data/gpt_single_foods/\"\n",
    "filenames, class_info = list_files(path_to_food_data)\n",
    "print(filenames[0:5])\n",
    "print(class_info[0:5])\n",
    "print(filenames[200])\n",
    "print(class_info[200])\n",
    "print(filenames[-1])\n",
    "print(class_info[-1])\n",
    "\n"
   ]
  },
  {
   "cell_type": "markdown",
   "metadata": {},
   "source": [
    "It looks like I have a class_info and filenames set, now I need to split them into their train and test counterparts. I will use 1/5 of the photos for testing, and the rest for training. \n",
    "\n",
    "**ACTUALLY** After further inspection, it looks like the train/test sets are divided by classes. I.e. bird species that are in the test set are never in the train set and vice versa. This makes sense because when the GAN is tested, it is supposed to be tested on how well it generates images of the birds that its never \"seen\" (been trained for) before based off their captions. HOWEVER, I want to use ALL of the images I have to train the GAN, and I don't really care about testing it because I want to see how well it can produce images of the combo foods based off their descriptions. \n",
    "\n",
    "So if I want to make a \"real\" test set at some point, I should use the \"combo food\" images, but at this point I don't really care about that, so I will simply use the same \"filenames\" and \"class_info\" data for both the train and test folders. "
   ]
  },
  {
   "cell_type": "code",
   "execution_count": 9,
   "metadata": {},
   "outputs": [],
   "source": [
    "# ITS PICKLIN TIME!!!\n",
    "# Create the \"class_info\" and \"filenames\" pickle files in \"train/\" and \"test/\" \n",
    "# directories of my single foods dataset\n",
    "path_to_food_folder = \"C:/Users/Alder/Desktop/HungryAI/cs472_proj/scraped_data/\"\n",
    "train_path = path_to_food_folder + \"train/\"\n",
    "test_path = path_to_food_folder + \"test/\"\n",
    "train_filenames_path = train_path + \"filenames.pickle\"\n",
    "train_class_info_path = train_path + \"class_info.pickle\"\n",
    "test_filenames_path = test_path + \"filenames.pickle\"\n",
    "test_class_info_path = test_path + \"class_info.pickle\"\n",
    "\n",
    "\n",
    "with open(train_filenames_path, 'wb') as f:\n",
    "                pickle.dump(filenames, f, protocol=0)\n",
    "\n",
    "with open(train_class_info_path, 'wb') as f:\n",
    "                pickle.dump(class_info, f, protocol=0)\n",
    "\n",
    "\n",
    "\n",
    "with open(test_filenames_path, 'wb') as f:\n",
    "                pickle.dump(filenames, f, protocol=0)\n",
    "\n",
    "with open(test_class_info_path, 'wb') as f:\n",
    "                pickle.dump(class_info, f, protocol=0)\n"
   ]
  },
  {
   "cell_type": "markdown",
   "metadata": {},
   "source": [
    "Second, make a \"text/\" folder of folders with 10 captions per image for your dataset"
   ]
  },
  {
   "cell_type": "markdown",
   "metadata": {},
   "source": [
    "To do this, I copy and paste all the food descriptions into one massive text file. There should be one caption per line, with exactly 25 captions per class. I can iterate through this list, and randomly select 10 captions from the set of 25, and writes the 10 captions to a .txt file with the same file name as an image, in a directory structure that mimics the CUB images directory's."
   ]
  },
  {
   "cell_type": "code",
   "execution_count": 14,
   "metadata": {},
   "outputs": [
    {
     "name": "stdout",
     "output_type": "stream",
     "text": [
      "C:/Users/Alder/Desktop/HungryAI/cs472_proj/scraped_data/gpt_single_foods/001.Beans/Beans 0.\n",
      "['C:/Users/Alder/Desktop/HungryAI/cs472_proj/scraped_data/gpt_single_foods/001.Beans/Beans 0.txt', 'C:/Users/Alder/Desktop/HungryAI/cs472_proj/scraped_data/gpt_single_foods/001.Beans/Beans 1.txt', 'C:/Users/Alder/Desktop/HungryAI/cs472_proj/scraped_data/gpt_single_foods/001.Beans/Beans 10.txt', 'C:/Users/Alder/Desktop/HungryAI/cs472_proj/scraped_data/gpt_single_foods/001.Beans/Beans 11.txt', 'C:/Users/Alder/Desktop/HungryAI/cs472_proj/scraped_data/gpt_single_foods/001.Beans/Beans 12.txt']\n",
      "The length of the captions array is: 525 \n",
      "The text folder with the .txt captions file for each image should be ready...\n"
     ]
    }
   ],
   "source": [
    "# NOTE: I don't see why I can't put the .txt files in the same directory as\n",
    "# the image files. I will probably have to change something in main.py down the road,\n",
    "# but I think that will be easier than trying to drastically change each .txt filename here\n",
    "test_txt_filename = filenames[0][:-3]\n",
    "print(test_txt_filename)\n",
    "txt_filenames = []\n",
    "for name in filenames:\n",
    "    txt_filename = name[:-3] + \"txt\"\n",
    "    txt_filenames.append(txt_filename)\n",
    "print(txt_filenames[0:5])\n",
    "\n",
    "captions_file_path = \"C:/Users/Alder/Desktop/HungryAI/cs472_proj/scraped_data/single_food_captions.txt\"\n",
    "captions_file = open(captions_file_path, \"r\") # .txt file with all the captions (25 per class)\n",
    "captions = []\n",
    "for line in captions_file:\n",
    "    line = line.strip(\" .-,\")\n",
    "    captions.append(line.lower())\n",
    "captions_file.close()\n",
    "print(f\"The length of the captions array is: {len(captions)} \")\n",
    "\n",
    "random_cap_indices = [] # this will help us randomly select 10 of our 25 captions\n",
    "# for each txt file so it has shape (len(filenames), 10)\n",
    "for i in range(0, len(txt_filenames)):\n",
    "    rand_list = []\n",
    "    for k in range(0, 10):\n",
    "        rand_list.append(random.randrange(25))\n",
    "    random_cap_indices.append(rand_list)\n",
    "    if(len(rand_list) < 10):\n",
    "        print(\"ERROR: The list of random number is < 10 so < 10 captions!\")\n",
    "\n",
    "i = 0\n",
    "food_class = 0\n",
    "for txt_filename in txt_filenames:\n",
    "    class_tracker = food_class * 25 # helps us index into write part of captions list\n",
    "    # since there are 25 captions per class\n",
    "    #NOTE: I think open below is causing the <10 captions issue.\n",
    "    with open(txt_filename, \"w\", newline='\\n') as f: \n",
    "        for j in range(0,10): # was: for rand_num in random_cap_indices[i]:\n",
    "            rand_num = random_cap_indices[i][j]\n",
    "            f.write(captions[rand_num + class_tracker])\n",
    "        i += 1\n",
    "    if i % 100 == 0:\n",
    "        food_class += 1\n",
    "\n",
    "print(\"The text folder with the .txt captions file for each image should be ready...\")"
   ]
  },
  {
   "cell_type": "markdown",
   "metadata": {},
   "source": [
    "#### iii. Fine-Tune GAN with my single food images and metadata"
   ]
  },
  {
   "cell_type": "code",
   "execution_count": null,
   "metadata": {},
   "outputs": [
    {
     "name": "stderr",
     "output_type": "stream",
     "text": [
      "Traceback (most recent call last):\n",
      "  File \"C:\\Users\\Alder\\Desktop\\HungryAI\\text2image-alder\\main.py\", line 24, in <module>\n",
      "    import torch\n",
      "ModuleNotFoundError: No module named 'torch'\n"
     ]
    }
   ],
   "source": [
    "#!Powershell.exe -Command \"conda activate PyTorchEnv\"\n",
    "#!Powershell.exe -Command \"python main.py --cfg cfg/food.yml --gpu 0 --data_dir C:/Users/Alder/Desktop/HungryAI/cs472_proj/scraped_data/ --manualSeed 666 \""
   ]
  },
  {
   "cell_type": "markdown",
   "metadata": {},
   "source": [
    "#### iv. Generate Images of Combo Foods with single foods trained GAN"
   ]
  },
  {
   "cell_type": "markdown",
   "metadata": {},
   "source": [
    "To do this I will copy and modify the SSAGAN's \"gen_sample()\" to \"gen_sample_alder()\" function to take one caption at a time, and use that caption to generate 4 images. That way we can use the 25 captions I generated with chatGPT for each combo class to generate 100 images per combo class."
   ]
  },
  {
   "cell_type": "code",
   "execution_count": 6,
   "metadata": {},
   "outputs": [
    {
     "name": "stdout",
     "output_type": "stream",
     "text": [
      "Encountered key error with key: paired\n",
      "Replacing that key with 'and' and continuing...\n",
      "TEST: I think batch size should equal 1 here: batch_size = 1\n",
      "Saving generated image to: tmp/food_sloss01/64/models/netG_300/generate/grilled cheese and tomato soup/img_0.png\n",
      "Saving generated image to: tmp/food_sloss01/64/models/netG_300/generate/grilled cheese and tomato soup/img_1.png\n",
      "Saving generated image to: tmp/food_sloss01/64/models/netG_300/generate/grilled cheese and tomato soup/img_2.png\n",
      "Saving generated image to: tmp/food_sloss01/64/models/netG_300/generate/grilled cheese and tomato soup/img_3.png\n",
      "Saving generated image to: tmp/food_sloss01/64/models/netG_300/generate/grilled cheese and tomato soup/img_4.png\n",
      "Saving generated image to: tmp/food_sloss01/64/models/netG_300/generate/grilled cheese and tomato soup/img_5.png\n",
      "Saving generated image to: tmp/food_sloss01/64/models/netG_300/generate/grilled cheese and tomato soup/img_6.png\n",
      "Saving generated image to: tmp/food_sloss01/64/models/netG_300/generate/grilled cheese and tomato soup/img_7.png\n",
      "Saving generated image to: tmp/food_sloss01/64/models/netG_300/generate/grilled cheese and tomato soup/img_8.png\n",
      "Saving generated image to: tmp/food_sloss01/64/models/netG_300/generate/grilled cheese and tomato soup/img_9.png\n"
     ]
    }
   ],
   "source": [
    "import main\n",
    "\n",
    "class_label = \"grilled cheese and tomato soup\"\n",
    "caption = \"the grilled cheese is warm and cheesy paired with a classic tomato soup\"\n",
    "main.gen_sample_alder(text_encoder, netG, device, wordtoix, caption, class_label, 0)"
   ]
  },
  {
   "cell_type": "markdown",
   "metadata": {},
   "source": [
    "The code block above tests the generation for exactly 1 caption. So now we need to setup our \"combo foods\" captions list, and iterate through each of its captions to generate the 100 images for each combo class.\n"
   ]
  },
  {
   "cell_type": "markdown",
   "metadata": {},
   "source": [
    "So the next move is to prepare my \"combo foods\" captions list. Some of these captions are longer than 18 words, so I will need to check each one, remove the words in it that are not in \"wordtoix[]\", check its length after that, and if its still over 18 words shorten the caption somehow..."
   ]
  },
  {
   "cell_type": "code",
   "execution_count": 33,
   "metadata": {},
   "outputs": [],
   "source": [
    "# Prepare combo foods caption list for cleaning. \n",
    "import re\n",
    "\n",
    "pattern = re.compile(\"[^a-zA-Z0-9\\s]\") # When used with sub, leaves only alpha numeric characters and space.\n",
    "dirty_captions_filename = \"dirty_combo_captions.txt\"\n",
    "cleaned_captions_filename = \"clean_combo_captions.txt\"\n",
    "cleaned_captions_file = open(cleaned_captions_filename, 'w')\n",
    "with open(dirty_captions_filename, \"r\") as f:\n",
    "    for dirty_caption in f:\n",
    "        cleaner_caption = dirty_caption.lower()\n",
    "        cleaner_caption = re.sub(pattern, '', cleaner_caption)\n",
    "        cleaner_caption_list = cleaner_caption.split()\n",
    "        non_key_words = []\n",
    "        for word in cleaner_caption_list:\n",
    "            if word not in wordtoix:\n",
    "                non_key_words.append(word)\n",
    "\n",
    "        clean_caption = cleaner_caption\n",
    "        for non_key_word in non_key_words:\n",
    "            clean_caption = clean_caption.replace(non_key_word, '')\n",
    "\n",
    "        cleaned_captions_file.write(clean_caption)\n",
    "\n",
    "cleaned_captions_file.close()\n"
   ]
  },
  {
   "cell_type": "markdown",
   "metadata": {},
   "source": [
    "That should get the captions ready, next I want to loop through each of the clean captions, for each one generate 10 images, since I have 10 captions per class and I want 100 images per class. "
   ]
  },
  {
   "cell_type": "code",
   "execution_count": 14,
   "metadata": {},
   "outputs": [
    {
     "name": "stdout",
     "output_type": "stream",
     "text": [
      "TEST: I think batch size should equal 1 here: batch_size = 1\n",
      "Saving generated image to: tmp/food_sloss01/64/models/netG_300/generate/chicken and waffles/img_0.png\n",
      "Saving generated image to: tmp/food_sloss01/64/models/netG_300/generate/chicken and waffles/img_1.png\n",
      "Saving generated image to: tmp/food_sloss01/64/models/netG_300/generate/chicken and waffles/img_2.png\n",
      "Saving generated image to: tmp/food_sloss01/64/models/netG_300/generate/chicken and waffles/img_3.png\n",
      "Saving generated image to: tmp/food_sloss01/64/models/netG_300/generate/chicken and waffles/img_4.png\n",
      "Saving generated image to: tmp/food_sloss01/64/models/netG_300/generate/chicken and waffles/img_5.png\n",
      "Saving generated image to: tmp/food_sloss01/64/models/netG_300/generate/chicken and waffles/img_6.png\n",
      "Saving generated image to: tmp/food_sloss01/64/models/netG_300/generate/chicken and waffles/img_7.png\n",
      "Saving generated image to: tmp/food_sloss01/64/models/netG_300/generate/chicken and waffles/img_8.png\n",
      "Saving generated image to: tmp/food_sloss01/64/models/netG_300/generate/chicken and waffles/img_9.png\n",
      "TEST: I think batch size should equal 1 here: batch_size = 1\n",
      "Saving generated image to: tmp/food_sloss01/64/models/netG_300/generate/chicken and waffles/img_10.png\n",
      "Saving generated image to: tmp/food_sloss01/64/models/netG_300/generate/chicken and waffles/img_11.png\n",
      "Saving generated image to: tmp/food_sloss01/64/models/netG_300/generate/chicken and waffles/img_12.png\n",
      "Saving generated image to: tmp/food_sloss01/64/models/netG_300/generate/chicken and waffles/img_13.png\n",
      "Saving generated image to: tmp/food_sloss01/64/models/netG_300/generate/chicken and waffles/img_14.png\n",
      "Saving generated image to: tmp/food_sloss01/64/models/netG_300/generate/chicken and waffles/img_15.png\n",
      "Saving generated image to: tmp/food_sloss01/64/models/netG_300/generate/chicken and waffles/img_16.png\n",
      "Saving generated image to: tmp/food_sloss01/64/models/netG_300/generate/chicken and waffles/img_17.png\n",
      "Saving generated image to: tmp/food_sloss01/64/models/netG_300/generate/chicken and waffles/img_18.png\n",
      "Saving generated image to: tmp/food_sloss01/64/models/netG_300/generate/chicken and waffles/img_19.png\n",
      "TEST: I think batch size should equal 1 here: batch_size = 1\n",
      "Saving generated image to: tmp/food_sloss01/64/models/netG_300/generate/chicken and waffles/img_20.png\n",
      "Saving generated image to: tmp/food_sloss01/64/models/netG_300/generate/chicken and waffles/img_21.png\n",
      "Saving generated image to: tmp/food_sloss01/64/models/netG_300/generate/chicken and waffles/img_22.png\n",
      "Saving generated image to: tmp/food_sloss01/64/models/netG_300/generate/chicken and waffles/img_23.png\n",
      "Saving generated image to: tmp/food_sloss01/64/models/netG_300/generate/chicken and waffles/img_24.png\n",
      "Saving generated image to: tmp/food_sloss01/64/models/netG_300/generate/chicken and waffles/img_25.png\n",
      "Saving generated image to: tmp/food_sloss01/64/models/netG_300/generate/chicken and waffles/img_26.png\n",
      "Saving generated image to: tmp/food_sloss01/64/models/netG_300/generate/chicken and waffles/img_27.png\n",
      "Saving generated image to: tmp/food_sloss01/64/models/netG_300/generate/chicken and waffles/img_28.png\n",
      "Saving generated image to: tmp/food_sloss01/64/models/netG_300/generate/chicken and waffles/img_29.png\n",
      "TEST: I think batch size should equal 1 here: batch_size = 1\n",
      "Saving generated image to: tmp/food_sloss01/64/models/netG_300/generate/chicken and waffles/img_30.png\n",
      "Saving generated image to: tmp/food_sloss01/64/models/netG_300/generate/chicken and waffles/img_31.png\n",
      "Saving generated image to: tmp/food_sloss01/64/models/netG_300/generate/chicken and waffles/img_32.png\n",
      "Saving generated image to: tmp/food_sloss01/64/models/netG_300/generate/chicken and waffles/img_33.png\n",
      "Saving generated image to: tmp/food_sloss01/64/models/netG_300/generate/chicken and waffles/img_34.png\n",
      "Saving generated image to: tmp/food_sloss01/64/models/netG_300/generate/chicken and waffles/img_35.png\n",
      "Saving generated image to: tmp/food_sloss01/64/models/netG_300/generate/chicken and waffles/img_36.png\n",
      "Saving generated image to: tmp/food_sloss01/64/models/netG_300/generate/chicken and waffles/img_37.png\n",
      "Saving generated image to: tmp/food_sloss01/64/models/netG_300/generate/chicken and waffles/img_38.png\n",
      "Saving generated image to: tmp/food_sloss01/64/models/netG_300/generate/chicken and waffles/img_39.png\n",
      "TEST: I think batch size should equal 1 here: batch_size = 1\n",
      "Saving generated image to: tmp/food_sloss01/64/models/netG_300/generate/chicken and waffles/img_40.png\n",
      "Saving generated image to: tmp/food_sloss01/64/models/netG_300/generate/chicken and waffles/img_41.png\n",
      "Saving generated image to: tmp/food_sloss01/64/models/netG_300/generate/chicken and waffles/img_42.png\n",
      "Saving generated image to: tmp/food_sloss01/64/models/netG_300/generate/chicken and waffles/img_43.png\n",
      "Saving generated image to: tmp/food_sloss01/64/models/netG_300/generate/chicken and waffles/img_44.png\n",
      "Saving generated image to: tmp/food_sloss01/64/models/netG_300/generate/chicken and waffles/img_45.png\n",
      "Saving generated image to: tmp/food_sloss01/64/models/netG_300/generate/chicken and waffles/img_46.png\n",
      "Saving generated image to: tmp/food_sloss01/64/models/netG_300/generate/chicken and waffles/img_47.png\n",
      "Saving generated image to: tmp/food_sloss01/64/models/netG_300/generate/chicken and waffles/img_48.png\n",
      "Saving generated image to: tmp/food_sloss01/64/models/netG_300/generate/chicken and waffles/img_49.png\n",
      "TEST: I think batch size should equal 1 here: batch_size = 1\n",
      "Saving generated image to: tmp/food_sloss01/64/models/netG_300/generate/chicken and waffles/img_50.png\n",
      "Saving generated image to: tmp/food_sloss01/64/models/netG_300/generate/chicken and waffles/img_51.png\n",
      "Saving generated image to: tmp/food_sloss01/64/models/netG_300/generate/chicken and waffles/img_52.png\n",
      "Saving generated image to: tmp/food_sloss01/64/models/netG_300/generate/chicken and waffles/img_53.png\n",
      "Saving generated image to: tmp/food_sloss01/64/models/netG_300/generate/chicken and waffles/img_54.png\n",
      "Saving generated image to: tmp/food_sloss01/64/models/netG_300/generate/chicken and waffles/img_55.png\n",
      "Saving generated image to: tmp/food_sloss01/64/models/netG_300/generate/chicken and waffles/img_56.png\n",
      "Saving generated image to: tmp/food_sloss01/64/models/netG_300/generate/chicken and waffles/img_57.png\n",
      "Saving generated image to: tmp/food_sloss01/64/models/netG_300/generate/chicken and waffles/img_58.png\n",
      "Saving generated image to: tmp/food_sloss01/64/models/netG_300/generate/chicken and waffles/img_59.png\n",
      "TEST: I think batch size should equal 1 here: batch_size = 1\n",
      "Saving generated image to: tmp/food_sloss01/64/models/netG_300/generate/chicken and waffles/img_60.png\n",
      "Saving generated image to: tmp/food_sloss01/64/models/netG_300/generate/chicken and waffles/img_61.png\n",
      "Saving generated image to: tmp/food_sloss01/64/models/netG_300/generate/chicken and waffles/img_62.png\n",
      "Saving generated image to: tmp/food_sloss01/64/models/netG_300/generate/chicken and waffles/img_63.png\n",
      "Saving generated image to: tmp/food_sloss01/64/models/netG_300/generate/chicken and waffles/img_64.png\n",
      "Saving generated image to: tmp/food_sloss01/64/models/netG_300/generate/chicken and waffles/img_65.png\n",
      "Saving generated image to: tmp/food_sloss01/64/models/netG_300/generate/chicken and waffles/img_66.png\n",
      "Saving generated image to: tmp/food_sloss01/64/models/netG_300/generate/chicken and waffles/img_67.png\n",
      "Saving generated image to: tmp/food_sloss01/64/models/netG_300/generate/chicken and waffles/img_68.png\n",
      "Saving generated image to: tmp/food_sloss01/64/models/netG_300/generate/chicken and waffles/img_69.png\n",
      "TEST: I think batch size should equal 1 here: batch_size = 1\n",
      "Saving generated image to: tmp/food_sloss01/64/models/netG_300/generate/chicken and waffles/img_70.png\n",
      "Saving generated image to: tmp/food_sloss01/64/models/netG_300/generate/chicken and waffles/img_71.png\n",
      "Saving generated image to: tmp/food_sloss01/64/models/netG_300/generate/chicken and waffles/img_72.png\n",
      "Saving generated image to: tmp/food_sloss01/64/models/netG_300/generate/chicken and waffles/img_73.png\n",
      "Saving generated image to: tmp/food_sloss01/64/models/netG_300/generate/chicken and waffles/img_74.png\n",
      "Saving generated image to: tmp/food_sloss01/64/models/netG_300/generate/chicken and waffles/img_75.png\n",
      "Saving generated image to: tmp/food_sloss01/64/models/netG_300/generate/chicken and waffles/img_76.png\n",
      "Saving generated image to: tmp/food_sloss01/64/models/netG_300/generate/chicken and waffles/img_77.png\n",
      "Saving generated image to: tmp/food_sloss01/64/models/netG_300/generate/chicken and waffles/img_78.png\n",
      "Saving generated image to: tmp/food_sloss01/64/models/netG_300/generate/chicken and waffles/img_79.png\n",
      "TEST: I think batch size should equal 1 here: batch_size = 1\n",
      "Saving generated image to: tmp/food_sloss01/64/models/netG_300/generate/chicken and waffles/img_80.png\n",
      "Saving generated image to: tmp/food_sloss01/64/models/netG_300/generate/chicken and waffles/img_81.png\n",
      "Saving generated image to: tmp/food_sloss01/64/models/netG_300/generate/chicken and waffles/img_82.png\n",
      "Saving generated image to: tmp/food_sloss01/64/models/netG_300/generate/chicken and waffles/img_83.png\n",
      "Saving generated image to: tmp/food_sloss01/64/models/netG_300/generate/chicken and waffles/img_84.png\n",
      "Saving generated image to: tmp/food_sloss01/64/models/netG_300/generate/chicken and waffles/img_85.png\n",
      "Saving generated image to: tmp/food_sloss01/64/models/netG_300/generate/chicken and waffles/img_86.png\n",
      "Saving generated image to: tmp/food_sloss01/64/models/netG_300/generate/chicken and waffles/img_87.png\n",
      "Saving generated image to: tmp/food_sloss01/64/models/netG_300/generate/chicken and waffles/img_88.png\n",
      "Saving generated image to: tmp/food_sloss01/64/models/netG_300/generate/chicken and waffles/img_89.png\n",
      "TEST: I think batch size should equal 1 here: batch_size = 1\n",
      "Saving generated image to: tmp/food_sloss01/64/models/netG_300/generate/chicken and waffles/img_90.png\n",
      "Saving generated image to: tmp/food_sloss01/64/models/netG_300/generate/chicken and waffles/img_91.png\n",
      "Saving generated image to: tmp/food_sloss01/64/models/netG_300/generate/chicken and waffles/img_92.png\n",
      "Saving generated image to: tmp/food_sloss01/64/models/netG_300/generate/chicken and waffles/img_93.png\n",
      "Saving generated image to: tmp/food_sloss01/64/models/netG_300/generate/chicken and waffles/img_94.png\n",
      "Saving generated image to: tmp/food_sloss01/64/models/netG_300/generate/chicken and waffles/img_95.png\n",
      "Saving generated image to: tmp/food_sloss01/64/models/netG_300/generate/chicken and waffles/img_96.png\n",
      "Saving generated image to: tmp/food_sloss01/64/models/netG_300/generate/chicken and waffles/img_97.png\n",
      "Saving generated image to: tmp/food_sloss01/64/models/netG_300/generate/chicken and waffles/img_98.png\n",
      "Saving generated image to: tmp/food_sloss01/64/models/netG_300/generate/chicken and waffles/img_99.png\n",
      "1\n",
      "TEST: I think batch size should equal 1 here: batch_size = 1\n",
      "Saving generated image to: tmp/food_sloss01/64/models/netG_300/generate/rice and beans/img_0.png\n",
      "Saving generated image to: tmp/food_sloss01/64/models/netG_300/generate/rice and beans/img_1.png\n",
      "Saving generated image to: tmp/food_sloss01/64/models/netG_300/generate/rice and beans/img_2.png\n",
      "Saving generated image to: tmp/food_sloss01/64/models/netG_300/generate/rice and beans/img_3.png\n",
      "Saving generated image to: tmp/food_sloss01/64/models/netG_300/generate/rice and beans/img_4.png\n",
      "Saving generated image to: tmp/food_sloss01/64/models/netG_300/generate/rice and beans/img_5.png\n",
      "Saving generated image to: tmp/food_sloss01/64/models/netG_300/generate/rice and beans/img_6.png\n",
      "Saving generated image to: tmp/food_sloss01/64/models/netG_300/generate/rice and beans/img_7.png\n",
      "Saving generated image to: tmp/food_sloss01/64/models/netG_300/generate/rice and beans/img_8.png\n",
      "Saving generated image to: tmp/food_sloss01/64/models/netG_300/generate/rice and beans/img_9.png\n",
      "TEST: I think batch size should equal 1 here: batch_size = 1\n",
      "Saving generated image to: tmp/food_sloss01/64/models/netG_300/generate/rice and beans/img_10.png\n",
      "Saving generated image to: tmp/food_sloss01/64/models/netG_300/generate/rice and beans/img_11.png\n",
      "Saving generated image to: tmp/food_sloss01/64/models/netG_300/generate/rice and beans/img_12.png\n",
      "Saving generated image to: tmp/food_sloss01/64/models/netG_300/generate/rice and beans/img_13.png\n",
      "Saving generated image to: tmp/food_sloss01/64/models/netG_300/generate/rice and beans/img_14.png\n",
      "Saving generated image to: tmp/food_sloss01/64/models/netG_300/generate/rice and beans/img_15.png\n",
      "Saving generated image to: tmp/food_sloss01/64/models/netG_300/generate/rice and beans/img_16.png\n",
      "Saving generated image to: tmp/food_sloss01/64/models/netG_300/generate/rice and beans/img_17.png\n",
      "Saving generated image to: tmp/food_sloss01/64/models/netG_300/generate/rice and beans/img_18.png\n",
      "Saving generated image to: tmp/food_sloss01/64/models/netG_300/generate/rice and beans/img_19.png\n",
      "TEST: I think batch size should equal 1 here: batch_size = 1\n",
      "Saving generated image to: tmp/food_sloss01/64/models/netG_300/generate/rice and beans/img_20.png\n",
      "Saving generated image to: tmp/food_sloss01/64/models/netG_300/generate/rice and beans/img_21.png\n",
      "Saving generated image to: tmp/food_sloss01/64/models/netG_300/generate/rice and beans/img_22.png\n",
      "Saving generated image to: tmp/food_sloss01/64/models/netG_300/generate/rice and beans/img_23.png\n",
      "Saving generated image to: tmp/food_sloss01/64/models/netG_300/generate/rice and beans/img_24.png\n",
      "Saving generated image to: tmp/food_sloss01/64/models/netG_300/generate/rice and beans/img_25.png\n",
      "Saving generated image to: tmp/food_sloss01/64/models/netG_300/generate/rice and beans/img_26.png\n",
      "Saving generated image to: tmp/food_sloss01/64/models/netG_300/generate/rice and beans/img_27.png\n",
      "Saving generated image to: tmp/food_sloss01/64/models/netG_300/generate/rice and beans/img_28.png\n",
      "Saving generated image to: tmp/food_sloss01/64/models/netG_300/generate/rice and beans/img_29.png\n",
      "TEST: I think batch size should equal 1 here: batch_size = 1\n",
      "Saving generated image to: tmp/food_sloss01/64/models/netG_300/generate/rice and beans/img_30.png\n",
      "Saving generated image to: tmp/food_sloss01/64/models/netG_300/generate/rice and beans/img_31.png\n",
      "Saving generated image to: tmp/food_sloss01/64/models/netG_300/generate/rice and beans/img_32.png\n",
      "Saving generated image to: tmp/food_sloss01/64/models/netG_300/generate/rice and beans/img_33.png\n",
      "Saving generated image to: tmp/food_sloss01/64/models/netG_300/generate/rice and beans/img_34.png\n",
      "Saving generated image to: tmp/food_sloss01/64/models/netG_300/generate/rice and beans/img_35.png\n",
      "Saving generated image to: tmp/food_sloss01/64/models/netG_300/generate/rice and beans/img_36.png\n",
      "Saving generated image to: tmp/food_sloss01/64/models/netG_300/generate/rice and beans/img_37.png\n",
      "Saving generated image to: tmp/food_sloss01/64/models/netG_300/generate/rice and beans/img_38.png\n",
      "Saving generated image to: tmp/food_sloss01/64/models/netG_300/generate/rice and beans/img_39.png\n",
      "TEST: I think batch size should equal 1 here: batch_size = 1\n",
      "Saving generated image to: tmp/food_sloss01/64/models/netG_300/generate/rice and beans/img_40.png\n",
      "Saving generated image to: tmp/food_sloss01/64/models/netG_300/generate/rice and beans/img_41.png\n",
      "Saving generated image to: tmp/food_sloss01/64/models/netG_300/generate/rice and beans/img_42.png\n",
      "Saving generated image to: tmp/food_sloss01/64/models/netG_300/generate/rice and beans/img_43.png\n",
      "Saving generated image to: tmp/food_sloss01/64/models/netG_300/generate/rice and beans/img_44.png\n",
      "Saving generated image to: tmp/food_sloss01/64/models/netG_300/generate/rice and beans/img_45.png\n",
      "Saving generated image to: tmp/food_sloss01/64/models/netG_300/generate/rice and beans/img_46.png\n",
      "Saving generated image to: tmp/food_sloss01/64/models/netG_300/generate/rice and beans/img_47.png\n",
      "Saving generated image to: tmp/food_sloss01/64/models/netG_300/generate/rice and beans/img_48.png\n",
      "Saving generated image to: tmp/food_sloss01/64/models/netG_300/generate/rice and beans/img_49.png\n",
      "TEST: I think batch size should equal 1 here: batch_size = 1\n",
      "Saving generated image to: tmp/food_sloss01/64/models/netG_300/generate/rice and beans/img_50.png\n",
      "Saving generated image to: tmp/food_sloss01/64/models/netG_300/generate/rice and beans/img_51.png\n",
      "Saving generated image to: tmp/food_sloss01/64/models/netG_300/generate/rice and beans/img_52.png\n",
      "Saving generated image to: tmp/food_sloss01/64/models/netG_300/generate/rice and beans/img_53.png\n",
      "Saving generated image to: tmp/food_sloss01/64/models/netG_300/generate/rice and beans/img_54.png\n",
      "Saving generated image to: tmp/food_sloss01/64/models/netG_300/generate/rice and beans/img_55.png\n",
      "Saving generated image to: tmp/food_sloss01/64/models/netG_300/generate/rice and beans/img_56.png\n",
      "Saving generated image to: tmp/food_sloss01/64/models/netG_300/generate/rice and beans/img_57.png\n",
      "Saving generated image to: tmp/food_sloss01/64/models/netG_300/generate/rice and beans/img_58.png\n",
      "Saving generated image to: tmp/food_sloss01/64/models/netG_300/generate/rice and beans/img_59.png\n",
      "TEST: I think batch size should equal 1 here: batch_size = 1\n",
      "Saving generated image to: tmp/food_sloss01/64/models/netG_300/generate/rice and beans/img_60.png\n",
      "Saving generated image to: tmp/food_sloss01/64/models/netG_300/generate/rice and beans/img_61.png\n",
      "Saving generated image to: tmp/food_sloss01/64/models/netG_300/generate/rice and beans/img_62.png\n",
      "Saving generated image to: tmp/food_sloss01/64/models/netG_300/generate/rice and beans/img_63.png\n",
      "Saving generated image to: tmp/food_sloss01/64/models/netG_300/generate/rice and beans/img_64.png\n",
      "Saving generated image to: tmp/food_sloss01/64/models/netG_300/generate/rice and beans/img_65.png\n",
      "Saving generated image to: tmp/food_sloss01/64/models/netG_300/generate/rice and beans/img_66.png\n",
      "Saving generated image to: tmp/food_sloss01/64/models/netG_300/generate/rice and beans/img_67.png\n",
      "Saving generated image to: tmp/food_sloss01/64/models/netG_300/generate/rice and beans/img_68.png\n",
      "Saving generated image to: tmp/food_sloss01/64/models/netG_300/generate/rice and beans/img_69.png\n",
      "TEST: I think batch size should equal 1 here: batch_size = 1\n",
      "Saving generated image to: tmp/food_sloss01/64/models/netG_300/generate/rice and beans/img_70.png\n",
      "Saving generated image to: tmp/food_sloss01/64/models/netG_300/generate/rice and beans/img_71.png\n",
      "Saving generated image to: tmp/food_sloss01/64/models/netG_300/generate/rice and beans/img_72.png\n",
      "Saving generated image to: tmp/food_sloss01/64/models/netG_300/generate/rice and beans/img_73.png\n",
      "Saving generated image to: tmp/food_sloss01/64/models/netG_300/generate/rice and beans/img_74.png\n",
      "Saving generated image to: tmp/food_sloss01/64/models/netG_300/generate/rice and beans/img_75.png\n",
      "Saving generated image to: tmp/food_sloss01/64/models/netG_300/generate/rice and beans/img_76.png\n",
      "Saving generated image to: tmp/food_sloss01/64/models/netG_300/generate/rice and beans/img_77.png\n",
      "Saving generated image to: tmp/food_sloss01/64/models/netG_300/generate/rice and beans/img_78.png\n",
      "Saving generated image to: tmp/food_sloss01/64/models/netG_300/generate/rice and beans/img_79.png\n",
      "TEST: I think batch size should equal 1 here: batch_size = 1\n",
      "Saving generated image to: tmp/food_sloss01/64/models/netG_300/generate/rice and beans/img_80.png\n",
      "Saving generated image to: tmp/food_sloss01/64/models/netG_300/generate/rice and beans/img_81.png\n",
      "Saving generated image to: tmp/food_sloss01/64/models/netG_300/generate/rice and beans/img_82.png\n",
      "Saving generated image to: tmp/food_sloss01/64/models/netG_300/generate/rice and beans/img_83.png\n",
      "Saving generated image to: tmp/food_sloss01/64/models/netG_300/generate/rice and beans/img_84.png\n",
      "Saving generated image to: tmp/food_sloss01/64/models/netG_300/generate/rice and beans/img_85.png\n",
      "Saving generated image to: tmp/food_sloss01/64/models/netG_300/generate/rice and beans/img_86.png\n",
      "Saving generated image to: tmp/food_sloss01/64/models/netG_300/generate/rice and beans/img_87.png\n",
      "Saving generated image to: tmp/food_sloss01/64/models/netG_300/generate/rice and beans/img_88.png\n",
      "Saving generated image to: tmp/food_sloss01/64/models/netG_300/generate/rice and beans/img_89.png\n",
      "TEST: I think batch size should equal 1 here: batch_size = 1\n",
      "Saving generated image to: tmp/food_sloss01/64/models/netG_300/generate/rice and beans/img_90.png\n",
      "Saving generated image to: tmp/food_sloss01/64/models/netG_300/generate/rice and beans/img_91.png\n",
      "Saving generated image to: tmp/food_sloss01/64/models/netG_300/generate/rice and beans/img_92.png\n",
      "Saving generated image to: tmp/food_sloss01/64/models/netG_300/generate/rice and beans/img_93.png\n",
      "Saving generated image to: tmp/food_sloss01/64/models/netG_300/generate/rice and beans/img_94.png\n",
      "Saving generated image to: tmp/food_sloss01/64/models/netG_300/generate/rice and beans/img_95.png\n",
      "Saving generated image to: tmp/food_sloss01/64/models/netG_300/generate/rice and beans/img_96.png\n",
      "Saving generated image to: tmp/food_sloss01/64/models/netG_300/generate/rice and beans/img_97.png\n",
      "Saving generated image to: tmp/food_sloss01/64/models/netG_300/generate/rice and beans/img_98.png\n",
      "Saving generated image to: tmp/food_sloss01/64/models/netG_300/generate/rice and beans/img_99.png\n",
      "2\n",
      "TEST: I think batch size should equal 1 here: batch_size = 1\n",
      "Saving generated image to: tmp/food_sloss01/64/models/netG_300/generate/steak and potatoes/img_0.png\n",
      "Saving generated image to: tmp/food_sloss01/64/models/netG_300/generate/steak and potatoes/img_1.png\n",
      "Saving generated image to: tmp/food_sloss01/64/models/netG_300/generate/steak and potatoes/img_2.png\n",
      "Saving generated image to: tmp/food_sloss01/64/models/netG_300/generate/steak and potatoes/img_3.png\n",
      "Saving generated image to: tmp/food_sloss01/64/models/netG_300/generate/steak and potatoes/img_4.png\n",
      "Saving generated image to: tmp/food_sloss01/64/models/netG_300/generate/steak and potatoes/img_5.png\n",
      "Saving generated image to: tmp/food_sloss01/64/models/netG_300/generate/steak and potatoes/img_6.png\n",
      "Saving generated image to: tmp/food_sloss01/64/models/netG_300/generate/steak and potatoes/img_7.png\n",
      "Saving generated image to: tmp/food_sloss01/64/models/netG_300/generate/steak and potatoes/img_8.png\n",
      "Saving generated image to: tmp/food_sloss01/64/models/netG_300/generate/steak and potatoes/img_9.png\n",
      "TEST: I think batch size should equal 1 here: batch_size = 1\n",
      "Saving generated image to: tmp/food_sloss01/64/models/netG_300/generate/steak and potatoes/img_10.png\n",
      "Saving generated image to: tmp/food_sloss01/64/models/netG_300/generate/steak and potatoes/img_11.png\n",
      "Saving generated image to: tmp/food_sloss01/64/models/netG_300/generate/steak and potatoes/img_12.png\n",
      "Saving generated image to: tmp/food_sloss01/64/models/netG_300/generate/steak and potatoes/img_13.png\n",
      "Saving generated image to: tmp/food_sloss01/64/models/netG_300/generate/steak and potatoes/img_14.png\n",
      "Saving generated image to: tmp/food_sloss01/64/models/netG_300/generate/steak and potatoes/img_15.png\n",
      "Saving generated image to: tmp/food_sloss01/64/models/netG_300/generate/steak and potatoes/img_16.png\n",
      "Saving generated image to: tmp/food_sloss01/64/models/netG_300/generate/steak and potatoes/img_17.png\n",
      "Saving generated image to: tmp/food_sloss01/64/models/netG_300/generate/steak and potatoes/img_18.png\n",
      "Saving generated image to: tmp/food_sloss01/64/models/netG_300/generate/steak and potatoes/img_19.png\n",
      "TEST: I think batch size should equal 1 here: batch_size = 1\n",
      "Saving generated image to: tmp/food_sloss01/64/models/netG_300/generate/steak and potatoes/img_20.png\n",
      "Saving generated image to: tmp/food_sloss01/64/models/netG_300/generate/steak and potatoes/img_21.png\n",
      "Saving generated image to: tmp/food_sloss01/64/models/netG_300/generate/steak and potatoes/img_22.png\n",
      "Saving generated image to: tmp/food_sloss01/64/models/netG_300/generate/steak and potatoes/img_23.png\n",
      "Saving generated image to: tmp/food_sloss01/64/models/netG_300/generate/steak and potatoes/img_24.png\n",
      "Saving generated image to: tmp/food_sloss01/64/models/netG_300/generate/steak and potatoes/img_25.png\n",
      "Saving generated image to: tmp/food_sloss01/64/models/netG_300/generate/steak and potatoes/img_26.png\n",
      "Saving generated image to: tmp/food_sloss01/64/models/netG_300/generate/steak and potatoes/img_27.png\n",
      "Saving generated image to: tmp/food_sloss01/64/models/netG_300/generate/steak and potatoes/img_28.png\n",
      "Saving generated image to: tmp/food_sloss01/64/models/netG_300/generate/steak and potatoes/img_29.png\n",
      "TEST: I think batch size should equal 1 here: batch_size = 1\n",
      "Saving generated image to: tmp/food_sloss01/64/models/netG_300/generate/steak and potatoes/img_30.png\n",
      "Saving generated image to: tmp/food_sloss01/64/models/netG_300/generate/steak and potatoes/img_31.png\n",
      "Saving generated image to: tmp/food_sloss01/64/models/netG_300/generate/steak and potatoes/img_32.png\n",
      "Saving generated image to: tmp/food_sloss01/64/models/netG_300/generate/steak and potatoes/img_33.png\n",
      "Saving generated image to: tmp/food_sloss01/64/models/netG_300/generate/steak and potatoes/img_34.png\n",
      "Saving generated image to: tmp/food_sloss01/64/models/netG_300/generate/steak and potatoes/img_35.png\n",
      "Saving generated image to: tmp/food_sloss01/64/models/netG_300/generate/steak and potatoes/img_36.png\n",
      "Saving generated image to: tmp/food_sloss01/64/models/netG_300/generate/steak and potatoes/img_37.png\n",
      "Saving generated image to: tmp/food_sloss01/64/models/netG_300/generate/steak and potatoes/img_38.png\n",
      "Saving generated image to: tmp/food_sloss01/64/models/netG_300/generate/steak and potatoes/img_39.png\n",
      "TEST: I think batch size should equal 1 here: batch_size = 1\n",
      "Saving generated image to: tmp/food_sloss01/64/models/netG_300/generate/steak and potatoes/img_40.png\n",
      "Saving generated image to: tmp/food_sloss01/64/models/netG_300/generate/steak and potatoes/img_41.png\n",
      "Saving generated image to: tmp/food_sloss01/64/models/netG_300/generate/steak and potatoes/img_42.png\n",
      "Saving generated image to: tmp/food_sloss01/64/models/netG_300/generate/steak and potatoes/img_43.png\n",
      "Saving generated image to: tmp/food_sloss01/64/models/netG_300/generate/steak and potatoes/img_44.png\n",
      "Saving generated image to: tmp/food_sloss01/64/models/netG_300/generate/steak and potatoes/img_45.png\n",
      "Saving generated image to: tmp/food_sloss01/64/models/netG_300/generate/steak and potatoes/img_46.png\n",
      "Saving generated image to: tmp/food_sloss01/64/models/netG_300/generate/steak and potatoes/img_47.png\n",
      "Saving generated image to: tmp/food_sloss01/64/models/netG_300/generate/steak and potatoes/img_48.png\n",
      "Saving generated image to: tmp/food_sloss01/64/models/netG_300/generate/steak and potatoes/img_49.png\n",
      "TEST: I think batch size should equal 1 here: batch_size = 1\n",
      "Saving generated image to: tmp/food_sloss01/64/models/netG_300/generate/steak and potatoes/img_50.png\n",
      "Saving generated image to: tmp/food_sloss01/64/models/netG_300/generate/steak and potatoes/img_51.png\n",
      "Saving generated image to: tmp/food_sloss01/64/models/netG_300/generate/steak and potatoes/img_52.png\n",
      "Saving generated image to: tmp/food_sloss01/64/models/netG_300/generate/steak and potatoes/img_53.png\n",
      "Saving generated image to: tmp/food_sloss01/64/models/netG_300/generate/steak and potatoes/img_54.png\n",
      "Saving generated image to: tmp/food_sloss01/64/models/netG_300/generate/steak and potatoes/img_55.png\n",
      "Saving generated image to: tmp/food_sloss01/64/models/netG_300/generate/steak and potatoes/img_56.png\n",
      "Saving generated image to: tmp/food_sloss01/64/models/netG_300/generate/steak and potatoes/img_57.png\n",
      "Saving generated image to: tmp/food_sloss01/64/models/netG_300/generate/steak and potatoes/img_58.png\n",
      "Saving generated image to: tmp/food_sloss01/64/models/netG_300/generate/steak and potatoes/img_59.png\n",
      "TEST: I think batch size should equal 1 here: batch_size = 1\n",
      "Saving generated image to: tmp/food_sloss01/64/models/netG_300/generate/steak and potatoes/img_60.png\n",
      "Saving generated image to: tmp/food_sloss01/64/models/netG_300/generate/steak and potatoes/img_61.png\n",
      "Saving generated image to: tmp/food_sloss01/64/models/netG_300/generate/steak and potatoes/img_62.png\n",
      "Saving generated image to: tmp/food_sloss01/64/models/netG_300/generate/steak and potatoes/img_63.png\n",
      "Saving generated image to: tmp/food_sloss01/64/models/netG_300/generate/steak and potatoes/img_64.png\n",
      "Saving generated image to: tmp/food_sloss01/64/models/netG_300/generate/steak and potatoes/img_65.png\n",
      "Saving generated image to: tmp/food_sloss01/64/models/netG_300/generate/steak and potatoes/img_66.png\n",
      "Saving generated image to: tmp/food_sloss01/64/models/netG_300/generate/steak and potatoes/img_67.png\n",
      "Saving generated image to: tmp/food_sloss01/64/models/netG_300/generate/steak and potatoes/img_68.png\n",
      "Saving generated image to: tmp/food_sloss01/64/models/netG_300/generate/steak and potatoes/img_69.png\n",
      "TEST: I think batch size should equal 1 here: batch_size = 1\n",
      "Saving generated image to: tmp/food_sloss01/64/models/netG_300/generate/steak and potatoes/img_70.png\n",
      "Saving generated image to: tmp/food_sloss01/64/models/netG_300/generate/steak and potatoes/img_71.png\n",
      "Saving generated image to: tmp/food_sloss01/64/models/netG_300/generate/steak and potatoes/img_72.png\n",
      "Saving generated image to: tmp/food_sloss01/64/models/netG_300/generate/steak and potatoes/img_73.png\n",
      "Saving generated image to: tmp/food_sloss01/64/models/netG_300/generate/steak and potatoes/img_74.png\n",
      "Saving generated image to: tmp/food_sloss01/64/models/netG_300/generate/steak and potatoes/img_75.png\n",
      "Saving generated image to: tmp/food_sloss01/64/models/netG_300/generate/steak and potatoes/img_76.png\n",
      "Saving generated image to: tmp/food_sloss01/64/models/netG_300/generate/steak and potatoes/img_77.png\n",
      "Saving generated image to: tmp/food_sloss01/64/models/netG_300/generate/steak and potatoes/img_78.png\n",
      "Saving generated image to: tmp/food_sloss01/64/models/netG_300/generate/steak and potatoes/img_79.png\n",
      "TEST: I think batch size should equal 1 here: batch_size = 1\n",
      "Saving generated image to: tmp/food_sloss01/64/models/netG_300/generate/steak and potatoes/img_80.png\n",
      "Saving generated image to: tmp/food_sloss01/64/models/netG_300/generate/steak and potatoes/img_81.png\n",
      "Saving generated image to: tmp/food_sloss01/64/models/netG_300/generate/steak and potatoes/img_82.png\n",
      "Saving generated image to: tmp/food_sloss01/64/models/netG_300/generate/steak and potatoes/img_83.png\n",
      "Saving generated image to: tmp/food_sloss01/64/models/netG_300/generate/steak and potatoes/img_84.png\n",
      "Saving generated image to: tmp/food_sloss01/64/models/netG_300/generate/steak and potatoes/img_85.png\n",
      "Saving generated image to: tmp/food_sloss01/64/models/netG_300/generate/steak and potatoes/img_86.png\n",
      "Saving generated image to: tmp/food_sloss01/64/models/netG_300/generate/steak and potatoes/img_87.png\n",
      "Saving generated image to: tmp/food_sloss01/64/models/netG_300/generate/steak and potatoes/img_88.png\n",
      "Saving generated image to: tmp/food_sloss01/64/models/netG_300/generate/steak and potatoes/img_89.png\n",
      "TEST: I think batch size should equal 1 here: batch_size = 1\n",
      "Saving generated image to: tmp/food_sloss01/64/models/netG_300/generate/steak and potatoes/img_90.png\n",
      "Saving generated image to: tmp/food_sloss01/64/models/netG_300/generate/steak and potatoes/img_91.png\n",
      "Saving generated image to: tmp/food_sloss01/64/models/netG_300/generate/steak and potatoes/img_92.png\n",
      "Saving generated image to: tmp/food_sloss01/64/models/netG_300/generate/steak and potatoes/img_93.png\n",
      "Saving generated image to: tmp/food_sloss01/64/models/netG_300/generate/steak and potatoes/img_94.png\n",
      "Saving generated image to: tmp/food_sloss01/64/models/netG_300/generate/steak and potatoes/img_95.png\n",
      "Saving generated image to: tmp/food_sloss01/64/models/netG_300/generate/steak and potatoes/img_96.png\n",
      "Saving generated image to: tmp/food_sloss01/64/models/netG_300/generate/steak and potatoes/img_97.png\n",
      "Saving generated image to: tmp/food_sloss01/64/models/netG_300/generate/steak and potatoes/img_98.png\n",
      "Saving generated image to: tmp/food_sloss01/64/models/netG_300/generate/steak and potatoes/img_99.png\n",
      "3\n",
      "TEST: I think batch size should equal 1 here: batch_size = 1\n",
      "Saving generated image to: tmp/food_sloss01/64/models/netG_300/generate/clam chowder with oyster crackers/img_0.png\n",
      "Saving generated image to: tmp/food_sloss01/64/models/netG_300/generate/clam chowder with oyster crackers/img_1.png\n",
      "Saving generated image to: tmp/food_sloss01/64/models/netG_300/generate/clam chowder with oyster crackers/img_2.png\n",
      "Saving generated image to: tmp/food_sloss01/64/models/netG_300/generate/clam chowder with oyster crackers/img_3.png\n",
      "Saving generated image to: tmp/food_sloss01/64/models/netG_300/generate/clam chowder with oyster crackers/img_4.png\n",
      "Saving generated image to: tmp/food_sloss01/64/models/netG_300/generate/clam chowder with oyster crackers/img_5.png\n",
      "Saving generated image to: tmp/food_sloss01/64/models/netG_300/generate/clam chowder with oyster crackers/img_6.png\n",
      "Saving generated image to: tmp/food_sloss01/64/models/netG_300/generate/clam chowder with oyster crackers/img_7.png\n",
      "Saving generated image to: tmp/food_sloss01/64/models/netG_300/generate/clam chowder with oyster crackers/img_8.png\n",
      "Saving generated image to: tmp/food_sloss01/64/models/netG_300/generate/clam chowder with oyster crackers/img_9.png\n",
      "TEST: I think batch size should equal 1 here: batch_size = 1\n",
      "Saving generated image to: tmp/food_sloss01/64/models/netG_300/generate/clam chowder with oyster crackers/img_10.png\n",
      "Saving generated image to: tmp/food_sloss01/64/models/netG_300/generate/clam chowder with oyster crackers/img_11.png\n",
      "Saving generated image to: tmp/food_sloss01/64/models/netG_300/generate/clam chowder with oyster crackers/img_12.png\n",
      "Saving generated image to: tmp/food_sloss01/64/models/netG_300/generate/clam chowder with oyster crackers/img_13.png\n",
      "Saving generated image to: tmp/food_sloss01/64/models/netG_300/generate/clam chowder with oyster crackers/img_14.png\n",
      "Saving generated image to: tmp/food_sloss01/64/models/netG_300/generate/clam chowder with oyster crackers/img_15.png\n",
      "Saving generated image to: tmp/food_sloss01/64/models/netG_300/generate/clam chowder with oyster crackers/img_16.png\n",
      "Saving generated image to: tmp/food_sloss01/64/models/netG_300/generate/clam chowder with oyster crackers/img_17.png\n",
      "Saving generated image to: tmp/food_sloss01/64/models/netG_300/generate/clam chowder with oyster crackers/img_18.png\n",
      "Saving generated image to: tmp/food_sloss01/64/models/netG_300/generate/clam chowder with oyster crackers/img_19.png\n",
      "TEST: I think batch size should equal 1 here: batch_size = 1\n",
      "Saving generated image to: tmp/food_sloss01/64/models/netG_300/generate/clam chowder with oyster crackers/img_20.png\n",
      "Saving generated image to: tmp/food_sloss01/64/models/netG_300/generate/clam chowder with oyster crackers/img_21.png\n",
      "Saving generated image to: tmp/food_sloss01/64/models/netG_300/generate/clam chowder with oyster crackers/img_22.png\n",
      "Saving generated image to: tmp/food_sloss01/64/models/netG_300/generate/clam chowder with oyster crackers/img_23.png\n",
      "Saving generated image to: tmp/food_sloss01/64/models/netG_300/generate/clam chowder with oyster crackers/img_24.png\n",
      "Saving generated image to: tmp/food_sloss01/64/models/netG_300/generate/clam chowder with oyster crackers/img_25.png\n",
      "Saving generated image to: tmp/food_sloss01/64/models/netG_300/generate/clam chowder with oyster crackers/img_26.png\n",
      "Saving generated image to: tmp/food_sloss01/64/models/netG_300/generate/clam chowder with oyster crackers/img_27.png\n",
      "Saving generated image to: tmp/food_sloss01/64/models/netG_300/generate/clam chowder with oyster crackers/img_28.png\n",
      "Saving generated image to: tmp/food_sloss01/64/models/netG_300/generate/clam chowder with oyster crackers/img_29.png\n",
      "TEST: I think batch size should equal 1 here: batch_size = 1\n",
      "Saving generated image to: tmp/food_sloss01/64/models/netG_300/generate/clam chowder with oyster crackers/img_30.png\n",
      "Saving generated image to: tmp/food_sloss01/64/models/netG_300/generate/clam chowder with oyster crackers/img_31.png\n",
      "Saving generated image to: tmp/food_sloss01/64/models/netG_300/generate/clam chowder with oyster crackers/img_32.png\n",
      "Saving generated image to: tmp/food_sloss01/64/models/netG_300/generate/clam chowder with oyster crackers/img_33.png\n",
      "Saving generated image to: tmp/food_sloss01/64/models/netG_300/generate/clam chowder with oyster crackers/img_34.png\n",
      "Saving generated image to: tmp/food_sloss01/64/models/netG_300/generate/clam chowder with oyster crackers/img_35.png\n",
      "Saving generated image to: tmp/food_sloss01/64/models/netG_300/generate/clam chowder with oyster crackers/img_36.png\n",
      "Saving generated image to: tmp/food_sloss01/64/models/netG_300/generate/clam chowder with oyster crackers/img_37.png\n",
      "Saving generated image to: tmp/food_sloss01/64/models/netG_300/generate/clam chowder with oyster crackers/img_38.png\n",
      "Saving generated image to: tmp/food_sloss01/64/models/netG_300/generate/clam chowder with oyster crackers/img_39.png\n",
      "TEST: I think batch size should equal 1 here: batch_size = 1\n",
      "Saving generated image to: tmp/food_sloss01/64/models/netG_300/generate/clam chowder with oyster crackers/img_40.png\n",
      "Saving generated image to: tmp/food_sloss01/64/models/netG_300/generate/clam chowder with oyster crackers/img_41.png\n",
      "Saving generated image to: tmp/food_sloss01/64/models/netG_300/generate/clam chowder with oyster crackers/img_42.png\n",
      "Saving generated image to: tmp/food_sloss01/64/models/netG_300/generate/clam chowder with oyster crackers/img_43.png\n",
      "Saving generated image to: tmp/food_sloss01/64/models/netG_300/generate/clam chowder with oyster crackers/img_44.png\n",
      "Saving generated image to: tmp/food_sloss01/64/models/netG_300/generate/clam chowder with oyster crackers/img_45.png\n",
      "Saving generated image to: tmp/food_sloss01/64/models/netG_300/generate/clam chowder with oyster crackers/img_46.png\n",
      "Saving generated image to: tmp/food_sloss01/64/models/netG_300/generate/clam chowder with oyster crackers/img_47.png\n",
      "Saving generated image to: tmp/food_sloss01/64/models/netG_300/generate/clam chowder with oyster crackers/img_48.png\n",
      "Saving generated image to: tmp/food_sloss01/64/models/netG_300/generate/clam chowder with oyster crackers/img_49.png\n",
      "TEST: I think batch size should equal 1 here: batch_size = 1\n",
      "Saving generated image to: tmp/food_sloss01/64/models/netG_300/generate/clam chowder with oyster crackers/img_50.png\n",
      "Saving generated image to: tmp/food_sloss01/64/models/netG_300/generate/clam chowder with oyster crackers/img_51.png\n",
      "Saving generated image to: tmp/food_sloss01/64/models/netG_300/generate/clam chowder with oyster crackers/img_52.png\n",
      "Saving generated image to: tmp/food_sloss01/64/models/netG_300/generate/clam chowder with oyster crackers/img_53.png\n",
      "Saving generated image to: tmp/food_sloss01/64/models/netG_300/generate/clam chowder with oyster crackers/img_54.png\n",
      "Saving generated image to: tmp/food_sloss01/64/models/netG_300/generate/clam chowder with oyster crackers/img_55.png\n",
      "Saving generated image to: tmp/food_sloss01/64/models/netG_300/generate/clam chowder with oyster crackers/img_56.png\n",
      "Saving generated image to: tmp/food_sloss01/64/models/netG_300/generate/clam chowder with oyster crackers/img_57.png\n",
      "Saving generated image to: tmp/food_sloss01/64/models/netG_300/generate/clam chowder with oyster crackers/img_58.png\n",
      "Saving generated image to: tmp/food_sloss01/64/models/netG_300/generate/clam chowder with oyster crackers/img_59.png\n",
      "TEST: I think batch size should equal 1 here: batch_size = 1\n",
      "Saving generated image to: tmp/food_sloss01/64/models/netG_300/generate/clam chowder with oyster crackers/img_60.png\n",
      "Saving generated image to: tmp/food_sloss01/64/models/netG_300/generate/clam chowder with oyster crackers/img_61.png\n",
      "Saving generated image to: tmp/food_sloss01/64/models/netG_300/generate/clam chowder with oyster crackers/img_62.png\n",
      "Saving generated image to: tmp/food_sloss01/64/models/netG_300/generate/clam chowder with oyster crackers/img_63.png\n",
      "Saving generated image to: tmp/food_sloss01/64/models/netG_300/generate/clam chowder with oyster crackers/img_64.png\n",
      "Saving generated image to: tmp/food_sloss01/64/models/netG_300/generate/clam chowder with oyster crackers/img_65.png\n",
      "Saving generated image to: tmp/food_sloss01/64/models/netG_300/generate/clam chowder with oyster crackers/img_66.png\n",
      "Saving generated image to: tmp/food_sloss01/64/models/netG_300/generate/clam chowder with oyster crackers/img_67.png\n",
      "Saving generated image to: tmp/food_sloss01/64/models/netG_300/generate/clam chowder with oyster crackers/img_68.png\n",
      "Saving generated image to: tmp/food_sloss01/64/models/netG_300/generate/clam chowder with oyster crackers/img_69.png\n",
      "TEST: I think batch size should equal 1 here: batch_size = 1\n",
      "Saving generated image to: tmp/food_sloss01/64/models/netG_300/generate/clam chowder with oyster crackers/img_70.png\n",
      "Saving generated image to: tmp/food_sloss01/64/models/netG_300/generate/clam chowder with oyster crackers/img_71.png\n",
      "Saving generated image to: tmp/food_sloss01/64/models/netG_300/generate/clam chowder with oyster crackers/img_72.png\n",
      "Saving generated image to: tmp/food_sloss01/64/models/netG_300/generate/clam chowder with oyster crackers/img_73.png\n",
      "Saving generated image to: tmp/food_sloss01/64/models/netG_300/generate/clam chowder with oyster crackers/img_74.png\n",
      "Saving generated image to: tmp/food_sloss01/64/models/netG_300/generate/clam chowder with oyster crackers/img_75.png\n",
      "Saving generated image to: tmp/food_sloss01/64/models/netG_300/generate/clam chowder with oyster crackers/img_76.png\n",
      "Saving generated image to: tmp/food_sloss01/64/models/netG_300/generate/clam chowder with oyster crackers/img_77.png\n",
      "Saving generated image to: tmp/food_sloss01/64/models/netG_300/generate/clam chowder with oyster crackers/img_78.png\n",
      "Saving generated image to: tmp/food_sloss01/64/models/netG_300/generate/clam chowder with oyster crackers/img_79.png\n",
      "TEST: I think batch size should equal 1 here: batch_size = 1\n",
      "Saving generated image to: tmp/food_sloss01/64/models/netG_300/generate/clam chowder with oyster crackers/img_80.png\n",
      "Saving generated image to: tmp/food_sloss01/64/models/netG_300/generate/clam chowder with oyster crackers/img_81.png\n",
      "Saving generated image to: tmp/food_sloss01/64/models/netG_300/generate/clam chowder with oyster crackers/img_82.png\n",
      "Saving generated image to: tmp/food_sloss01/64/models/netG_300/generate/clam chowder with oyster crackers/img_83.png\n",
      "Saving generated image to: tmp/food_sloss01/64/models/netG_300/generate/clam chowder with oyster crackers/img_84.png\n",
      "Saving generated image to: tmp/food_sloss01/64/models/netG_300/generate/clam chowder with oyster crackers/img_85.png\n",
      "Saving generated image to: tmp/food_sloss01/64/models/netG_300/generate/clam chowder with oyster crackers/img_86.png\n",
      "Saving generated image to: tmp/food_sloss01/64/models/netG_300/generate/clam chowder with oyster crackers/img_87.png\n",
      "Saving generated image to: tmp/food_sloss01/64/models/netG_300/generate/clam chowder with oyster crackers/img_88.png\n",
      "Saving generated image to: tmp/food_sloss01/64/models/netG_300/generate/clam chowder with oyster crackers/img_89.png\n",
      "TEST: I think batch size should equal 1 here: batch_size = 1\n",
      "Saving generated image to: tmp/food_sloss01/64/models/netG_300/generate/clam chowder with oyster crackers/img_90.png\n",
      "Saving generated image to: tmp/food_sloss01/64/models/netG_300/generate/clam chowder with oyster crackers/img_91.png\n",
      "Saving generated image to: tmp/food_sloss01/64/models/netG_300/generate/clam chowder with oyster crackers/img_92.png\n",
      "Saving generated image to: tmp/food_sloss01/64/models/netG_300/generate/clam chowder with oyster crackers/img_93.png\n",
      "Saving generated image to: tmp/food_sloss01/64/models/netG_300/generate/clam chowder with oyster crackers/img_94.png\n",
      "Saving generated image to: tmp/food_sloss01/64/models/netG_300/generate/clam chowder with oyster crackers/img_95.png\n",
      "Saving generated image to: tmp/food_sloss01/64/models/netG_300/generate/clam chowder with oyster crackers/img_96.png\n",
      "Saving generated image to: tmp/food_sloss01/64/models/netG_300/generate/clam chowder with oyster crackers/img_97.png\n",
      "Saving generated image to: tmp/food_sloss01/64/models/netG_300/generate/clam chowder with oyster crackers/img_98.png\n",
      "Saving generated image to: tmp/food_sloss01/64/models/netG_300/generate/clam chowder with oyster crackers/img_99.png\n",
      "4\n",
      "TEST: I think batch size should equal 1 here: batch_size = 1\n",
      "Saving generated image to: tmp/food_sloss01/64/models/netG_300/generate/spaghetti and meatballs/img_0.png\n",
      "Saving generated image to: tmp/food_sloss01/64/models/netG_300/generate/spaghetti and meatballs/img_1.png\n",
      "Saving generated image to: tmp/food_sloss01/64/models/netG_300/generate/spaghetti and meatballs/img_2.png\n",
      "Saving generated image to: tmp/food_sloss01/64/models/netG_300/generate/spaghetti and meatballs/img_3.png\n",
      "Saving generated image to: tmp/food_sloss01/64/models/netG_300/generate/spaghetti and meatballs/img_4.png\n",
      "Saving generated image to: tmp/food_sloss01/64/models/netG_300/generate/spaghetti and meatballs/img_5.png\n",
      "Saving generated image to: tmp/food_sloss01/64/models/netG_300/generate/spaghetti and meatballs/img_6.png\n",
      "Saving generated image to: tmp/food_sloss01/64/models/netG_300/generate/spaghetti and meatballs/img_7.png\n",
      "Saving generated image to: tmp/food_sloss01/64/models/netG_300/generate/spaghetti and meatballs/img_8.png\n",
      "Saving generated image to: tmp/food_sloss01/64/models/netG_300/generate/spaghetti and meatballs/img_9.png\n",
      "TEST: I think batch size should equal 1 here: batch_size = 1\n",
      "Saving generated image to: tmp/food_sloss01/64/models/netG_300/generate/spaghetti and meatballs/img_10.png\n",
      "Saving generated image to: tmp/food_sloss01/64/models/netG_300/generate/spaghetti and meatballs/img_11.png\n",
      "Saving generated image to: tmp/food_sloss01/64/models/netG_300/generate/spaghetti and meatballs/img_12.png\n",
      "Saving generated image to: tmp/food_sloss01/64/models/netG_300/generate/spaghetti and meatballs/img_13.png\n",
      "Saving generated image to: tmp/food_sloss01/64/models/netG_300/generate/spaghetti and meatballs/img_14.png\n",
      "Saving generated image to: tmp/food_sloss01/64/models/netG_300/generate/spaghetti and meatballs/img_15.png\n",
      "Saving generated image to: tmp/food_sloss01/64/models/netG_300/generate/spaghetti and meatballs/img_16.png\n",
      "Saving generated image to: tmp/food_sloss01/64/models/netG_300/generate/spaghetti and meatballs/img_17.png\n",
      "Saving generated image to: tmp/food_sloss01/64/models/netG_300/generate/spaghetti and meatballs/img_18.png\n",
      "Saving generated image to: tmp/food_sloss01/64/models/netG_300/generate/spaghetti and meatballs/img_19.png\n",
      "TEST: I think batch size should equal 1 here: batch_size = 1\n",
      "Saving generated image to: tmp/food_sloss01/64/models/netG_300/generate/spaghetti and meatballs/img_20.png\n",
      "Saving generated image to: tmp/food_sloss01/64/models/netG_300/generate/spaghetti and meatballs/img_21.png\n",
      "Saving generated image to: tmp/food_sloss01/64/models/netG_300/generate/spaghetti and meatballs/img_22.png\n",
      "Saving generated image to: tmp/food_sloss01/64/models/netG_300/generate/spaghetti and meatballs/img_23.png\n",
      "Saving generated image to: tmp/food_sloss01/64/models/netG_300/generate/spaghetti and meatballs/img_24.png\n",
      "Saving generated image to: tmp/food_sloss01/64/models/netG_300/generate/spaghetti and meatballs/img_25.png\n",
      "Saving generated image to: tmp/food_sloss01/64/models/netG_300/generate/spaghetti and meatballs/img_26.png\n",
      "Saving generated image to: tmp/food_sloss01/64/models/netG_300/generate/spaghetti and meatballs/img_27.png\n",
      "Saving generated image to: tmp/food_sloss01/64/models/netG_300/generate/spaghetti and meatballs/img_28.png\n",
      "Saving generated image to: tmp/food_sloss01/64/models/netG_300/generate/spaghetti and meatballs/img_29.png\n",
      "TEST: I think batch size should equal 1 here: batch_size = 1\n",
      "Saving generated image to: tmp/food_sloss01/64/models/netG_300/generate/spaghetti and meatballs/img_30.png\n",
      "Saving generated image to: tmp/food_sloss01/64/models/netG_300/generate/spaghetti and meatballs/img_31.png\n",
      "Saving generated image to: tmp/food_sloss01/64/models/netG_300/generate/spaghetti and meatballs/img_32.png\n",
      "Saving generated image to: tmp/food_sloss01/64/models/netG_300/generate/spaghetti and meatballs/img_33.png\n",
      "Saving generated image to: tmp/food_sloss01/64/models/netG_300/generate/spaghetti and meatballs/img_34.png\n",
      "Saving generated image to: tmp/food_sloss01/64/models/netG_300/generate/spaghetti and meatballs/img_35.png\n",
      "Saving generated image to: tmp/food_sloss01/64/models/netG_300/generate/spaghetti and meatballs/img_36.png\n",
      "Saving generated image to: tmp/food_sloss01/64/models/netG_300/generate/spaghetti and meatballs/img_37.png\n",
      "Saving generated image to: tmp/food_sloss01/64/models/netG_300/generate/spaghetti and meatballs/img_38.png\n",
      "Saving generated image to: tmp/food_sloss01/64/models/netG_300/generate/spaghetti and meatballs/img_39.png\n",
      "TEST: I think batch size should equal 1 here: batch_size = 1\n",
      "Saving generated image to: tmp/food_sloss01/64/models/netG_300/generate/spaghetti and meatballs/img_40.png\n",
      "Saving generated image to: tmp/food_sloss01/64/models/netG_300/generate/spaghetti and meatballs/img_41.png\n",
      "Saving generated image to: tmp/food_sloss01/64/models/netG_300/generate/spaghetti and meatballs/img_42.png\n",
      "Saving generated image to: tmp/food_sloss01/64/models/netG_300/generate/spaghetti and meatballs/img_43.png\n",
      "Saving generated image to: tmp/food_sloss01/64/models/netG_300/generate/spaghetti and meatballs/img_44.png\n",
      "Saving generated image to: tmp/food_sloss01/64/models/netG_300/generate/spaghetti and meatballs/img_45.png\n",
      "Saving generated image to: tmp/food_sloss01/64/models/netG_300/generate/spaghetti and meatballs/img_46.png\n",
      "Saving generated image to: tmp/food_sloss01/64/models/netG_300/generate/spaghetti and meatballs/img_47.png\n",
      "Saving generated image to: tmp/food_sloss01/64/models/netG_300/generate/spaghetti and meatballs/img_48.png\n",
      "Saving generated image to: tmp/food_sloss01/64/models/netG_300/generate/spaghetti and meatballs/img_49.png\n",
      "TEST: I think batch size should equal 1 here: batch_size = 1\n",
      "Saving generated image to: tmp/food_sloss01/64/models/netG_300/generate/spaghetti and meatballs/img_50.png\n",
      "Saving generated image to: tmp/food_sloss01/64/models/netG_300/generate/spaghetti and meatballs/img_51.png\n",
      "Saving generated image to: tmp/food_sloss01/64/models/netG_300/generate/spaghetti and meatballs/img_52.png\n",
      "Saving generated image to: tmp/food_sloss01/64/models/netG_300/generate/spaghetti and meatballs/img_53.png\n",
      "Saving generated image to: tmp/food_sloss01/64/models/netG_300/generate/spaghetti and meatballs/img_54.png\n",
      "Saving generated image to: tmp/food_sloss01/64/models/netG_300/generate/spaghetti and meatballs/img_55.png\n",
      "Saving generated image to: tmp/food_sloss01/64/models/netG_300/generate/spaghetti and meatballs/img_56.png\n",
      "Saving generated image to: tmp/food_sloss01/64/models/netG_300/generate/spaghetti and meatballs/img_57.png\n",
      "Saving generated image to: tmp/food_sloss01/64/models/netG_300/generate/spaghetti and meatballs/img_58.png\n",
      "Saving generated image to: tmp/food_sloss01/64/models/netG_300/generate/spaghetti and meatballs/img_59.png\n",
      "TEST: I think batch size should equal 1 here: batch_size = 1\n",
      "Saving generated image to: tmp/food_sloss01/64/models/netG_300/generate/spaghetti and meatballs/img_60.png\n",
      "Saving generated image to: tmp/food_sloss01/64/models/netG_300/generate/spaghetti and meatballs/img_61.png\n",
      "Saving generated image to: tmp/food_sloss01/64/models/netG_300/generate/spaghetti and meatballs/img_62.png\n",
      "Saving generated image to: tmp/food_sloss01/64/models/netG_300/generate/spaghetti and meatballs/img_63.png\n",
      "Saving generated image to: tmp/food_sloss01/64/models/netG_300/generate/spaghetti and meatballs/img_64.png\n",
      "Saving generated image to: tmp/food_sloss01/64/models/netG_300/generate/spaghetti and meatballs/img_65.png\n",
      "Saving generated image to: tmp/food_sloss01/64/models/netG_300/generate/spaghetti and meatballs/img_66.png\n",
      "Saving generated image to: tmp/food_sloss01/64/models/netG_300/generate/spaghetti and meatballs/img_67.png\n",
      "Saving generated image to: tmp/food_sloss01/64/models/netG_300/generate/spaghetti and meatballs/img_68.png\n",
      "Saving generated image to: tmp/food_sloss01/64/models/netG_300/generate/spaghetti and meatballs/img_69.png\n",
      "TEST: I think batch size should equal 1 here: batch_size = 1\n",
      "Saving generated image to: tmp/food_sloss01/64/models/netG_300/generate/spaghetti and meatballs/img_70.png\n",
      "Saving generated image to: tmp/food_sloss01/64/models/netG_300/generate/spaghetti and meatballs/img_71.png\n",
      "Saving generated image to: tmp/food_sloss01/64/models/netG_300/generate/spaghetti and meatballs/img_72.png\n",
      "Saving generated image to: tmp/food_sloss01/64/models/netG_300/generate/spaghetti and meatballs/img_73.png\n",
      "Saving generated image to: tmp/food_sloss01/64/models/netG_300/generate/spaghetti and meatballs/img_74.png\n",
      "Saving generated image to: tmp/food_sloss01/64/models/netG_300/generate/spaghetti and meatballs/img_75.png\n",
      "Saving generated image to: tmp/food_sloss01/64/models/netG_300/generate/spaghetti and meatballs/img_76.png\n",
      "Saving generated image to: tmp/food_sloss01/64/models/netG_300/generate/spaghetti and meatballs/img_77.png\n",
      "Saving generated image to: tmp/food_sloss01/64/models/netG_300/generate/spaghetti and meatballs/img_78.png\n",
      "Saving generated image to: tmp/food_sloss01/64/models/netG_300/generate/spaghetti and meatballs/img_79.png\n",
      "TEST: I think batch size should equal 1 here: batch_size = 1\n",
      "Saving generated image to: tmp/food_sloss01/64/models/netG_300/generate/spaghetti and meatballs/img_80.png\n",
      "Saving generated image to: tmp/food_sloss01/64/models/netG_300/generate/spaghetti and meatballs/img_81.png\n",
      "Saving generated image to: tmp/food_sloss01/64/models/netG_300/generate/spaghetti and meatballs/img_82.png\n",
      "Saving generated image to: tmp/food_sloss01/64/models/netG_300/generate/spaghetti and meatballs/img_83.png\n",
      "Saving generated image to: tmp/food_sloss01/64/models/netG_300/generate/spaghetti and meatballs/img_84.png\n",
      "Saving generated image to: tmp/food_sloss01/64/models/netG_300/generate/spaghetti and meatballs/img_85.png\n",
      "Saving generated image to: tmp/food_sloss01/64/models/netG_300/generate/spaghetti and meatballs/img_86.png\n",
      "Saving generated image to: tmp/food_sloss01/64/models/netG_300/generate/spaghetti and meatballs/img_87.png\n",
      "Saving generated image to: tmp/food_sloss01/64/models/netG_300/generate/spaghetti and meatballs/img_88.png\n",
      "Saving generated image to: tmp/food_sloss01/64/models/netG_300/generate/spaghetti and meatballs/img_89.png\n",
      "TEST: I think batch size should equal 1 here: batch_size = 1\n",
      "Saving generated image to: tmp/food_sloss01/64/models/netG_300/generate/spaghetti and meatballs/img_90.png\n",
      "Saving generated image to: tmp/food_sloss01/64/models/netG_300/generate/spaghetti and meatballs/img_91.png\n",
      "Saving generated image to: tmp/food_sloss01/64/models/netG_300/generate/spaghetti and meatballs/img_92.png\n",
      "Saving generated image to: tmp/food_sloss01/64/models/netG_300/generate/spaghetti and meatballs/img_93.png\n",
      "Saving generated image to: tmp/food_sloss01/64/models/netG_300/generate/spaghetti and meatballs/img_94.png\n",
      "Saving generated image to: tmp/food_sloss01/64/models/netG_300/generate/spaghetti and meatballs/img_95.png\n",
      "Saving generated image to: tmp/food_sloss01/64/models/netG_300/generate/spaghetti and meatballs/img_96.png\n",
      "Saving generated image to: tmp/food_sloss01/64/models/netG_300/generate/spaghetti and meatballs/img_97.png\n",
      "Saving generated image to: tmp/food_sloss01/64/models/netG_300/generate/spaghetti and meatballs/img_98.png\n",
      "Saving generated image to: tmp/food_sloss01/64/models/netG_300/generate/spaghetti and meatballs/img_99.png\n",
      "5\n",
      "TEST: I think batch size should equal 1 here: batch_size = 1\n",
      "Saving generated image to: tmp/food_sloss01/64/models/netG_300/generate/chili and cornbread/img_0.png\n",
      "Saving generated image to: tmp/food_sloss01/64/models/netG_300/generate/chili and cornbread/img_1.png\n",
      "Saving generated image to: tmp/food_sloss01/64/models/netG_300/generate/chili and cornbread/img_2.png\n",
      "Saving generated image to: tmp/food_sloss01/64/models/netG_300/generate/chili and cornbread/img_3.png\n",
      "Saving generated image to: tmp/food_sloss01/64/models/netG_300/generate/chili and cornbread/img_4.png\n",
      "Saving generated image to: tmp/food_sloss01/64/models/netG_300/generate/chili and cornbread/img_5.png\n",
      "Saving generated image to: tmp/food_sloss01/64/models/netG_300/generate/chili and cornbread/img_6.png\n",
      "Saving generated image to: tmp/food_sloss01/64/models/netG_300/generate/chili and cornbread/img_7.png\n",
      "Saving generated image to: tmp/food_sloss01/64/models/netG_300/generate/chili and cornbread/img_8.png\n",
      "Saving generated image to: tmp/food_sloss01/64/models/netG_300/generate/chili and cornbread/img_9.png\n",
      "TEST: I think batch size should equal 1 here: batch_size = 1\n",
      "Saving generated image to: tmp/food_sloss01/64/models/netG_300/generate/chili and cornbread/img_10.png\n",
      "Saving generated image to: tmp/food_sloss01/64/models/netG_300/generate/chili and cornbread/img_11.png\n",
      "Saving generated image to: tmp/food_sloss01/64/models/netG_300/generate/chili and cornbread/img_12.png\n",
      "Saving generated image to: tmp/food_sloss01/64/models/netG_300/generate/chili and cornbread/img_13.png\n",
      "Saving generated image to: tmp/food_sloss01/64/models/netG_300/generate/chili and cornbread/img_14.png\n",
      "Saving generated image to: tmp/food_sloss01/64/models/netG_300/generate/chili and cornbread/img_15.png\n",
      "Saving generated image to: tmp/food_sloss01/64/models/netG_300/generate/chili and cornbread/img_16.png\n",
      "Saving generated image to: tmp/food_sloss01/64/models/netG_300/generate/chili and cornbread/img_17.png\n",
      "Saving generated image to: tmp/food_sloss01/64/models/netG_300/generate/chili and cornbread/img_18.png\n",
      "Saving generated image to: tmp/food_sloss01/64/models/netG_300/generate/chili and cornbread/img_19.png\n",
      "TEST: I think batch size should equal 1 here: batch_size = 1\n",
      "Saving generated image to: tmp/food_sloss01/64/models/netG_300/generate/chili and cornbread/img_20.png\n",
      "Saving generated image to: tmp/food_sloss01/64/models/netG_300/generate/chili and cornbread/img_21.png\n",
      "Saving generated image to: tmp/food_sloss01/64/models/netG_300/generate/chili and cornbread/img_22.png\n",
      "Saving generated image to: tmp/food_sloss01/64/models/netG_300/generate/chili and cornbread/img_23.png\n",
      "Saving generated image to: tmp/food_sloss01/64/models/netG_300/generate/chili and cornbread/img_24.png\n",
      "Saving generated image to: tmp/food_sloss01/64/models/netG_300/generate/chili and cornbread/img_25.png\n",
      "Saving generated image to: tmp/food_sloss01/64/models/netG_300/generate/chili and cornbread/img_26.png\n",
      "Saving generated image to: tmp/food_sloss01/64/models/netG_300/generate/chili and cornbread/img_27.png\n",
      "Saving generated image to: tmp/food_sloss01/64/models/netG_300/generate/chili and cornbread/img_28.png\n",
      "Saving generated image to: tmp/food_sloss01/64/models/netG_300/generate/chili and cornbread/img_29.png\n",
      "TEST: I think batch size should equal 1 here: batch_size = 1\n",
      "Saving generated image to: tmp/food_sloss01/64/models/netG_300/generate/chili and cornbread/img_30.png\n",
      "Saving generated image to: tmp/food_sloss01/64/models/netG_300/generate/chili and cornbread/img_31.png\n",
      "Saving generated image to: tmp/food_sloss01/64/models/netG_300/generate/chili and cornbread/img_32.png\n",
      "Saving generated image to: tmp/food_sloss01/64/models/netG_300/generate/chili and cornbread/img_33.png\n",
      "Saving generated image to: tmp/food_sloss01/64/models/netG_300/generate/chili and cornbread/img_34.png\n",
      "Saving generated image to: tmp/food_sloss01/64/models/netG_300/generate/chili and cornbread/img_35.png\n",
      "Saving generated image to: tmp/food_sloss01/64/models/netG_300/generate/chili and cornbread/img_36.png\n",
      "Saving generated image to: tmp/food_sloss01/64/models/netG_300/generate/chili and cornbread/img_37.png\n",
      "Saving generated image to: tmp/food_sloss01/64/models/netG_300/generate/chili and cornbread/img_38.png\n",
      "Saving generated image to: tmp/food_sloss01/64/models/netG_300/generate/chili and cornbread/img_39.png\n",
      "TEST: I think batch size should equal 1 here: batch_size = 1\n",
      "Saving generated image to: tmp/food_sloss01/64/models/netG_300/generate/chili and cornbread/img_40.png\n",
      "Saving generated image to: tmp/food_sloss01/64/models/netG_300/generate/chili and cornbread/img_41.png\n",
      "Saving generated image to: tmp/food_sloss01/64/models/netG_300/generate/chili and cornbread/img_42.png\n",
      "Saving generated image to: tmp/food_sloss01/64/models/netG_300/generate/chili and cornbread/img_43.png\n",
      "Saving generated image to: tmp/food_sloss01/64/models/netG_300/generate/chili and cornbread/img_44.png\n",
      "Saving generated image to: tmp/food_sloss01/64/models/netG_300/generate/chili and cornbread/img_45.png\n",
      "Saving generated image to: tmp/food_sloss01/64/models/netG_300/generate/chili and cornbread/img_46.png\n",
      "Saving generated image to: tmp/food_sloss01/64/models/netG_300/generate/chili and cornbread/img_47.png\n",
      "Saving generated image to: tmp/food_sloss01/64/models/netG_300/generate/chili and cornbread/img_48.png\n",
      "Saving generated image to: tmp/food_sloss01/64/models/netG_300/generate/chili and cornbread/img_49.png\n",
      "TEST: I think batch size should equal 1 here: batch_size = 1\n",
      "Saving generated image to: tmp/food_sloss01/64/models/netG_300/generate/chili and cornbread/img_50.png\n",
      "Saving generated image to: tmp/food_sloss01/64/models/netG_300/generate/chili and cornbread/img_51.png\n",
      "Saving generated image to: tmp/food_sloss01/64/models/netG_300/generate/chili and cornbread/img_52.png\n",
      "Saving generated image to: tmp/food_sloss01/64/models/netG_300/generate/chili and cornbread/img_53.png\n",
      "Saving generated image to: tmp/food_sloss01/64/models/netG_300/generate/chili and cornbread/img_54.png\n",
      "Saving generated image to: tmp/food_sloss01/64/models/netG_300/generate/chili and cornbread/img_55.png\n",
      "Saving generated image to: tmp/food_sloss01/64/models/netG_300/generate/chili and cornbread/img_56.png\n",
      "Saving generated image to: tmp/food_sloss01/64/models/netG_300/generate/chili and cornbread/img_57.png\n",
      "Saving generated image to: tmp/food_sloss01/64/models/netG_300/generate/chili and cornbread/img_58.png\n",
      "Saving generated image to: tmp/food_sloss01/64/models/netG_300/generate/chili and cornbread/img_59.png\n",
      "TEST: I think batch size should equal 1 here: batch_size = 1\n",
      "Saving generated image to: tmp/food_sloss01/64/models/netG_300/generate/chili and cornbread/img_60.png\n",
      "Saving generated image to: tmp/food_sloss01/64/models/netG_300/generate/chili and cornbread/img_61.png\n",
      "Saving generated image to: tmp/food_sloss01/64/models/netG_300/generate/chili and cornbread/img_62.png\n",
      "Saving generated image to: tmp/food_sloss01/64/models/netG_300/generate/chili and cornbread/img_63.png\n",
      "Saving generated image to: tmp/food_sloss01/64/models/netG_300/generate/chili and cornbread/img_64.png\n",
      "Saving generated image to: tmp/food_sloss01/64/models/netG_300/generate/chili and cornbread/img_65.png\n",
      "Saving generated image to: tmp/food_sloss01/64/models/netG_300/generate/chili and cornbread/img_66.png\n",
      "Saving generated image to: tmp/food_sloss01/64/models/netG_300/generate/chili and cornbread/img_67.png\n",
      "Saving generated image to: tmp/food_sloss01/64/models/netG_300/generate/chili and cornbread/img_68.png\n",
      "Saving generated image to: tmp/food_sloss01/64/models/netG_300/generate/chili and cornbread/img_69.png\n",
      "TEST: I think batch size should equal 1 here: batch_size = 1\n",
      "Saving generated image to: tmp/food_sloss01/64/models/netG_300/generate/chili and cornbread/img_70.png\n",
      "Saving generated image to: tmp/food_sloss01/64/models/netG_300/generate/chili and cornbread/img_71.png\n",
      "Saving generated image to: tmp/food_sloss01/64/models/netG_300/generate/chili and cornbread/img_72.png\n",
      "Saving generated image to: tmp/food_sloss01/64/models/netG_300/generate/chili and cornbread/img_73.png\n",
      "Saving generated image to: tmp/food_sloss01/64/models/netG_300/generate/chili and cornbread/img_74.png\n",
      "Saving generated image to: tmp/food_sloss01/64/models/netG_300/generate/chili and cornbread/img_75.png\n",
      "Saving generated image to: tmp/food_sloss01/64/models/netG_300/generate/chili and cornbread/img_76.png\n",
      "Saving generated image to: tmp/food_sloss01/64/models/netG_300/generate/chili and cornbread/img_77.png\n",
      "Saving generated image to: tmp/food_sloss01/64/models/netG_300/generate/chili and cornbread/img_78.png\n",
      "Saving generated image to: tmp/food_sloss01/64/models/netG_300/generate/chili and cornbread/img_79.png\n",
      "TEST: I think batch size should equal 1 here: batch_size = 1\n",
      "Saving generated image to: tmp/food_sloss01/64/models/netG_300/generate/chili and cornbread/img_80.png\n",
      "Saving generated image to: tmp/food_sloss01/64/models/netG_300/generate/chili and cornbread/img_81.png\n",
      "Saving generated image to: tmp/food_sloss01/64/models/netG_300/generate/chili and cornbread/img_82.png\n",
      "Saving generated image to: tmp/food_sloss01/64/models/netG_300/generate/chili and cornbread/img_83.png\n",
      "Saving generated image to: tmp/food_sloss01/64/models/netG_300/generate/chili and cornbread/img_84.png\n",
      "Saving generated image to: tmp/food_sloss01/64/models/netG_300/generate/chili and cornbread/img_85.png\n",
      "Saving generated image to: tmp/food_sloss01/64/models/netG_300/generate/chili and cornbread/img_86.png\n",
      "Saving generated image to: tmp/food_sloss01/64/models/netG_300/generate/chili and cornbread/img_87.png\n",
      "Saving generated image to: tmp/food_sloss01/64/models/netG_300/generate/chili and cornbread/img_88.png\n",
      "Saving generated image to: tmp/food_sloss01/64/models/netG_300/generate/chili and cornbread/img_89.png\n",
      "TEST: I think batch size should equal 1 here: batch_size = 1\n",
      "Saving generated image to: tmp/food_sloss01/64/models/netG_300/generate/chili and cornbread/img_90.png\n",
      "Saving generated image to: tmp/food_sloss01/64/models/netG_300/generate/chili and cornbread/img_91.png\n",
      "Saving generated image to: tmp/food_sloss01/64/models/netG_300/generate/chili and cornbread/img_92.png\n",
      "Saving generated image to: tmp/food_sloss01/64/models/netG_300/generate/chili and cornbread/img_93.png\n",
      "Saving generated image to: tmp/food_sloss01/64/models/netG_300/generate/chili and cornbread/img_94.png\n",
      "Saving generated image to: tmp/food_sloss01/64/models/netG_300/generate/chili and cornbread/img_95.png\n",
      "Saving generated image to: tmp/food_sloss01/64/models/netG_300/generate/chili and cornbread/img_96.png\n",
      "Saving generated image to: tmp/food_sloss01/64/models/netG_300/generate/chili and cornbread/img_97.png\n",
      "Saving generated image to: tmp/food_sloss01/64/models/netG_300/generate/chili and cornbread/img_98.png\n",
      "Saving generated image to: tmp/food_sloss01/64/models/netG_300/generate/chili and cornbread/img_99.png\n",
      "6\n",
      "TEST: I think batch size should equal 1 here: batch_size = 1\n",
      "Saving generated image to: tmp/food_sloss01/64/models/netG_300/generate/tacos and guacamole/img_0.png\n",
      "Saving generated image to: tmp/food_sloss01/64/models/netG_300/generate/tacos and guacamole/img_1.png\n",
      "Saving generated image to: tmp/food_sloss01/64/models/netG_300/generate/tacos and guacamole/img_2.png\n",
      "Saving generated image to: tmp/food_sloss01/64/models/netG_300/generate/tacos and guacamole/img_3.png\n",
      "Saving generated image to: tmp/food_sloss01/64/models/netG_300/generate/tacos and guacamole/img_4.png\n",
      "Saving generated image to: tmp/food_sloss01/64/models/netG_300/generate/tacos and guacamole/img_5.png\n",
      "Saving generated image to: tmp/food_sloss01/64/models/netG_300/generate/tacos and guacamole/img_6.png\n",
      "Saving generated image to: tmp/food_sloss01/64/models/netG_300/generate/tacos and guacamole/img_7.png\n",
      "Saving generated image to: tmp/food_sloss01/64/models/netG_300/generate/tacos and guacamole/img_8.png\n",
      "Saving generated image to: tmp/food_sloss01/64/models/netG_300/generate/tacos and guacamole/img_9.png\n",
      "TEST: I think batch size should equal 1 here: batch_size = 1\n",
      "Saving generated image to: tmp/food_sloss01/64/models/netG_300/generate/tacos and guacamole/img_10.png\n",
      "Saving generated image to: tmp/food_sloss01/64/models/netG_300/generate/tacos and guacamole/img_11.png\n",
      "Saving generated image to: tmp/food_sloss01/64/models/netG_300/generate/tacos and guacamole/img_12.png\n",
      "Saving generated image to: tmp/food_sloss01/64/models/netG_300/generate/tacos and guacamole/img_13.png\n",
      "Saving generated image to: tmp/food_sloss01/64/models/netG_300/generate/tacos and guacamole/img_14.png\n",
      "Saving generated image to: tmp/food_sloss01/64/models/netG_300/generate/tacos and guacamole/img_15.png\n",
      "Saving generated image to: tmp/food_sloss01/64/models/netG_300/generate/tacos and guacamole/img_16.png\n",
      "Saving generated image to: tmp/food_sloss01/64/models/netG_300/generate/tacos and guacamole/img_17.png\n",
      "Saving generated image to: tmp/food_sloss01/64/models/netG_300/generate/tacos and guacamole/img_18.png\n",
      "Saving generated image to: tmp/food_sloss01/64/models/netG_300/generate/tacos and guacamole/img_19.png\n",
      "TEST: I think batch size should equal 1 here: batch_size = 1\n",
      "Saving generated image to: tmp/food_sloss01/64/models/netG_300/generate/tacos and guacamole/img_20.png\n",
      "Saving generated image to: tmp/food_sloss01/64/models/netG_300/generate/tacos and guacamole/img_21.png\n",
      "Saving generated image to: tmp/food_sloss01/64/models/netG_300/generate/tacos and guacamole/img_22.png\n",
      "Saving generated image to: tmp/food_sloss01/64/models/netG_300/generate/tacos and guacamole/img_23.png\n",
      "Saving generated image to: tmp/food_sloss01/64/models/netG_300/generate/tacos and guacamole/img_24.png\n",
      "Saving generated image to: tmp/food_sloss01/64/models/netG_300/generate/tacos and guacamole/img_25.png\n",
      "Saving generated image to: tmp/food_sloss01/64/models/netG_300/generate/tacos and guacamole/img_26.png\n",
      "Saving generated image to: tmp/food_sloss01/64/models/netG_300/generate/tacos and guacamole/img_27.png\n",
      "Saving generated image to: tmp/food_sloss01/64/models/netG_300/generate/tacos and guacamole/img_28.png\n",
      "Saving generated image to: tmp/food_sloss01/64/models/netG_300/generate/tacos and guacamole/img_29.png\n",
      "TEST: I think batch size should equal 1 here: batch_size = 1\n",
      "Saving generated image to: tmp/food_sloss01/64/models/netG_300/generate/tacos and guacamole/img_30.png\n",
      "Saving generated image to: tmp/food_sloss01/64/models/netG_300/generate/tacos and guacamole/img_31.png\n",
      "Saving generated image to: tmp/food_sloss01/64/models/netG_300/generate/tacos and guacamole/img_32.png\n",
      "Saving generated image to: tmp/food_sloss01/64/models/netG_300/generate/tacos and guacamole/img_33.png\n",
      "Saving generated image to: tmp/food_sloss01/64/models/netG_300/generate/tacos and guacamole/img_34.png\n",
      "Saving generated image to: tmp/food_sloss01/64/models/netG_300/generate/tacos and guacamole/img_35.png\n",
      "Saving generated image to: tmp/food_sloss01/64/models/netG_300/generate/tacos and guacamole/img_36.png\n",
      "Saving generated image to: tmp/food_sloss01/64/models/netG_300/generate/tacos and guacamole/img_37.png\n",
      "Saving generated image to: tmp/food_sloss01/64/models/netG_300/generate/tacos and guacamole/img_38.png\n",
      "Saving generated image to: tmp/food_sloss01/64/models/netG_300/generate/tacos and guacamole/img_39.png\n",
      "TEST: I think batch size should equal 1 here: batch_size = 1\n",
      "Saving generated image to: tmp/food_sloss01/64/models/netG_300/generate/tacos and guacamole/img_40.png\n",
      "Saving generated image to: tmp/food_sloss01/64/models/netG_300/generate/tacos and guacamole/img_41.png\n",
      "Saving generated image to: tmp/food_sloss01/64/models/netG_300/generate/tacos and guacamole/img_42.png\n",
      "Saving generated image to: tmp/food_sloss01/64/models/netG_300/generate/tacos and guacamole/img_43.png\n",
      "Saving generated image to: tmp/food_sloss01/64/models/netG_300/generate/tacos and guacamole/img_44.png\n",
      "Saving generated image to: tmp/food_sloss01/64/models/netG_300/generate/tacos and guacamole/img_45.png\n",
      "Saving generated image to: tmp/food_sloss01/64/models/netG_300/generate/tacos and guacamole/img_46.png\n",
      "Saving generated image to: tmp/food_sloss01/64/models/netG_300/generate/tacos and guacamole/img_47.png\n",
      "Saving generated image to: tmp/food_sloss01/64/models/netG_300/generate/tacos and guacamole/img_48.png\n",
      "Saving generated image to: tmp/food_sloss01/64/models/netG_300/generate/tacos and guacamole/img_49.png\n",
      "TEST: I think batch size should equal 1 here: batch_size = 1\n",
      "Saving generated image to: tmp/food_sloss01/64/models/netG_300/generate/tacos and guacamole/img_50.png\n",
      "Saving generated image to: tmp/food_sloss01/64/models/netG_300/generate/tacos and guacamole/img_51.png\n",
      "Saving generated image to: tmp/food_sloss01/64/models/netG_300/generate/tacos and guacamole/img_52.png\n",
      "Saving generated image to: tmp/food_sloss01/64/models/netG_300/generate/tacos and guacamole/img_53.png\n",
      "Saving generated image to: tmp/food_sloss01/64/models/netG_300/generate/tacos and guacamole/img_54.png\n",
      "Saving generated image to: tmp/food_sloss01/64/models/netG_300/generate/tacos and guacamole/img_55.png\n",
      "Saving generated image to: tmp/food_sloss01/64/models/netG_300/generate/tacos and guacamole/img_56.png\n",
      "Saving generated image to: tmp/food_sloss01/64/models/netG_300/generate/tacos and guacamole/img_57.png\n",
      "Saving generated image to: tmp/food_sloss01/64/models/netG_300/generate/tacos and guacamole/img_58.png\n",
      "Saving generated image to: tmp/food_sloss01/64/models/netG_300/generate/tacos and guacamole/img_59.png\n",
      "TEST: I think batch size should equal 1 here: batch_size = 1\n",
      "Saving generated image to: tmp/food_sloss01/64/models/netG_300/generate/tacos and guacamole/img_60.png\n",
      "Saving generated image to: tmp/food_sloss01/64/models/netG_300/generate/tacos and guacamole/img_61.png\n",
      "Saving generated image to: tmp/food_sloss01/64/models/netG_300/generate/tacos and guacamole/img_62.png\n",
      "Saving generated image to: tmp/food_sloss01/64/models/netG_300/generate/tacos and guacamole/img_63.png\n",
      "Saving generated image to: tmp/food_sloss01/64/models/netG_300/generate/tacos and guacamole/img_64.png\n",
      "Saving generated image to: tmp/food_sloss01/64/models/netG_300/generate/tacos and guacamole/img_65.png\n",
      "Saving generated image to: tmp/food_sloss01/64/models/netG_300/generate/tacos and guacamole/img_66.png\n",
      "Saving generated image to: tmp/food_sloss01/64/models/netG_300/generate/tacos and guacamole/img_67.png\n",
      "Saving generated image to: tmp/food_sloss01/64/models/netG_300/generate/tacos and guacamole/img_68.png\n",
      "Saving generated image to: tmp/food_sloss01/64/models/netG_300/generate/tacos and guacamole/img_69.png\n",
      "TEST: I think batch size should equal 1 here: batch_size = 1\n",
      "Saving generated image to: tmp/food_sloss01/64/models/netG_300/generate/tacos and guacamole/img_70.png\n",
      "Saving generated image to: tmp/food_sloss01/64/models/netG_300/generate/tacos and guacamole/img_71.png\n",
      "Saving generated image to: tmp/food_sloss01/64/models/netG_300/generate/tacos and guacamole/img_72.png\n",
      "Saving generated image to: tmp/food_sloss01/64/models/netG_300/generate/tacos and guacamole/img_73.png\n",
      "Saving generated image to: tmp/food_sloss01/64/models/netG_300/generate/tacos and guacamole/img_74.png\n",
      "Saving generated image to: tmp/food_sloss01/64/models/netG_300/generate/tacos and guacamole/img_75.png\n",
      "Saving generated image to: tmp/food_sloss01/64/models/netG_300/generate/tacos and guacamole/img_76.png\n",
      "Saving generated image to: tmp/food_sloss01/64/models/netG_300/generate/tacos and guacamole/img_77.png\n",
      "Saving generated image to: tmp/food_sloss01/64/models/netG_300/generate/tacos and guacamole/img_78.png\n",
      "Saving generated image to: tmp/food_sloss01/64/models/netG_300/generate/tacos and guacamole/img_79.png\n",
      "TEST: I think batch size should equal 1 here: batch_size = 1\n",
      "Saving generated image to: tmp/food_sloss01/64/models/netG_300/generate/tacos and guacamole/img_80.png\n",
      "Saving generated image to: tmp/food_sloss01/64/models/netG_300/generate/tacos and guacamole/img_81.png\n",
      "Saving generated image to: tmp/food_sloss01/64/models/netG_300/generate/tacos and guacamole/img_82.png\n",
      "Saving generated image to: tmp/food_sloss01/64/models/netG_300/generate/tacos and guacamole/img_83.png\n",
      "Saving generated image to: tmp/food_sloss01/64/models/netG_300/generate/tacos and guacamole/img_84.png\n",
      "Saving generated image to: tmp/food_sloss01/64/models/netG_300/generate/tacos and guacamole/img_85.png\n",
      "Saving generated image to: tmp/food_sloss01/64/models/netG_300/generate/tacos and guacamole/img_86.png\n",
      "Saving generated image to: tmp/food_sloss01/64/models/netG_300/generate/tacos and guacamole/img_87.png\n",
      "Saving generated image to: tmp/food_sloss01/64/models/netG_300/generate/tacos and guacamole/img_88.png\n",
      "Saving generated image to: tmp/food_sloss01/64/models/netG_300/generate/tacos and guacamole/img_89.png\n",
      "TEST: I think batch size should equal 1 here: batch_size = 1\n",
      "Saving generated image to: tmp/food_sloss01/64/models/netG_300/generate/tacos and guacamole/img_90.png\n",
      "Saving generated image to: tmp/food_sloss01/64/models/netG_300/generate/tacos and guacamole/img_91.png\n",
      "Saving generated image to: tmp/food_sloss01/64/models/netG_300/generate/tacos and guacamole/img_92.png\n",
      "Saving generated image to: tmp/food_sloss01/64/models/netG_300/generate/tacos and guacamole/img_93.png\n",
      "Saving generated image to: tmp/food_sloss01/64/models/netG_300/generate/tacos and guacamole/img_94.png\n",
      "Saving generated image to: tmp/food_sloss01/64/models/netG_300/generate/tacos and guacamole/img_95.png\n",
      "Saving generated image to: tmp/food_sloss01/64/models/netG_300/generate/tacos and guacamole/img_96.png\n",
      "Saving generated image to: tmp/food_sloss01/64/models/netG_300/generate/tacos and guacamole/img_97.png\n",
      "Saving generated image to: tmp/food_sloss01/64/models/netG_300/generate/tacos and guacamole/img_98.png\n",
      "Saving generated image to: tmp/food_sloss01/64/models/netG_300/generate/tacos and guacamole/img_99.png\n",
      "7\n",
      "TEST: I think batch size should equal 1 here: batch_size = 1\n",
      "Saving generated image to: tmp/food_sloss01/64/models/netG_300/generate/grilled cheese and tomato soup/img_0.png\n",
      "Saving generated image to: tmp/food_sloss01/64/models/netG_300/generate/grilled cheese and tomato soup/img_1.png\n",
      "Saving generated image to: tmp/food_sloss01/64/models/netG_300/generate/grilled cheese and tomato soup/img_2.png\n",
      "Saving generated image to: tmp/food_sloss01/64/models/netG_300/generate/grilled cheese and tomato soup/img_3.png\n",
      "Saving generated image to: tmp/food_sloss01/64/models/netG_300/generate/grilled cheese and tomato soup/img_4.png\n",
      "Saving generated image to: tmp/food_sloss01/64/models/netG_300/generate/grilled cheese and tomato soup/img_5.png\n",
      "Saving generated image to: tmp/food_sloss01/64/models/netG_300/generate/grilled cheese and tomato soup/img_6.png\n",
      "Saving generated image to: tmp/food_sloss01/64/models/netG_300/generate/grilled cheese and tomato soup/img_7.png\n",
      "Saving generated image to: tmp/food_sloss01/64/models/netG_300/generate/grilled cheese and tomato soup/img_8.png\n",
      "Saving generated image to: tmp/food_sloss01/64/models/netG_300/generate/grilled cheese and tomato soup/img_9.png\n",
      "TEST: I think batch size should equal 1 here: batch_size = 1\n",
      "Saving generated image to: tmp/food_sloss01/64/models/netG_300/generate/grilled cheese and tomato soup/img_10.png\n",
      "Saving generated image to: tmp/food_sloss01/64/models/netG_300/generate/grilled cheese and tomato soup/img_11.png\n",
      "Saving generated image to: tmp/food_sloss01/64/models/netG_300/generate/grilled cheese and tomato soup/img_12.png\n",
      "Saving generated image to: tmp/food_sloss01/64/models/netG_300/generate/grilled cheese and tomato soup/img_13.png\n",
      "Saving generated image to: tmp/food_sloss01/64/models/netG_300/generate/grilled cheese and tomato soup/img_14.png\n",
      "Saving generated image to: tmp/food_sloss01/64/models/netG_300/generate/grilled cheese and tomato soup/img_15.png\n",
      "Saving generated image to: tmp/food_sloss01/64/models/netG_300/generate/grilled cheese and tomato soup/img_16.png\n",
      "Saving generated image to: tmp/food_sloss01/64/models/netG_300/generate/grilled cheese and tomato soup/img_17.png\n",
      "Saving generated image to: tmp/food_sloss01/64/models/netG_300/generate/grilled cheese and tomato soup/img_18.png\n",
      "Saving generated image to: tmp/food_sloss01/64/models/netG_300/generate/grilled cheese and tomato soup/img_19.png\n",
      "TEST: I think batch size should equal 1 here: batch_size = 1\n",
      "Saving generated image to: tmp/food_sloss01/64/models/netG_300/generate/grilled cheese and tomato soup/img_20.png\n",
      "Saving generated image to: tmp/food_sloss01/64/models/netG_300/generate/grilled cheese and tomato soup/img_21.png\n",
      "Saving generated image to: tmp/food_sloss01/64/models/netG_300/generate/grilled cheese and tomato soup/img_22.png\n",
      "Saving generated image to: tmp/food_sloss01/64/models/netG_300/generate/grilled cheese and tomato soup/img_23.png\n",
      "Saving generated image to: tmp/food_sloss01/64/models/netG_300/generate/grilled cheese and tomato soup/img_24.png\n",
      "Saving generated image to: tmp/food_sloss01/64/models/netG_300/generate/grilled cheese and tomato soup/img_25.png\n",
      "Saving generated image to: tmp/food_sloss01/64/models/netG_300/generate/grilled cheese and tomato soup/img_26.png\n",
      "Saving generated image to: tmp/food_sloss01/64/models/netG_300/generate/grilled cheese and tomato soup/img_27.png\n",
      "Saving generated image to: tmp/food_sloss01/64/models/netG_300/generate/grilled cheese and tomato soup/img_28.png\n",
      "Saving generated image to: tmp/food_sloss01/64/models/netG_300/generate/grilled cheese and tomato soup/img_29.png\n",
      "TEST: I think batch size should equal 1 here: batch_size = 1\n",
      "Saving generated image to: tmp/food_sloss01/64/models/netG_300/generate/grilled cheese and tomato soup/img_30.png\n",
      "Saving generated image to: tmp/food_sloss01/64/models/netG_300/generate/grilled cheese and tomato soup/img_31.png\n",
      "Saving generated image to: tmp/food_sloss01/64/models/netG_300/generate/grilled cheese and tomato soup/img_32.png\n",
      "Saving generated image to: tmp/food_sloss01/64/models/netG_300/generate/grilled cheese and tomato soup/img_33.png\n",
      "Saving generated image to: tmp/food_sloss01/64/models/netG_300/generate/grilled cheese and tomato soup/img_34.png\n",
      "Saving generated image to: tmp/food_sloss01/64/models/netG_300/generate/grilled cheese and tomato soup/img_35.png\n",
      "Saving generated image to: tmp/food_sloss01/64/models/netG_300/generate/grilled cheese and tomato soup/img_36.png\n",
      "Saving generated image to: tmp/food_sloss01/64/models/netG_300/generate/grilled cheese and tomato soup/img_37.png\n",
      "Saving generated image to: tmp/food_sloss01/64/models/netG_300/generate/grilled cheese and tomato soup/img_38.png\n",
      "Saving generated image to: tmp/food_sloss01/64/models/netG_300/generate/grilled cheese and tomato soup/img_39.png\n",
      "TEST: I think batch size should equal 1 here: batch_size = 1\n",
      "Saving generated image to: tmp/food_sloss01/64/models/netG_300/generate/grilled cheese and tomato soup/img_40.png\n",
      "Saving generated image to: tmp/food_sloss01/64/models/netG_300/generate/grilled cheese and tomato soup/img_41.png\n",
      "Saving generated image to: tmp/food_sloss01/64/models/netG_300/generate/grilled cheese and tomato soup/img_42.png\n",
      "Saving generated image to: tmp/food_sloss01/64/models/netG_300/generate/grilled cheese and tomato soup/img_43.png\n",
      "Saving generated image to: tmp/food_sloss01/64/models/netG_300/generate/grilled cheese and tomato soup/img_44.png\n",
      "Saving generated image to: tmp/food_sloss01/64/models/netG_300/generate/grilled cheese and tomato soup/img_45.png\n",
      "Saving generated image to: tmp/food_sloss01/64/models/netG_300/generate/grilled cheese and tomato soup/img_46.png\n",
      "Saving generated image to: tmp/food_sloss01/64/models/netG_300/generate/grilled cheese and tomato soup/img_47.png\n",
      "Saving generated image to: tmp/food_sloss01/64/models/netG_300/generate/grilled cheese and tomato soup/img_48.png\n",
      "Saving generated image to: tmp/food_sloss01/64/models/netG_300/generate/grilled cheese and tomato soup/img_49.png\n",
      "TEST: I think batch size should equal 1 here: batch_size = 1\n",
      "Saving generated image to: tmp/food_sloss01/64/models/netG_300/generate/grilled cheese and tomato soup/img_50.png\n",
      "Saving generated image to: tmp/food_sloss01/64/models/netG_300/generate/grilled cheese and tomato soup/img_51.png\n",
      "Saving generated image to: tmp/food_sloss01/64/models/netG_300/generate/grilled cheese and tomato soup/img_52.png\n",
      "Saving generated image to: tmp/food_sloss01/64/models/netG_300/generate/grilled cheese and tomato soup/img_53.png\n",
      "Saving generated image to: tmp/food_sloss01/64/models/netG_300/generate/grilled cheese and tomato soup/img_54.png\n",
      "Saving generated image to: tmp/food_sloss01/64/models/netG_300/generate/grilled cheese and tomato soup/img_55.png\n",
      "Saving generated image to: tmp/food_sloss01/64/models/netG_300/generate/grilled cheese and tomato soup/img_56.png\n",
      "Saving generated image to: tmp/food_sloss01/64/models/netG_300/generate/grilled cheese and tomato soup/img_57.png\n",
      "Saving generated image to: tmp/food_sloss01/64/models/netG_300/generate/grilled cheese and tomato soup/img_58.png\n",
      "Saving generated image to: tmp/food_sloss01/64/models/netG_300/generate/grilled cheese and tomato soup/img_59.png\n",
      "TEST: I think batch size should equal 1 here: batch_size = 1\n",
      "Saving generated image to: tmp/food_sloss01/64/models/netG_300/generate/grilled cheese and tomato soup/img_60.png\n",
      "Saving generated image to: tmp/food_sloss01/64/models/netG_300/generate/grilled cheese and tomato soup/img_61.png\n",
      "Saving generated image to: tmp/food_sloss01/64/models/netG_300/generate/grilled cheese and tomato soup/img_62.png\n",
      "Saving generated image to: tmp/food_sloss01/64/models/netG_300/generate/grilled cheese and tomato soup/img_63.png\n",
      "Saving generated image to: tmp/food_sloss01/64/models/netG_300/generate/grilled cheese and tomato soup/img_64.png\n",
      "Saving generated image to: tmp/food_sloss01/64/models/netG_300/generate/grilled cheese and tomato soup/img_65.png\n",
      "Saving generated image to: tmp/food_sloss01/64/models/netG_300/generate/grilled cheese and tomato soup/img_66.png\n",
      "Saving generated image to: tmp/food_sloss01/64/models/netG_300/generate/grilled cheese and tomato soup/img_67.png\n",
      "Saving generated image to: tmp/food_sloss01/64/models/netG_300/generate/grilled cheese and tomato soup/img_68.png\n",
      "Saving generated image to: tmp/food_sloss01/64/models/netG_300/generate/grilled cheese and tomato soup/img_69.png\n",
      "TEST: I think batch size should equal 1 here: batch_size = 1\n",
      "Saving generated image to: tmp/food_sloss01/64/models/netG_300/generate/grilled cheese and tomato soup/img_70.png\n",
      "Saving generated image to: tmp/food_sloss01/64/models/netG_300/generate/grilled cheese and tomato soup/img_71.png\n",
      "Saving generated image to: tmp/food_sloss01/64/models/netG_300/generate/grilled cheese and tomato soup/img_72.png\n",
      "Saving generated image to: tmp/food_sloss01/64/models/netG_300/generate/grilled cheese and tomato soup/img_73.png\n",
      "Saving generated image to: tmp/food_sloss01/64/models/netG_300/generate/grilled cheese and tomato soup/img_74.png\n",
      "Saving generated image to: tmp/food_sloss01/64/models/netG_300/generate/grilled cheese and tomato soup/img_75.png\n",
      "Saving generated image to: tmp/food_sloss01/64/models/netG_300/generate/grilled cheese and tomato soup/img_76.png\n",
      "Saving generated image to: tmp/food_sloss01/64/models/netG_300/generate/grilled cheese and tomato soup/img_77.png\n",
      "Saving generated image to: tmp/food_sloss01/64/models/netG_300/generate/grilled cheese and tomato soup/img_78.png\n",
      "Saving generated image to: tmp/food_sloss01/64/models/netG_300/generate/grilled cheese and tomato soup/img_79.png\n",
      "TEST: I think batch size should equal 1 here: batch_size = 1\n",
      "Saving generated image to: tmp/food_sloss01/64/models/netG_300/generate/grilled cheese and tomato soup/img_80.png\n",
      "Saving generated image to: tmp/food_sloss01/64/models/netG_300/generate/grilled cheese and tomato soup/img_81.png\n",
      "Saving generated image to: tmp/food_sloss01/64/models/netG_300/generate/grilled cheese and tomato soup/img_82.png\n",
      "Saving generated image to: tmp/food_sloss01/64/models/netG_300/generate/grilled cheese and tomato soup/img_83.png\n",
      "Saving generated image to: tmp/food_sloss01/64/models/netG_300/generate/grilled cheese and tomato soup/img_84.png\n",
      "Saving generated image to: tmp/food_sloss01/64/models/netG_300/generate/grilled cheese and tomato soup/img_85.png\n",
      "Saving generated image to: tmp/food_sloss01/64/models/netG_300/generate/grilled cheese and tomato soup/img_86.png\n",
      "Saving generated image to: tmp/food_sloss01/64/models/netG_300/generate/grilled cheese and tomato soup/img_87.png\n",
      "Saving generated image to: tmp/food_sloss01/64/models/netG_300/generate/grilled cheese and tomato soup/img_88.png\n",
      "Saving generated image to: tmp/food_sloss01/64/models/netG_300/generate/grilled cheese and tomato soup/img_89.png\n",
      "TEST: I think batch size should equal 1 here: batch_size = 1\n",
      "Saving generated image to: tmp/food_sloss01/64/models/netG_300/generate/grilled cheese and tomato soup/img_90.png\n",
      "Saving generated image to: tmp/food_sloss01/64/models/netG_300/generate/grilled cheese and tomato soup/img_91.png\n",
      "Saving generated image to: tmp/food_sloss01/64/models/netG_300/generate/grilled cheese and tomato soup/img_92.png\n",
      "Saving generated image to: tmp/food_sloss01/64/models/netG_300/generate/grilled cheese and tomato soup/img_93.png\n",
      "Saving generated image to: tmp/food_sloss01/64/models/netG_300/generate/grilled cheese and tomato soup/img_94.png\n",
      "Saving generated image to: tmp/food_sloss01/64/models/netG_300/generate/grilled cheese and tomato soup/img_95.png\n",
      "Saving generated image to: tmp/food_sloss01/64/models/netG_300/generate/grilled cheese and tomato soup/img_96.png\n",
      "Saving generated image to: tmp/food_sloss01/64/models/netG_300/generate/grilled cheese and tomato soup/img_97.png\n",
      "Saving generated image to: tmp/food_sloss01/64/models/netG_300/generate/grilled cheese and tomato soup/img_98.png\n",
      "Saving generated image to: tmp/food_sloss01/64/models/netG_300/generate/grilled cheese and tomato soup/img_99.png\n",
      "8\n",
      "TEST: I think batch size should equal 1 here: batch_size = 1\n",
      "Saving generated image to: tmp/food_sloss01/64/models/netG_300/generate/hamburger and fries/img_0.png\n",
      "Saving generated image to: tmp/food_sloss01/64/models/netG_300/generate/hamburger and fries/img_1.png\n",
      "Saving generated image to: tmp/food_sloss01/64/models/netG_300/generate/hamburger and fries/img_2.png\n",
      "Saving generated image to: tmp/food_sloss01/64/models/netG_300/generate/hamburger and fries/img_3.png\n",
      "Saving generated image to: tmp/food_sloss01/64/models/netG_300/generate/hamburger and fries/img_4.png\n",
      "Saving generated image to: tmp/food_sloss01/64/models/netG_300/generate/hamburger and fries/img_5.png\n",
      "Saving generated image to: tmp/food_sloss01/64/models/netG_300/generate/hamburger and fries/img_6.png\n",
      "Saving generated image to: tmp/food_sloss01/64/models/netG_300/generate/hamburger and fries/img_7.png\n",
      "Saving generated image to: tmp/food_sloss01/64/models/netG_300/generate/hamburger and fries/img_8.png\n",
      "Saving generated image to: tmp/food_sloss01/64/models/netG_300/generate/hamburger and fries/img_9.png\n",
      "TEST: I think batch size should equal 1 here: batch_size = 1\n",
      "Saving generated image to: tmp/food_sloss01/64/models/netG_300/generate/hamburger and fries/img_10.png\n",
      "Saving generated image to: tmp/food_sloss01/64/models/netG_300/generate/hamburger and fries/img_11.png\n",
      "Saving generated image to: tmp/food_sloss01/64/models/netG_300/generate/hamburger and fries/img_12.png\n",
      "Saving generated image to: tmp/food_sloss01/64/models/netG_300/generate/hamburger and fries/img_13.png\n",
      "Saving generated image to: tmp/food_sloss01/64/models/netG_300/generate/hamburger and fries/img_14.png\n",
      "Saving generated image to: tmp/food_sloss01/64/models/netG_300/generate/hamburger and fries/img_15.png\n",
      "Saving generated image to: tmp/food_sloss01/64/models/netG_300/generate/hamburger and fries/img_16.png\n",
      "Saving generated image to: tmp/food_sloss01/64/models/netG_300/generate/hamburger and fries/img_17.png\n",
      "Saving generated image to: tmp/food_sloss01/64/models/netG_300/generate/hamburger and fries/img_18.png\n",
      "Saving generated image to: tmp/food_sloss01/64/models/netG_300/generate/hamburger and fries/img_19.png\n",
      "TEST: I think batch size should equal 1 here: batch_size = 1\n",
      "Saving generated image to: tmp/food_sloss01/64/models/netG_300/generate/hamburger and fries/img_20.png\n",
      "Saving generated image to: tmp/food_sloss01/64/models/netG_300/generate/hamburger and fries/img_21.png\n",
      "Saving generated image to: tmp/food_sloss01/64/models/netG_300/generate/hamburger and fries/img_22.png\n",
      "Saving generated image to: tmp/food_sloss01/64/models/netG_300/generate/hamburger and fries/img_23.png\n",
      "Saving generated image to: tmp/food_sloss01/64/models/netG_300/generate/hamburger and fries/img_24.png\n",
      "Saving generated image to: tmp/food_sloss01/64/models/netG_300/generate/hamburger and fries/img_25.png\n",
      "Saving generated image to: tmp/food_sloss01/64/models/netG_300/generate/hamburger and fries/img_26.png\n",
      "Saving generated image to: tmp/food_sloss01/64/models/netG_300/generate/hamburger and fries/img_27.png\n",
      "Saving generated image to: tmp/food_sloss01/64/models/netG_300/generate/hamburger and fries/img_28.png\n",
      "Saving generated image to: tmp/food_sloss01/64/models/netG_300/generate/hamburger and fries/img_29.png\n",
      "TEST: I think batch size should equal 1 here: batch_size = 1\n",
      "Saving generated image to: tmp/food_sloss01/64/models/netG_300/generate/hamburger and fries/img_30.png\n",
      "Saving generated image to: tmp/food_sloss01/64/models/netG_300/generate/hamburger and fries/img_31.png\n",
      "Saving generated image to: tmp/food_sloss01/64/models/netG_300/generate/hamburger and fries/img_32.png\n",
      "Saving generated image to: tmp/food_sloss01/64/models/netG_300/generate/hamburger and fries/img_33.png\n",
      "Saving generated image to: tmp/food_sloss01/64/models/netG_300/generate/hamburger and fries/img_34.png\n",
      "Saving generated image to: tmp/food_sloss01/64/models/netG_300/generate/hamburger and fries/img_35.png\n",
      "Saving generated image to: tmp/food_sloss01/64/models/netG_300/generate/hamburger and fries/img_36.png\n",
      "Saving generated image to: tmp/food_sloss01/64/models/netG_300/generate/hamburger and fries/img_37.png\n",
      "Saving generated image to: tmp/food_sloss01/64/models/netG_300/generate/hamburger and fries/img_38.png\n",
      "Saving generated image to: tmp/food_sloss01/64/models/netG_300/generate/hamburger and fries/img_39.png\n",
      "TEST: I think batch size should equal 1 here: batch_size = 1\n",
      "Saving generated image to: tmp/food_sloss01/64/models/netG_300/generate/hamburger and fries/img_40.png\n",
      "Saving generated image to: tmp/food_sloss01/64/models/netG_300/generate/hamburger and fries/img_41.png\n",
      "Saving generated image to: tmp/food_sloss01/64/models/netG_300/generate/hamburger and fries/img_42.png\n",
      "Saving generated image to: tmp/food_sloss01/64/models/netG_300/generate/hamburger and fries/img_43.png\n",
      "Saving generated image to: tmp/food_sloss01/64/models/netG_300/generate/hamburger and fries/img_44.png\n",
      "Saving generated image to: tmp/food_sloss01/64/models/netG_300/generate/hamburger and fries/img_45.png\n",
      "Saving generated image to: tmp/food_sloss01/64/models/netG_300/generate/hamburger and fries/img_46.png\n",
      "Saving generated image to: tmp/food_sloss01/64/models/netG_300/generate/hamburger and fries/img_47.png\n",
      "Saving generated image to: tmp/food_sloss01/64/models/netG_300/generate/hamburger and fries/img_48.png\n",
      "Saving generated image to: tmp/food_sloss01/64/models/netG_300/generate/hamburger and fries/img_49.png\n",
      "TEST: I think batch size should equal 1 here: batch_size = 1\n",
      "Saving generated image to: tmp/food_sloss01/64/models/netG_300/generate/hamburger and fries/img_50.png\n",
      "Saving generated image to: tmp/food_sloss01/64/models/netG_300/generate/hamburger and fries/img_51.png\n",
      "Saving generated image to: tmp/food_sloss01/64/models/netG_300/generate/hamburger and fries/img_52.png\n",
      "Saving generated image to: tmp/food_sloss01/64/models/netG_300/generate/hamburger and fries/img_53.png\n",
      "Saving generated image to: tmp/food_sloss01/64/models/netG_300/generate/hamburger and fries/img_54.png\n",
      "Saving generated image to: tmp/food_sloss01/64/models/netG_300/generate/hamburger and fries/img_55.png\n",
      "Saving generated image to: tmp/food_sloss01/64/models/netG_300/generate/hamburger and fries/img_56.png\n",
      "Saving generated image to: tmp/food_sloss01/64/models/netG_300/generate/hamburger and fries/img_57.png\n",
      "Saving generated image to: tmp/food_sloss01/64/models/netG_300/generate/hamburger and fries/img_58.png\n",
      "Saving generated image to: tmp/food_sloss01/64/models/netG_300/generate/hamburger and fries/img_59.png\n",
      "TEST: I think batch size should equal 1 here: batch_size = 1\n",
      "Saving generated image to: tmp/food_sloss01/64/models/netG_300/generate/hamburger and fries/img_60.png\n",
      "Saving generated image to: tmp/food_sloss01/64/models/netG_300/generate/hamburger and fries/img_61.png\n",
      "Saving generated image to: tmp/food_sloss01/64/models/netG_300/generate/hamburger and fries/img_62.png\n",
      "Saving generated image to: tmp/food_sloss01/64/models/netG_300/generate/hamburger and fries/img_63.png\n",
      "Saving generated image to: tmp/food_sloss01/64/models/netG_300/generate/hamburger and fries/img_64.png\n",
      "Saving generated image to: tmp/food_sloss01/64/models/netG_300/generate/hamburger and fries/img_65.png\n",
      "Saving generated image to: tmp/food_sloss01/64/models/netG_300/generate/hamburger and fries/img_66.png\n",
      "Saving generated image to: tmp/food_sloss01/64/models/netG_300/generate/hamburger and fries/img_67.png\n",
      "Saving generated image to: tmp/food_sloss01/64/models/netG_300/generate/hamburger and fries/img_68.png\n",
      "Saving generated image to: tmp/food_sloss01/64/models/netG_300/generate/hamburger and fries/img_69.png\n",
      "TEST: I think batch size should equal 1 here: batch_size = 1\n",
      "Saving generated image to: tmp/food_sloss01/64/models/netG_300/generate/hamburger and fries/img_70.png\n",
      "Saving generated image to: tmp/food_sloss01/64/models/netG_300/generate/hamburger and fries/img_71.png\n",
      "Saving generated image to: tmp/food_sloss01/64/models/netG_300/generate/hamburger and fries/img_72.png\n",
      "Saving generated image to: tmp/food_sloss01/64/models/netG_300/generate/hamburger and fries/img_73.png\n",
      "Saving generated image to: tmp/food_sloss01/64/models/netG_300/generate/hamburger and fries/img_74.png\n",
      "Saving generated image to: tmp/food_sloss01/64/models/netG_300/generate/hamburger and fries/img_75.png\n",
      "Saving generated image to: tmp/food_sloss01/64/models/netG_300/generate/hamburger and fries/img_76.png\n",
      "Saving generated image to: tmp/food_sloss01/64/models/netG_300/generate/hamburger and fries/img_77.png\n",
      "Saving generated image to: tmp/food_sloss01/64/models/netG_300/generate/hamburger and fries/img_78.png\n",
      "Saving generated image to: tmp/food_sloss01/64/models/netG_300/generate/hamburger and fries/img_79.png\n",
      "TEST: I think batch size should equal 1 here: batch_size = 1\n",
      "Saving generated image to: tmp/food_sloss01/64/models/netG_300/generate/hamburger and fries/img_80.png\n",
      "Saving generated image to: tmp/food_sloss01/64/models/netG_300/generate/hamburger and fries/img_81.png\n",
      "Saving generated image to: tmp/food_sloss01/64/models/netG_300/generate/hamburger and fries/img_82.png\n",
      "Saving generated image to: tmp/food_sloss01/64/models/netG_300/generate/hamburger and fries/img_83.png\n",
      "Saving generated image to: tmp/food_sloss01/64/models/netG_300/generate/hamburger and fries/img_84.png\n",
      "Saving generated image to: tmp/food_sloss01/64/models/netG_300/generate/hamburger and fries/img_85.png\n",
      "Saving generated image to: tmp/food_sloss01/64/models/netG_300/generate/hamburger and fries/img_86.png\n",
      "Saving generated image to: tmp/food_sloss01/64/models/netG_300/generate/hamburger and fries/img_87.png\n",
      "Saving generated image to: tmp/food_sloss01/64/models/netG_300/generate/hamburger and fries/img_88.png\n",
      "Saving generated image to: tmp/food_sloss01/64/models/netG_300/generate/hamburger and fries/img_89.png\n",
      "TEST: I think batch size should equal 1 here: batch_size = 1\n",
      "Saving generated image to: tmp/food_sloss01/64/models/netG_300/generate/hamburger and fries/img_90.png\n",
      "Saving generated image to: tmp/food_sloss01/64/models/netG_300/generate/hamburger and fries/img_91.png\n",
      "Saving generated image to: tmp/food_sloss01/64/models/netG_300/generate/hamburger and fries/img_92.png\n",
      "Saving generated image to: tmp/food_sloss01/64/models/netG_300/generate/hamburger and fries/img_93.png\n",
      "Saving generated image to: tmp/food_sloss01/64/models/netG_300/generate/hamburger and fries/img_94.png\n",
      "Saving generated image to: tmp/food_sloss01/64/models/netG_300/generate/hamburger and fries/img_95.png\n",
      "Saving generated image to: tmp/food_sloss01/64/models/netG_300/generate/hamburger and fries/img_96.png\n",
      "Saving generated image to: tmp/food_sloss01/64/models/netG_300/generate/hamburger and fries/img_97.png\n",
      "Saving generated image to: tmp/food_sloss01/64/models/netG_300/generate/hamburger and fries/img_98.png\n",
      "Saving generated image to: tmp/food_sloss01/64/models/netG_300/generate/hamburger and fries/img_99.png\n",
      "9\n",
      "TEST: I think batch size should equal 1 here: batch_size = 1\n",
      "Saving generated image to: tmp/food_sloss01/64/models/netG_300/generate/fajitas with bell peppers and onions/img_0.png\n",
      "Saving generated image to: tmp/food_sloss01/64/models/netG_300/generate/fajitas with bell peppers and onions/img_1.png\n",
      "Saving generated image to: tmp/food_sloss01/64/models/netG_300/generate/fajitas with bell peppers and onions/img_2.png\n",
      "Saving generated image to: tmp/food_sloss01/64/models/netG_300/generate/fajitas with bell peppers and onions/img_3.png\n",
      "Saving generated image to: tmp/food_sloss01/64/models/netG_300/generate/fajitas with bell peppers and onions/img_4.png\n",
      "Saving generated image to: tmp/food_sloss01/64/models/netG_300/generate/fajitas with bell peppers and onions/img_5.png\n",
      "Saving generated image to: tmp/food_sloss01/64/models/netG_300/generate/fajitas with bell peppers and onions/img_6.png\n",
      "Saving generated image to: tmp/food_sloss01/64/models/netG_300/generate/fajitas with bell peppers and onions/img_7.png\n",
      "Saving generated image to: tmp/food_sloss01/64/models/netG_300/generate/fajitas with bell peppers and onions/img_8.png\n",
      "Saving generated image to: tmp/food_sloss01/64/models/netG_300/generate/fajitas with bell peppers and onions/img_9.png\n",
      "TEST: I think batch size should equal 1 here: batch_size = 1\n",
      "Saving generated image to: tmp/food_sloss01/64/models/netG_300/generate/fajitas with bell peppers and onions/img_10.png\n",
      "Saving generated image to: tmp/food_sloss01/64/models/netG_300/generate/fajitas with bell peppers and onions/img_11.png\n",
      "Saving generated image to: tmp/food_sloss01/64/models/netG_300/generate/fajitas with bell peppers and onions/img_12.png\n",
      "Saving generated image to: tmp/food_sloss01/64/models/netG_300/generate/fajitas with bell peppers and onions/img_13.png\n",
      "Saving generated image to: tmp/food_sloss01/64/models/netG_300/generate/fajitas with bell peppers and onions/img_14.png\n",
      "Saving generated image to: tmp/food_sloss01/64/models/netG_300/generate/fajitas with bell peppers and onions/img_15.png\n",
      "Saving generated image to: tmp/food_sloss01/64/models/netG_300/generate/fajitas with bell peppers and onions/img_16.png\n",
      "Saving generated image to: tmp/food_sloss01/64/models/netG_300/generate/fajitas with bell peppers and onions/img_17.png\n",
      "Saving generated image to: tmp/food_sloss01/64/models/netG_300/generate/fajitas with bell peppers and onions/img_18.png\n",
      "Saving generated image to: tmp/food_sloss01/64/models/netG_300/generate/fajitas with bell peppers and onions/img_19.png\n",
      "TEST: I think batch size should equal 1 here: batch_size = 1\n",
      "Saving generated image to: tmp/food_sloss01/64/models/netG_300/generate/fajitas with bell peppers and onions/img_20.png\n",
      "Saving generated image to: tmp/food_sloss01/64/models/netG_300/generate/fajitas with bell peppers and onions/img_21.png\n",
      "Saving generated image to: tmp/food_sloss01/64/models/netG_300/generate/fajitas with bell peppers and onions/img_22.png\n",
      "Saving generated image to: tmp/food_sloss01/64/models/netG_300/generate/fajitas with bell peppers and onions/img_23.png\n",
      "Saving generated image to: tmp/food_sloss01/64/models/netG_300/generate/fajitas with bell peppers and onions/img_24.png\n",
      "Saving generated image to: tmp/food_sloss01/64/models/netG_300/generate/fajitas with bell peppers and onions/img_25.png\n",
      "Saving generated image to: tmp/food_sloss01/64/models/netG_300/generate/fajitas with bell peppers and onions/img_26.png\n",
      "Saving generated image to: tmp/food_sloss01/64/models/netG_300/generate/fajitas with bell peppers and onions/img_27.png\n",
      "Saving generated image to: tmp/food_sloss01/64/models/netG_300/generate/fajitas with bell peppers and onions/img_28.png\n",
      "Saving generated image to: tmp/food_sloss01/64/models/netG_300/generate/fajitas with bell peppers and onions/img_29.png\n",
      "TEST: I think batch size should equal 1 here: batch_size = 1\n",
      "Saving generated image to: tmp/food_sloss01/64/models/netG_300/generate/fajitas with bell peppers and onions/img_30.png\n",
      "Saving generated image to: tmp/food_sloss01/64/models/netG_300/generate/fajitas with bell peppers and onions/img_31.png\n",
      "Saving generated image to: tmp/food_sloss01/64/models/netG_300/generate/fajitas with bell peppers and onions/img_32.png\n",
      "Saving generated image to: tmp/food_sloss01/64/models/netG_300/generate/fajitas with bell peppers and onions/img_33.png\n",
      "Saving generated image to: tmp/food_sloss01/64/models/netG_300/generate/fajitas with bell peppers and onions/img_34.png\n",
      "Saving generated image to: tmp/food_sloss01/64/models/netG_300/generate/fajitas with bell peppers and onions/img_35.png\n",
      "Saving generated image to: tmp/food_sloss01/64/models/netG_300/generate/fajitas with bell peppers and onions/img_36.png\n",
      "Saving generated image to: tmp/food_sloss01/64/models/netG_300/generate/fajitas with bell peppers and onions/img_37.png\n",
      "Saving generated image to: tmp/food_sloss01/64/models/netG_300/generate/fajitas with bell peppers and onions/img_38.png\n",
      "Saving generated image to: tmp/food_sloss01/64/models/netG_300/generate/fajitas with bell peppers and onions/img_39.png\n",
      "TEST: I think batch size should equal 1 here: batch_size = 1\n",
      "Saving generated image to: tmp/food_sloss01/64/models/netG_300/generate/fajitas with bell peppers and onions/img_40.png\n",
      "Saving generated image to: tmp/food_sloss01/64/models/netG_300/generate/fajitas with bell peppers and onions/img_41.png\n",
      "Saving generated image to: tmp/food_sloss01/64/models/netG_300/generate/fajitas with bell peppers and onions/img_42.png\n",
      "Saving generated image to: tmp/food_sloss01/64/models/netG_300/generate/fajitas with bell peppers and onions/img_43.png\n",
      "Saving generated image to: tmp/food_sloss01/64/models/netG_300/generate/fajitas with bell peppers and onions/img_44.png\n",
      "Saving generated image to: tmp/food_sloss01/64/models/netG_300/generate/fajitas with bell peppers and onions/img_45.png\n",
      "Saving generated image to: tmp/food_sloss01/64/models/netG_300/generate/fajitas with bell peppers and onions/img_46.png\n",
      "Saving generated image to: tmp/food_sloss01/64/models/netG_300/generate/fajitas with bell peppers and onions/img_47.png\n",
      "Saving generated image to: tmp/food_sloss01/64/models/netG_300/generate/fajitas with bell peppers and onions/img_48.png\n",
      "Saving generated image to: tmp/food_sloss01/64/models/netG_300/generate/fajitas with bell peppers and onions/img_49.png\n",
      "TEST: I think batch size should equal 1 here: batch_size = 1\n",
      "Saving generated image to: tmp/food_sloss01/64/models/netG_300/generate/fajitas with bell peppers and onions/img_50.png\n",
      "Saving generated image to: tmp/food_sloss01/64/models/netG_300/generate/fajitas with bell peppers and onions/img_51.png\n",
      "Saving generated image to: tmp/food_sloss01/64/models/netG_300/generate/fajitas with bell peppers and onions/img_52.png\n",
      "Saving generated image to: tmp/food_sloss01/64/models/netG_300/generate/fajitas with bell peppers and onions/img_53.png\n",
      "Saving generated image to: tmp/food_sloss01/64/models/netG_300/generate/fajitas with bell peppers and onions/img_54.png\n",
      "Saving generated image to: tmp/food_sloss01/64/models/netG_300/generate/fajitas with bell peppers and onions/img_55.png\n",
      "Saving generated image to: tmp/food_sloss01/64/models/netG_300/generate/fajitas with bell peppers and onions/img_56.png\n",
      "Saving generated image to: tmp/food_sloss01/64/models/netG_300/generate/fajitas with bell peppers and onions/img_57.png\n",
      "Saving generated image to: tmp/food_sloss01/64/models/netG_300/generate/fajitas with bell peppers and onions/img_58.png\n",
      "Saving generated image to: tmp/food_sloss01/64/models/netG_300/generate/fajitas with bell peppers and onions/img_59.png\n",
      "TEST: I think batch size should equal 1 here: batch_size = 1\n",
      "Saving generated image to: tmp/food_sloss01/64/models/netG_300/generate/fajitas with bell peppers and onions/img_60.png\n",
      "Saving generated image to: tmp/food_sloss01/64/models/netG_300/generate/fajitas with bell peppers and onions/img_61.png\n",
      "Saving generated image to: tmp/food_sloss01/64/models/netG_300/generate/fajitas with bell peppers and onions/img_62.png\n",
      "Saving generated image to: tmp/food_sloss01/64/models/netG_300/generate/fajitas with bell peppers and onions/img_63.png\n",
      "Saving generated image to: tmp/food_sloss01/64/models/netG_300/generate/fajitas with bell peppers and onions/img_64.png\n",
      "Saving generated image to: tmp/food_sloss01/64/models/netG_300/generate/fajitas with bell peppers and onions/img_65.png\n",
      "Saving generated image to: tmp/food_sloss01/64/models/netG_300/generate/fajitas with bell peppers and onions/img_66.png\n",
      "Saving generated image to: tmp/food_sloss01/64/models/netG_300/generate/fajitas with bell peppers and onions/img_67.png\n",
      "Saving generated image to: tmp/food_sloss01/64/models/netG_300/generate/fajitas with bell peppers and onions/img_68.png\n",
      "Saving generated image to: tmp/food_sloss01/64/models/netG_300/generate/fajitas with bell peppers and onions/img_69.png\n",
      "TEST: I think batch size should equal 1 here: batch_size = 1\n",
      "Saving generated image to: tmp/food_sloss01/64/models/netG_300/generate/fajitas with bell peppers and onions/img_70.png\n",
      "Saving generated image to: tmp/food_sloss01/64/models/netG_300/generate/fajitas with bell peppers and onions/img_71.png\n",
      "Saving generated image to: tmp/food_sloss01/64/models/netG_300/generate/fajitas with bell peppers and onions/img_72.png\n",
      "Saving generated image to: tmp/food_sloss01/64/models/netG_300/generate/fajitas with bell peppers and onions/img_73.png\n",
      "Saving generated image to: tmp/food_sloss01/64/models/netG_300/generate/fajitas with bell peppers and onions/img_74.png\n",
      "Saving generated image to: tmp/food_sloss01/64/models/netG_300/generate/fajitas with bell peppers and onions/img_75.png\n",
      "Saving generated image to: tmp/food_sloss01/64/models/netG_300/generate/fajitas with bell peppers and onions/img_76.png\n",
      "Saving generated image to: tmp/food_sloss01/64/models/netG_300/generate/fajitas with bell peppers and onions/img_77.png\n",
      "Saving generated image to: tmp/food_sloss01/64/models/netG_300/generate/fajitas with bell peppers and onions/img_78.png\n",
      "Saving generated image to: tmp/food_sloss01/64/models/netG_300/generate/fajitas with bell peppers and onions/img_79.png\n",
      "TEST: I think batch size should equal 1 here: batch_size = 1\n",
      "Saving generated image to: tmp/food_sloss01/64/models/netG_300/generate/fajitas with bell peppers and onions/img_80.png\n",
      "Saving generated image to: tmp/food_sloss01/64/models/netG_300/generate/fajitas with bell peppers and onions/img_81.png\n",
      "Saving generated image to: tmp/food_sloss01/64/models/netG_300/generate/fajitas with bell peppers and onions/img_82.png\n",
      "Saving generated image to: tmp/food_sloss01/64/models/netG_300/generate/fajitas with bell peppers and onions/img_83.png\n",
      "Saving generated image to: tmp/food_sloss01/64/models/netG_300/generate/fajitas with bell peppers and onions/img_84.png\n",
      "Saving generated image to: tmp/food_sloss01/64/models/netG_300/generate/fajitas with bell peppers and onions/img_85.png\n",
      "Saving generated image to: tmp/food_sloss01/64/models/netG_300/generate/fajitas with bell peppers and onions/img_86.png\n",
      "Saving generated image to: tmp/food_sloss01/64/models/netG_300/generate/fajitas with bell peppers and onions/img_87.png\n",
      "Saving generated image to: tmp/food_sloss01/64/models/netG_300/generate/fajitas with bell peppers and onions/img_88.png\n",
      "Saving generated image to: tmp/food_sloss01/64/models/netG_300/generate/fajitas with bell peppers and onions/img_89.png\n",
      "TEST: I think batch size should equal 1 here: batch_size = 1\n",
      "Saving generated image to: tmp/food_sloss01/64/models/netG_300/generate/fajitas with bell peppers and onions/img_90.png\n",
      "Saving generated image to: tmp/food_sloss01/64/models/netG_300/generate/fajitas with bell peppers and onions/img_91.png\n",
      "Saving generated image to: tmp/food_sloss01/64/models/netG_300/generate/fajitas with bell peppers and onions/img_92.png\n",
      "Saving generated image to: tmp/food_sloss01/64/models/netG_300/generate/fajitas with bell peppers and onions/img_93.png\n",
      "Saving generated image to: tmp/food_sloss01/64/models/netG_300/generate/fajitas with bell peppers and onions/img_94.png\n",
      "Saving generated image to: tmp/food_sloss01/64/models/netG_300/generate/fajitas with bell peppers and onions/img_95.png\n",
      "Saving generated image to: tmp/food_sloss01/64/models/netG_300/generate/fajitas with bell peppers and onions/img_96.png\n",
      "Saving generated image to: tmp/food_sloss01/64/models/netG_300/generate/fajitas with bell peppers and onions/img_97.png\n",
      "Saving generated image to: tmp/food_sloss01/64/models/netG_300/generate/fajitas with bell peppers and onions/img_98.png\n",
      "Saving generated image to: tmp/food_sloss01/64/models/netG_300/generate/fajitas with bell peppers and onions/img_99.png\n",
      "10\n"
     ]
    }
   ],
   "source": [
    "cleaned_captions_filename = \"clean_combo_captions.txt\"\n",
    "cleaned_captions_file = open(cleaned_captions_filename, 'r')\n",
    "\n",
    "food_classes_list = ['chicken and waffles', 'rice and beans', 'steak and potatoes', 'clam chowder with oyster crackers', 'spaghetti and meatballs', \\\n",
    "  'chili and cornbread', 'tacos and guacamole', 'grilled cheese and tomato soup', 'hamburger and fries', 'fajitas with bell peppers and onions'  ]\n",
    "\n",
    "class_index = 0\n",
    "i = 0\n",
    "for caption in cleaned_captions_file:\n",
    "    class_label = food_classes_list[class_index]\n",
    "    main.gen_sample_alder(text_encoder, netG, device, wordtoix, caption, class_label, i)\n",
    "    i += 1\n",
    "    if i % 10 == 0:\n",
    "      class_index += 1\n",
    "      i = 0\n",
    "      print(class_index)\n",
    "    #print(i)\n",
    "    \n",
    "\n",
    "\n",
    "cleaned_captions_file.close()"
   ]
  },
  {
   "cell_type": "markdown",
   "metadata": {},
   "source": [
    "You know what's crazy to me about the generation process? It took about 30 hours to train my SSAGAN, and another 12 for its DAMSM text encoder, yet it only took 49 seconds to generate 1000 images! "
   ]
  },
  {
   "cell_type": "markdown",
   "metadata": {},
   "source": [
    "## 2. Train and Test Classifier with Generated and Control images \n",
    "Now that I finally have some generated images, I need to train a classifier with them to see if they're useful!"
   ]
  },
  {
   "cell_type": "markdown",
   "metadata": {},
   "source": [
    "### A. RESNET50 - SETUP\n",
    "I will use a resnet as my classifier model, since it is powerful but efficient enough to train in relatively little time. Here I download, initialize it, and set up its datasets. "
   ]
  },
  {
   "cell_type": "markdown",
   "metadata": {},
   "source": [
    "#### i. Setup Datasets"
   ]
  },
  {
   "cell_type": "code",
   "execution_count": 49,
   "metadata": {},
   "outputs": [],
   "source": [
    "# This was made with help from chatGPT\n",
    "import os\n",
    "import torch\n",
    "from torchvision import transforms\n",
    "from torchvision.io import read_image\n",
    "from torch.utils.data import Dataset\n",
    "from PIL import Image\n",
    "\n",
    "class CustomImageDataset(Dataset):\n",
    "    def __init__(self, root_dir, transform=None):\n",
    "        self.root_dir = root_dir\n",
    "        self.transform = transform\n",
    "        self.classes = os.listdir(root_dir)\n",
    "        self.img_paths, self.labels = self._get_img_paths_and_labels()\n",
    "\n",
    "    def _get_img_paths_and_labels(self):\n",
    "        img_paths = []\n",
    "        labels = []\n",
    "        for label_idx, class_name in enumerate(self.classes):\n",
    "            class_path = os.path.join(self.root_dir, class_name)\n",
    "            for img_name in os.listdir(class_path):\n",
    "                img_path = os.path.join(class_path, img_name)\n",
    "                img_paths.append(img_path)\n",
    "                labels.append(label_idx)\n",
    "        return img_paths, labels\n",
    "\n",
    "    def __len__(self):\n",
    "        return len(self.img_paths)\n",
    "\n",
    "    def __getitem__(self, idx):\n",
    "        img_path = self.img_paths[idx]\n",
    "        label = self.labels[idx]\n",
    "        image = read_image(img_path)\n",
    "\n",
    "        # Convert the tensor back to a PIL image\n",
    "        image = transforms.ToPILImage()(image)\n",
    "\n",
    "        if self.transform:\n",
    "            image = self.transform(image)\n",
    "\n",
    "        return image, label\n",
    "\n",
    "transform = transforms.Compose([\n",
    "    transforms.Resize((224, 224)),\n",
    "    transforms.ToTensor(),\n",
    "    transforms.Normalize((0.5, 0.5, 0.5), (0.5, 0.5, 0.5)),\n",
    "])\n",
    "\n",
    "combo_food_dir = \"data/combo_foods/\"\n",
    "combo_dataset_train = CustomImageDataset(root_dir=combo_food_dir, transform=transform)"
   ]
  },
  {
   "cell_type": "code",
   "execution_count": 50,
   "metadata": {},
   "outputs": [],
   "source": [
    "# Setup Data Loader\n",
    "batch_size = 25 # I just picked 25\n",
    "combo_dataloader_train =  torch.utils.data.DataLoader(combo_dataset_train, batch_size=batch_size,\n",
    "                                          shuffle=True)"
   ]
  },
  {
   "cell_type": "markdown",
   "metadata": {},
   "source": [
    "#### ii. Setup Models"
   ]
  },
  {
   "cell_type": "code",
   "execution_count": 51,
   "metadata": {},
   "outputs": [],
   "source": [
    "from torchvision import models\n",
    "\n",
    "num_classes = 10\n",
    "\n",
    "# Load a pre-trained ResNet-50 model\n",
    "model = models.resnet50(pretrained=False)\n",
    "\n",
    "# Replace the last layer with a new fully connected layer for your specific number of classes\n",
    "model.fc = torch.nn.Linear(model.fc.in_features, num_classes)\n",
    "\n",
    "# If using GPU, move the model to GPU\n",
    "if torch.cuda.is_available():\n",
    "    model = model.cuda()"
   ]
  },
  {
   "cell_type": "code",
   "execution_count": 52,
   "metadata": {},
   "outputs": [
    {
     "name": "stdout",
     "output_type": "stream",
     "text": [
      "ResNet(\n",
      "  (conv1): Conv2d(3, 64, kernel_size=(7, 7), stride=(2, 2), padding=(3, 3), bias=False)\n",
      "  (bn1): BatchNorm2d(64, eps=1e-05, momentum=0.1, affine=True, track_running_stats=True)\n",
      "  (relu): ReLU(inplace=True)\n",
      "  (maxpool): MaxPool2d(kernel_size=3, stride=2, padding=1, dilation=1, ceil_mode=False)\n",
      "  (layer1): Sequential(\n",
      "    (0): Bottleneck(\n",
      "      (conv1): Conv2d(64, 64, kernel_size=(1, 1), stride=(1, 1), bias=False)\n",
      "      (bn1): BatchNorm2d(64, eps=1e-05, momentum=0.1, affine=True, track_running_stats=True)\n",
      "      (conv2): Conv2d(64, 64, kernel_size=(3, 3), stride=(1, 1), padding=(1, 1), bias=False)\n",
      "      (bn2): BatchNorm2d(64, eps=1e-05, momentum=0.1, affine=True, track_running_stats=True)\n",
      "      (conv3): Conv2d(64, 256, kernel_size=(1, 1), stride=(1, 1), bias=False)\n",
      "      (bn3): BatchNorm2d(256, eps=1e-05, momentum=0.1, affine=True, track_running_stats=True)\n",
      "      (relu): ReLU(inplace=True)\n",
      "      (downsample): Sequential(\n",
      "        (0): Conv2d(64, 256, kernel_size=(1, 1), stride=(1, 1), bias=False)\n",
      "        (1): BatchNorm2d(256, eps=1e-05, momentum=0.1, affine=True, track_running_stats=True)\n",
      "      )\n",
      "    )\n",
      "    (1): Bottleneck(\n",
      "      (conv1): Conv2d(256, 64, kernel_size=(1, 1), stride=(1, 1), bias=False)\n",
      "      (bn1): BatchNorm2d(64, eps=1e-05, momentum=0.1, affine=True, track_running_stats=True)\n",
      "      (conv2): Conv2d(64, 64, kernel_size=(3, 3), stride=(1, 1), padding=(1, 1), bias=False)\n",
      "      (bn2): BatchNorm2d(64, eps=1e-05, momentum=0.1, affine=True, track_running_stats=True)\n",
      "      (conv3): Conv2d(64, 256, kernel_size=(1, 1), stride=(1, 1), bias=False)\n",
      "      (bn3): BatchNorm2d(256, eps=1e-05, momentum=0.1, affine=True, track_running_stats=True)\n",
      "      (relu): ReLU(inplace=True)\n",
      "    )\n",
      "    (2): Bottleneck(\n",
      "      (conv1): Conv2d(256, 64, kernel_size=(1, 1), stride=(1, 1), bias=False)\n",
      "      (bn1): BatchNorm2d(64, eps=1e-05, momentum=0.1, affine=True, track_running_stats=True)\n",
      "      (conv2): Conv2d(64, 64, kernel_size=(3, 3), stride=(1, 1), padding=(1, 1), bias=False)\n",
      "      (bn2): BatchNorm2d(64, eps=1e-05, momentum=0.1, affine=True, track_running_stats=True)\n",
      "      (conv3): Conv2d(64, 256, kernel_size=(1, 1), stride=(1, 1), bias=False)\n",
      "      (bn3): BatchNorm2d(256, eps=1e-05, momentum=0.1, affine=True, track_running_stats=True)\n",
      "      (relu): ReLU(inplace=True)\n",
      "    )\n",
      "  )\n",
      "  (layer2): Sequential(\n",
      "    (0): Bottleneck(\n",
      "      (conv1): Conv2d(256, 128, kernel_size=(1, 1), stride=(1, 1), bias=False)\n",
      "      (bn1): BatchNorm2d(128, eps=1e-05, momentum=0.1, affine=True, track_running_stats=True)\n",
      "      (conv2): Conv2d(128, 128, kernel_size=(3, 3), stride=(2, 2), padding=(1, 1), bias=False)\n",
      "      (bn2): BatchNorm2d(128, eps=1e-05, momentum=0.1, affine=True, track_running_stats=True)\n",
      "      (conv3): Conv2d(128, 512, kernel_size=(1, 1), stride=(1, 1), bias=False)\n",
      "      (bn3): BatchNorm2d(512, eps=1e-05, momentum=0.1, affine=True, track_running_stats=True)\n",
      "      (relu): ReLU(inplace=True)\n",
      "      (downsample): Sequential(\n",
      "        (0): Conv2d(256, 512, kernel_size=(1, 1), stride=(2, 2), bias=False)\n",
      "        (1): BatchNorm2d(512, eps=1e-05, momentum=0.1, affine=True, track_running_stats=True)\n",
      "      )\n",
      "    )\n",
      "    (1): Bottleneck(\n",
      "      (conv1): Conv2d(512, 128, kernel_size=(1, 1), stride=(1, 1), bias=False)\n",
      "      (bn1): BatchNorm2d(128, eps=1e-05, momentum=0.1, affine=True, track_running_stats=True)\n",
      "      (conv2): Conv2d(128, 128, kernel_size=(3, 3), stride=(1, 1), padding=(1, 1), bias=False)\n",
      "      (bn2): BatchNorm2d(128, eps=1e-05, momentum=0.1, affine=True, track_running_stats=True)\n",
      "      (conv3): Conv2d(128, 512, kernel_size=(1, 1), stride=(1, 1), bias=False)\n",
      "      (bn3): BatchNorm2d(512, eps=1e-05, momentum=0.1, affine=True, track_running_stats=True)\n",
      "      (relu): ReLU(inplace=True)\n",
      "    )\n",
      "    (2): Bottleneck(\n",
      "      (conv1): Conv2d(512, 128, kernel_size=(1, 1), stride=(1, 1), bias=False)\n",
      "      (bn1): BatchNorm2d(128, eps=1e-05, momentum=0.1, affine=True, track_running_stats=True)\n",
      "      (conv2): Conv2d(128, 128, kernel_size=(3, 3), stride=(1, 1), padding=(1, 1), bias=False)\n",
      "      (bn2): BatchNorm2d(128, eps=1e-05, momentum=0.1, affine=True, track_running_stats=True)\n",
      "      (conv3): Conv2d(128, 512, kernel_size=(1, 1), stride=(1, 1), bias=False)\n",
      "      (bn3): BatchNorm2d(512, eps=1e-05, momentum=0.1, affine=True, track_running_stats=True)\n",
      "      (relu): ReLU(inplace=True)\n",
      "    )\n",
      "    (3): Bottleneck(\n",
      "      (conv1): Conv2d(512, 128, kernel_size=(1, 1), stride=(1, 1), bias=False)\n",
      "      (bn1): BatchNorm2d(128, eps=1e-05, momentum=0.1, affine=True, track_running_stats=True)\n",
      "      (conv2): Conv2d(128, 128, kernel_size=(3, 3), stride=(1, 1), padding=(1, 1), bias=False)\n",
      "      (bn2): BatchNorm2d(128, eps=1e-05, momentum=0.1, affine=True, track_running_stats=True)\n",
      "      (conv3): Conv2d(128, 512, kernel_size=(1, 1), stride=(1, 1), bias=False)\n",
      "      (bn3): BatchNorm2d(512, eps=1e-05, momentum=0.1, affine=True, track_running_stats=True)\n",
      "      (relu): ReLU(inplace=True)\n",
      "    )\n",
      "  )\n",
      "  (layer3): Sequential(\n",
      "    (0): Bottleneck(\n",
      "      (conv1): Conv2d(512, 256, kernel_size=(1, 1), stride=(1, 1), bias=False)\n",
      "      (bn1): BatchNorm2d(256, eps=1e-05, momentum=0.1, affine=True, track_running_stats=True)\n",
      "      (conv2): Conv2d(256, 256, kernel_size=(3, 3), stride=(2, 2), padding=(1, 1), bias=False)\n",
      "      (bn2): BatchNorm2d(256, eps=1e-05, momentum=0.1, affine=True, track_running_stats=True)\n",
      "      (conv3): Conv2d(256, 1024, kernel_size=(1, 1), stride=(1, 1), bias=False)\n",
      "      (bn3): BatchNorm2d(1024, eps=1e-05, momentum=0.1, affine=True, track_running_stats=True)\n",
      "      (relu): ReLU(inplace=True)\n",
      "      (downsample): Sequential(\n",
      "        (0): Conv2d(512, 1024, kernel_size=(1, 1), stride=(2, 2), bias=False)\n",
      "        (1): BatchNorm2d(1024, eps=1e-05, momentum=0.1, affine=True, track_running_stats=True)\n",
      "      )\n",
      "    )\n",
      "    (1): Bottleneck(\n",
      "      (conv1): Conv2d(1024, 256, kernel_size=(1, 1), stride=(1, 1), bias=False)\n",
      "      (bn1): BatchNorm2d(256, eps=1e-05, momentum=0.1, affine=True, track_running_stats=True)\n",
      "      (conv2): Conv2d(256, 256, kernel_size=(3, 3), stride=(1, 1), padding=(1, 1), bias=False)\n",
      "      (bn2): BatchNorm2d(256, eps=1e-05, momentum=0.1, affine=True, track_running_stats=True)\n",
      "      (conv3): Conv2d(256, 1024, kernel_size=(1, 1), stride=(1, 1), bias=False)\n",
      "      (bn3): BatchNorm2d(1024, eps=1e-05, momentum=0.1, affine=True, track_running_stats=True)\n",
      "      (relu): ReLU(inplace=True)\n",
      "    )\n",
      "    (2): Bottleneck(\n",
      "      (conv1): Conv2d(1024, 256, kernel_size=(1, 1), stride=(1, 1), bias=False)\n",
      "      (bn1): BatchNorm2d(256, eps=1e-05, momentum=0.1, affine=True, track_running_stats=True)\n",
      "      (conv2): Conv2d(256, 256, kernel_size=(3, 3), stride=(1, 1), padding=(1, 1), bias=False)\n",
      "      (bn2): BatchNorm2d(256, eps=1e-05, momentum=0.1, affine=True, track_running_stats=True)\n",
      "      (conv3): Conv2d(256, 1024, kernel_size=(1, 1), stride=(1, 1), bias=False)\n",
      "      (bn3): BatchNorm2d(1024, eps=1e-05, momentum=0.1, affine=True, track_running_stats=True)\n",
      "      (relu): ReLU(inplace=True)\n",
      "    )\n",
      "    (3): Bottleneck(\n",
      "      (conv1): Conv2d(1024, 256, kernel_size=(1, 1), stride=(1, 1), bias=False)\n",
      "      (bn1): BatchNorm2d(256, eps=1e-05, momentum=0.1, affine=True, track_running_stats=True)\n",
      "      (conv2): Conv2d(256, 256, kernel_size=(3, 3), stride=(1, 1), padding=(1, 1), bias=False)\n",
      "      (bn2): BatchNorm2d(256, eps=1e-05, momentum=0.1, affine=True, track_running_stats=True)\n",
      "      (conv3): Conv2d(256, 1024, kernel_size=(1, 1), stride=(1, 1), bias=False)\n",
      "      (bn3): BatchNorm2d(1024, eps=1e-05, momentum=0.1, affine=True, track_running_stats=True)\n",
      "      (relu): ReLU(inplace=True)\n",
      "    )\n",
      "    (4): Bottleneck(\n",
      "      (conv1): Conv2d(1024, 256, kernel_size=(1, 1), stride=(1, 1), bias=False)\n",
      "      (bn1): BatchNorm2d(256, eps=1e-05, momentum=0.1, affine=True, track_running_stats=True)\n",
      "      (conv2): Conv2d(256, 256, kernel_size=(3, 3), stride=(1, 1), padding=(1, 1), bias=False)\n",
      "      (bn2): BatchNorm2d(256, eps=1e-05, momentum=0.1, affine=True, track_running_stats=True)\n",
      "      (conv3): Conv2d(256, 1024, kernel_size=(1, 1), stride=(1, 1), bias=False)\n",
      "      (bn3): BatchNorm2d(1024, eps=1e-05, momentum=0.1, affine=True, track_running_stats=True)\n",
      "      (relu): ReLU(inplace=True)\n",
      "    )\n",
      "    (5): Bottleneck(\n",
      "      (conv1): Conv2d(1024, 256, kernel_size=(1, 1), stride=(1, 1), bias=False)\n",
      "      (bn1): BatchNorm2d(256, eps=1e-05, momentum=0.1, affine=True, track_running_stats=True)\n",
      "      (conv2): Conv2d(256, 256, kernel_size=(3, 3), stride=(1, 1), padding=(1, 1), bias=False)\n",
      "      (bn2): BatchNorm2d(256, eps=1e-05, momentum=0.1, affine=True, track_running_stats=True)\n",
      "      (conv3): Conv2d(256, 1024, kernel_size=(1, 1), stride=(1, 1), bias=False)\n",
      "      (bn3): BatchNorm2d(1024, eps=1e-05, momentum=0.1, affine=True, track_running_stats=True)\n",
      "      (relu): ReLU(inplace=True)\n",
      "    )\n",
      "  )\n",
      "  (layer4): Sequential(\n",
      "    (0): Bottleneck(\n",
      "      (conv1): Conv2d(1024, 512, kernel_size=(1, 1), stride=(1, 1), bias=False)\n",
      "      (bn1): BatchNorm2d(512, eps=1e-05, momentum=0.1, affine=True, track_running_stats=True)\n",
      "      (conv2): Conv2d(512, 512, kernel_size=(3, 3), stride=(2, 2), padding=(1, 1), bias=False)\n",
      "      (bn2): BatchNorm2d(512, eps=1e-05, momentum=0.1, affine=True, track_running_stats=True)\n",
      "      (conv3): Conv2d(512, 2048, kernel_size=(1, 1), stride=(1, 1), bias=False)\n",
      "      (bn3): BatchNorm2d(2048, eps=1e-05, momentum=0.1, affine=True, track_running_stats=True)\n",
      "      (relu): ReLU(inplace=True)\n",
      "      (downsample): Sequential(\n",
      "        (0): Conv2d(1024, 2048, kernel_size=(1, 1), stride=(2, 2), bias=False)\n",
      "        (1): BatchNorm2d(2048, eps=1e-05, momentum=0.1, affine=True, track_running_stats=True)\n",
      "      )\n",
      "    )\n",
      "    (1): Bottleneck(\n",
      "      (conv1): Conv2d(2048, 512, kernel_size=(1, 1), stride=(1, 1), bias=False)\n",
      "      (bn1): BatchNorm2d(512, eps=1e-05, momentum=0.1, affine=True, track_running_stats=True)\n",
      "      (conv2): Conv2d(512, 512, kernel_size=(3, 3), stride=(1, 1), padding=(1, 1), bias=False)\n",
      "      (bn2): BatchNorm2d(512, eps=1e-05, momentum=0.1, affine=True, track_running_stats=True)\n",
      "      (conv3): Conv2d(512, 2048, kernel_size=(1, 1), stride=(1, 1), bias=False)\n",
      "      (bn3): BatchNorm2d(2048, eps=1e-05, momentum=0.1, affine=True, track_running_stats=True)\n",
      "      (relu): ReLU(inplace=True)\n",
      "    )\n",
      "    (2): Bottleneck(\n",
      "      (conv1): Conv2d(2048, 512, kernel_size=(1, 1), stride=(1, 1), bias=False)\n",
      "      (bn1): BatchNorm2d(512, eps=1e-05, momentum=0.1, affine=True, track_running_stats=True)\n",
      "      (conv2): Conv2d(512, 512, kernel_size=(3, 3), stride=(1, 1), padding=(1, 1), bias=False)\n",
      "      (bn2): BatchNorm2d(512, eps=1e-05, momentum=0.1, affine=True, track_running_stats=True)\n",
      "      (conv3): Conv2d(512, 2048, kernel_size=(1, 1), stride=(1, 1), bias=False)\n",
      "      (bn3): BatchNorm2d(2048, eps=1e-05, momentum=0.1, affine=True, track_running_stats=True)\n",
      "      (relu): ReLU(inplace=True)\n",
      "    )\n",
      "  )\n",
      "  (avgpool): AdaptiveAvgPool2d(output_size=(1, 1))\n",
      "  (fc): Linear(in_features=2048, out_features=10, bias=True)\n",
      ")\n"
     ]
    }
   ],
   "source": [
    "# Let's get the right torch device (preference of GPU)\n",
    "device = torch.device(\"cuda\" if torch.cuda.is_available() else \"cpu\")\n",
    "# Let's set up some parameters\n",
    "learning_rate = 0.0001\n",
    "nepochs = 100 #its taking forever to train so lets start here\n",
    "#ninputs = 3*32*32\n",
    "#nhidden = 512\n",
    "#nout = 10 \n",
    "\n",
    "print(model)\n",
    "# We need an optimizer that tells us what form of gradient descent to do\n",
    "optimizer = torch.optim.SGD(model.parameters(), lr=learning_rate)\n",
    "\n",
    "# We also need a loss function\n",
    "LossFunction = torch.nn.CrossEntropyLoss()\n",
    "\n",
    "# (decided not to copy Steven and reload datasets here - it takes too long)\n",
    "loss_history = []"
   ]
  },
  {
   "cell_type": "markdown",
   "metadata": {},
   "source": [
    "#### iii. Train models"
   ]
  },
  {
   "cell_type": "code",
   "execution_count": 53,
   "metadata": {},
   "outputs": [],
   "source": [
    "def train(dataloader, model, loss_fn, optimizer, loss_history, nepochs, device):\n",
    "    loss = torch.Tensor([0])\n",
    "    model.train()\n",
    "    for epoch in tqdm(range(nepochs),\n",
    "                      desc=f\"Epoch\",\n",
    "                      unit=\"epoch\",\n",
    "                      disable=False):\n",
    "        batch_counter = 0\n",
    "        for (data, label) in tqdm(dataloader,\n",
    "                                  desc=\"iteration\",\n",
    "                                  unit=\"%\",\n",
    "                                  disable=False):\n",
    "            batch_counter += 1\n",
    "            # Zero out gradients\n",
    "            optimizer.zero_grad()\n",
    "            # Compute prediction error\n",
    "            data = data.to(device)\n",
    "            label = label.to(device)\n",
    "            out = model(data)\n",
    "\n",
    "            loss = loss_fn(out, label)\n",
    "\n",
    "            # Backprop\n",
    "            loss.backward()  # This function calculates all our gradients\n",
    "            optimizer.step()  # This function does our gradient descent with those gradients\n",
    "            loss_history.append(loss.item())\n",
    "        print(f\"Epoch {epoch}: loss: {loss.item()}\")\n"
   ]
  },
  {
   "cell_type": "code",
   "execution_count": 54,
   "metadata": {},
   "outputs": [
    {
     "name": "stderr",
     "output_type": "stream",
     "text": [
      "iteration: 100%|██████████| 40/40 [00:08<00:00,  4.55%/s]\n",
      "Epoch:   1%|          | 1/100 [00:08<14:31,  8.80s/epoch]"
     ]
    },
    {
     "name": "stdout",
     "output_type": "stream",
     "text": [
      "Epoch 0: loss: 2.1521341800689697\n"
     ]
    },
    {
     "name": "stderr",
     "output_type": "stream",
     "text": [
      "iteration: 100%|██████████| 40/40 [00:07<00:00,  5.07%/s]\n",
      "Epoch:   2%|▏         | 2/100 [00:16<13:30,  8.27s/epoch]"
     ]
    },
    {
     "name": "stdout",
     "output_type": "stream",
     "text": [
      "Epoch 1: loss: 2.1478376388549805\n"
     ]
    },
    {
     "name": "stderr",
     "output_type": "stream",
     "text": [
      "iteration: 100%|██████████| 40/40 [00:07<00:00,  5.07%/s]\n",
      "Epoch:   3%|▎         | 3/100 [00:24<13:05,  8.10s/epoch]"
     ]
    },
    {
     "name": "stdout",
     "output_type": "stream",
     "text": [
      "Epoch 2: loss: 2.1690893173217773\n"
     ]
    },
    {
     "name": "stderr",
     "output_type": "stream",
     "text": [
      "iteration: 100%|██████████| 40/40 [00:07<00:00,  5.09%/s]\n",
      "Epoch:   4%|▍         | 4/100 [00:32<12:48,  8.00s/epoch]"
     ]
    },
    {
     "name": "stdout",
     "output_type": "stream",
     "text": [
      "Epoch 3: loss: 2.166703224182129\n"
     ]
    },
    {
     "name": "stderr",
     "output_type": "stream",
     "text": [
      "iteration: 100%|██████████| 40/40 [00:07<00:00,  5.10%/s]\n",
      "Epoch:   5%|▌         | 5/100 [00:40<12:34,  7.94s/epoch]"
     ]
    },
    {
     "name": "stdout",
     "output_type": "stream",
     "text": [
      "Epoch 4: loss: 2.104438304901123\n"
     ]
    },
    {
     "name": "stderr",
     "output_type": "stream",
     "text": [
      "iteration: 100%|██████████| 40/40 [00:07<00:00,  5.14%/s]\n",
      "Epoch:   6%|▌         | 6/100 [00:48<12:21,  7.89s/epoch]"
     ]
    },
    {
     "name": "stdout",
     "output_type": "stream",
     "text": [
      "Epoch 5: loss: 2.099914073944092\n"
     ]
    },
    {
     "name": "stderr",
     "output_type": "stream",
     "text": [
      "iteration: 100%|██████████| 40/40 [00:07<00:00,  5.10%/s]\n",
      "Epoch:   7%|▋         | 7/100 [00:55<12:12,  7.87s/epoch]"
     ]
    },
    {
     "name": "stdout",
     "output_type": "stream",
     "text": [
      "Epoch 6: loss: 2.1735100746154785\n"
     ]
    },
    {
     "name": "stderr",
     "output_type": "stream",
     "text": [
      "iteration: 100%|██████████| 40/40 [00:07<00:00,  5.09%/s]\n",
      "Epoch:   8%|▊         | 8/100 [01:03<12:03,  7.87s/epoch]"
     ]
    },
    {
     "name": "stdout",
     "output_type": "stream",
     "text": [
      "Epoch 7: loss: 2.1419248580932617\n"
     ]
    },
    {
     "name": "stderr",
     "output_type": "stream",
     "text": [
      "iteration: 100%|██████████| 40/40 [00:07<00:00,  5.11%/s]\n",
      "Epoch:   9%|▉         | 9/100 [01:11<11:55,  7.86s/epoch]"
     ]
    },
    {
     "name": "stdout",
     "output_type": "stream",
     "text": [
      "Epoch 8: loss: 2.059093475341797\n"
     ]
    },
    {
     "name": "stderr",
     "output_type": "stream",
     "text": [
      "iteration: 100%|██████████| 40/40 [00:07<00:00,  5.12%/s]\n",
      "Epoch:  10%|█         | 10/100 [01:19<11:46,  7.85s/epoch]"
     ]
    },
    {
     "name": "stdout",
     "output_type": "stream",
     "text": [
      "Epoch 9: loss: 2.2760655879974365\n"
     ]
    },
    {
     "name": "stderr",
     "output_type": "stream",
     "text": [
      "iteration: 100%|██████████| 40/40 [00:07<00:00,  5.08%/s]\n",
      "Epoch:  11%|█         | 11/100 [01:27<11:38,  7.85s/epoch]"
     ]
    },
    {
     "name": "stdout",
     "output_type": "stream",
     "text": [
      "Epoch 10: loss: 2.192173957824707\n"
     ]
    },
    {
     "name": "stderr",
     "output_type": "stream",
     "text": [
      "iteration: 100%|██████████| 40/40 [00:07<00:00,  5.14%/s]\n",
      "Epoch:  12%|█▏        | 12/100 [01:35<11:29,  7.83s/epoch]"
     ]
    },
    {
     "name": "stdout",
     "output_type": "stream",
     "text": [
      "Epoch 11: loss: 2.235114336013794\n"
     ]
    },
    {
     "name": "stderr",
     "output_type": "stream",
     "text": [
      "iteration: 100%|██████████| 40/40 [00:07<00:00,  5.12%/s]\n",
      "Epoch:  13%|█▎        | 13/100 [01:42<11:21,  7.83s/epoch]"
     ]
    },
    {
     "name": "stdout",
     "output_type": "stream",
     "text": [
      "Epoch 12: loss: 2.0727012157440186\n"
     ]
    },
    {
     "name": "stderr",
     "output_type": "stream",
     "text": [
      "iteration: 100%|██████████| 40/40 [00:07<00:00,  5.11%/s]\n",
      "Epoch:  14%|█▍        | 14/100 [01:50<11:13,  7.83s/epoch]"
     ]
    },
    {
     "name": "stdout",
     "output_type": "stream",
     "text": [
      "Epoch 13: loss: 2.0399599075317383\n"
     ]
    },
    {
     "name": "stderr",
     "output_type": "stream",
     "text": [
      "iteration: 100%|██████████| 40/40 [00:07<00:00,  5.14%/s]\n",
      "Epoch:  15%|█▌        | 15/100 [01:58<11:04,  7.82s/epoch]"
     ]
    },
    {
     "name": "stdout",
     "output_type": "stream",
     "text": [
      "Epoch 14: loss: 2.066632032394409\n"
     ]
    },
    {
     "name": "stderr",
     "output_type": "stream",
     "text": [
      "iteration: 100%|██████████| 40/40 [00:07<00:00,  5.13%/s]\n",
      "Epoch:  16%|█▌        | 16/100 [02:06<10:56,  7.81s/epoch]"
     ]
    },
    {
     "name": "stdout",
     "output_type": "stream",
     "text": [
      "Epoch 15: loss: 2.0980820655822754\n"
     ]
    },
    {
     "name": "stderr",
     "output_type": "stream",
     "text": [
      "iteration: 100%|██████████| 40/40 [00:07<00:00,  5.11%/s]\n",
      "Epoch:  17%|█▋        | 17/100 [02:14<10:48,  7.82s/epoch]"
     ]
    },
    {
     "name": "stdout",
     "output_type": "stream",
     "text": [
      "Epoch 16: loss: 2.0284171104431152\n"
     ]
    },
    {
     "name": "stderr",
     "output_type": "stream",
     "text": [
      "iteration: 100%|██████████| 40/40 [00:07<00:00,  5.14%/s]\n",
      "Epoch:  18%|█▊        | 18/100 [02:21<10:40,  7.81s/epoch]"
     ]
    },
    {
     "name": "stdout",
     "output_type": "stream",
     "text": [
      "Epoch 17: loss: 2.1012825965881348\n"
     ]
    },
    {
     "name": "stderr",
     "output_type": "stream",
     "text": [
      "iteration: 100%|██████████| 40/40 [00:07<00:00,  5.10%/s]\n",
      "Epoch:  19%|█▉        | 19/100 [02:29<10:33,  7.82s/epoch]"
     ]
    },
    {
     "name": "stdout",
     "output_type": "stream",
     "text": [
      "Epoch 18: loss: 2.133789300918579\n"
     ]
    },
    {
     "name": "stderr",
     "output_type": "stream",
     "text": [
      "iteration: 100%|██████████| 40/40 [00:07<00:00,  5.13%/s]\n",
      "Epoch:  20%|██        | 20/100 [02:37<10:25,  7.81s/epoch]"
     ]
    },
    {
     "name": "stdout",
     "output_type": "stream",
     "text": [
      "Epoch 19: loss: 1.9560532569885254\n"
     ]
    },
    {
     "name": "stderr",
     "output_type": "stream",
     "text": [
      "iteration: 100%|██████████| 40/40 [00:07<00:00,  5.12%/s]\n",
      "Epoch:  21%|██        | 21/100 [02:45<10:17,  7.81s/epoch]"
     ]
    },
    {
     "name": "stdout",
     "output_type": "stream",
     "text": [
      "Epoch 20: loss: 2.3031985759735107\n"
     ]
    },
    {
     "name": "stderr",
     "output_type": "stream",
     "text": [
      "iteration: 100%|██████████| 40/40 [00:07<00:00,  5.15%/s]\n",
      "Epoch:  22%|██▏       | 22/100 [02:53<10:08,  7.80s/epoch]"
     ]
    },
    {
     "name": "stdout",
     "output_type": "stream",
     "text": [
      "Epoch 21: loss: 2.1315767765045166\n"
     ]
    },
    {
     "name": "stderr",
     "output_type": "stream",
     "text": [
      "iteration: 100%|██████████| 40/40 [00:07<00:00,  5.12%/s]\n",
      "Epoch:  23%|██▎       | 23/100 [03:01<10:01,  7.81s/epoch]"
     ]
    },
    {
     "name": "stdout",
     "output_type": "stream",
     "text": [
      "Epoch 22: loss: 1.8941280841827393\n"
     ]
    },
    {
     "name": "stderr",
     "output_type": "stream",
     "text": [
      "iteration: 100%|██████████| 40/40 [00:07<00:00,  5.14%/s]\n",
      "Epoch:  24%|██▍       | 24/100 [03:08<09:52,  7.80s/epoch]"
     ]
    },
    {
     "name": "stdout",
     "output_type": "stream",
     "text": [
      "Epoch 23: loss: 2.0992496013641357\n"
     ]
    },
    {
     "name": "stderr",
     "output_type": "stream",
     "text": [
      "iteration: 100%|██████████| 40/40 [00:07<00:00,  5.11%/s]\n",
      "Epoch:  25%|██▌       | 25/100 [03:16<09:45,  7.81s/epoch]"
     ]
    },
    {
     "name": "stdout",
     "output_type": "stream",
     "text": [
      "Epoch 24: loss: 1.971239447593689\n"
     ]
    },
    {
     "name": "stderr",
     "output_type": "stream",
     "text": [
      "iteration: 100%|██████████| 40/40 [00:07<00:00,  5.13%/s]\n",
      "Epoch:  26%|██▌       | 26/100 [03:24<09:37,  7.81s/epoch]"
     ]
    },
    {
     "name": "stdout",
     "output_type": "stream",
     "text": [
      "Epoch 25: loss: 2.024120569229126\n"
     ]
    },
    {
     "name": "stderr",
     "output_type": "stream",
     "text": [
      "iteration: 100%|██████████| 40/40 [00:07<00:00,  5.10%/s]\n",
      "Epoch:  27%|██▋       | 27/100 [03:32<09:30,  7.82s/epoch]"
     ]
    },
    {
     "name": "stdout",
     "output_type": "stream",
     "text": [
      "Epoch 26: loss: 1.9718987941741943\n"
     ]
    },
    {
     "name": "stderr",
     "output_type": "stream",
     "text": [
      "iteration: 100%|██████████| 40/40 [00:07<00:00,  5.13%/s]\n",
      "Epoch:  28%|██▊       | 28/100 [03:40<09:22,  7.81s/epoch]"
     ]
    },
    {
     "name": "stdout",
     "output_type": "stream",
     "text": [
      "Epoch 27: loss: 1.9920217990875244\n"
     ]
    },
    {
     "name": "stderr",
     "output_type": "stream",
     "text": [
      "iteration: 100%|██████████| 40/40 [00:07<00:00,  5.11%/s]\n",
      "Epoch:  29%|██▉       | 29/100 [03:47<09:15,  7.82s/epoch]"
     ]
    },
    {
     "name": "stdout",
     "output_type": "stream",
     "text": [
      "Epoch 28: loss: 2.0590498447418213\n"
     ]
    },
    {
     "name": "stderr",
     "output_type": "stream",
     "text": [
      "iteration: 100%|██████████| 40/40 [00:07<00:00,  5.17%/s]\n",
      "Epoch:  30%|███       | 30/100 [03:55<09:05,  7.80s/epoch]"
     ]
    },
    {
     "name": "stdout",
     "output_type": "stream",
     "text": [
      "Epoch 29: loss: 1.962729811668396\n"
     ]
    },
    {
     "name": "stderr",
     "output_type": "stream",
     "text": [
      "iteration: 100%|██████████| 40/40 [00:07<00:00,  5.13%/s]\n",
      "Epoch:  31%|███       | 31/100 [04:03<08:58,  7.80s/epoch]"
     ]
    },
    {
     "name": "stdout",
     "output_type": "stream",
     "text": [
      "Epoch 30: loss: 2.1581668853759766\n"
     ]
    },
    {
     "name": "stderr",
     "output_type": "stream",
     "text": [
      "iteration: 100%|██████████| 40/40 [00:07<00:00,  5.13%/s]\n",
      "Epoch:  32%|███▏      | 32/100 [04:11<08:50,  7.80s/epoch]"
     ]
    },
    {
     "name": "stdout",
     "output_type": "stream",
     "text": [
      "Epoch 31: loss: 2.0515427589416504\n"
     ]
    },
    {
     "name": "stderr",
     "output_type": "stream",
     "text": [
      "iteration: 100%|██████████| 40/40 [00:07<00:00,  5.10%/s]\n",
      "Epoch:  33%|███▎      | 33/100 [04:19<08:43,  7.81s/epoch]"
     ]
    },
    {
     "name": "stdout",
     "output_type": "stream",
     "text": [
      "Epoch 32: loss: 2.029597520828247\n"
     ]
    },
    {
     "name": "stderr",
     "output_type": "stream",
     "text": [
      "iteration: 100%|██████████| 40/40 [00:07<00:00,  5.13%/s]\n",
      "Epoch:  34%|███▍      | 34/100 [04:26<08:35,  7.81s/epoch]"
     ]
    },
    {
     "name": "stdout",
     "output_type": "stream",
     "text": [
      "Epoch 33: loss: 2.063112258911133\n"
     ]
    },
    {
     "name": "stderr",
     "output_type": "stream",
     "text": [
      "iteration: 100%|██████████| 40/40 [00:07<00:00,  5.12%/s]\n",
      "Epoch:  35%|███▌      | 35/100 [04:34<08:27,  7.81s/epoch]"
     ]
    },
    {
     "name": "stdout",
     "output_type": "stream",
     "text": [
      "Epoch 34: loss: 2.0684242248535156\n"
     ]
    },
    {
     "name": "stderr",
     "output_type": "stream",
     "text": [
      "iteration: 100%|██████████| 40/40 [00:07<00:00,  5.09%/s]\n",
      "Epoch:  36%|███▌      | 36/100 [04:42<08:20,  7.83s/epoch]"
     ]
    },
    {
     "name": "stdout",
     "output_type": "stream",
     "text": [
      "Epoch 35: loss: 1.934745192527771\n"
     ]
    },
    {
     "name": "stderr",
     "output_type": "stream",
     "text": [
      "iteration: 100%|██████████| 40/40 [00:07<00:00,  5.11%/s]\n",
      "Epoch:  37%|███▋      | 37/100 [04:50<08:13,  7.83s/epoch]"
     ]
    },
    {
     "name": "stdout",
     "output_type": "stream",
     "text": [
      "Epoch 36: loss: 1.9704769849777222\n"
     ]
    },
    {
     "name": "stderr",
     "output_type": "stream",
     "text": [
      "iteration: 100%|██████████| 40/40 [00:07<00:00,  5.12%/s]\n",
      "Epoch:  38%|███▊      | 38/100 [04:58<08:04,  7.82s/epoch]"
     ]
    },
    {
     "name": "stdout",
     "output_type": "stream",
     "text": [
      "Epoch 37: loss: 1.9794334173202515\n"
     ]
    },
    {
     "name": "stderr",
     "output_type": "stream",
     "text": [
      "iteration: 100%|██████████| 40/40 [00:07<00:00,  5.12%/s]\n",
      "Epoch:  39%|███▉      | 39/100 [05:06<07:56,  7.82s/epoch]"
     ]
    },
    {
     "name": "stdout",
     "output_type": "stream",
     "text": [
      "Epoch 38: loss: 2.0482370853424072\n"
     ]
    },
    {
     "name": "stderr",
     "output_type": "stream",
     "text": [
      "iteration: 100%|██████████| 40/40 [00:07<00:00,  5.12%/s]\n",
      "Epoch:  40%|████      | 40/100 [05:13<07:49,  7.82s/epoch]"
     ]
    },
    {
     "name": "stdout",
     "output_type": "stream",
     "text": [
      "Epoch 39: loss: 1.9399418830871582\n"
     ]
    },
    {
     "name": "stderr",
     "output_type": "stream",
     "text": [
      "iteration: 100%|██████████| 40/40 [00:07<00:00,  5.12%/s]\n",
      "Epoch:  41%|████      | 41/100 [05:21<07:41,  7.82s/epoch]"
     ]
    },
    {
     "name": "stdout",
     "output_type": "stream",
     "text": [
      "Epoch 40: loss: 2.1052186489105225\n"
     ]
    },
    {
     "name": "stderr",
     "output_type": "stream",
     "text": [
      "iteration: 100%|██████████| 40/40 [00:07<00:00,  5.10%/s]\n",
      "Epoch:  42%|████▏     | 42/100 [05:29<07:34,  7.83s/epoch]"
     ]
    },
    {
     "name": "stdout",
     "output_type": "stream",
     "text": [
      "Epoch 41: loss: 2.0384361743927\n"
     ]
    },
    {
     "name": "stderr",
     "output_type": "stream",
     "text": [
      "iteration: 100%|██████████| 40/40 [00:07<00:00,  5.13%/s]\n",
      "Epoch:  43%|████▎     | 43/100 [05:37<07:25,  7.82s/epoch]"
     ]
    },
    {
     "name": "stdout",
     "output_type": "stream",
     "text": [
      "Epoch 42: loss: 1.9082461595535278\n"
     ]
    },
    {
     "name": "stderr",
     "output_type": "stream",
     "text": [
      "iteration: 100%|██████████| 40/40 [00:07<00:00,  5.09%/s]\n",
      "Epoch:  44%|████▍     | 44/100 [05:45<07:18,  7.83s/epoch]"
     ]
    },
    {
     "name": "stdout",
     "output_type": "stream",
     "text": [
      "Epoch 43: loss: 2.0332212448120117\n"
     ]
    },
    {
     "name": "stderr",
     "output_type": "stream",
     "text": [
      "iteration: 100%|██████████| 40/40 [00:07<00:00,  5.15%/s]\n",
      "Epoch:  45%|████▌     | 45/100 [05:52<07:09,  7.82s/epoch]"
     ]
    },
    {
     "name": "stdout",
     "output_type": "stream",
     "text": [
      "Epoch 44: loss: 2.053553581237793\n"
     ]
    },
    {
     "name": "stderr",
     "output_type": "stream",
     "text": [
      "iteration: 100%|██████████| 40/40 [00:07<00:00,  5.10%/s]\n",
      "Epoch:  46%|████▌     | 46/100 [06:00<07:02,  7.83s/epoch]"
     ]
    },
    {
     "name": "stdout",
     "output_type": "stream",
     "text": [
      "Epoch 45: loss: 1.9561989307403564\n"
     ]
    },
    {
     "name": "stderr",
     "output_type": "stream",
     "text": [
      "iteration: 100%|██████████| 40/40 [00:07<00:00,  5.16%/s]\n",
      "Epoch:  47%|████▋     | 47/100 [06:08<06:53,  7.81s/epoch]"
     ]
    },
    {
     "name": "stdout",
     "output_type": "stream",
     "text": [
      "Epoch 46: loss: 1.9093034267425537\n"
     ]
    },
    {
     "name": "stderr",
     "output_type": "stream",
     "text": [
      "iteration: 100%|██████████| 40/40 [00:07<00:00,  5.08%/s]\n",
      "Epoch:  48%|████▊     | 48/100 [06:16<06:47,  7.83s/epoch]"
     ]
    },
    {
     "name": "stdout",
     "output_type": "stream",
     "text": [
      "Epoch 47: loss: 2.0576770305633545\n"
     ]
    },
    {
     "name": "stderr",
     "output_type": "stream",
     "text": [
      "iteration: 100%|██████████| 40/40 [00:07<00:00,  5.11%/s]\n",
      "Epoch:  49%|████▉     | 49/100 [06:24<06:39,  7.83s/epoch]"
     ]
    },
    {
     "name": "stdout",
     "output_type": "stream",
     "text": [
      "Epoch 48: loss: 1.9215854406356812\n"
     ]
    },
    {
     "name": "stderr",
     "output_type": "stream",
     "text": [
      "iteration: 100%|██████████| 40/40 [00:07<00:00,  5.09%/s]\n",
      "Epoch:  50%|█████     | 50/100 [06:32<06:31,  7.84s/epoch]"
     ]
    },
    {
     "name": "stdout",
     "output_type": "stream",
     "text": [
      "Epoch 49: loss: 2.0549192428588867\n"
     ]
    },
    {
     "name": "stderr",
     "output_type": "stream",
     "text": [
      "iteration: 100%|██████████| 40/40 [00:07<00:00,  5.10%/s]\n",
      "Epoch:  51%|█████     | 51/100 [06:39<06:24,  7.84s/epoch]"
     ]
    },
    {
     "name": "stdout",
     "output_type": "stream",
     "text": [
      "Epoch 50: loss: 1.9653743505477905\n"
     ]
    },
    {
     "name": "stderr",
     "output_type": "stream",
     "text": [
      "iteration: 100%|██████████| 40/40 [00:07<00:00,  5.05%/s]\n",
      "Epoch:  52%|█████▏    | 52/100 [06:47<06:17,  7.86s/epoch]"
     ]
    },
    {
     "name": "stdout",
     "output_type": "stream",
     "text": [
      "Epoch 51: loss: 1.8536447286605835\n"
     ]
    },
    {
     "name": "stderr",
     "output_type": "stream",
     "text": [
      "iteration: 100%|██████████| 40/40 [00:07<00:00,  5.12%/s]\n",
      "Epoch:  53%|█████▎    | 53/100 [06:55<06:08,  7.85s/epoch]"
     ]
    },
    {
     "name": "stdout",
     "output_type": "stream",
     "text": [
      "Epoch 52: loss: 2.005277156829834\n"
     ]
    },
    {
     "name": "stderr",
     "output_type": "stream",
     "text": [
      "iteration: 100%|██████████| 40/40 [00:07<00:00,  5.06%/s]\n",
      "Epoch:  54%|█████▍    | 54/100 [07:03<06:01,  7.86s/epoch]"
     ]
    },
    {
     "name": "stdout",
     "output_type": "stream",
     "text": [
      "Epoch 53: loss: 2.0731470584869385\n"
     ]
    },
    {
     "name": "stderr",
     "output_type": "stream",
     "text": [
      "iteration: 100%|██████████| 40/40 [00:07<00:00,  5.10%/s]\n",
      "Epoch:  55%|█████▌    | 55/100 [07:11<05:53,  7.86s/epoch]"
     ]
    },
    {
     "name": "stdout",
     "output_type": "stream",
     "text": [
      "Epoch 54: loss: 2.0639090538024902\n"
     ]
    },
    {
     "name": "stderr",
     "output_type": "stream",
     "text": [
      "iteration: 100%|██████████| 40/40 [00:08<00:00,  4.90%/s]\n",
      "Epoch:  56%|█████▌    | 56/100 [07:19<05:49,  7.95s/epoch]"
     ]
    },
    {
     "name": "stdout",
     "output_type": "stream",
     "text": [
      "Epoch 55: loss: 1.9031188488006592\n"
     ]
    },
    {
     "name": "stderr",
     "output_type": "stream",
     "text": [
      "iteration: 100%|██████████| 40/40 [00:08<00:00,  4.96%/s]\n",
      "Epoch:  57%|█████▋    | 57/100 [07:27<05:43,  7.99s/epoch]"
     ]
    },
    {
     "name": "stdout",
     "output_type": "stream",
     "text": [
      "Epoch 56: loss: 1.942631483078003\n"
     ]
    },
    {
     "name": "stderr",
     "output_type": "stream",
     "text": [
      "iteration: 100%|██████████| 40/40 [00:08<00:00,  4.92%/s]\n",
      "Epoch:  58%|█████▊    | 58/100 [07:35<05:37,  8.03s/epoch]"
     ]
    },
    {
     "name": "stdout",
     "output_type": "stream",
     "text": [
      "Epoch 57: loss: 2.0006725788116455\n"
     ]
    },
    {
     "name": "stderr",
     "output_type": "stream",
     "text": [
      "iteration: 100%|██████████| 40/40 [00:08<00:00,  4.96%/s]\n",
      "Epoch:  59%|█████▉    | 59/100 [07:43<05:29,  8.04s/epoch]"
     ]
    },
    {
     "name": "stdout",
     "output_type": "stream",
     "text": [
      "Epoch 58: loss: 1.9010834693908691\n"
     ]
    },
    {
     "name": "stderr",
     "output_type": "stream",
     "text": [
      "iteration: 100%|██████████| 40/40 [00:08<00:00,  4.85%/s]\n",
      "Epoch:  60%|██████    | 60/100 [07:52<05:24,  8.10s/epoch]"
     ]
    },
    {
     "name": "stdout",
     "output_type": "stream",
     "text": [
      "Epoch 59: loss: 1.9458708763122559\n"
     ]
    },
    {
     "name": "stderr",
     "output_type": "stream",
     "text": [
      "iteration: 100%|██████████| 40/40 [00:08<00:00,  4.96%/s]\n",
      "Epoch:  61%|██████    | 61/100 [08:00<05:15,  8.09s/epoch]"
     ]
    },
    {
     "name": "stdout",
     "output_type": "stream",
     "text": [
      "Epoch 60: loss: 1.8064724206924438\n"
     ]
    },
    {
     "name": "stderr",
     "output_type": "stream",
     "text": [
      "iteration: 100%|██████████| 40/40 [00:08<00:00,  4.93%/s]\n",
      "Epoch:  62%|██████▏   | 62/100 [08:08<05:07,  8.10s/epoch]"
     ]
    },
    {
     "name": "stdout",
     "output_type": "stream",
     "text": [
      "Epoch 61: loss: 1.9329031705856323\n"
     ]
    },
    {
     "name": "stderr",
     "output_type": "stream",
     "text": [
      "iteration: 100%|██████████| 40/40 [00:08<00:00,  4.94%/s]\n",
      "Epoch:  63%|██████▎   | 63/100 [08:16<04:59,  8.10s/epoch]"
     ]
    },
    {
     "name": "stdout",
     "output_type": "stream",
     "text": [
      "Epoch 62: loss: 1.888748049736023\n"
     ]
    },
    {
     "name": "stderr",
     "output_type": "stream",
     "text": [
      "iteration: 100%|██████████| 40/40 [00:08<00:00,  4.90%/s]\n",
      "Epoch:  64%|██████▍   | 64/100 [08:24<04:52,  8.12s/epoch]"
     ]
    },
    {
     "name": "stdout",
     "output_type": "stream",
     "text": [
      "Epoch 63: loss: 1.972162127494812\n"
     ]
    },
    {
     "name": "stderr",
     "output_type": "stream",
     "text": [
      "iteration: 100%|██████████| 40/40 [00:08<00:00,  4.94%/s]\n",
      "Epoch:  65%|██████▌   | 65/100 [08:32<04:43,  8.11s/epoch]"
     ]
    },
    {
     "name": "stdout",
     "output_type": "stream",
     "text": [
      "Epoch 64: loss: 1.908808946609497\n"
     ]
    },
    {
     "name": "stderr",
     "output_type": "stream",
     "text": [
      "iteration: 100%|██████████| 40/40 [00:08<00:00,  4.91%/s]\n",
      "Epoch:  66%|██████▌   | 66/100 [08:40<04:36,  8.12s/epoch]"
     ]
    },
    {
     "name": "stdout",
     "output_type": "stream",
     "text": [
      "Epoch 65: loss: 1.7651995420455933\n"
     ]
    },
    {
     "name": "stderr",
     "output_type": "stream",
     "text": [
      "iteration: 100%|██████████| 40/40 [00:08<00:00,  4.97%/s]\n",
      "Epoch:  67%|██████▋   | 67/100 [08:48<04:27,  8.10s/epoch]"
     ]
    },
    {
     "name": "stdout",
     "output_type": "stream",
     "text": [
      "Epoch 66: loss: 1.8104159832000732\n"
     ]
    },
    {
     "name": "stderr",
     "output_type": "stream",
     "text": [
      "iteration: 100%|██████████| 40/40 [00:08<00:00,  4.94%/s]\n",
      "Epoch:  68%|██████▊   | 68/100 [08:56<04:19,  8.10s/epoch]"
     ]
    },
    {
     "name": "stdout",
     "output_type": "stream",
     "text": [
      "Epoch 67: loss: 1.9681823253631592\n"
     ]
    },
    {
     "name": "stderr",
     "output_type": "stream",
     "text": [
      "iteration: 100%|██████████| 40/40 [00:08<00:00,  4.96%/s]\n",
      "Epoch:  69%|██████▉   | 69/100 [09:05<04:10,  8.10s/epoch]"
     ]
    },
    {
     "name": "stdout",
     "output_type": "stream",
     "text": [
      "Epoch 68: loss: 1.8842800855636597\n"
     ]
    },
    {
     "name": "stderr",
     "output_type": "stream",
     "text": [
      "iteration: 100%|██████████| 40/40 [00:08<00:00,  4.93%/s]\n",
      "Epoch:  70%|███████   | 70/100 [09:13<04:03,  8.10s/epoch]"
     ]
    },
    {
     "name": "stdout",
     "output_type": "stream",
     "text": [
      "Epoch 69: loss: 1.8069194555282593\n"
     ]
    },
    {
     "name": "stderr",
     "output_type": "stream",
     "text": [
      "iteration: 100%|██████████| 40/40 [00:08<00:00,  4.96%/s]\n",
      "Epoch:  71%|███████   | 71/100 [09:21<03:54,  8.09s/epoch]"
     ]
    },
    {
     "name": "stdout",
     "output_type": "stream",
     "text": [
      "Epoch 70: loss: 1.9481414556503296\n"
     ]
    },
    {
     "name": "stderr",
     "output_type": "stream",
     "text": [
      "iteration: 100%|██████████| 40/40 [00:08<00:00,  4.94%/s]\n",
      "Epoch:  72%|███████▏  | 72/100 [09:29<03:46,  8.09s/epoch]"
     ]
    },
    {
     "name": "stdout",
     "output_type": "stream",
     "text": [
      "Epoch 71: loss: 1.8082882165908813\n"
     ]
    },
    {
     "name": "stderr",
     "output_type": "stream",
     "text": [
      "iteration: 100%|██████████| 40/40 [00:08<00:00,  4.96%/s]\n",
      "Epoch:  73%|███████▎  | 73/100 [09:37<03:38,  8.09s/epoch]"
     ]
    },
    {
     "name": "stdout",
     "output_type": "stream",
     "text": [
      "Epoch 72: loss: 2.008652925491333\n"
     ]
    },
    {
     "name": "stderr",
     "output_type": "stream",
     "text": [
      "iteration: 100%|██████████| 40/40 [00:08<00:00,  4.93%/s]\n",
      "Epoch:  74%|███████▍  | 74/100 [09:45<03:30,  8.10s/epoch]"
     ]
    },
    {
     "name": "stdout",
     "output_type": "stream",
     "text": [
      "Epoch 73: loss: 1.834065556526184\n"
     ]
    },
    {
     "name": "stderr",
     "output_type": "stream",
     "text": [
      "iteration: 100%|██████████| 40/40 [00:08<00:00,  5.00%/s]\n",
      "Epoch:  75%|███████▌  | 75/100 [09:53<03:21,  8.07s/epoch]"
     ]
    },
    {
     "name": "stdout",
     "output_type": "stream",
     "text": [
      "Epoch 74: loss: 1.8975430727005005\n"
     ]
    },
    {
     "name": "stderr",
     "output_type": "stream",
     "text": [
      "iteration: 100%|██████████| 40/40 [00:08<00:00,  4.95%/s]\n",
      "Epoch:  76%|███████▌  | 76/100 [10:01<03:13,  8.08s/epoch]"
     ]
    },
    {
     "name": "stdout",
     "output_type": "stream",
     "text": [
      "Epoch 75: loss: 1.7260024547576904\n"
     ]
    },
    {
     "name": "stderr",
     "output_type": "stream",
     "text": [
      "iteration: 100%|██████████| 40/40 [00:08<00:00,  4.97%/s]\n",
      "Epoch:  77%|███████▋  | 77/100 [10:09<03:05,  8.07s/epoch]"
     ]
    },
    {
     "name": "stdout",
     "output_type": "stream",
     "text": [
      "Epoch 76: loss: 1.7396979331970215\n"
     ]
    },
    {
     "name": "stderr",
     "output_type": "stream",
     "text": [
      "iteration: 100%|██████████| 40/40 [00:08<00:00,  4.93%/s]\n",
      "Epoch:  78%|███████▊  | 78/100 [10:17<02:57,  8.08s/epoch]"
     ]
    },
    {
     "name": "stdout",
     "output_type": "stream",
     "text": [
      "Epoch 77: loss: 1.955029010772705\n"
     ]
    },
    {
     "name": "stderr",
     "output_type": "stream",
     "text": [
      "iteration: 100%|██████████| 40/40 [00:08<00:00,  4.96%/s]\n",
      "Epoch:  79%|███████▉  | 79/100 [10:25<02:49,  8.08s/epoch]"
     ]
    },
    {
     "name": "stdout",
     "output_type": "stream",
     "text": [
      "Epoch 78: loss: 2.006225824356079\n"
     ]
    },
    {
     "name": "stderr",
     "output_type": "stream",
     "text": [
      "iteration: 100%|██████████| 40/40 [00:08<00:00,  4.90%/s]\n",
      "Epoch:  80%|████████  | 80/100 [10:34<02:42,  8.11s/epoch]"
     ]
    },
    {
     "name": "stdout",
     "output_type": "stream",
     "text": [
      "Epoch 79: loss: 1.7551028728485107\n"
     ]
    },
    {
     "name": "stderr",
     "output_type": "stream",
     "text": [
      "iteration: 100%|██████████| 40/40 [00:08<00:00,  4.87%/s]\n",
      "Epoch:  81%|████████  | 81/100 [10:42<02:34,  8.14s/epoch]"
     ]
    },
    {
     "name": "stdout",
     "output_type": "stream",
     "text": [
      "Epoch 80: loss: 1.7778880596160889\n"
     ]
    },
    {
     "name": "stderr",
     "output_type": "stream",
     "text": [
      "iteration: 100%|██████████| 40/40 [00:08<00:00,  4.86%/s]\n",
      "Epoch:  82%|████████▏ | 82/100 [10:50<02:27,  8.17s/epoch]"
     ]
    },
    {
     "name": "stdout",
     "output_type": "stream",
     "text": [
      "Epoch 81: loss: 1.7856227159500122\n"
     ]
    },
    {
     "name": "stderr",
     "output_type": "stream",
     "text": [
      "iteration: 100%|██████████| 40/40 [00:08<00:00,  4.76%/s]\n",
      "Epoch:  83%|████████▎ | 83/100 [10:58<02:20,  8.24s/epoch]"
     ]
    },
    {
     "name": "stdout",
     "output_type": "stream",
     "text": [
      "Epoch 82: loss: 1.8972338438034058\n"
     ]
    },
    {
     "name": "stderr",
     "output_type": "stream",
     "text": [
      "iteration: 100%|██████████| 40/40 [00:08<00:00,  4.75%/s]\n",
      "Epoch:  84%|████████▍ | 84/100 [11:07<02:12,  8.30s/epoch]"
     ]
    },
    {
     "name": "stdout",
     "output_type": "stream",
     "text": [
      "Epoch 83: loss: 1.8207793235778809\n"
     ]
    },
    {
     "name": "stderr",
     "output_type": "stream",
     "text": [
      "iteration: 100%|██████████| 40/40 [00:08<00:00,  4.93%/s]\n",
      "Epoch:  85%|████████▌ | 85/100 [11:15<02:03,  8.24s/epoch]"
     ]
    },
    {
     "name": "stdout",
     "output_type": "stream",
     "text": [
      "Epoch 84: loss: 1.9913406372070312\n"
     ]
    },
    {
     "name": "stderr",
     "output_type": "stream",
     "text": [
      "iteration: 100%|██████████| 40/40 [00:07<00:00,  5.02%/s]\n",
      "Epoch:  86%|████████▌ | 86/100 [11:23<01:54,  8.16s/epoch]"
     ]
    },
    {
     "name": "stdout",
     "output_type": "stream",
     "text": [
      "Epoch 85: loss: 1.957198143005371\n"
     ]
    },
    {
     "name": "stderr",
     "output_type": "stream",
     "text": [
      "iteration: 100%|██████████| 40/40 [00:07<00:00,  5.06%/s]\n",
      "Epoch:  87%|████████▋ | 87/100 [11:31<01:45,  8.09s/epoch]"
     ]
    },
    {
     "name": "stdout",
     "output_type": "stream",
     "text": [
      "Epoch 86: loss: 1.9724699258804321\n"
     ]
    },
    {
     "name": "stderr",
     "output_type": "stream",
     "text": [
      "iteration: 100%|██████████| 40/40 [00:07<00:00,  5.06%/s]\n",
      "Epoch:  88%|████████▊ | 88/100 [11:39<01:36,  8.03s/epoch]"
     ]
    },
    {
     "name": "stdout",
     "output_type": "stream",
     "text": [
      "Epoch 87: loss: 1.7748979330062866\n"
     ]
    },
    {
     "name": "stderr",
     "output_type": "stream",
     "text": [
      "iteration: 100%|██████████| 40/40 [00:07<00:00,  5.08%/s]\n",
      "Epoch:  89%|████████▉ | 89/100 [11:47<01:27,  7.99s/epoch]"
     ]
    },
    {
     "name": "stdout",
     "output_type": "stream",
     "text": [
      "Epoch 88: loss: 1.8288410902023315\n"
     ]
    },
    {
     "name": "stderr",
     "output_type": "stream",
     "text": [
      "iteration: 100%|██████████| 40/40 [00:07<00:00,  5.07%/s]\n",
      "Epoch:  90%|█████████ | 90/100 [11:54<01:19,  7.96s/epoch]"
     ]
    },
    {
     "name": "stdout",
     "output_type": "stream",
     "text": [
      "Epoch 89: loss: 1.8856898546218872\n"
     ]
    },
    {
     "name": "stderr",
     "output_type": "stream",
     "text": [
      "iteration: 100%|██████████| 40/40 [00:07<00:00,  5.07%/s]\n",
      "Epoch:  91%|█████████ | 91/100 [12:02<01:11,  7.94s/epoch]"
     ]
    },
    {
     "name": "stdout",
     "output_type": "stream",
     "text": [
      "Epoch 90: loss: 1.8087875843048096\n"
     ]
    },
    {
     "name": "stderr",
     "output_type": "stream",
     "text": [
      "iteration: 100%|██████████| 40/40 [00:07<00:00,  5.07%/s]\n",
      "Epoch:  92%|█████████▏| 92/100 [12:10<01:03,  7.93s/epoch]"
     ]
    },
    {
     "name": "stdout",
     "output_type": "stream",
     "text": [
      "Epoch 91: loss: 1.9056907892227173\n"
     ]
    },
    {
     "name": "stderr",
     "output_type": "stream",
     "text": [
      "iteration: 100%|██████████| 40/40 [00:07<00:00,  5.08%/s]\n",
      "Epoch:  93%|█████████▎| 93/100 [12:18<00:55,  7.91s/epoch]"
     ]
    },
    {
     "name": "stdout",
     "output_type": "stream",
     "text": [
      "Epoch 92: loss: 1.7585633993148804\n"
     ]
    },
    {
     "name": "stderr",
     "output_type": "stream",
     "text": [
      "iteration: 100%|██████████| 40/40 [00:07<00:00,  5.05%/s]\n",
      "Epoch:  94%|█████████▍| 94/100 [12:26<00:47,  7.91s/epoch]"
     ]
    },
    {
     "name": "stdout",
     "output_type": "stream",
     "text": [
      "Epoch 93: loss: 2.0382697582244873\n"
     ]
    },
    {
     "name": "stderr",
     "output_type": "stream",
     "text": [
      "iteration: 100%|██████████| 40/40 [00:07<00:00,  5.07%/s]\n",
      "Epoch:  95%|█████████▌| 95/100 [12:34<00:39,  7.91s/epoch]"
     ]
    },
    {
     "name": "stdout",
     "output_type": "stream",
     "text": [
      "Epoch 94: loss: 1.7011128664016724\n"
     ]
    },
    {
     "name": "stderr",
     "output_type": "stream",
     "text": [
      "iteration: 100%|██████████| 40/40 [00:07<00:00,  5.06%/s]\n",
      "Epoch:  96%|█████████▌| 96/100 [12:42<00:31,  7.91s/epoch]"
     ]
    },
    {
     "name": "stdout",
     "output_type": "stream",
     "text": [
      "Epoch 95: loss: 1.8350889682769775\n"
     ]
    },
    {
     "name": "stderr",
     "output_type": "stream",
     "text": [
      "iteration: 100%|██████████| 40/40 [00:07<00:00,  5.08%/s]\n",
      "Epoch:  97%|█████████▋| 97/100 [12:50<00:23,  7.90s/epoch]"
     ]
    },
    {
     "name": "stdout",
     "output_type": "stream",
     "text": [
      "Epoch 96: loss: 1.7798724174499512\n"
     ]
    },
    {
     "name": "stderr",
     "output_type": "stream",
     "text": [
      "iteration: 100%|██████████| 40/40 [00:07<00:00,  5.06%/s]\n",
      "Epoch:  98%|█████████▊| 98/100 [12:58<00:15,  7.90s/epoch]"
     ]
    },
    {
     "name": "stdout",
     "output_type": "stream",
     "text": [
      "Epoch 97: loss: 1.6431649923324585\n"
     ]
    },
    {
     "name": "stderr",
     "output_type": "stream",
     "text": [
      "iteration: 100%|██████████| 40/40 [00:07<00:00,  5.07%/s]\n",
      "Epoch:  99%|█████████▉| 99/100 [13:06<00:07,  7.90s/epoch]"
     ]
    },
    {
     "name": "stdout",
     "output_type": "stream",
     "text": [
      "Epoch 98: loss: 1.752134084701538\n"
     ]
    },
    {
     "name": "stderr",
     "output_type": "stream",
     "text": [
      "iteration: 100%|██████████| 40/40 [00:07<00:00,  5.06%/s]\n",
      "Epoch: 100%|██████████| 100/100 [13:13<00:00,  7.94s/epoch]"
     ]
    },
    {
     "name": "stdout",
     "output_type": "stream",
     "text": [
      "Epoch 99: loss: 1.8952908515930176\n"
     ]
    },
    {
     "name": "stderr",
     "output_type": "stream",
     "text": [
      "\n"
     ]
    }
   ],
   "source": [
    "from tqdm import tqdm\n",
    "train(combo_dataloader_train, model, LossFunction, optimizer, loss_history, nepochs, device)"
   ]
  },
  {
   "cell_type": "markdown",
   "metadata": {},
   "source": [
    "## 3. Results\n"
   ]
  },
  {
   "cell_type": "markdown",
   "metadata": {},
   "source": [
    "The model is trained and ready to go, all thats left is to see its performance. "
   ]
  },
  {
   "cell_type": "code",
   "execution_count": 43,
   "metadata": {},
   "outputs": [],
   "source": [
    "import matplotlib.pyplot as plt\n",
    "def plot_loss(loss_history, plot_title):\n",
    "    # Note that we are not plotting loss per epoch but per iteration\n",
    "    plt.plot(loss_history)\n",
    "    plt.title(plot_title)\n",
    "    plt.xlabel(\"Number of iterations\")\n",
    "    plt.ylabel(\"Loss\")\n",
    "    plt.show()"
   ]
  },
  {
   "cell_type": "code",
   "execution_count": 55,
   "metadata": {},
   "outputs": [
    {
     "data": {
      "image/png": "[encoded data removed]",
      "text/plain": [
       "<Figure size 640x480 with 1 Axes>"
      ]
     },
     "metadata": {},
     "output_type": "display_data"
    }
   ],
   "source": [
    "plot_loss(loss_history, \"Resnet50 Loss during SSAGAN img Training\")"
   ]
  },
  {
   "cell_type": "markdown",
   "metadata": {},
   "source": [
    "As you can see, the model's loss during training varies wildly, but tends downwards with more epochs. If I had more time, I would love to experiment with different learning rates and a learning rate scheduler, but I don't."
   ]
  },
  {
   "cell_type": "code",
   "execution_count": 59,
   "metadata": {},
   "outputs": [],
   "source": [
    "#NOTE: This custom transform class will convert an image from 4 channels \"RGBA\" to 3 \"RGB\". \n",
    "# I need it since some of the images in my combo foods testing dataset are 4 channels. \n",
    "import torch\n",
    "from torchvision import transforms\n",
    "from PIL import Image\n",
    "\n",
    "class ConvertTo3Channels:\n",
    "    def __call__(self, image: Image.Image):\n",
    "        if image.mode == 'RGBA':\n",
    "            # Convert the 4-channel image to a 3-channel image by keeping only RGB channels\n",
    "            image = image.convert('RGB')\n",
    "        return image\n",
    "\n",
    "# Define your other desired transforms\n",
    "other_transforms = [\n",
    "    transforms.Resize((224, 224)),\n",
    "    transforms.ToTensor(),\n",
    "    transforms.Normalize((0.5, 0.5, 0.5), (0.5, 0.5, 0.5)),\n",
    "]\n",
    "\n",
    "# Combine the custom transform and other transforms using transforms.Compose()\n",
    "transform_pipeline = transforms.Compose([ConvertTo3Channels()] + other_transforms)\n"
   ]
  },
  {
   "cell_type": "code",
   "execution_count": 60,
   "metadata": {},
   "outputs": [],
   "source": [
    "test_combo_dir = \"data/test_combo_foods/\"\n",
    "combo_dataset_test = CustomImageDataset(root_dir=test_combo_dir, transform=transform_pipeline)\n",
    "# Setup Data Loader\n",
    "batch_size = 25\n",
    "combo_dataloader_test =  torch.utils.data.DataLoader(combo_dataset_test, batch_size=batch_size,\n",
    "                                          shuffle=True)"
   ]
  },
  {
   "cell_type": "code",
   "execution_count": 47,
   "metadata": {},
   "outputs": [],
   "source": [
    "def test(model, testloader, testset, device, loss_fn, test_loss_history):\n",
    "    model.eval()\n",
    "    accuracy = 0\n",
    "    for (data, label) in testloader:\n",
    "        data = data.to(device)\n",
    "        label = label.to(device)\n",
    "        out = model(data)\n",
    "        loss = loss_fn(out, label)\n",
    "        test_loss_history.append(loss.item())\n",
    "        answers = out.max(dim=1)[1]\n",
    "        accuracy += (answers == label).sum()\n",
    "    print(f\"Total accuracy = {accuracy / len(testset)*100:.2f}%\")"
   ]
  },
  {
   "cell_type": "code",
   "execution_count": 61,
   "metadata": {},
   "outputs": [
    {
     "name": "stdout",
     "output_type": "stream",
     "text": [
      "Total accuracy = 13.60%\n"
     ]
    },
    {
     "data": {
      "image/png": "[encoded data removed]",
      "text/plain": [
       "<Figure size 640x480 with 1 Axes>"
      ]
     },
     "metadata": {},
     "output_type": "display_data"
    }
   ],
   "source": [
    "test_loss_history = []\n",
    "test(model, combo_dataloader_test, combo_dataset_test, device, LossFunction, test_loss_history)\n",
    "plot_loss(test_loss_history, \"SSAGAN Real Combo Food Images Test Loss\")"
   ]
  },
  {
   "cell_type": "markdown",
   "metadata": {},
   "source": [
    "**RESULTS:** I got an accuracy thats a good bit higher than just 10% (see 26% later with Adam Optimizer), so that's at least a partial win! Next, if I had time, I would love to train another Resnet50 with the single images AND the generated combo images, and then see how it does identifying the combo food images. Would it just think they are the single food images? Or would it actually be able to tell between them? If it did, I would consider my project a major success.\n",
    "\n",
    "TESTING NOTES:\n",
    "13.6 % accuracy w/ batch_size = 25, SGD Optimizer, lr = 0.0001, for 100 epochs."
   ]
  },
  {
   "cell_type": "markdown",
   "metadata": {},
   "source": [
    "## RESULTS PT 2. More Tests w/ Resnet\n",
    "Now that I have fully implemented my GAN generation to Resnet50 training experiment, I figure I should carry out a couple more tests.\n",
    "\n",
    "#### More Tests: Resnet50 again, but with ADAM\n",
    "My loss varied wildly between epochs during my training of the Resnet50, yet it still managed to get 49% accuracy. I wonder if I can improve this accuracy by training it such that it has much less loss variation between epochs. To do this, I will try using ADAM instead of SGD as my learning algorithm, as well as try a couple different learning rates. "
   ]
  },
  {
   "cell_type": "code",
   "execution_count": 69,
   "metadata": {},
   "outputs": [],
   "source": [
    "from torchvision import models\n",
    "\n",
    "num_classes = 10\n",
    "\n",
    "# Load a pre-trained ResNet-50 resnet_2\n",
    "resnet_2 = models.resnet50(pretrained=False)\n",
    "\n",
    "# Replace the last layer with a new fully connected layer for your specific number of classes\n",
    "resnet_2.fc = torch.nn.Linear(resnet_2.fc.in_features, num_classes)\n"
   ]
  },
  {
   "cell_type": "code",
   "execution_count": 70,
   "metadata": {},
   "outputs": [],
   "source": [
    "# Re-initialize the datasets in case we want to test with a different batch size\n",
    "\n",
    "# Training Dataset Setup\n",
    "combo_food_dir = \"data/combo_foods/\"\n",
    "combo_dataset_train = CustomImageDataset(root_dir=combo_food_dir, transform=transform)\n",
    "# Setup Data Loader\n",
    "batch_size = 5 # I just picked 25\n",
    "combo_dataloader_train =  torch.utils.data.DataLoader(combo_dataset_train, batch_size=batch_size,\n",
    "                                          shuffle=True)\n",
    "\n",
    "# Testing Dataset Setup\n",
    "test_combo_dir = \"data/test_combo_foods/\"\n",
    "combo_dataset_test = CustomImageDataset(root_dir=test_combo_dir, transform=transform_pipeline)\n",
    "# Setup Data Loader\n",
    "batch_size = 5\n",
    "combo_dataloader_test =  torch.utils.data.DataLoader(combo_dataset_test, batch_size=batch_size,\n",
    "                                          shuffle=True)"
   ]
  },
  {
   "cell_type": "code",
   "execution_count": 71,
   "metadata": {},
   "outputs": [
    {
     "name": "stdout",
     "output_type": "stream",
     "text": [
      "cuda\n",
      "ResNet(\n",
      "  (conv1): Conv2d(3, 64, kernel_size=(7, 7), stride=(2, 2), padding=(3, 3), bias=False)\n",
      "  (bn1): BatchNorm2d(64, eps=1e-05, momentum=0.1, affine=True, track_running_stats=True)\n",
      "  (relu): ReLU(inplace=True)\n",
      "  (maxpool): MaxPool2d(kernel_size=3, stride=2, padding=1, dilation=1, ceil_mode=False)\n",
      "  (layer1): Sequential(\n",
      "    (0): Bottleneck(\n",
      "      (conv1): Conv2d(64, 64, kernel_size=(1, 1), stride=(1, 1), bias=False)\n",
      "      (bn1): BatchNorm2d(64, eps=1e-05, momentum=0.1, affine=True, track_running_stats=True)\n",
      "      (conv2): Conv2d(64, 64, kernel_size=(3, 3), stride=(1, 1), padding=(1, 1), bias=False)\n",
      "      (bn2): BatchNorm2d(64, eps=1e-05, momentum=0.1, affine=True, track_running_stats=True)\n",
      "      (conv3): Conv2d(64, 256, kernel_size=(1, 1), stride=(1, 1), bias=False)\n",
      "      (bn3): BatchNorm2d(256, eps=1e-05, momentum=0.1, affine=True, track_running_stats=True)\n",
      "      (relu): ReLU(inplace=True)\n",
      "      (downsample): Sequential(\n",
      "        (0): Conv2d(64, 256, kernel_size=(1, 1), stride=(1, 1), bias=False)\n",
      "        (1): BatchNorm2d(256, eps=1e-05, momentum=0.1, affine=True, track_running_stats=True)\n",
      "      )\n",
      "    )\n",
      "    (1): Bottleneck(\n",
      "      (conv1): Conv2d(256, 64, kernel_size=(1, 1), stride=(1, 1), bias=False)\n",
      "      (bn1): BatchNorm2d(64, eps=1e-05, momentum=0.1, affine=True, track_running_stats=True)\n",
      "      (conv2): Conv2d(64, 64, kernel_size=(3, 3), stride=(1, 1), padding=(1, 1), bias=False)\n",
      "      (bn2): BatchNorm2d(64, eps=1e-05, momentum=0.1, affine=True, track_running_stats=True)\n",
      "      (conv3): Conv2d(64, 256, kernel_size=(1, 1), stride=(1, 1), bias=False)\n",
      "      (bn3): BatchNorm2d(256, eps=1e-05, momentum=0.1, affine=True, track_running_stats=True)\n",
      "      (relu): ReLU(inplace=True)\n",
      "    )\n",
      "    (2): Bottleneck(\n",
      "      (conv1): Conv2d(256, 64, kernel_size=(1, 1), stride=(1, 1), bias=False)\n",
      "      (bn1): BatchNorm2d(64, eps=1e-05, momentum=0.1, affine=True, track_running_stats=True)\n",
      "      (conv2): Conv2d(64, 64, kernel_size=(3, 3), stride=(1, 1), padding=(1, 1), bias=False)\n",
      "      (bn2): BatchNorm2d(64, eps=1e-05, momentum=0.1, affine=True, track_running_stats=True)\n",
      "      (conv3): Conv2d(64, 256, kernel_size=(1, 1), stride=(1, 1), bias=False)\n",
      "      (bn3): BatchNorm2d(256, eps=1e-05, momentum=0.1, affine=True, track_running_stats=True)\n",
      "      (relu): ReLU(inplace=True)\n",
      "    )\n",
      "  )\n",
      "  (layer2): Sequential(\n",
      "    (0): Bottleneck(\n",
      "      (conv1): Conv2d(256, 128, kernel_size=(1, 1), stride=(1, 1), bias=False)\n",
      "      (bn1): BatchNorm2d(128, eps=1e-05, momentum=0.1, affine=True, track_running_stats=True)\n",
      "      (conv2): Conv2d(128, 128, kernel_size=(3, 3), stride=(2, 2), padding=(1, 1), bias=False)\n",
      "      (bn2): BatchNorm2d(128, eps=1e-05, momentum=0.1, affine=True, track_running_stats=True)\n",
      "      (conv3): Conv2d(128, 512, kernel_size=(1, 1), stride=(1, 1), bias=False)\n",
      "      (bn3): BatchNorm2d(512, eps=1e-05, momentum=0.1, affine=True, track_running_stats=True)\n",
      "      (relu): ReLU(inplace=True)\n",
      "      (downsample): Sequential(\n",
      "        (0): Conv2d(256, 512, kernel_size=(1, 1), stride=(2, 2), bias=False)\n",
      "        (1): BatchNorm2d(512, eps=1e-05, momentum=0.1, affine=True, track_running_stats=True)\n",
      "      )\n",
      "    )\n",
      "    (1): Bottleneck(\n",
      "      (conv1): Conv2d(512, 128, kernel_size=(1, 1), stride=(1, 1), bias=False)\n",
      "      (bn1): BatchNorm2d(128, eps=1e-05, momentum=0.1, affine=True, track_running_stats=True)\n",
      "      (conv2): Conv2d(128, 128, kernel_size=(3, 3), stride=(1, 1), padding=(1, 1), bias=False)\n",
      "      (bn2): BatchNorm2d(128, eps=1e-05, momentum=0.1, affine=True, track_running_stats=True)\n",
      "      (conv3): Conv2d(128, 512, kernel_size=(1, 1), stride=(1, 1), bias=False)\n",
      "      (bn3): BatchNorm2d(512, eps=1e-05, momentum=0.1, affine=True, track_running_stats=True)\n",
      "      (relu): ReLU(inplace=True)\n",
      "    )\n",
      "    (2): Bottleneck(\n",
      "      (conv1): Conv2d(512, 128, kernel_size=(1, 1), stride=(1, 1), bias=False)\n",
      "      (bn1): BatchNorm2d(128, eps=1e-05, momentum=0.1, affine=True, track_running_stats=True)\n",
      "      (conv2): Conv2d(128, 128, kernel_size=(3, 3), stride=(1, 1), padding=(1, 1), bias=False)\n",
      "      (bn2): BatchNorm2d(128, eps=1e-05, momentum=0.1, affine=True, track_running_stats=True)\n",
      "      (conv3): Conv2d(128, 512, kernel_size=(1, 1), stride=(1, 1), bias=False)\n",
      "      (bn3): BatchNorm2d(512, eps=1e-05, momentum=0.1, affine=True, track_running_stats=True)\n",
      "      (relu): ReLU(inplace=True)\n",
      "    )\n",
      "    (3): Bottleneck(\n",
      "      (conv1): Conv2d(512, 128, kernel_size=(1, 1), stride=(1, 1), bias=False)\n",
      "      (bn1): BatchNorm2d(128, eps=1e-05, momentum=0.1, affine=True, track_running_stats=True)\n",
      "      (conv2): Conv2d(128, 128, kernel_size=(3, 3), stride=(1, 1), padding=(1, 1), bias=False)\n",
      "      (bn2): BatchNorm2d(128, eps=1e-05, momentum=0.1, affine=True, track_running_stats=True)\n",
      "      (conv3): Conv2d(128, 512, kernel_size=(1, 1), stride=(1, 1), bias=False)\n",
      "      (bn3): BatchNorm2d(512, eps=1e-05, momentum=0.1, affine=True, track_running_stats=True)\n",
      "      (relu): ReLU(inplace=True)\n",
      "    )\n",
      "  )\n",
      "  (layer3): Sequential(\n",
      "    (0): Bottleneck(\n",
      "      (conv1): Conv2d(512, 256, kernel_size=(1, 1), stride=(1, 1), bias=False)\n",
      "      (bn1): BatchNorm2d(256, eps=1e-05, momentum=0.1, affine=True, track_running_stats=True)\n",
      "      (conv2): Conv2d(256, 256, kernel_size=(3, 3), stride=(2, 2), padding=(1, 1), bias=False)\n",
      "      (bn2): BatchNorm2d(256, eps=1e-05, momentum=0.1, affine=True, track_running_stats=True)\n",
      "      (conv3): Conv2d(256, 1024, kernel_size=(1, 1), stride=(1, 1), bias=False)\n",
      "      (bn3): BatchNorm2d(1024, eps=1e-05, momentum=0.1, affine=True, track_running_stats=True)\n",
      "      (relu): ReLU(inplace=True)\n",
      "      (downsample): Sequential(\n",
      "        (0): Conv2d(512, 1024, kernel_size=(1, 1), stride=(2, 2), bias=False)\n",
      "        (1): BatchNorm2d(1024, eps=1e-05, momentum=0.1, affine=True, track_running_stats=True)\n",
      "      )\n",
      "    )\n",
      "    (1): Bottleneck(\n",
      "      (conv1): Conv2d(1024, 256, kernel_size=(1, 1), stride=(1, 1), bias=False)\n",
      "      (bn1): BatchNorm2d(256, eps=1e-05, momentum=0.1, affine=True, track_running_stats=True)\n",
      "      (conv2): Conv2d(256, 256, kernel_size=(3, 3), stride=(1, 1), padding=(1, 1), bias=False)\n",
      "      (bn2): BatchNorm2d(256, eps=1e-05, momentum=0.1, affine=True, track_running_stats=True)\n",
      "      (conv3): Conv2d(256, 1024, kernel_size=(1, 1), stride=(1, 1), bias=False)\n",
      "      (bn3): BatchNorm2d(1024, eps=1e-05, momentum=0.1, affine=True, track_running_stats=True)\n",
      "      (relu): ReLU(inplace=True)\n",
      "    )\n",
      "    (2): Bottleneck(\n",
      "      (conv1): Conv2d(1024, 256, kernel_size=(1, 1), stride=(1, 1), bias=False)\n",
      "      (bn1): BatchNorm2d(256, eps=1e-05, momentum=0.1, affine=True, track_running_stats=True)\n",
      "      (conv2): Conv2d(256, 256, kernel_size=(3, 3), stride=(1, 1), padding=(1, 1), bias=False)\n",
      "      (bn2): BatchNorm2d(256, eps=1e-05, momentum=0.1, affine=True, track_running_stats=True)\n",
      "      (conv3): Conv2d(256, 1024, kernel_size=(1, 1), stride=(1, 1), bias=False)\n",
      "      (bn3): BatchNorm2d(1024, eps=1e-05, momentum=0.1, affine=True, track_running_stats=True)\n",
      "      (relu): ReLU(inplace=True)\n",
      "    )\n",
      "    (3): Bottleneck(\n",
      "      (conv1): Conv2d(1024, 256, kernel_size=(1, 1), stride=(1, 1), bias=False)\n",
      "      (bn1): BatchNorm2d(256, eps=1e-05, momentum=0.1, affine=True, track_running_stats=True)\n",
      "      (conv2): Conv2d(256, 256, kernel_size=(3, 3), stride=(1, 1), padding=(1, 1), bias=False)\n",
      "      (bn2): BatchNorm2d(256, eps=1e-05, momentum=0.1, affine=True, track_running_stats=True)\n",
      "      (conv3): Conv2d(256, 1024, kernel_size=(1, 1), stride=(1, 1), bias=False)\n",
      "      (bn3): BatchNorm2d(1024, eps=1e-05, momentum=0.1, affine=True, track_running_stats=True)\n",
      "      (relu): ReLU(inplace=True)\n",
      "    )\n",
      "    (4): Bottleneck(\n",
      "      (conv1): Conv2d(1024, 256, kernel_size=(1, 1), stride=(1, 1), bias=False)\n",
      "      (bn1): BatchNorm2d(256, eps=1e-05, momentum=0.1, affine=True, track_running_stats=True)\n",
      "      (conv2): Conv2d(256, 256, kernel_size=(3, 3), stride=(1, 1), padding=(1, 1), bias=False)\n",
      "      (bn2): BatchNorm2d(256, eps=1e-05, momentum=0.1, affine=True, track_running_stats=True)\n",
      "      (conv3): Conv2d(256, 1024, kernel_size=(1, 1), stride=(1, 1), bias=False)\n",
      "      (bn3): BatchNorm2d(1024, eps=1e-05, momentum=0.1, affine=True, track_running_stats=True)\n",
      "      (relu): ReLU(inplace=True)\n",
      "    )\n",
      "    (5): Bottleneck(\n",
      "      (conv1): Conv2d(1024, 256, kernel_size=(1, 1), stride=(1, 1), bias=False)\n",
      "      (bn1): BatchNorm2d(256, eps=1e-05, momentum=0.1, affine=True, track_running_stats=True)\n",
      "      (conv2): Conv2d(256, 256, kernel_size=(3, 3), stride=(1, 1), padding=(1, 1), bias=False)\n",
      "      (bn2): BatchNorm2d(256, eps=1e-05, momentum=0.1, affine=True, track_running_stats=True)\n",
      "      (conv3): Conv2d(256, 1024, kernel_size=(1, 1), stride=(1, 1), bias=False)\n",
      "      (bn3): BatchNorm2d(1024, eps=1e-05, momentum=0.1, affine=True, track_running_stats=True)\n",
      "      (relu): ReLU(inplace=True)\n",
      "    )\n",
      "  )\n",
      "  (layer4): Sequential(\n",
      "    (0): Bottleneck(\n",
      "      (conv1): Conv2d(1024, 512, kernel_size=(1, 1), stride=(1, 1), bias=False)\n",
      "      (bn1): BatchNorm2d(512, eps=1e-05, momentum=0.1, affine=True, track_running_stats=True)\n",
      "      (conv2): Conv2d(512, 512, kernel_size=(3, 3), stride=(2, 2), padding=(1, 1), bias=False)\n",
      "      (bn2): BatchNorm2d(512, eps=1e-05, momentum=0.1, affine=True, track_running_stats=True)\n",
      "      (conv3): Conv2d(512, 2048, kernel_size=(1, 1), stride=(1, 1), bias=False)\n",
      "      (bn3): BatchNorm2d(2048, eps=1e-05, momentum=0.1, affine=True, track_running_stats=True)\n",
      "      (relu): ReLU(inplace=True)\n",
      "      (downsample): Sequential(\n",
      "        (0): Conv2d(1024, 2048, kernel_size=(1, 1), stride=(2, 2), bias=False)\n",
      "        (1): BatchNorm2d(2048, eps=1e-05, momentum=0.1, affine=True, track_running_stats=True)\n",
      "      )\n",
      "    )\n",
      "    (1): Bottleneck(\n",
      "      (conv1): Conv2d(2048, 512, kernel_size=(1, 1), stride=(1, 1), bias=False)\n",
      "      (bn1): BatchNorm2d(512, eps=1e-05, momentum=0.1, affine=True, track_running_stats=True)\n",
      "      (conv2): Conv2d(512, 512, kernel_size=(3, 3), stride=(1, 1), padding=(1, 1), bias=False)\n",
      "      (bn2): BatchNorm2d(512, eps=1e-05, momentum=0.1, affine=True, track_running_stats=True)\n",
      "      (conv3): Conv2d(512, 2048, kernel_size=(1, 1), stride=(1, 1), bias=False)\n",
      "      (bn3): BatchNorm2d(2048, eps=1e-05, momentum=0.1, affine=True, track_running_stats=True)\n",
      "      (relu): ReLU(inplace=True)\n",
      "    )\n",
      "    (2): Bottleneck(\n",
      "      (conv1): Conv2d(2048, 512, kernel_size=(1, 1), stride=(1, 1), bias=False)\n",
      "      (bn1): BatchNorm2d(512, eps=1e-05, momentum=0.1, affine=True, track_running_stats=True)\n",
      "      (conv2): Conv2d(512, 512, kernel_size=(3, 3), stride=(1, 1), padding=(1, 1), bias=False)\n",
      "      (bn2): BatchNorm2d(512, eps=1e-05, momentum=0.1, affine=True, track_running_stats=True)\n",
      "      (conv3): Conv2d(512, 2048, kernel_size=(1, 1), stride=(1, 1), bias=False)\n",
      "      (bn3): BatchNorm2d(2048, eps=1e-05, momentum=0.1, affine=True, track_running_stats=True)\n",
      "      (relu): ReLU(inplace=True)\n",
      "    )\n",
      "  )\n",
      "  (avgpool): AdaptiveAvgPool2d(output_size=(1, 1))\n",
      "  (fc): Linear(in_features=2048, out_features=10, bias=True)\n",
      ")\n"
     ]
    }
   ],
   "source": [
    "# Let's get the right torch device (preference of GPU)\n",
    "device = torch.device(\"cuda\" if torch.cuda.is_available() else \"cpu\")\n",
    "print(device)\n",
    "resnet_2.to(device)\n",
    "# Let's set up some parameters\n",
    "learning_rate = 0.0001\n",
    "nepochs = 100 #its taking forever to train so lets start here\n",
    "\n",
    "\n",
    "print(resnet_2)\n",
    "# We need an optimizer that tells us what form of gradient descent to do\n",
    "optimizer = torch.optim.Adam(resnet_2.parameters(), lr=learning_rate)\n",
    "\n",
    "# We also need a loss function\n",
    "LossFunction = torch.nn.CrossEntropyLoss()\n",
    "\n",
    "# (decided not to copy Steven and reload datasets here - it takes too long)\n",
    "loss_history = []"
   ]
  },
  {
   "cell_type": "code",
   "execution_count": 72,
   "metadata": {},
   "outputs": [
    {
     "name": "stderr",
     "output_type": "stream",
     "text": [
      "iteration: 100%|██████████| 200/200 [00:15<00:00, 12.99%/s]\n",
      "Epoch:   1%|          | 1/100 [00:15<25:24, 15.40s/epoch]"
     ]
    },
    {
     "name": "stdout",
     "output_type": "stream",
     "text": [
      "Epoch 0: loss: 2.7186391353607178\n"
     ]
    },
    {
     "name": "stderr",
     "output_type": "stream",
     "text": [
      "iteration: 100%|██████████| 200/200 [00:14<00:00, 13.67%/s]\n",
      "Epoch:   2%|▏         | 2/100 [00:30<24:24, 14.95s/epoch]"
     ]
    },
    {
     "name": "stdout",
     "output_type": "stream",
     "text": [
      "Epoch 1: loss: 1.0466941595077515\n"
     ]
    },
    {
     "name": "stderr",
     "output_type": "stream",
     "text": [
      "iteration: 100%|██████████| 200/200 [00:14<00:00, 13.95%/s]\n",
      "Epoch:   3%|▎         | 3/100 [00:44<23:42, 14.67s/epoch]"
     ]
    },
    {
     "name": "stdout",
     "output_type": "stream",
     "text": [
      "Epoch 2: loss: 1.2671186923980713\n"
     ]
    },
    {
     "name": "stderr",
     "output_type": "stream",
     "text": [
      "iteration: 100%|██████████| 200/200 [00:14<00:00, 13.92%/s]\n",
      "Epoch:   4%|▍         | 4/100 [00:58<23:16, 14.55s/epoch]"
     ]
    },
    {
     "name": "stdout",
     "output_type": "stream",
     "text": [
      "Epoch 3: loss: 0.2934933602809906\n"
     ]
    },
    {
     "name": "stderr",
     "output_type": "stream",
     "text": [
      "iteration: 100%|██████████| 200/200 [00:14<00:00, 13.77%/s]\n",
      "Epoch:   5%|▌         | 5/100 [01:13<23:01, 14.54s/epoch]"
     ]
    },
    {
     "name": "stdout",
     "output_type": "stream",
     "text": [
      "Epoch 4: loss: 0.9968312978744507\n"
     ]
    },
    {
     "name": "stderr",
     "output_type": "stream",
     "text": [
      "iteration: 100%|██████████| 200/200 [00:14<00:00, 13.88%/s]\n",
      "Epoch:   6%|▌         | 6/100 [01:27<22:42, 14.50s/epoch]"
     ]
    },
    {
     "name": "stdout",
     "output_type": "stream",
     "text": [
      "Epoch 5: loss: 0.4586755335330963\n"
     ]
    },
    {
     "name": "stderr",
     "output_type": "stream",
     "text": [
      "iteration: 100%|██████████| 200/200 [00:14<00:00, 13.89%/s]\n",
      "Epoch:   7%|▋         | 7/100 [01:42<22:25, 14.46s/epoch]"
     ]
    },
    {
     "name": "stdout",
     "output_type": "stream",
     "text": [
      "Epoch 6: loss: 0.9300905466079712\n"
     ]
    },
    {
     "name": "stderr",
     "output_type": "stream",
     "text": [
      "iteration: 100%|██████████| 200/200 [00:14<00:00, 13.78%/s]\n",
      "Epoch:   8%|▊         | 8/100 [01:56<22:12, 14.48s/epoch]"
     ]
    },
    {
     "name": "stdout",
     "output_type": "stream",
     "text": [
      "Epoch 7: loss: 0.10555551946163177\n"
     ]
    },
    {
     "name": "stderr",
     "output_type": "stream",
     "text": [
      "iteration: 100%|██████████| 200/200 [00:14<00:00, 13.81%/s]\n",
      "Epoch:   9%|▉         | 9/100 [02:11<21:58, 14.48s/epoch]"
     ]
    },
    {
     "name": "stdout",
     "output_type": "stream",
     "text": [
      "Epoch 8: loss: 0.014493012800812721\n"
     ]
    },
    {
     "name": "stderr",
     "output_type": "stream",
     "text": [
      "iteration: 100%|██████████| 200/200 [00:14<00:00, 13.87%/s]\n",
      "Epoch:  10%|█         | 10/100 [02:25<21:41, 14.46s/epoch]"
     ]
    },
    {
     "name": "stdout",
     "output_type": "stream",
     "text": [
      "Epoch 9: loss: 0.881117045879364\n"
     ]
    },
    {
     "name": "stderr",
     "output_type": "stream",
     "text": [
      "iteration: 100%|██████████| 200/200 [00:14<00:00, 13.70%/s]\n",
      "Epoch:  11%|█         | 11/100 [02:40<21:31, 14.51s/epoch]"
     ]
    },
    {
     "name": "stdout",
     "output_type": "stream",
     "text": [
      "Epoch 10: loss: 0.9107826948165894\n"
     ]
    },
    {
     "name": "stderr",
     "output_type": "stream",
     "text": [
      "iteration: 100%|██████████| 200/200 [00:14<00:00, 13.84%/s]\n",
      "Epoch:  12%|█▏        | 12/100 [02:54<21:15, 14.49s/epoch]"
     ]
    },
    {
     "name": "stdout",
     "output_type": "stream",
     "text": [
      "Epoch 11: loss: 0.44723400473594666\n"
     ]
    },
    {
     "name": "stderr",
     "output_type": "stream",
     "text": [
      "iteration: 100%|██████████| 200/200 [00:14<00:00, 13.77%/s]\n",
      "Epoch:  13%|█▎        | 13/100 [03:09<21:01, 14.50s/epoch]"
     ]
    },
    {
     "name": "stdout",
     "output_type": "stream",
     "text": [
      "Epoch 12: loss: 1.546913743019104\n"
     ]
    },
    {
     "name": "stderr",
     "output_type": "stream",
     "text": [
      "iteration: 100%|██████████| 200/200 [00:14<00:00, 13.85%/s]\n",
      "Epoch:  14%|█▍        | 14/100 [03:23<20:45, 14.48s/epoch]"
     ]
    },
    {
     "name": "stdout",
     "output_type": "stream",
     "text": [
      "Epoch 13: loss: 0.14408865571022034\n"
     ]
    },
    {
     "name": "stderr",
     "output_type": "stream",
     "text": [
      "iteration: 100%|██████████| 200/200 [00:14<00:00, 13.84%/s]\n",
      "Epoch:  15%|█▌        | 15/100 [03:37<20:30, 14.48s/epoch]"
     ]
    },
    {
     "name": "stdout",
     "output_type": "stream",
     "text": [
      "Epoch 14: loss: 0.0420108288526535\n"
     ]
    },
    {
     "name": "stderr",
     "output_type": "stream",
     "text": [
      "iteration: 100%|██████████| 200/200 [00:14<00:00, 13.78%/s]\n",
      "Epoch:  16%|█▌        | 16/100 [03:52<20:16, 14.49s/epoch]"
     ]
    },
    {
     "name": "stdout",
     "output_type": "stream",
     "text": [
      "Epoch 15: loss: 0.2615208029747009\n"
     ]
    },
    {
     "name": "stderr",
     "output_type": "stream",
     "text": [
      "iteration: 100%|██████████| 200/200 [00:14<00:00, 13.63%/s]\n",
      "Epoch:  17%|█▋        | 17/100 [04:07<20:07, 14.54s/epoch]"
     ]
    },
    {
     "name": "stdout",
     "output_type": "stream",
     "text": [
      "Epoch 16: loss: 0.34549856185913086\n"
     ]
    },
    {
     "name": "stderr",
     "output_type": "stream",
     "text": [
      "iteration: 100%|██████████| 200/200 [00:14<00:00, 13.83%/s]\n",
      "Epoch:  18%|█▊        | 18/100 [04:21<19:50, 14.52s/epoch]"
     ]
    },
    {
     "name": "stdout",
     "output_type": "stream",
     "text": [
      "Epoch 17: loss: 1.1113593578338623\n"
     ]
    },
    {
     "name": "stderr",
     "output_type": "stream",
     "text": [
      "iteration: 100%|██████████| 200/200 [00:14<00:00, 13.87%/s]\n",
      "Epoch:  19%|█▉        | 19/100 [04:36<19:33, 14.49s/epoch]"
     ]
    },
    {
     "name": "stdout",
     "output_type": "stream",
     "text": [
      "Epoch 18: loss: 0.05071767047047615\n"
     ]
    },
    {
     "name": "stderr",
     "output_type": "stream",
     "text": [
      "iteration: 100%|██████████| 200/200 [00:14<00:00, 13.72%/s]\n",
      "Epoch:  20%|██        | 20/100 [04:50<19:21, 14.52s/epoch]"
     ]
    },
    {
     "name": "stdout",
     "output_type": "stream",
     "text": [
      "Epoch 19: loss: 0.3013998568058014\n"
     ]
    },
    {
     "name": "stderr",
     "output_type": "stream",
     "text": [
      "iteration: 100%|██████████| 200/200 [00:14<00:00, 13.76%/s]\n",
      "Epoch:  21%|██        | 21/100 [05:05<19:07, 14.52s/epoch]"
     ]
    },
    {
     "name": "stdout",
     "output_type": "stream",
     "text": [
      "Epoch 20: loss: 0.1511593759059906\n"
     ]
    },
    {
     "name": "stderr",
     "output_type": "stream",
     "text": [
      "iteration: 100%|██████████| 200/200 [00:14<00:00, 13.73%/s]\n",
      "Epoch:  22%|██▏       | 22/100 [05:19<18:53, 14.54s/epoch]"
     ]
    },
    {
     "name": "stdout",
     "output_type": "stream",
     "text": [
      "Epoch 21: loss: 0.005244101397693157\n"
     ]
    },
    {
     "name": "stderr",
     "output_type": "stream",
     "text": [
      "iteration: 100%|██████████| 200/200 [00:14<00:00, 14.01%/s]\n",
      "Epoch:  23%|██▎       | 23/100 [05:34<18:33, 14.46s/epoch]"
     ]
    },
    {
     "name": "stdout",
     "output_type": "stream",
     "text": [
      "Epoch 22: loss: 0.026281366124749184\n"
     ]
    },
    {
     "name": "stderr",
     "output_type": "stream",
     "text": [
      "iteration: 100%|██████████| 200/200 [00:14<00:00, 13.91%/s]\n",
      "Epoch:  24%|██▍       | 24/100 [05:48<18:17, 14.44s/epoch]"
     ]
    },
    {
     "name": "stdout",
     "output_type": "stream",
     "text": [
      "Epoch 23: loss: 0.0015774117782711983\n"
     ]
    },
    {
     "name": "stderr",
     "output_type": "stream",
     "text": [
      "iteration: 100%|██████████| 200/200 [00:14<00:00, 13.99%/s]\n",
      "Epoch:  25%|██▌       | 25/100 [06:02<17:59, 14.39s/epoch]"
     ]
    },
    {
     "name": "stdout",
     "output_type": "stream",
     "text": [
      "Epoch 24: loss: 0.004926024936139584\n"
     ]
    },
    {
     "name": "stderr",
     "output_type": "stream",
     "text": [
      "iteration: 100%|██████████| 200/200 [00:14<00:00, 13.95%/s]\n",
      "Epoch:  26%|██▌       | 26/100 [06:17<17:43, 14.38s/epoch]"
     ]
    },
    {
     "name": "stdout",
     "output_type": "stream",
     "text": [
      "Epoch 25: loss: 0.07981051504611969\n"
     ]
    },
    {
     "name": "stderr",
     "output_type": "stream",
     "text": [
      "iteration: 100%|██████████| 200/200 [00:14<00:00, 13.77%/s]\n",
      "Epoch:  27%|██▋       | 27/100 [06:31<17:32, 14.42s/epoch]"
     ]
    },
    {
     "name": "stdout",
     "output_type": "stream",
     "text": [
      "Epoch 26: loss: 0.3919735252857208\n"
     ]
    },
    {
     "name": "stderr",
     "output_type": "stream",
     "text": [
      "iteration: 100%|██████████| 200/200 [00:14<00:00, 13.96%/s]\n",
      "Epoch:  28%|██▊       | 28/100 [06:45<17:16, 14.39s/epoch]"
     ]
    },
    {
     "name": "stdout",
     "output_type": "stream",
     "text": [
      "Epoch 27: loss: 0.03081144019961357\n"
     ]
    },
    {
     "name": "stderr",
     "output_type": "stream",
     "text": [
      "iteration: 100%|██████████| 200/200 [00:14<00:00, 13.98%/s]\n",
      "Epoch:  29%|██▉       | 29/100 [07:00<17:00, 14.37s/epoch]"
     ]
    },
    {
     "name": "stdout",
     "output_type": "stream",
     "text": [
      "Epoch 28: loss: 0.012273273430764675\n"
     ]
    },
    {
     "name": "stderr",
     "output_type": "stream",
     "text": [
      "iteration: 100%|██████████| 200/200 [00:14<00:00, 13.97%/s]\n",
      "Epoch:  30%|███       | 30/100 [07:14<16:44, 14.35s/epoch]"
     ]
    },
    {
     "name": "stdout",
     "output_type": "stream",
     "text": [
      "Epoch 29: loss: 0.0170724019408226\n"
     ]
    },
    {
     "name": "stderr",
     "output_type": "stream",
     "text": [
      "iteration: 100%|██████████| 200/200 [00:14<00:00, 13.98%/s]\n",
      "Epoch:  31%|███       | 31/100 [07:28<16:29, 14.34s/epoch]"
     ]
    },
    {
     "name": "stdout",
     "output_type": "stream",
     "text": [
      "Epoch 30: loss: 0.36291441321372986\n"
     ]
    },
    {
     "name": "stderr",
     "output_type": "stream",
     "text": [
      "iteration: 100%|██████████| 200/200 [00:14<00:00, 13.86%/s]\n",
      "Epoch:  32%|███▏      | 32/100 [07:43<16:17, 14.37s/epoch]"
     ]
    },
    {
     "name": "stdout",
     "output_type": "stream",
     "text": [
      "Epoch 31: loss: 0.0023885315749794245\n"
     ]
    },
    {
     "name": "stderr",
     "output_type": "stream",
     "text": [
      "iteration: 100%|██████████| 200/200 [00:14<00:00, 13.99%/s]\n",
      "Epoch:  33%|███▎      | 33/100 [07:57<16:01, 14.35s/epoch]"
     ]
    },
    {
     "name": "stdout",
     "output_type": "stream",
     "text": [
      "Epoch 32: loss: 0.002424177946522832\n"
     ]
    },
    {
     "name": "stderr",
     "output_type": "stream",
     "text": [
      "iteration: 100%|██████████| 200/200 [00:14<00:00, 13.78%/s]\n",
      "Epoch:  34%|███▍      | 34/100 [08:12<15:50, 14.40s/epoch]"
     ]
    },
    {
     "name": "stdout",
     "output_type": "stream",
     "text": [
      "Epoch 33: loss: 0.030555566772818565\n"
     ]
    },
    {
     "name": "stderr",
     "output_type": "stream",
     "text": [
      "iteration: 100%|██████████| 200/200 [00:14<00:00, 13.71%/s]\n",
      "Epoch:  35%|███▌      | 35/100 [08:26<15:39, 14.46s/epoch]"
     ]
    },
    {
     "name": "stdout",
     "output_type": "stream",
     "text": [
      "Epoch 34: loss: 0.4802342355251312\n"
     ]
    },
    {
     "name": "stderr",
     "output_type": "stream",
     "text": [
      "iteration: 100%|██████████| 200/200 [00:14<00:00, 13.88%/s]\n",
      "Epoch:  36%|███▌      | 36/100 [08:41<15:24, 14.44s/epoch]"
     ]
    },
    {
     "name": "stdout",
     "output_type": "stream",
     "text": [
      "Epoch 35: loss: 0.42846766114234924\n"
     ]
    },
    {
     "name": "stderr",
     "output_type": "stream",
     "text": [
      "iteration: 100%|██████████| 200/200 [00:14<00:00, 13.89%/s]\n",
      "Epoch:  37%|███▋      | 37/100 [08:55<15:09, 14.43s/epoch]"
     ]
    },
    {
     "name": "stdout",
     "output_type": "stream",
     "text": [
      "Epoch 36: loss: 0.00018160228501074016\n"
     ]
    },
    {
     "name": "stderr",
     "output_type": "stream",
     "text": [
      "iteration: 100%|██████████| 200/200 [00:14<00:00, 13.82%/s]\n",
      "Epoch:  38%|███▊      | 38/100 [09:09<14:55, 14.45s/epoch]"
     ]
    },
    {
     "name": "stdout",
     "output_type": "stream",
     "text": [
      "Epoch 37: loss: 0.004714957904070616\n"
     ]
    },
    {
     "name": "stderr",
     "output_type": "stream",
     "text": [
      "iteration: 100%|██████████| 200/200 [00:14<00:00, 13.84%/s]\n",
      "Epoch:  39%|███▉      | 39/100 [09:24<14:41, 14.45s/epoch]"
     ]
    },
    {
     "name": "stdout",
     "output_type": "stream",
     "text": [
      "Epoch 38: loss: 0.001123995054513216\n"
     ]
    },
    {
     "name": "stderr",
     "output_type": "stream",
     "text": [
      "iteration: 100%|██████████| 200/200 [00:14<00:00, 13.83%/s]\n",
      "Epoch:  40%|████      | 40/100 [09:38<14:27, 14.45s/epoch]"
     ]
    },
    {
     "name": "stdout",
     "output_type": "stream",
     "text": [
      "Epoch 39: loss: 0.00035960011882707477\n"
     ]
    },
    {
     "name": "stderr",
     "output_type": "stream",
     "text": [
      "iteration: 100%|██████████| 200/200 [00:14<00:00, 13.90%/s]\n",
      "Epoch:  41%|████      | 41/100 [09:53<14:11, 14.44s/epoch]"
     ]
    },
    {
     "name": "stdout",
     "output_type": "stream",
     "text": [
      "Epoch 40: loss: 0.11659011989831924\n"
     ]
    },
    {
     "name": "stderr",
     "output_type": "stream",
     "text": [
      "iteration: 100%|██████████| 200/200 [00:14<00:00, 13.69%/s]\n",
      "Epoch:  42%|████▏     | 42/100 [10:07<14:00, 14.49s/epoch]"
     ]
    },
    {
     "name": "stdout",
     "output_type": "stream",
     "text": [
      "Epoch 41: loss: 0.0015378172975033522\n"
     ]
    },
    {
     "name": "stderr",
     "output_type": "stream",
     "text": [
      "iteration: 100%|██████████| 200/200 [00:14<00:00, 13.93%/s]\n",
      "Epoch:  43%|████▎     | 43/100 [10:22<13:43, 14.45s/epoch]"
     ]
    },
    {
     "name": "stdout",
     "output_type": "stream",
     "text": [
      "Epoch 42: loss: 0.06924937665462494\n"
     ]
    },
    {
     "name": "stderr",
     "output_type": "stream",
     "text": [
      "iteration: 100%|██████████| 200/200 [00:14<00:00, 13.82%/s]\n",
      "Epoch:  44%|████▍     | 44/100 [10:36<13:29, 14.46s/epoch]"
     ]
    },
    {
     "name": "stdout",
     "output_type": "stream",
     "text": [
      "Epoch 43: loss: 0.02747095562517643\n"
     ]
    },
    {
     "name": "stderr",
     "output_type": "stream",
     "text": [
      "iteration: 100%|██████████| 200/200 [00:14<00:00, 13.90%/s]\n",
      "Epoch:  45%|████▌     | 45/100 [10:51<13:14, 14.44s/epoch]"
     ]
    },
    {
     "name": "stdout",
     "output_type": "stream",
     "text": [
      "Epoch 44: loss: 0.009814552031457424\n"
     ]
    },
    {
     "name": "stderr",
     "output_type": "stream",
     "text": [
      "iteration: 100%|██████████| 200/200 [00:14<00:00, 13.83%/s]\n",
      "Epoch:  46%|████▌     | 46/100 [11:05<13:00, 14.44s/epoch]"
     ]
    },
    {
     "name": "stdout",
     "output_type": "stream",
     "text": [
      "Epoch 45: loss: 0.03397701680660248\n"
     ]
    },
    {
     "name": "stderr",
     "output_type": "stream",
     "text": [
      "iteration: 100%|██████████| 200/200 [00:14<00:00, 13.84%/s]\n",
      "Epoch:  47%|████▋     | 47/100 [11:20<12:45, 14.45s/epoch]"
     ]
    },
    {
     "name": "stdout",
     "output_type": "stream",
     "text": [
      "Epoch 46: loss: 0.02511945739388466\n"
     ]
    },
    {
     "name": "stderr",
     "output_type": "stream",
     "text": [
      "iteration: 100%|██████████| 200/200 [00:14<00:00, 13.89%/s]\n",
      "Epoch:  48%|████▊     | 48/100 [11:34<12:30, 14.43s/epoch]"
     ]
    },
    {
     "name": "stdout",
     "output_type": "stream",
     "text": [
      "Epoch 47: loss: 0.02254815772175789\n"
     ]
    },
    {
     "name": "stderr",
     "output_type": "stream",
     "text": [
      "iteration: 100%|██████████| 200/200 [00:14<00:00, 13.83%/s]\n",
      "Epoch:  49%|████▉     | 49/100 [11:48<12:16, 14.44s/epoch]"
     ]
    },
    {
     "name": "stdout",
     "output_type": "stream",
     "text": [
      "Epoch 48: loss: 0.0007229329203255475\n"
     ]
    },
    {
     "name": "stderr",
     "output_type": "stream",
     "text": [
      "iteration: 100%|██████████| 200/200 [00:14<00:00, 13.89%/s]\n",
      "Epoch:  50%|█████     | 50/100 [12:03<12:01, 14.43s/epoch]"
     ]
    },
    {
     "name": "stdout",
     "output_type": "stream",
     "text": [
      "Epoch 49: loss: 0.15935185551643372\n"
     ]
    },
    {
     "name": "stderr",
     "output_type": "stream",
     "text": [
      "iteration: 100%|██████████| 200/200 [00:14<00:00, 13.93%/s]\n",
      "Epoch:  51%|█████     | 51/100 [12:17<11:45, 14.41s/epoch]"
     ]
    },
    {
     "name": "stdout",
     "output_type": "stream",
     "text": [
      "Epoch 50: loss: 0.05879266932606697\n"
     ]
    },
    {
     "name": "stderr",
     "output_type": "stream",
     "text": [
      "iteration: 100%|██████████| 200/200 [00:14<00:00, 13.79%/s]\n",
      "Epoch:  52%|█████▏    | 52/100 [12:32<11:32, 14.44s/epoch]"
     ]
    },
    {
     "name": "stdout",
     "output_type": "stream",
     "text": [
      "Epoch 51: loss: 0.27416273951530457\n"
     ]
    },
    {
     "name": "stderr",
     "output_type": "stream",
     "text": [
      "iteration: 100%|██████████| 200/200 [00:14<00:00, 13.96%/s]\n",
      "Epoch:  53%|█████▎    | 53/100 [12:46<11:17, 14.40s/epoch]"
     ]
    },
    {
     "name": "stdout",
     "output_type": "stream",
     "text": [
      "Epoch 52: loss: 0.024581681936979294\n"
     ]
    },
    {
     "name": "stderr",
     "output_type": "stream",
     "text": [
      "iteration: 100%|██████████| 200/200 [00:14<00:00, 13.82%/s]\n",
      "Epoch:  54%|█████▍    | 54/100 [13:00<11:03, 14.43s/epoch]"
     ]
    },
    {
     "name": "stdout",
     "output_type": "stream",
     "text": [
      "Epoch 53: loss: 0.06647300720214844\n"
     ]
    },
    {
     "name": "stderr",
     "output_type": "stream",
     "text": [
      "iteration: 100%|██████████| 200/200 [00:14<00:00, 13.79%/s]\n",
      "Epoch:  55%|█████▌    | 55/100 [13:15<10:50, 14.45s/epoch]"
     ]
    },
    {
     "name": "stdout",
     "output_type": "stream",
     "text": [
      "Epoch 54: loss: 0.008542438969016075\n"
     ]
    },
    {
     "name": "stderr",
     "output_type": "stream",
     "text": [
      "iteration: 100%|██████████| 200/200 [00:14<00:00, 13.97%/s]\n",
      "Epoch:  56%|█████▌    | 56/100 [13:29<10:33, 14.41s/epoch]"
     ]
    },
    {
     "name": "stdout",
     "output_type": "stream",
     "text": [
      "Epoch 55: loss: 0.0060537043027579784\n"
     ]
    },
    {
     "name": "stderr",
     "output_type": "stream",
     "text": [
      "iteration: 100%|██████████| 200/200 [00:14<00:00, 14.01%/s]\n",
      "Epoch:  57%|█████▋    | 57/100 [13:44<10:17, 14.37s/epoch]"
     ]
    },
    {
     "name": "stdout",
     "output_type": "stream",
     "text": [
      "Epoch 56: loss: 0.0004696731921285391\n"
     ]
    },
    {
     "name": "stderr",
     "output_type": "stream",
     "text": [
      "iteration: 100%|██████████| 200/200 [00:14<00:00, 13.93%/s]\n",
      "Epoch:  58%|█████▊    | 58/100 [13:58<10:03, 14.37s/epoch]"
     ]
    },
    {
     "name": "stdout",
     "output_type": "stream",
     "text": [
      "Epoch 57: loss: 0.0017623389139771461\n"
     ]
    },
    {
     "name": "stderr",
     "output_type": "stream",
     "text": [
      "iteration: 100%|██████████| 200/200 [00:14<00:00, 13.94%/s]\n",
      "Epoch:  59%|█████▉    | 59/100 [14:12<09:48, 14.36s/epoch]"
     ]
    },
    {
     "name": "stdout",
     "output_type": "stream",
     "text": [
      "Epoch 58: loss: 0.001226212247274816\n"
     ]
    },
    {
     "name": "stderr",
     "output_type": "stream",
     "text": [
      "iteration: 100%|██████████| 200/200 [00:14<00:00, 13.83%/s]\n",
      "Epoch:  60%|██████    | 60/100 [14:27<09:35, 14.39s/epoch]"
     ]
    },
    {
     "name": "stdout",
     "output_type": "stream",
     "text": [
      "Epoch 59: loss: 0.0002902591659221798\n"
     ]
    },
    {
     "name": "stderr",
     "output_type": "stream",
     "text": [
      "iteration: 100%|██████████| 200/200 [00:14<00:00, 13.68%/s]\n",
      "Epoch:  61%|██████    | 61/100 [14:41<09:24, 14.46s/epoch]"
     ]
    },
    {
     "name": "stdout",
     "output_type": "stream",
     "text": [
      "Epoch 60: loss: 0.0006021218141540885\n"
     ]
    },
    {
     "name": "stderr",
     "output_type": "stream",
     "text": [
      "iteration: 100%|██████████| 200/200 [00:14<00:00, 13.79%/s]\n",
      "Epoch:  62%|██████▏   | 62/100 [14:56<09:10, 14.47s/epoch]"
     ]
    },
    {
     "name": "stdout",
     "output_type": "stream",
     "text": [
      "Epoch 61: loss: 0.7206450700759888\n"
     ]
    },
    {
     "name": "stderr",
     "output_type": "stream",
     "text": [
      "iteration: 100%|██████████| 200/200 [00:14<00:00, 13.77%/s]\n",
      "Epoch:  63%|██████▎   | 63/100 [15:10<08:56, 14.49s/epoch]"
     ]
    },
    {
     "name": "stdout",
     "output_type": "stream",
     "text": [
      "Epoch 62: loss: 0.0019110968569293618\n"
     ]
    },
    {
     "name": "stderr",
     "output_type": "stream",
     "text": [
      "iteration: 100%|██████████| 200/200 [00:14<00:00, 13.89%/s]\n",
      "Epoch:  64%|██████▍   | 64/100 [15:25<08:40, 14.47s/epoch]"
     ]
    },
    {
     "name": "stdout",
     "output_type": "stream",
     "text": [
      "Epoch 63: loss: 0.22897835075855255\n"
     ]
    },
    {
     "name": "stderr",
     "output_type": "stream",
     "text": [
      "iteration: 100%|██████████| 200/200 [00:14<00:00, 13.85%/s]\n",
      "Epoch:  65%|██████▌   | 65/100 [15:39<08:26, 14.46s/epoch]"
     ]
    },
    {
     "name": "stdout",
     "output_type": "stream",
     "text": [
      "Epoch 64: loss: 0.0034530963748693466\n"
     ]
    },
    {
     "name": "stderr",
     "output_type": "stream",
     "text": [
      "iteration: 100%|██████████| 200/200 [00:14<00:00, 13.77%/s]\n",
      "Epoch:  66%|██████▌   | 66/100 [15:54<08:12, 14.48s/epoch]"
     ]
    },
    {
     "name": "stdout",
     "output_type": "stream",
     "text": [
      "Epoch 65: loss: 0.0399559810757637\n"
     ]
    },
    {
     "name": "stderr",
     "output_type": "stream",
     "text": [
      "iteration: 100%|██████████| 200/200 [00:14<00:00, 13.73%/s]\n",
      "Epoch:  67%|██████▋   | 67/100 [16:08<07:58, 14.51s/epoch]"
     ]
    },
    {
     "name": "stdout",
     "output_type": "stream",
     "text": [
      "Epoch 66: loss: 0.32243096828460693\n"
     ]
    },
    {
     "name": "stderr",
     "output_type": "stream",
     "text": [
      "iteration: 100%|██████████| 200/200 [00:14<00:00, 13.90%/s]\n",
      "Epoch:  68%|██████▊   | 68/100 [16:23<07:43, 14.47s/epoch]"
     ]
    },
    {
     "name": "stdout",
     "output_type": "stream",
     "text": [
      "Epoch 67: loss: 0.0022879315074533224\n"
     ]
    },
    {
     "name": "stderr",
     "output_type": "stream",
     "text": [
      "iteration: 100%|██████████| 200/200 [00:14<00:00, 13.84%/s]\n",
      "Epoch:  69%|██████▉   | 69/100 [16:37<07:28, 14.46s/epoch]"
     ]
    },
    {
     "name": "stdout",
     "output_type": "stream",
     "text": [
      "Epoch 68: loss: 0.00086337944958359\n"
     ]
    },
    {
     "name": "stderr",
     "output_type": "stream",
     "text": [
      "iteration: 100%|██████████| 200/200 [00:14<00:00, 13.93%/s]\n",
      "Epoch:  70%|███████   | 70/100 [16:52<07:13, 14.43s/epoch]"
     ]
    },
    {
     "name": "stdout",
     "output_type": "stream",
     "text": [
      "Epoch 69: loss: 0.0009151551639661193\n"
     ]
    },
    {
     "name": "stderr",
     "output_type": "stream",
     "text": [
      "iteration: 100%|██████████| 200/200 [00:14<00:00, 13.69%/s]\n",
      "Epoch:  71%|███████   | 71/100 [17:06<07:00, 14.49s/epoch]"
     ]
    },
    {
     "name": "stdout",
     "output_type": "stream",
     "text": [
      "Epoch 70: loss: 0.0003237986529711634\n"
     ]
    },
    {
     "name": "stderr",
     "output_type": "stream",
     "text": [
      "iteration: 100%|██████████| 200/200 [00:14<00:00, 13.79%/s]\n",
      "Epoch:  72%|███████▏  | 72/100 [17:21<06:45, 14.49s/epoch]"
     ]
    },
    {
     "name": "stdout",
     "output_type": "stream",
     "text": [
      "Epoch 71: loss: 0.004530339501798153\n"
     ]
    },
    {
     "name": "stderr",
     "output_type": "stream",
     "text": [
      "iteration: 100%|██████████| 200/200 [00:14<00:00, 13.90%/s]\n",
      "Epoch:  73%|███████▎  | 73/100 [17:35<06:30, 14.46s/epoch]"
     ]
    },
    {
     "name": "stdout",
     "output_type": "stream",
     "text": [
      "Epoch 72: loss: 0.00024255136668216437\n"
     ]
    },
    {
     "name": "stderr",
     "output_type": "stream",
     "text": [
      "iteration: 100%|██████████| 200/200 [00:14<00:00, 13.83%/s]\n",
      "Epoch:  74%|███████▍  | 74/100 [17:50<06:16, 14.46s/epoch]"
     ]
    },
    {
     "name": "stdout",
     "output_type": "stream",
     "text": [
      "Epoch 73: loss: 0.0008090976625680923\n"
     ]
    },
    {
     "name": "stderr",
     "output_type": "stream",
     "text": [
      "iteration: 100%|██████████| 200/200 [00:14<00:00, 13.77%/s]\n",
      "Epoch:  75%|███████▌  | 75/100 [18:04<06:02, 14.48s/epoch]"
     ]
    },
    {
     "name": "stdout",
     "output_type": "stream",
     "text": [
      "Epoch 74: loss: 0.029235119000077248\n"
     ]
    },
    {
     "name": "stderr",
     "output_type": "stream",
     "text": [
      "iteration: 100%|██████████| 200/200 [00:14<00:00, 13.86%/s]\n",
      "Epoch:  76%|███████▌  | 76/100 [18:18<05:47, 14.47s/epoch]"
     ]
    },
    {
     "name": "stdout",
     "output_type": "stream",
     "text": [
      "Epoch 75: loss: 0.022803882136940956\n"
     ]
    },
    {
     "name": "stderr",
     "output_type": "stream",
     "text": [
      "iteration: 100%|██████████| 200/200 [00:14<00:00, 13.84%/s]\n",
      "Epoch:  77%|███████▋  | 77/100 [18:33<05:32, 14.46s/epoch]"
     ]
    },
    {
     "name": "stdout",
     "output_type": "stream",
     "text": [
      "Epoch 76: loss: 0.0013114444445818663\n"
     ]
    },
    {
     "name": "stderr",
     "output_type": "stream",
     "text": [
      "iteration: 100%|██████████| 200/200 [00:14<00:00, 13.85%/s]\n",
      "Epoch:  78%|███████▊  | 78/100 [18:47<05:18, 14.46s/epoch]"
     ]
    },
    {
     "name": "stdout",
     "output_type": "stream",
     "text": [
      "Epoch 77: loss: 4.257958062225953e-05\n"
     ]
    },
    {
     "name": "stderr",
     "output_type": "stream",
     "text": [
      "iteration: 100%|██████████| 200/200 [00:14<00:00, 13.81%/s]\n",
      "Epoch:  79%|███████▉  | 79/100 [19:02<05:03, 14.46s/epoch]"
     ]
    },
    {
     "name": "stdout",
     "output_type": "stream",
     "text": [
      "Epoch 78: loss: 0.005627835635095835\n"
     ]
    },
    {
     "name": "stderr",
     "output_type": "stream",
     "text": [
      "iteration: 100%|██████████| 200/200 [00:14<00:00, 13.74%/s]\n",
      "Epoch:  80%|████████  | 80/100 [19:16<04:49, 14.49s/epoch]"
     ]
    },
    {
     "name": "stdout",
     "output_type": "stream",
     "text": [
      "Epoch 79: loss: 1.1133955922559835e-05\n"
     ]
    },
    {
     "name": "stderr",
     "output_type": "stream",
     "text": [
      "iteration: 100%|██████████| 200/200 [00:14<00:00, 14.02%/s]\n",
      "Epoch:  81%|████████  | 81/100 [19:31<04:34, 14.42s/epoch]"
     ]
    },
    {
     "name": "stdout",
     "output_type": "stream",
     "text": [
      "Epoch 80: loss: 0.0002460206742398441\n"
     ]
    },
    {
     "name": "stderr",
     "output_type": "stream",
     "text": [
      "iteration: 100%|██████████| 200/200 [00:14<00:00, 13.97%/s]\n",
      "Epoch:  82%|████████▏ | 82/100 [19:45<04:19, 14.39s/epoch]"
     ]
    },
    {
     "name": "stdout",
     "output_type": "stream",
     "text": [
      "Epoch 81: loss: 0.0016501048812642694\n"
     ]
    },
    {
     "name": "stderr",
     "output_type": "stream",
     "text": [
      "iteration: 100%|██████████| 200/200 [00:14<00:00, 13.84%/s]\n",
      "Epoch:  83%|████████▎ | 83/100 [19:59<04:04, 14.41s/epoch]"
     ]
    },
    {
     "name": "stdout",
     "output_type": "stream",
     "text": [
      "Epoch 82: loss: 0.007269324269145727\n"
     ]
    },
    {
     "name": "stderr",
     "output_type": "stream",
     "text": [
      "iteration: 100%|██████████| 200/200 [00:14<00:00, 13.76%/s]\n",
      "Epoch:  84%|████████▍ | 84/100 [20:14<03:51, 14.45s/epoch]"
     ]
    },
    {
     "name": "stdout",
     "output_type": "stream",
     "text": [
      "Epoch 83: loss: 0.007839640602469444\n"
     ]
    },
    {
     "name": "stderr",
     "output_type": "stream",
     "text": [
      "iteration: 100%|██████████| 200/200 [00:14<00:00, 13.86%/s]\n",
      "Epoch:  85%|████████▌ | 85/100 [20:28<03:36, 14.44s/epoch]"
     ]
    },
    {
     "name": "stdout",
     "output_type": "stream",
     "text": [
      "Epoch 84: loss: 0.0007180253742262721\n"
     ]
    },
    {
     "name": "stderr",
     "output_type": "stream",
     "text": [
      "iteration: 100%|██████████| 200/200 [00:14<00:00, 13.86%/s]\n",
      "Epoch:  86%|████████▌ | 86/100 [20:43<03:22, 14.44s/epoch]"
     ]
    },
    {
     "name": "stdout",
     "output_type": "stream",
     "text": [
      "Epoch 85: loss: 1.9788003555731848e-05\n"
     ]
    },
    {
     "name": "stderr",
     "output_type": "stream",
     "text": [
      "iteration: 100%|██████████| 200/200 [00:14<00:00, 13.81%/s]\n",
      "Epoch:  87%|████████▋ | 87/100 [20:57<03:07, 14.45s/epoch]"
     ]
    },
    {
     "name": "stdout",
     "output_type": "stream",
     "text": [
      "Epoch 86: loss: 0.027295727282762527\n"
     ]
    },
    {
     "name": "stderr",
     "output_type": "stream",
     "text": [
      "iteration: 100%|██████████| 200/200 [00:14<00:00, 13.82%/s]\n",
      "Epoch:  88%|████████▊ | 88/100 [21:12<02:53, 14.46s/epoch]"
     ]
    },
    {
     "name": "stdout",
     "output_type": "stream",
     "text": [
      "Epoch 87: loss: 0.001842177240177989\n"
     ]
    },
    {
     "name": "stderr",
     "output_type": "stream",
     "text": [
      "iteration: 100%|██████████| 200/200 [00:14<00:00, 13.84%/s]\n",
      "Epoch:  89%|████████▉ | 89/100 [21:26<02:39, 14.46s/epoch]"
     ]
    },
    {
     "name": "stdout",
     "output_type": "stream",
     "text": [
      "Epoch 88: loss: 0.0342719629406929\n"
     ]
    },
    {
     "name": "stderr",
     "output_type": "stream",
     "text": [
      "iteration: 100%|██████████| 200/200 [00:14<00:00, 13.83%/s]\n",
      "Epoch:  90%|█████████ | 90/100 [21:41<02:24, 14.46s/epoch]"
     ]
    },
    {
     "name": "stdout",
     "output_type": "stream",
     "text": [
      "Epoch 89: loss: 0.0028804237954318523\n"
     ]
    },
    {
     "name": "stderr",
     "output_type": "stream",
     "text": [
      "iteration: 100%|██████████| 200/200 [00:14<00:00, 13.89%/s]\n",
      "Epoch:  91%|█████████ | 91/100 [21:55<02:09, 14.44s/epoch]"
     ]
    },
    {
     "name": "stdout",
     "output_type": "stream",
     "text": [
      "Epoch 90: loss: 0.0008985018357634544\n"
     ]
    },
    {
     "name": "stderr",
     "output_type": "stream",
     "text": [
      "iteration: 100%|██████████| 200/200 [00:14<00:00, 13.83%/s]\n",
      "Epoch:  92%|█████████▏| 92/100 [22:10<01:55, 14.45s/epoch]"
     ]
    },
    {
     "name": "stdout",
     "output_type": "stream",
     "text": [
      "Epoch 91: loss: 8.39228778204415e-06\n"
     ]
    },
    {
     "name": "stderr",
     "output_type": "stream",
     "text": [
      "iteration: 100%|██████████| 200/200 [00:14<00:00, 13.79%/s]\n",
      "Epoch:  93%|█████████▎| 93/100 [22:24<01:41, 14.46s/epoch]"
     ]
    },
    {
     "name": "stdout",
     "output_type": "stream",
     "text": [
      "Epoch 92: loss: 0.0011027883738279343\n"
     ]
    },
    {
     "name": "stderr",
     "output_type": "stream",
     "text": [
      "iteration: 100%|██████████| 200/200 [00:14<00:00, 13.87%/s]\n",
      "Epoch:  94%|█████████▍| 94/100 [22:38<01:26, 14.45s/epoch]"
     ]
    },
    {
     "name": "stdout",
     "output_type": "stream",
     "text": [
      "Epoch 93: loss: 0.0010848497040569782\n"
     ]
    },
    {
     "name": "stderr",
     "output_type": "stream",
     "text": [
      "iteration: 100%|██████████| 200/200 [00:14<00:00, 13.91%/s]\n",
      "Epoch:  95%|█████████▌| 95/100 [22:53<01:12, 14.43s/epoch]"
     ]
    },
    {
     "name": "stdout",
     "output_type": "stream",
     "text": [
      "Epoch 94: loss: 0.0037562388461083174\n"
     ]
    },
    {
     "name": "stderr",
     "output_type": "stream",
     "text": [
      "iteration: 100%|██████████| 200/200 [00:14<00:00, 13.75%/s]\n",
      "Epoch:  96%|█████████▌| 96/100 [23:07<00:57, 14.47s/epoch]"
     ]
    },
    {
     "name": "stdout",
     "output_type": "stream",
     "text": [
      "Epoch 95: loss: 0.008013024926185608\n"
     ]
    },
    {
     "name": "stderr",
     "output_type": "stream",
     "text": [
      "iteration: 100%|██████████| 200/200 [00:14<00:00, 13.90%/s]\n",
      "Epoch:  97%|█████████▋| 97/100 [23:22<00:43, 14.44s/epoch]"
     ]
    },
    {
     "name": "stdout",
     "output_type": "stream",
     "text": [
      "Epoch 96: loss: 4.758583236252889e-05\n"
     ]
    },
    {
     "name": "stderr",
     "output_type": "stream",
     "text": [
      "iteration: 100%|██████████| 200/200 [00:14<00:00, 13.87%/s]\n",
      "Epoch:  98%|█████████▊| 98/100 [23:36<00:28, 14.44s/epoch]"
     ]
    },
    {
     "name": "stdout",
     "output_type": "stream",
     "text": [
      "Epoch 97: loss: 0.000769364123698324\n"
     ]
    },
    {
     "name": "stderr",
     "output_type": "stream",
     "text": [
      "iteration: 100%|██████████| 200/200 [00:14<00:00, 13.87%/s]\n",
      "Epoch:  99%|█████████▉| 99/100 [23:51<00:14, 14.43s/epoch]"
     ]
    },
    {
     "name": "stdout",
     "output_type": "stream",
     "text": [
      "Epoch 98: loss: 2.815625339280814e-05\n"
     ]
    },
    {
     "name": "stderr",
     "output_type": "stream",
     "text": [
      "iteration: 100%|██████████| 200/200 [00:14<00:00, 13.84%/s]\n",
      "Epoch: 100%|██████████| 100/100 [24:05<00:00, 14.46s/epoch]"
     ]
    },
    {
     "name": "stdout",
     "output_type": "stream",
     "text": [
      "Epoch 99: loss: 8.891802281141281e-05\n"
     ]
    },
    {
     "name": "stderr",
     "output_type": "stream",
     "text": [
      "\n"
     ]
    }
   ],
   "source": [
    "train(combo_dataloader_train, resnet_2, LossFunction, optimizer, loss_history, nepochs, device)"
   ]
  },
  {
   "cell_type": "code",
   "execution_count": 73,
   "metadata": {},
   "outputs": [
    {
     "data": {
      "image/png": "[encoded data removed]",
      "text/plain": [
       "<Figure size 640x480 with 1 Axes>"
      ]
     },
     "metadata": {},
     "output_type": "display_data"
    }
   ],
   "source": [
    "plot_loss(loss_history, \"2nd Resnet50 Loss during SSAGAN img Training\")"
   ]
  },
  {
   "cell_type": "code",
   "execution_count": 17,
   "metadata": {},
   "outputs": [],
   "source": [
    "def test(model, testloader, testset, device, loss_fn, test_loss_history):\n",
    "    model.eval()\n",
    "    accuracy = 0\n",
    "    for (data, label) in testloader:\n",
    "        data = data.to(device)\n",
    "        label = label.to(device)\n",
    "        out = model(data)\n",
    "        loss = loss_fn(out, label)\n",
    "        test_loss_history.append(loss.item())\n",
    "        answers = out.max(dim=1)[1]\n",
    "        accuracy += (answers == label).sum()\n",
    "    print(f\"Total accuracy = {accuracy / len(testset)*100:.2f}%\")"
   ]
  },
  {
   "cell_type": "code",
   "execution_count": 74,
   "metadata": {},
   "outputs": [
    {
     "name": "stdout",
     "output_type": "stream",
     "text": [
      "Total accuracy = 22.00%\n"
     ]
    },
    {
     "data": {
      "image/png": "[encoded data removed]",
      "text/plain": [
       "<Figure size 640x480 with 1 Axes>"
      ]
     },
     "metadata": {},
     "output_type": "display_data"
    }
   ],
   "source": [
    "test_loss_history = []\n",
    "test(resnet_2, combo_dataloader_test, combo_dataset_test, device, LossFunction, test_loss_history)\n",
    "plot_loss(test_loss_history, \"2nd SSAGAN Real Combo Food Images Test Loss\")"
   ]
  },
  {
   "cell_type": "code",
   "execution_count": 75,
   "metadata": {},
   "outputs": [
    {
     "name": "stdout",
     "output_type": "stream",
     "text": [
      "Total accuracy: 0.22\n",
      "Per-class accuracy: [0.04 0.   0.23 0.3  0.45 0.38 0.12 0.37 0.1  0.21]\n"
     ]
    }
   ],
   "source": [
    "# This code was generated by ChatGPT\n",
    "import torch\n",
    "import numpy as np\n",
    "from sklearn.metrics import confusion_matrix\n",
    "\n",
    "def evaluate_model(model, dataloader, device, num_classes):\n",
    "    model.eval()\n",
    "    \n",
    "    # Initialize confusion matrix and other counters\n",
    "    cm = np.zeros((num_classes, num_classes), dtype=np.int64)\n",
    "    correct = 0\n",
    "    total = 0\n",
    "    \n",
    "    with torch.no_grad():\n",
    "        for images, labels in dataloader:\n",
    "            images, labels = images.to(device), labels.to(device)\n",
    "            outputs = model(images)\n",
    "            _, predicted = torch.max(outputs.data, 1)\n",
    "            total += labels.size(0)\n",
    "            correct += (predicted == labels).sum().item()\n",
    "            \n",
    "            # Update confusion matrix\n",
    "            cm += confusion_matrix(labels.cpu().numpy(), predicted.cpu().numpy(), labels=np.arange(num_classes))\n",
    "    \n",
    "    # Calculate total accuracy\n",
    "    total_accuracy = correct / total\n",
    "    \n",
    "    # Calculate accuracy per class\n",
    "    per_class_accuracy = np.diag(cm) / cm.sum(axis=1)\n",
    "    \n",
    "    return total_accuracy, per_class_accuracy\n",
    "\n",
    "# Assuming your test dataloader is named 'test_dataloader'\n",
    "num_classes = 10\n",
    "total_accuracy, per_class_accuracy = evaluate_model(resnet_2, combo_dataloader_test, device, num_classes)\n",
    "\n",
    "print(\"Total accuracy:\", total_accuracy)\n",
    "print(\"Per-class accuracy:\", per_class_accuracy)\n"
   ]
  },
  {
   "cell_type": "markdown",
   "metadata": {},
   "source": [
    "#### TESTING NOTES:\n",
    "1. 26.30 % accuracy w/ batch_size = 10, ADAM Optimizer, lr = 0.0001, for 100 epochs.\n",
    "2. 23.20 % accuracy w/ batch_size = 25, ADAM Optimizer, lr = 0.0001, for 100 epochs.\n",
    "2. 22.00 % accuracy w/ batch_size = 5, ADAM Optimizer, lr = 0.0001, for 100 epochs.\n",
    "\n",
    "#### TESTING ANALYSIS\n",
    "26% Accuracy is good enough for me to consider my project a success, because it shows that the Resnet50 can learn to identify real images of combination foods from the generated ones. There is still a lot of room for improvement, as shown by the fact that changing my Resnet50 opitimizer from SGD to Adam increased its accuracy from 13% to 26%, however I don't want to spend a lot of time tuning parameters. There is also a lot more image generation I could do, considering how I was able to generate 1000 images in about a minute. I think I could easily improve my generated image dataset by providing more captions, which is cool because it is similar to how a human could better learn about something they have never seen before by reading more about it."
   ]
  },
  {
   "cell_type": "markdown",
   "metadata": {},
   "source": [
    "#### DEBUG SECTION - Getting error from combo images test dataset, verifying its images with the following scripts."
   ]
  },
  {
   "cell_type": "code",
   "execution_count": 34,
   "metadata": {},
   "outputs": [],
   "source": [
    "import os\n",
    "from PIL import Image\n",
    "\n",
    "def check_images_in_folder(folder_path):\n",
    "    for root, _, files in os.walk(folder_path):\n",
    "        for file in files:\n",
    "            if file.lower().endswith(('.jpg', '.jpeg')):\n",
    "                file_path = os.path.join(root, file)\n",
    "                try:\n",
    "                    with Image.open(file_path) as img:\n",
    "                        img.verify()\n",
    "                except Exception as e:\n",
    "                    print(f\"Error processing image {file_path}: {e}\")\n",
    "\n",
    "folder_path = \"data/test_combo_foods/\"\n",
    "check_images_in_folder(folder_path)"
   ]
  },
  {
   "cell_type": "code",
   "execution_count": 33,
   "metadata": {},
   "outputs": [],
   "source": [
    "import imghdr\n",
    "\n",
    "def check_image_formats_in_folder(folder_path):\n",
    "    for root, _, files in os.walk(folder_path):\n",
    "        for file in files:\n",
    "            if file.lower().endswith(('.jpg', '.jpeg')):\n",
    "                file_path = os.path.join(root, file)\n",
    "                img_format = imghdr.what(file_path)\n",
    "                if img_format not in ('jpeg', 'jpg'):\n",
    "                    print(f\"Image {file_path} has an incorrect format: {img_format}\")\n",
    "\n",
    "folder_path = \"data/test_combo_foods/\"\n",
    "check_image_formats_in_folder(folder_path)"
   ]
  }
 ],
 "metadata": {
  "kernelspec": {
   "display_name": "Python 3.9.16 ('PyTorchEnv')",
   "language": "python",
   "name": "python3"
  },
  "language_info": {
   "codemirror_mode": {
    "name": "ipython",
    "version": 3
   },
   "file_extension": ".py",
   "mimetype": "text/x-python",
   "name": "python",
   "nbconvert_exporter": "python",
   "pygments_lexer": "ipython3",
   "version": "3.9.16"
  },
  "orig_nbformat": 4,
  "vscode": {
   "interpreter": {
    "hash": "5635b29b2c13353e2c70ae85e87ace9fd6341fd7dc94477aabd58c161a4ccfc7"
   }
  }
 },
 "nbformat": 4,
 "nbformat_minor": 2
}
